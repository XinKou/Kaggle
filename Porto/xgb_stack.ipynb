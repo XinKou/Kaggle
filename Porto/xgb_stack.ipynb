{
 "cells": [
  {
   "cell_type": "code",
   "execution_count": 67,
   "metadata": {
    "collapsed": true
   },
   "outputs": [],
   "source": [
    "import os\n",
    "import pandas as pd\n",
    "import matplotlib.pylab as plt"
   ]
  },
  {
   "cell_type": "markdown",
   "metadata": {},
   "source": [
    "# Preprocessing"
   ]
  },
  {
   "cell_type": "code",
   "execution_count": 68,
   "metadata": {
    "collapsed": true
   },
   "outputs": [],
   "source": [
    "train = pd.read_csv('data/train.csv',usecols=['target'])\n",
    "test = pd.DataFrame()"
   ]
  },
  {
   "cell_type": "code",
   "execution_count": 69,
   "metadata": {
    "collapsed": false
   },
   "outputs": [
    {
     "data": {
      "text/plain": [
       "['mubi_20171125\\n',\n",
       " 'mubi_20171125_2\\n',\n",
       " 'mubi_20171125_3\\n',\n",
       " 'mubi_20171125_4\\n',\n",
       " 'mubi_20171125_5\\n',\n",
       " 'tian_20171126\\n',\n",
       " 'tian_20171126_1\\n']"
      ]
     },
     "execution_count": 69,
     "metadata": {},
     "output_type": "execute_result"
    }
   ],
   "source": [
    "foldernames = os.popen('ls data4stack').readlines()\n",
    "foldernames"
   ]
  },
  {
   "cell_type": "code",
   "execution_count": 70,
   "metadata": {
    "collapsed": false
   },
   "outputs": [],
   "source": [
    "for foldername in foldernames:\n",
    "    foldername = foldername[:-1]\n",
    "    train[foldername] = pd.read_csv('data4stack//{0}/train4stack.csv'.format(foldername))\n",
    "    test[foldername] = pd.read_csv('data4stack//{0}/test4stack.csv'.format(foldername))"
   ]
  },
  {
   "cell_type": "code",
   "execution_count": 71,
   "metadata": {
    "collapsed": false
   },
   "outputs": [
    {
     "data": {
      "text/html": [
       "<div>\n",
       "<table border=\"1\" class=\"dataframe\">\n",
       "  <thead>\n",
       "    <tr style=\"text-align: right;\">\n",
       "      <th></th>\n",
       "      <th>target</th>\n",
       "      <th>mubi_20171125</th>\n",
       "      <th>mubi_20171125_2</th>\n",
       "      <th>mubi_20171125_3</th>\n",
       "      <th>mubi_20171125_4</th>\n",
       "      <th>mubi_20171125_5</th>\n",
       "      <th>tian_20171126</th>\n",
       "      <th>tian_20171126_1</th>\n",
       "    </tr>\n",
       "  </thead>\n",
       "  <tbody>\n",
       "    <tr>\n",
       "      <th>0</th>\n",
       "      <td>0</td>\n",
       "      <td>0.051245</td>\n",
       "      <td>0.04828</td>\n",
       "      <td>0.04864</td>\n",
       "      <td>0.049065</td>\n",
       "      <td>0.577594</td>\n",
       "      <td>0.069212</td>\n",
       "      <td>0.040211</td>\n",
       "    </tr>\n",
       "  </tbody>\n",
       "</table>\n",
       "</div>"
      ],
      "text/plain": [
       "   target  mubi_20171125  mubi_20171125_2  mubi_20171125_3  mubi_20171125_4  \\\n",
       "0       0       0.051245          0.04828          0.04864         0.049065   \n",
       "\n",
       "   mubi_20171125_5  tian_20171126  tian_20171126_1  \n",
       "0         0.577594       0.069212         0.040211  "
      ]
     },
     "execution_count": 71,
     "metadata": {},
     "output_type": "execute_result"
    }
   ],
   "source": [
    "train.head(1)"
   ]
  },
  {
   "cell_type": "code",
   "execution_count": 72,
   "metadata": {
    "collapsed": false
   },
   "outputs": [
    {
     "data": {
      "text/html": [
       "<div>\n",
       "<table border=\"1\" class=\"dataframe\">\n",
       "  <thead>\n",
       "    <tr style=\"text-align: right;\">\n",
       "      <th></th>\n",
       "      <th>mubi_20171125</th>\n",
       "      <th>mubi_20171125_2</th>\n",
       "      <th>mubi_20171125_3</th>\n",
       "      <th>mubi_20171125_4</th>\n",
       "      <th>mubi_20171125_5</th>\n",
       "      <th>tian_20171126</th>\n",
       "      <th>tian_20171126_1</th>\n",
       "    </tr>\n",
       "  </thead>\n",
       "  <tbody>\n",
       "    <tr>\n",
       "      <th>0</th>\n",
       "      <td>0.025915</td>\n",
       "      <td>0.027955</td>\n",
       "      <td>0.027292</td>\n",
       "      <td>0.030848</td>\n",
       "      <td>0.397098</td>\n",
       "      <td>0.039368</td>\n",
       "      <td>0.023685</td>\n",
       "    </tr>\n",
       "  </tbody>\n",
       "</table>\n",
       "</div>"
      ],
      "text/plain": [
       "   mubi_20171125  mubi_20171125_2  mubi_20171125_3  mubi_20171125_4  \\\n",
       "0       0.025915         0.027955         0.027292         0.030848   \n",
       "\n",
       "   mubi_20171125_5  tian_20171126  tian_20171126_1  \n",
       "0         0.397098       0.039368         0.023685  "
      ]
     },
     "execution_count": 72,
     "metadata": {},
     "output_type": "execute_result"
    }
   ],
   "source": [
    "test.head(1)"
   ]
  },
  {
   "cell_type": "code",
   "execution_count": 73,
   "metadata": {
    "collapsed": false
   },
   "outputs": [
    {
     "data": {
      "text/html": [
       "<div>\n",
       "<table border=\"1\" class=\"dataframe\">\n",
       "  <thead>\n",
       "    <tr style=\"text-align: right;\">\n",
       "      <th></th>\n",
       "      <th>mubi_20171125</th>\n",
       "      <th>mubi_20171125_2</th>\n",
       "      <th>mubi_20171125_3</th>\n",
       "      <th>mubi_20171125_4</th>\n",
       "      <th>mubi_20171125_5</th>\n",
       "      <th>tian_20171126</th>\n",
       "      <th>tian_20171126_1</th>\n",
       "    </tr>\n",
       "  </thead>\n",
       "  <tbody>\n",
       "    <tr>\n",
       "      <th>0</th>\n",
       "      <td>0.051245</td>\n",
       "      <td>0.04828</td>\n",
       "      <td>0.04864</td>\n",
       "      <td>0.049065</td>\n",
       "      <td>0.577594</td>\n",
       "      <td>0.069212</td>\n",
       "      <td>0.040211</td>\n",
       "    </tr>\n",
       "  </tbody>\n",
       "</table>\n",
       "</div>"
      ],
      "text/plain": [
       "   mubi_20171125  mubi_20171125_2  mubi_20171125_3  mubi_20171125_4  \\\n",
       "0       0.051245          0.04828          0.04864         0.049065   \n",
       "\n",
       "   mubi_20171125_5  tian_20171126  tian_20171126_1  \n",
       "0         0.577594       0.069212         0.040211  "
      ]
     },
     "execution_count": 73,
     "metadata": {},
     "output_type": "execute_result"
    }
   ],
   "source": [
    "y = train['target'].values\n",
    "train.drop(['target'], axis=1, inplace=True)\n",
    "train.head(1)"
   ]
  },
  {
   "cell_type": "code",
   "execution_count": 74,
   "metadata": {
    "collapsed": false
   },
   "outputs": [
    {
     "data": {
      "text/plain": [
       "array(['xgb_mubi', 'lgb', 'lgb2', 'lgb3', 'GP', 'xgb_tian', 'rbf'], dtype=object)"
      ]
     },
     "execution_count": 74,
     "metadata": {},
     "output_type": "execute_result"
    }
   ],
   "source": [
    "new_cols = ['xgb_mubi','lgb','lgb2','lgb3','GP','xgb_tian','rbf']\n",
    "train.columns = new_cols\n",
    "train.columns.values"
   ]
  },
  {
   "cell_type": "code",
   "execution_count": 75,
   "metadata": {
    "collapsed": false
   },
   "outputs": [
    {
     "data": {
      "text/plain": [
       "array(['xgb_mubi', 'lgb', 'lgb2', 'lgb3', 'GP', 'xgb_tian', 'rbf'], dtype=object)"
      ]
     },
     "execution_count": 75,
     "metadata": {},
     "output_type": "execute_result"
    }
   ],
   "source": [
    "test.columns = new_cols\n",
    "test.columns.values"
   ]
  },
  {
   "cell_type": "markdown",
   "metadata": {},
   "source": [
    "# Metric"
   ]
  },
  {
   "cell_type": "code",
   "execution_count": 10,
   "metadata": {
    "collapsed": true
   },
   "outputs": [],
   "source": [
    "def ginic(actual, pred):\n",
    "    actual = np.asarray(actual) \n",
    "    n = len(actual)\n",
    "    a_s = actual[np.argsort(pred)]\n",
    "    a_c = a_s.cumsum()\n",
    "    giniSum = a_c.sum() / a_s.sum() - (n + 1) / 2.0\n",
    "    return giniSum / n\n",
    " \n",
    "def gini_normalized(a, p):\n",
    "    if p.ndim == 2:\n",
    "        p = p[:,1] \n",
    "    return ginic(a, p) / ginic(a, a)\n",
    "    \n",
    "def gini_xgb(preds, dtrain):\n",
    "    labels = dtrain.get_label()\n",
    "    gini_score = gini_normalized(labels, preds)\n",
    "    return 'gini', gini_score\n",
    "\n",
    "\n",
    "def gini_lgb(pred, dtrain):\n",
    "    y = list(dtrain.get_label())\n",
    "    score = ginic(y, pred) / ginic(y, y)\n",
    "    return [('gini', score, True)]\n",
    "\n"
   ]
  },
  {
   "cell_type": "markdown",
   "metadata": {},
   "source": [
    "# Model"
   ]
  },
  {
   "cell_type": "code",
   "execution_count": 31,
   "metadata": {
    "collapsed": false
   },
   "outputs": [],
   "source": [
    "import xgboost as xgb\n",
    "from sklearn.model_selection import StratifiedKFold, train_test_split\n",
    "import numpy as np"
   ]
  },
  {
   "cell_type": "code",
   "execution_count": 20,
   "metadata": {
    "collapsed": true
   },
   "outputs": [],
   "source": [
    "params = {'eta': 0.025, 'max_depth': 4, \n",
    "            'alpha':4,'objective': 'binary:logistic',\n",
    "          'eval_metric': 'auc', 'seed': 99, 'silent': True}"
   ]
  },
  {
   "cell_type": "code",
   "execution_count": 25,
   "metadata": {
    "collapsed": true
   },
   "outputs": [],
   "source": [
    "train_np = train.values\n",
    "test_np = test.values"
   ]
  },
  {
   "cell_type": "code",
   "execution_count": 77,
   "metadata": {
    "collapsed": false
   },
   "outputs": [
    {
     "data": {
      "text/plain": [
       "(595212, 7)"
      ]
     },
     "execution_count": 77,
     "metadata": {},
     "output_type": "execute_result"
    }
   ],
   "source": [
    "train_np.shape"
   ]
  },
  {
   "cell_type": "code",
   "execution_count": 34,
   "metadata": {
    "collapsed": false
   },
   "outputs": [
    {
     "name": "stdout",
     "output_type": "stream",
     "text": [
      "=====Round 1/5=====\n",
      "[0]\ttrain-gini:0.282665\tvalid-gini:0.28626\n",
      "Multiple eval metrics have been passed: 'valid-gini' will be used for early stopping.\n",
      "\n",
      "Will train until valid-gini hasn't improved in 100 rounds.\n",
      "[100]\ttrain-gini:0.306692\tvalid-gini:0.301266\n",
      "[200]\ttrain-gini:0.314255\tvalid-gini:0.301932\n",
      "Stopping. Best iteration:\n",
      "[121]\ttrain-gini:0.308533\tvalid-gini:0.302804\n",
      "\n",
      "=====Round 2/5=====\n",
      "[0]\ttrain-gini:0.272444\tvalid-gini:0.273008\n",
      "Multiple eval metrics have been passed: 'valid-gini' will be used for early stopping.\n",
      "\n",
      "Will train until valid-gini hasn't improved in 100 rounds.\n",
      "[100]\ttrain-gini:0.305735\tvalid-gini:0.301949\n",
      "[200]\ttrain-gini:0.313889\tvalid-gini:0.303614\n",
      "[300]\ttrain-gini:0.32258\tvalid-gini:0.303688\n",
      "Stopping. Best iteration:\n",
      "[239]\ttrain-gini:0.317821\tvalid-gini:0.30385\n",
      "\n",
      "=====Round 3/5=====\n",
      "[0]\ttrain-gini:0.278403\tvalid-gini:0.258546\n",
      "Multiple eval metrics have been passed: 'valid-gini' will be used for early stopping.\n",
      "\n",
      "Will train until valid-gini hasn't improved in 100 rounds.\n",
      "[100]\ttrain-gini:0.310286\tvalid-gini:0.290489\n",
      "[200]\ttrain-gini:0.316769\tvalid-gini:0.291592\n",
      "[300]\ttrain-gini:0.325835\tvalid-gini:0.292099\n",
      "[400]\ttrain-gini:0.331393\tvalid-gini:0.292109\n",
      "Stopping. Best iteration:\n",
      "[345]\ttrain-gini:0.328266\tvalid-gini:0.292198\n",
      "\n",
      "=====Round 4/5=====\n",
      "[0]\ttrain-gini:0.293745\tvalid-gini:0.282871\n",
      "Multiple eval metrics have been passed: 'valid-gini' will be used for early stopping.\n",
      "\n",
      "Will train until valid-gini hasn't improved in 100 rounds.\n",
      "[100]\ttrain-gini:0.308708\tvalid-gini:0.295305\n",
      "[200]\ttrain-gini:0.315106\tvalid-gini:0.297247\n",
      "[300]\ttrain-gini:0.323169\tvalid-gini:0.297459\n",
      "[400]\ttrain-gini:0.328862\tvalid-gini:0.297529\n",
      "Stopping. Best iteration:\n",
      "[354]\ttrain-gini:0.326378\tvalid-gini:0.297576\n",
      "\n",
      "=====Round 5/5=====\n",
      "[0]\ttrain-gini:0.278315\tvalid-gini:0.284556\n",
      "Multiple eval metrics have been passed: 'valid-gini' will be used for early stopping.\n",
      "\n",
      "Will train until valid-gini hasn't improved in 100 rounds.\n",
      "[100]\ttrain-gini:0.305119\tvalid-gini:0.312436\n",
      "[200]\ttrain-gini:0.311714\tvalid-gini:0.31232\n",
      "Stopping. Best iteration:\n",
      "[145]\ttrain-gini:0.307621\tvalid-gini:0.312906\n",
      "\n"
     ]
    }
   ],
   "source": [
    "n_splits=5\n",
    "test_pred = np.zeros(len(test_np)) \n",
    "skf = StratifiedKFold(n_splits, shuffle=True, random_state=99)\n",
    "for i, (train_index,test_index) in enumerate(skf.split(train_np, y)):\n",
    "    print(\"=====Round {0}/{1}=====\".format(i+1,n_splits))\n",
    "    x_train, x_valid = train_np[train_index], train_np[test_index]\n",
    "    y_train, y_valid = y[train_index], y[test_index]\n",
    "    watchlist = [(xgb.DMatrix(x_train,y_train), 'train'), (xgb.DMatrix(x_valid, y_valid), 'valid')]\n",
    "    model = xgb.train(params, xgb.DMatrix(x_train,y_train), 1000, watchlist, feval=gini_xgb,\n",
    "                    maximize=True, verbose_eval=100,  early_stopping_rounds=100)\n",
    "   \n",
    "    test_pred += model.predict(xgb.DMatrix(test_np),ntree_limit=model.best_ntree_limit)\n",
    "        \n",
    "test_pred /= n_splits"
   ]
  },
  {
   "cell_type": "code",
   "execution_count": 81,
   "metadata": {
    "collapsed": false
   },
   "outputs": [
    {
     "data": {
      "text/plain": [
       "(892816,)"
      ]
     },
     "execution_count": 81,
     "metadata": {},
     "output_type": "execute_result"
    }
   ],
   "source": [
    "test_pred.shape"
   ]
  },
  {
   "cell_type": "code",
   "execution_count": 82,
   "metadata": {
    "collapsed": true
   },
   "outputs": [],
   "source": [
    "sub = pd.read_csv('data/sample_submission.csv')\n",
    "sub.target = test_pred\n",
    "sub.to_csv('xgb_stack_7models.csv',index=False)"
   ]
  },
  {
   "cell_type": "code",
   "execution_count": null,
   "metadata": {
    "collapsed": true
   },
   "outputs": [],
   "source": []
  },
  {
   "cell_type": "code",
   "execution_count": 84,
   "metadata": {
    "collapsed": true
   },
   "outputs": [],
   "source": []
  },
  {
   "cell_type": "code",
   "execution_count": 83,
   "metadata": {
    "collapsed": false
   },
   "outputs": [
    {
     "data": {
      "text/html": [
       "<div>\n",
       "<table border=\"1\" class=\"dataframe\">\n",
       "  <thead>\n",
       "    <tr style=\"text-align: right;\">\n",
       "      <th></th>\n",
       "      <th>xgb_mubi</th>\n",
       "      <th>lgb</th>\n",
       "      <th>lgb2</th>\n",
       "      <th>lgb3</th>\n",
       "      <th>GP</th>\n",
       "      <th>xgb_tian</th>\n",
       "      <th>rbf</th>\n",
       "    </tr>\n",
       "  </thead>\n",
       "  <tbody>\n",
       "    <tr>\n",
       "      <th>0</th>\n",
       "      <td>0.051245</td>\n",
       "      <td>0.048280</td>\n",
       "      <td>0.048640</td>\n",
       "      <td>0.049065</td>\n",
       "      <td>0.577594</td>\n",
       "      <td>0.069212</td>\n",
       "      <td>0.040211</td>\n",
       "    </tr>\n",
       "    <tr>\n",
       "      <th>1</th>\n",
       "      <td>0.030891</td>\n",
       "      <td>0.033551</td>\n",
       "      <td>0.031431</td>\n",
       "      <td>0.033893</td>\n",
       "      <td>0.464457</td>\n",
       "      <td>0.047779</td>\n",
       "      <td>0.022514</td>\n",
       "    </tr>\n",
       "    <tr>\n",
       "      <th>2</th>\n",
       "      <td>0.020946</td>\n",
       "      <td>0.020689</td>\n",
       "      <td>0.022028</td>\n",
       "      <td>0.023877</td>\n",
       "      <td>0.306400</td>\n",
       "      <td>0.030663</td>\n",
       "      <td>0.021269</td>\n",
       "    </tr>\n",
       "    <tr>\n",
       "      <th>3</th>\n",
       "      <td>0.015791</td>\n",
       "      <td>0.016253</td>\n",
       "      <td>0.014553</td>\n",
       "      <td>0.014347</td>\n",
       "      <td>0.285240</td>\n",
       "      <td>0.022902</td>\n",
       "      <td>0.015595</td>\n",
       "    </tr>\n",
       "    <tr>\n",
       "      <th>4</th>\n",
       "      <td>0.027638</td>\n",
       "      <td>0.041812</td>\n",
       "      <td>0.036286</td>\n",
       "      <td>0.036420</td>\n",
       "      <td>0.467099</td>\n",
       "      <td>0.054779</td>\n",
       "      <td>0.039256</td>\n",
       "    </tr>\n",
       "  </tbody>\n",
       "</table>\n",
       "</div>"
      ],
      "text/plain": [
       "   xgb_mubi       lgb      lgb2      lgb3        GP  xgb_tian       rbf\n",
       "0  0.051245  0.048280  0.048640  0.049065  0.577594  0.069212  0.040211\n",
       "1  0.030891  0.033551  0.031431  0.033893  0.464457  0.047779  0.022514\n",
       "2  0.020946  0.020689  0.022028  0.023877  0.306400  0.030663  0.021269\n",
       "3  0.015791  0.016253  0.014553  0.014347  0.285240  0.022902  0.015595\n",
       "4  0.027638  0.041812  0.036286  0.036420  0.467099  0.054779  0.039256"
      ]
     },
     "execution_count": 83,
     "metadata": {},
     "output_type": "execute_result"
    }
   ],
   "source": [
    "train.head()"
   ]
  },
  {
   "cell_type": "code",
   "execution_count": null,
   "metadata": {
    "collapsed": true
   },
   "outputs": [],
   "source": []
  },
  {
   "cell_type": "code",
   "execution_count": null,
   "metadata": {
    "collapsed": true
   },
   "outputs": [],
   "source": []
  },
  {
   "cell_type": "code",
   "execution_count": 78,
   "metadata": {
    "collapsed": true
   },
   "outputs": [],
   "source": [
    "params_2 = {'eta': 0.02, 'max_depth': 4, \n",
    "            'alpha':4,'objective': 'binary:logistic',\n",
    "          'eval_metric': 'auc', 'seed': 99, 'silent': True}"
   ]
  },
  {
   "cell_type": "code",
   "execution_count": 79,
   "metadata": {
    "collapsed": false
   },
   "outputs": [
    {
     "name": "stdout",
     "output_type": "stream",
     "text": [
      "=====Round 1/5=====\n",
      "[0]\ttrain-gini:0.282665\tvalid-gini:0.28626\n",
      "Multiple eval metrics have been passed: 'valid-gini' will be used for early stopping.\n",
      "\n",
      "Will train until valid-gini hasn't improved in 100 rounds.\n",
      "[100]\ttrain-gini:0.305364\tvalid-gini:0.302325\n",
      "[200]\ttrain-gini:0.311499\tvalid-gini:0.301778\n",
      "Stopping. Best iteration:\n",
      "[154]\ttrain-gini:0.308858\tvalid-gini:0.302975\n",
      "\n",
      "=====Round 2/5=====\n",
      "[0]\ttrain-gini:0.272444\tvalid-gini:0.273008\n",
      "Multiple eval metrics have been passed: 'valid-gini' will be used for early stopping.\n",
      "\n",
      "Will train until valid-gini hasn't improved in 100 rounds.\n",
      "[100]\ttrain-gini:0.305112\tvalid-gini:0.301312\n",
      "[200]\ttrain-gini:0.31119\tvalid-gini:0.303525\n",
      "[300]\ttrain-gini:0.317691\tvalid-gini:0.303634\n",
      "Stopping. Best iteration:\n",
      "[297]\ttrain-gini:0.31747\tvalid-gini:0.303695\n",
      "\n",
      "=====Round 3/5=====\n",
      "[0]\ttrain-gini:0.278403\tvalid-gini:0.258546\n",
      "Multiple eval metrics have been passed: 'valid-gini' will be used for early stopping.\n",
      "\n",
      "Will train until valid-gini hasn't improved in 100 rounds.\n",
      "[100]\ttrain-gini:0.30881\tvalid-gini:0.289817\n",
      "[200]\ttrain-gini:0.314004\tvalid-gini:0.290958\n",
      "[300]\ttrain-gini:0.320921\tvalid-gini:0.291859\n",
      "Stopping. Best iteration:\n",
      "[280]\ttrain-gini:0.319049\tvalid-gini:0.292007\n",
      "\n",
      "=====Round 4/5=====\n",
      "[0]\ttrain-gini:0.293745\tvalid-gini:0.282871\n",
      "Multiple eval metrics have been passed: 'valid-gini' will be used for early stopping.\n",
      "\n",
      "Will train until valid-gini hasn't improved in 100 rounds.\n",
      "[100]\ttrain-gini:0.307574\tvalid-gini:0.295064\n",
      "[200]\ttrain-gini:0.312201\tvalid-gini:0.29674\n",
      "[300]\ttrain-gini:0.318296\tvalid-gini:0.297084\n",
      "Stopping. Best iteration:\n",
      "[233]\ttrain-gini:0.314131\tvalid-gini:0.297334\n",
      "\n",
      "=====Round 5/5=====\n",
      "[0]\ttrain-gini:0.278315\tvalid-gini:0.284556\n",
      "Multiple eval metrics have been passed: 'valid-gini' will be used for early stopping.\n",
      "\n",
      "Will train until valid-gini hasn't improved in 100 rounds.\n",
      "[100]\ttrain-gini:0.303479\tvalid-gini:0.311829\n",
      "[200]\ttrain-gini:0.30865\tvalid-gini:0.312623\n",
      "Stopping. Best iteration:\n",
      "[157]\ttrain-gini:0.306477\tvalid-gini:0.312802\n",
      "\n"
     ]
    }
   ],
   "source": [
    "n_splits=5\n",
    "test_pred_2 = np.zeros(len(test_np)) \n",
    "skf = StratifiedKFold(n_splits, shuffle=True, random_state=99)\n",
    "for i, (train_index,test_index) in enumerate(skf.split(train_np, y)):\n",
    "    print(\"=====Round {0}/{1}=====\".format(i+1,n_splits))\n",
    "    x_train, x_valid = train_np[train_index], train_np[test_index]\n",
    "    y_train, y_valid = y[train_index], y[test_index]\n",
    "    watchlist = [(xgb.DMatrix(x_train,y_train), 'train'), (xgb.DMatrix(x_valid, y_valid), 'valid')]\n",
    "    model_2 = xgb.train(params_2, xgb.DMatrix(x_train,y_train), 1000, watchlist, feval=gini_xgb,\n",
    "                    maximize=True, verbose_eval=100,  early_stopping_rounds=100)\n",
    "   \n",
    "    test_pred_2 += model.predict(xgb.DMatrix(test_np),ntree_limit=model.best_ntree_limit)\n",
    "        \n",
    "test_pred_2 /= n_splits"
   ]
  },
  {
   "cell_type": "code",
   "execution_count": 52,
   "metadata": {
    "collapsed": true
   },
   "outputs": [],
   "source": [
    "def create_feature_map(features):\n",
    "    outfile = open('xgb.fmap', 'w')\n",
    "    i = 0\n",
    "    for feat in features:\n",
    "        outfile.write('{0}\\t{1}\\tq\\n'.format(i, feat))\n",
    "        i = i + 1\n",
    "    outfile.close()\n",
    "\n",
    "import matplotlib.pyplot as plt\n",
    "from pylab import plot, show, subplot, specgram, imshow, savefig\n",
    "import operator\n",
    "\n",
    "%matplotlib inline"
   ]
  },
  {
   "cell_type": "code",
   "execution_count": 57,
   "metadata": {
    "collapsed": false
   },
   "outputs": [
    {
     "data": {
      "image/png": "[encoded data removed]",
      "text/plain": [
       "<matplotlib.figure.Figure at 0x111ce0e80>"
      ]
     },
     "metadata": {},
     "output_type": "display_data"
    }
   ],
   "source": [
    "feature_names = list(train.columns.values)\n",
    "create_feature_map(feature_names)\n",
    "\n",
    "importance = model.get_fscore(fmap='xgb.fmap')\n",
    "importance = sorted(importance.items(), key=operator.itemgetter(1))\n",
    "ft = pd.DataFrame(importance, columns=['feature', 'fscore'])\n",
    "\n",
    "ft.plot(kind='barh', x='feature', y='fscore', legend=False, figsize=(5, 5))\n",
    "plt.gcf().savefig('features_importance_xgb_stack.png')"
   ]
  },
  {
   "cell_type": "code",
   "execution_count": null,
   "metadata": {
    "collapsed": true
   },
   "outputs": [],
   "source": []
  }
 ],
 "metadata": {
  "kernelspec": {
   "display_name": "Python 3",
   "language": "python",
   "name": "python3"
  },
  "language_info": {
   "codemirror_mode": {
    "name": "ipython",
    "version": 3
   },
   "file_extension": ".py",
   "mimetype": "text/x-python",
   "name": "python",
   "nbconvert_exporter": "python",
   "pygments_lexer": "ipython3",
   "version": "3.6.0"
  }
 },
 "nbformat": 4,
 "nbformat_minor": 2
}
