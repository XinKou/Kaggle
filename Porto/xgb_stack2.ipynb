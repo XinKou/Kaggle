{
 "cells": [
  {
   "cell_type": "code",
   "execution_count": 1,
   "metadata": {
    "collapsed": true
   },
   "outputs": [],
   "source": [
    "import os\n",
    "import pandas as pd\n",
    "import matplotlib.pylab as plt"
   ]
  },
  {
   "cell_type": "markdown",
   "metadata": {},
   "source": [
    "# Preprocessing"
   ]
  },
  {
   "cell_type": "code",
   "execution_count": 22,
   "metadata": {
    "collapsed": true
   },
   "outputs": [],
   "source": [
    "train = pd.read_csv('data/train.csv',usecols=['target'])\n",
    "test = pd.DataFrame()"
   ]
  },
  {
   "cell_type": "code",
   "execution_count": 23,
   "metadata": {
    "collapsed": false
   },
   "outputs": [
    {
     "data": {
      "text/plain": [
       "['lgb_stack\\n',\n",
       " 'mubi_20171125\\n',\n",
       " 'mubi_20171125_2\\n',\n",
       " 'mubi_20171125_3\\n',\n",
       " 'mubi_20171125_4\\n',\n",
       " 'mubi_20171125_5\\n',\n",
       " 'tian_20171126\\n',\n",
       " 'tian_20171126_1\\n']"
      ]
     },
     "execution_count": 23,
     "metadata": {},
     "output_type": "execute_result"
    }
   ],
   "source": [
    "foldernames = os.popen('ls data4stack').readlines()\n",
    "foldernames"
   ]
  },
  {
   "cell_type": "code",
   "execution_count": 24,
   "metadata": {
    "collapsed": false
   },
   "outputs": [
    {
     "data": {
      "text/html": [
       "<div>\n",
       "<table border=\"1\" class=\"dataframe\">\n",
       "  <thead>\n",
       "    <tr style=\"text-align: right;\">\n",
       "      <th></th>\n",
       "      <th>target</th>\n",
       "      <th>lgb_stack</th>\n",
       "      <th>mubi_20171125</th>\n",
       "      <th>mubi_20171125_2</th>\n",
       "      <th>mubi_20171125_3</th>\n",
       "      <th>mubi_20171125_4</th>\n",
       "      <th>mubi_20171125_5</th>\n",
       "      <th>tian_20171126</th>\n",
       "      <th>tian_20171126_1</th>\n",
       "    </tr>\n",
       "  </thead>\n",
       "  <tbody>\n",
       "    <tr>\n",
       "      <th>0</th>\n",
       "      <td>0</td>\n",
       "      <td>0.040483</td>\n",
       "      <td>0.051245</td>\n",
       "      <td>0.04828</td>\n",
       "      <td>0.04864</td>\n",
       "      <td>0.049065</td>\n",
       "      <td>0.577594</td>\n",
       "      <td>0.069212</td>\n",
       "      <td>0.040211</td>\n",
       "    </tr>\n",
       "  </tbody>\n",
       "</table>\n",
       "</div>"
      ],
      "text/plain": [
       "   target  lgb_stack  mubi_20171125  mubi_20171125_2  mubi_20171125_3  \\\n",
       "0       0   0.040483       0.051245          0.04828          0.04864   \n",
       "\n",
       "   mubi_20171125_4  mubi_20171125_5  tian_20171126  tian_20171126_1  \n",
       "0         0.049065         0.577594       0.069212         0.040211  "
      ]
     },
     "execution_count": 24,
     "metadata": {},
     "output_type": "execute_result"
    }
   ],
   "source": [
    "for foldername in foldernames:\n",
    "    foldername = foldername[:-1]\n",
    "    train[foldername] = pd.read_csv('data4stack//{0}/train4stack.csv'.format(foldername))\n",
    "    test[foldername] = pd.read_csv('data4stack//{0}/test4stack.csv'.format(foldername))\n",
    "train.head(1)"
   ]
  },
  {
   "cell_type": "code",
   "execution_count": 25,
   "metadata": {
    "collapsed": false
   },
   "outputs": [
    {
     "data": {
      "text/html": [
       "<div>\n",
       "<table border=\"1\" class=\"dataframe\">\n",
       "  <thead>\n",
       "    <tr style=\"text-align: right;\">\n",
       "      <th></th>\n",
       "      <th>lgb_stack</th>\n",
       "      <th>mubi_20171125</th>\n",
       "      <th>mubi_20171125_2</th>\n",
       "      <th>mubi_20171125_3</th>\n",
       "      <th>mubi_20171125_4</th>\n",
       "      <th>mubi_20171125_5</th>\n",
       "      <th>tian_20171126</th>\n",
       "      <th>tian_20171126_1</th>\n",
       "    </tr>\n",
       "  </thead>\n",
       "  <tbody>\n",
       "    <tr>\n",
       "      <th>0</th>\n",
       "      <td>0.029462</td>\n",
       "      <td>0.025915</td>\n",
       "      <td>0.027955</td>\n",
       "      <td>0.027292</td>\n",
       "      <td>0.030848</td>\n",
       "      <td>0.397098</td>\n",
       "      <td>0.039368</td>\n",
       "      <td>0.023685</td>\n",
       "    </tr>\n",
       "  </tbody>\n",
       "</table>\n",
       "</div>"
      ],
      "text/plain": [
       "   lgb_stack  mubi_20171125  mubi_20171125_2  mubi_20171125_3  \\\n",
       "0   0.029462       0.025915         0.027955         0.027292   \n",
       "\n",
       "   mubi_20171125_4  mubi_20171125_5  tian_20171126  tian_20171126_1  \n",
       "0         0.030848         0.397098       0.039368         0.023685  "
      ]
     },
     "execution_count": 25,
     "metadata": {},
     "output_type": "execute_result"
    }
   ],
   "source": [
    "test.head(1)"
   ]
  },
  {
   "cell_type": "code",
   "execution_count": 26,
   "metadata": {
    "collapsed": false
   },
   "outputs": [
    {
     "data": {
      "text/plain": [
       "array(['target', 'lgb_stack', 'xgb_mubi', 'lgb', 'lgb2', 'lgb3', 'GP',\n",
       "       'xgb_tian', 'rbf'], dtype=object)"
      ]
     },
     "execution_count": 26,
     "metadata": {},
     "output_type": "execute_result"
    }
   ],
   "source": [
    "new_cols = ['target','lgb_stack','xgb_mubi','lgb','lgb2','lgb3','GP','xgb_tian','rbf']\n",
    "train.columns = new_cols\n",
    "train.columns.values"
   ]
  },
  {
   "cell_type": "code",
   "execution_count": 28,
   "metadata": {
    "collapsed": false
   },
   "outputs": [
    {
     "data": {
      "text/plain": [
       "array(['lgb_stack', 'xgb_mubi', 'lgb', 'lgb2', 'lgb3', 'GP', 'xgb_tian',\n",
       "       'rbf'], dtype=object)"
      ]
     },
     "execution_count": 28,
     "metadata": {},
     "output_type": "execute_result"
    }
   ],
   "source": [
    "new_cols = ['lgb_stack','xgb_mubi','lgb','lgb2','lgb3','GP','xgb_tian','rbf']\n",
    "test.columns = new_cols\n",
    "test.columns.values"
   ]
  },
  {
   "cell_type": "code",
   "execution_count": 29,
   "metadata": {
    "collapsed": true
   },
   "outputs": [],
   "source": [
    "train.to_csv('train4stack.csv',index = False)\n",
    "test.to_csv('test4stack.csv',index = False)"
   ]
  },
  {
   "cell_type": "code",
   "execution_count": 30,
   "metadata": {
    "collapsed": false
   },
   "outputs": [
    {
     "data": {
      "text/plain": [
       "array(['lgb_stack', 'xgb_mubi', 'lgb', 'lgb2', 'lgb3', 'GP', 'xgb_tian',\n",
       "       'rbf'], dtype=object)"
      ]
     },
     "execution_count": 30,
     "metadata": {},
     "output_type": "execute_result"
    }
   ],
   "source": [
    "y = train['target'].values\n",
    "train.drop(['target'], axis=1, inplace=True)\n",
    "train.columns.values"
   ]
  },
  {
   "cell_type": "markdown",
   "metadata": {},
   "source": [
    "# Metric"
   ]
  },
  {
   "cell_type": "code",
   "execution_count": 10,
   "metadata": {
    "collapsed": true
   },
   "outputs": [],
   "source": [
    "def ginic(actual, pred):\n",
    "    actual = np.asarray(actual) \n",
    "    n = len(actual)\n",
    "    a_s = actual[np.argsort(pred)]\n",
    "    a_c = a_s.cumsum()\n",
    "    giniSum = a_c.sum() / a_s.sum() - (n + 1) / 2.0\n",
    "    return giniSum / n\n",
    " \n",
    "def gini_normalized(a, p):\n",
    "    if p.ndim == 2:\n",
    "        p = p[:,1] \n",
    "    return ginic(a, p) / ginic(a, a)\n",
    "    \n",
    "def gini_xgb(preds, dtrain):\n",
    "    labels = dtrain.get_label()\n",
    "    gini_score = gini_normalized(labels, preds)\n",
    "    return 'gini', gini_score\n",
    "\n",
    "\n",
    "def gini_lgb(pred, dtrain):\n",
    "    y = list(dtrain.get_label())\n",
    "    score = ginic(y, pred) / ginic(y, y)\n",
    "    return [('gini', score, True)]\n",
    "\n"
   ]
  },
  {
   "cell_type": "markdown",
   "metadata": {},
   "source": [
    "# Model"
   ]
  },
  {
   "cell_type": "code",
   "execution_count": 11,
   "metadata": {
    "collapsed": false
   },
   "outputs": [
    {
     "name": "stderr",
     "output_type": "stream",
     "text": [
      "/Users/sue/anaconda/lib/python3.6/site-packages/sklearn/cross_validation.py:44: DeprecationWarning: This module was deprecated in version 0.18 in favor of the model_selection module into which all the refactored classes and functions are moved. Also note that the interface of the new CV iterators are different from that of this module. This module will be removed in 0.20.\n",
      "  \"This module will be removed in 0.20.\", DeprecationWarning)\n"
     ]
    }
   ],
   "source": [
    "import xgboost as xgb\n",
    "from sklearn.model_selection import StratifiedKFold, train_test_split\n",
    "import numpy as np"
   ]
  },
  {
   "cell_type": "code",
   "execution_count": 12,
   "metadata": {
    "collapsed": true
   },
   "outputs": [],
   "source": [
    "params = {'eta': 0.025, 'max_depth': 4, \n",
    "            'alpha':4,'objective': 'binary:logistic',\n",
    "          'eval_metric': 'auc', 'seed': 99, 'silent': True}"
   ]
  },
  {
   "cell_type": "code",
   "execution_count": 13,
   "metadata": {
    "collapsed": true
   },
   "outputs": [],
   "source": [
    "train_np = train.values\n",
    "test_np = test.values"
   ]
  },
  {
   "cell_type": "code",
   "execution_count": 14,
   "metadata": {
    "collapsed": false
   },
   "outputs": [
    {
     "name": "stdout",
     "output_type": "stream",
     "text": [
      "=====Round 1/5=====\n",
      "[0]\ttrain-gini:0.283168\tvalid-gini:0.286257\n",
      "Multiple eval metrics have been passed: 'valid-gini' will be used for early stopping.\n",
      "\n",
      "Will train until valid-gini hasn't improved in 100 rounds.\n",
      "[100]\ttrain-gini:0.307134\tvalid-gini:0.301097\n",
      "[200]\ttrain-gini:0.314357\tvalid-gini:0.30221\n",
      "Stopping. Best iteration:\n",
      "[117]\ttrain-gini:0.308804\tvalid-gini:0.302756\n",
      "\n",
      "=====Round 2/5=====\n",
      "[0]\ttrain-gini:0.272244\tvalid-gini:0.273024\n",
      "Multiple eval metrics have been passed: 'valid-gini' will be used for early stopping.\n",
      "\n",
      "Will train until valid-gini hasn't improved in 100 rounds.\n",
      "[100]\ttrain-gini:0.305934\tvalid-gini:0.301704\n",
      "[200]\ttrain-gini:0.313926\tvalid-gini:0.303303\n",
      "Stopping. Best iteration:\n",
      "[170]\ttrain-gini:0.311851\tvalid-gini:0.303581\n",
      "\n",
      "=====Round 3/5=====\n",
      "[0]\ttrain-gini:0.278403\tvalid-gini:0.258546\n",
      "Multiple eval metrics have been passed: 'valid-gini' will be used for early stopping.\n",
      "\n",
      "Will train until valid-gini hasn't improved in 100 rounds.\n",
      "[100]\ttrain-gini:0.310599\tvalid-gini:0.290374\n",
      "[200]\ttrain-gini:0.317093\tvalid-gini:0.291487\n",
      "Stopping. Best iteration:\n",
      "[104]\ttrain-gini:0.310935\tvalid-gini:0.291603\n",
      "\n",
      "=====Round 4/5=====\n",
      "[0]\ttrain-gini:0.293745\tvalid-gini:0.282871\n",
      "Multiple eval metrics have been passed: 'valid-gini' will be used for early stopping.\n",
      "\n",
      "Will train until valid-gini hasn't improved in 100 rounds.\n",
      "[100]\ttrain-gini:0.308613\tvalid-gini:0.29483\n",
      "[200]\ttrain-gini:0.315453\tvalid-gini:0.296854\n",
      "Stopping. Best iteration:\n",
      "[172]\ttrain-gini:0.313047\tvalid-gini:0.297097\n",
      "\n",
      "=====Round 5/5=====\n",
      "[0]\ttrain-gini:0.27832\tvalid-gini:0.284556\n",
      "Multiple eval metrics have been passed: 'valid-gini' will be used for early stopping.\n",
      "\n",
      "Will train until valid-gini hasn't improved in 100 rounds.\n",
      "[100]\ttrain-gini:0.30528\tvalid-gini:0.312238\n",
      "Stopping. Best iteration:\n",
      "[86]\ttrain-gini:0.304717\tvalid-gini:0.312687\n",
      "\n"
     ]
    }
   ],
   "source": [
    "n_splits=5\n",
    "test_pred = np.zeros(len(test_np)) \n",
    "skf = StratifiedKFold(n_splits, shuffle=True, random_state=99)\n",
    "for i, (train_index,test_index) in enumerate(skf.split(train_np, y)):\n",
    "    print(\"=====Round {0}/{1}=====\".format(i+1,n_splits))\n",
    "    x_train, x_valid = train_np[train_index], train_np[test_index]\n",
    "    y_train, y_valid = y[train_index], y[test_index]\n",
    "    watchlist = [(xgb.DMatrix(x_train,y_train), 'train'), (xgb.DMatrix(x_valid, y_valid), 'valid')]\n",
    "    model = xgb.train(params, xgb.DMatrix(x_train,y_train), 1000, watchlist, feval=gini_xgb,\n",
    "                    maximize=True, verbose_eval=100,  early_stopping_rounds=100)\n",
    "   \n",
    "    test_pred += model.predict(xgb.DMatrix(test_np),ntree_limit=model.best_ntree_limit)\n",
    "        \n",
    "test_pred /= n_splits"
   ]
  },
  {
   "cell_type": "code",
   "execution_count": null,
   "metadata": {
    "collapsed": true
   },
   "outputs": [],
   "source": []
  },
  {
   "cell_type": "code",
   "execution_count": 15,
   "metadata": {
    "collapsed": true
   },
   "outputs": [],
   "source": [
    "def create_feature_map(features):\n",
    "    outfile = open('xgb.fmap', 'w')\n",
    "    i = 0\n",
    "    for feat in features:\n",
    "        outfile.write('{0}\\t{1}\\tq\\n'.format(i, feat))\n",
    "        i = i + 1\n",
    "    outfile.close()\n",
    "\n",
    "import matplotlib.pyplot as plt\n",
    "from pylab import plot, show, subplot, specgram, imshow, savefig\n",
    "import operator\n",
    "\n",
    "%matplotlib inline"
   ]
  },
  {
   "cell_type": "code",
   "execution_count": 16,
   "metadata": {
    "collapsed": false
   },
   "outputs": [
    {
     "data": {
      "text/plain": [
       "<matplotlib.axes._subplots.AxesSubplot at 0x11e058b38>"
      ]
     },
     "execution_count": 16,
     "metadata": {},
     "output_type": "execute_result"
    },
    {
     "data": {
      "image/png": "[encoded data removed]",
      "text/plain": [
       "<matplotlib.figure.Figure at 0x11e0582b0>"
      ]
     },
     "metadata": {},
     "output_type": "display_data"
    }
   ],
   "source": [
    "feature_names = list(train.columns.values)\n",
    "create_feature_map(feature_names)\n",
    "\n",
    "importance = model.get_fscore(fmap='xgb.fmap')\n",
    "importance = sorted(importance.items(), key=operator.itemgetter(1))\n",
    "ft = pd.DataFrame(importance, columns=['feature', 'fscore'])\n",
    "\n",
    "ft.plot(kind='barh', x='feature', y='fscore', legend=False, figsize=(5, 5))\n",
    "#plt.gcf().savefig('features_importance_xgb_stack.png')"
   ]
  },
  {
   "cell_type": "markdown",
   "metadata": {},
   "source": [
    "# Drop three single lgb models"
   ]
  },
  {
   "cell_type": "code",
   "execution_count": 32,
   "metadata": {
    "collapsed": false
   },
   "outputs": [
    {
     "data": {
      "text/html": [
       "<div>\n",
       "<table border=\"1\" class=\"dataframe\">\n",
       "  <thead>\n",
       "    <tr style=\"text-align: right;\">\n",
       "      <th></th>\n",
       "      <th>lgb_stack</th>\n",
       "      <th>xgb_mubi</th>\n",
       "      <th>GP</th>\n",
       "      <th>xgb_tian</th>\n",
       "      <th>rbf</th>\n",
       "    </tr>\n",
       "  </thead>\n",
       "  <tbody>\n",
       "    <tr>\n",
       "      <th>0</th>\n",
       "      <td>0.040483</td>\n",
       "      <td>0.051245</td>\n",
       "      <td>0.577594</td>\n",
       "      <td>0.069212</td>\n",
       "      <td>0.040211</td>\n",
       "    </tr>\n",
       "  </tbody>\n",
       "</table>\n",
       "</div>"
      ],
      "text/plain": [
       "   lgb_stack  xgb_mubi        GP  xgb_tian       rbf\n",
       "0   0.040483  0.051245  0.577594  0.069212  0.040211"
      ]
     },
     "execution_count": 32,
     "metadata": {},
     "output_type": "execute_result"
    }
   ],
   "source": [
    "train_drop = train.drop(['lgb','lgb2','lgb3'],axis=1)\n",
    "train_drop.head(1)"
   ]
  },
  {
   "cell_type": "code",
   "execution_count": 34,
   "metadata": {
    "collapsed": false
   },
   "outputs": [
    {
     "data": {
      "text/html": [
       "<div>\n",
       "<table border=\"1\" class=\"dataframe\">\n",
       "  <thead>\n",
       "    <tr style=\"text-align: right;\">\n",
       "      <th></th>\n",
       "      <th>lgb_stack</th>\n",
       "      <th>xgb_mubi</th>\n",
       "      <th>GP</th>\n",
       "      <th>xgb_tian</th>\n",
       "      <th>rbf</th>\n",
       "    </tr>\n",
       "  </thead>\n",
       "  <tbody>\n",
       "    <tr>\n",
       "      <th>0</th>\n",
       "      <td>0.029462</td>\n",
       "      <td>0.025915</td>\n",
       "      <td>0.397098</td>\n",
       "      <td>0.039368</td>\n",
       "      <td>0.023685</td>\n",
       "    </tr>\n",
       "  </tbody>\n",
       "</table>\n",
       "</div>"
      ],
      "text/plain": [
       "   lgb_stack  xgb_mubi        GP  xgb_tian       rbf\n",
       "0   0.029462  0.025915  0.397098  0.039368  0.023685"
      ]
     },
     "execution_count": 34,
     "metadata": {},
     "output_type": "execute_result"
    }
   ],
   "source": [
    "test_drop = test.drop(['lgb','lgb2','lgb3'],axis=1)\n",
    "test_drop.head(1)"
   ]
  },
  {
   "cell_type": "code",
   "execution_count": 35,
   "metadata": {
    "collapsed": true
   },
   "outputs": [],
   "source": [
    "train_drop_np = train_drop.values\n",
    "test_drop_np = test_drop.values"
   ]
  },
  {
   "cell_type": "code",
   "execution_count": 36,
   "metadata": {
    "collapsed": true
   },
   "outputs": [],
   "source": [
    "params = {'eta': 0.02, 'max_depth': 4, \n",
    "            'alpha':4,'objective': 'binary:logistic',\n",
    "          'eval_metric': 'auc', 'seed': 99, 'silent': True}"
   ]
  },
  {
   "cell_type": "code",
   "execution_count": 41,
   "metadata": {
    "collapsed": false
   },
   "outputs": [
    {
     "name": "stdout",
     "output_type": "stream",
     "text": [
      "=====Round 1/3=====\n",
      "[0]\ttrain-gini:0.271445\tvalid-gini:0.270318\n",
      "Multiple eval metrics have been passed: 'valid-gini' will be used for early stopping.\n",
      "\n",
      "Will train until valid-gini hasn't improved in 100 rounds.\n",
      "[100]\ttrain-gini:0.306084\tvalid-gini:0.301304\n",
      "[200]\ttrain-gini:0.31161\tvalid-gini:0.302361\n",
      "[300]\ttrain-gini:0.318722\tvalid-gini:0.302702\n",
      "Stopping. Best iteration:\n",
      "[299]\ttrain-gini:0.318693\tvalid-gini:0.302709\n",
      "\n",
      "=====Round 2/3=====\n",
      "[0]\ttrain-gini:0.27984\tvalid-gini:0.266649\n",
      "Multiple eval metrics have been passed: 'valid-gini' will be used for early stopping.\n",
      "\n",
      "Will train until valid-gini hasn't improved in 100 rounds.\n",
      "[100]\ttrain-gini:0.309148\tvalid-gini:0.295878\n",
      "[200]\ttrain-gini:0.314633\tvalid-gini:0.297204\n",
      "Stopping. Best iteration:\n",
      "[198]\ttrain-gini:0.3146\tvalid-gini:0.297331\n",
      "\n",
      "=====Round 3/3=====\n",
      "[0]\ttrain-gini:0.278089\tvalid-gini:0.280049\n",
      "Multiple eval metrics have been passed: 'valid-gini' will be used for early stopping.\n",
      "\n",
      "Will train until valid-gini hasn't improved in 100 rounds.\n",
      "[100]\ttrain-gini:0.306192\tvalid-gini:0.301994\n",
      "[200]\ttrain-gini:0.310537\tvalid-gini:0.303869\n",
      "[300]\ttrain-gini:0.317309\tvalid-gini:0.302808\n",
      "Stopping. Best iteration:\n",
      "[219]\ttrain-gini:0.311051\tvalid-gini:0.304159\n",
      "\n"
     ]
    }
   ],
   "source": [
    "n_splits=3\n",
    "test_pred = np.zeros(len(test_drop_np)) \n",
    "skf = StratifiedKFold(n_splits, shuffle=True, random_state=99)\n",
    "for i, (train_index,test_index) in enumerate(skf.split(train_drop_np, y)):\n",
    "    print(\"=====Round {0}/{1}=====\".format(i+1,n_splits))\n",
    "    x_train, x_valid = train_drop_np[train_index], train_drop_np[test_index]\n",
    "    y_train, y_valid = y[train_index], y[test_index]\n",
    "    watchlist = [(xgb.DMatrix(x_train,y_train), 'train'), (xgb.DMatrix(x_valid, y_valid), 'valid')]\n",
    "    model = xgb.train(params, xgb.DMatrix(x_train,y_train), 1000, watchlist, feval=gini_xgb,\n",
    "                    maximize=True, verbose_eval=100,  early_stopping_rounds=100)\n",
    "   \n",
    "    test_pred += model.predict(xgb.DMatrix(test_drop_np),ntree_limit=model.best_ntree_limit)\n",
    "        \n",
    "test_pred /= n_splits"
   ]
  },
  {
   "cell_type": "code",
   "execution_count": 43,
   "metadata": {
    "collapsed": false
   },
   "outputs": [
    {
     "name": "stdout",
     "output_type": "stream",
     "text": [
      "=====Round 1/5=====\n",
      "[0]\ttrain-gini:0.28319\tvalid-gini:0.286242\n",
      "Multiple eval metrics have been passed: 'valid-gini' will be used for early stopping.\n",
      "\n",
      "Will train until valid-gini hasn't improved in 100 rounds.\n",
      "[100]\ttrain-gini:0.304944\tvalid-gini:0.302642\n",
      "[200]\ttrain-gini:0.310988\tvalid-gini:0.302022\n",
      "Stopping. Best iteration:\n",
      "[158]\ttrain-gini:0.308476\tvalid-gini:0.30292\n",
      "\n",
      "=====Round 2/5=====\n",
      "[0]\ttrain-gini:0.27225\tvalid-gini:0.273046\n",
      "Multiple eval metrics have been passed: 'valid-gini' will be used for early stopping.\n",
      "\n",
      "Will train until valid-gini hasn't improved in 100 rounds.\n",
      "[100]\ttrain-gini:0.304732\tvalid-gini:0.302024\n",
      "[200]\ttrain-gini:0.310033\tvalid-gini:0.302674\n",
      "Stopping. Best iteration:\n",
      "[155]\ttrain-gini:0.307941\tvalid-gini:0.303473\n",
      "\n",
      "=====Round 3/5=====\n",
      "[0]\ttrain-gini:0.278403\tvalid-gini:0.258546\n",
      "Multiple eval metrics have been passed: 'valid-gini' will be used for early stopping.\n",
      "\n",
      "Will train until valid-gini hasn't improved in 100 rounds.\n",
      "[100]\ttrain-gini:0.308782\tvalid-gini:0.289452\n",
      "[200]\ttrain-gini:0.313251\tvalid-gini:0.291077\n",
      "[300]\ttrain-gini:0.317678\tvalid-gini:0.291149\n",
      "Stopping. Best iteration:\n",
      "[248]\ttrain-gini:0.314967\tvalid-gini:0.291472\n",
      "\n",
      "=====Round 4/5=====\n",
      "[0]\ttrain-gini:0.293782\tvalid-gini:0.282883\n",
      "Multiple eval metrics have been passed: 'valid-gini' will be used for early stopping.\n",
      "\n",
      "Will train until valid-gini hasn't improved in 100 rounds.\n",
      "[100]\ttrain-gini:0.306807\tvalid-gini:0.294418\n",
      "[200]\ttrain-gini:0.311456\tvalid-gini:0.296475\n",
      "[300]\ttrain-gini:0.316124\tvalid-gini:0.297357\n",
      "[400]\ttrain-gini:0.321179\tvalid-gini:0.297222\n",
      "Stopping. Best iteration:\n",
      "[343]\ttrain-gini:0.318769\tvalid-gini:0.297464\n",
      "\n",
      "=====Round 5/5=====\n",
      "[0]\ttrain-gini:0.27832\tvalid-gini:0.284556\n",
      "Multiple eval metrics have been passed: 'valid-gini' will be used for early stopping.\n",
      "\n",
      "Will train until valid-gini hasn't improved in 100 rounds.\n",
      "[100]\ttrain-gini:0.303047\tvalid-gini:0.311247\n",
      "[200]\ttrain-gini:0.308225\tvalid-gini:0.312166\n",
      "Stopping. Best iteration:\n",
      "[142]\ttrain-gini:0.305789\tvalid-gini:0.312539\n",
      "\n"
     ]
    }
   ],
   "source": [
    "n_splits=5\n",
    "test_pred = np.zeros(len(test_drop_np)) \n",
    "skf = StratifiedKFold(n_splits, shuffle=True, random_state=99)\n",
    "for i, (train_index,test_index) in enumerate(skf.split(train_drop_np, y)):\n",
    "    print(\"=====Round {0}/{1}=====\".format(i+1,n_splits))\n",
    "    x_train, x_valid = train_drop_np[train_index], train_drop_np[test_index]\n",
    "    y_train, y_valid = y[train_index], y[test_index]\n",
    "    watchlist = [(xgb.DMatrix(x_train,y_train), 'train'), (xgb.DMatrix(x_valid, y_valid), 'valid')]\n",
    "    model = xgb.train(params, xgb.DMatrix(x_train,y_train), 1000, watchlist, feval=gini_xgb,\n",
    "                    maximize=True, verbose_eval=100,  early_stopping_rounds=100)\n",
    "   \n",
    "    test_pred += model.predict(xgb.DMatrix(test_drop_np),ntree_limit=model.best_ntree_limit)\n",
    "        \n",
    "test_pred /= n_splits"
   ]
  },
  {
   "cell_type": "code",
   "execution_count": 51,
   "metadata": {
    "collapsed": true
   },
   "outputs": [],
   "source": [
    "sub = pd.read_csv('data/sample_submission.csv')\n",
    "sub.target = test_pred\n",
    "sub.to_csv('xgb_stack_5models.csv',index=False)"
   ]
  },
  {
   "cell_type": "code",
   "execution_count": 44,
   "metadata": {
    "collapsed": false
   },
   "outputs": [
    {
     "data": {
      "text/plain": [
       "<matplotlib.axes._subplots.AxesSubplot at 0x11012ff98>"
      ]
     },
     "execution_count": 44,
     "metadata": {},
     "output_type": "execute_result"
    },
    {
     "data": {
      "image/png": "[encoded data removed]",
      "text/plain": [
       "<matplotlib.figure.Figure at 0x11012f6d8>"
      ]
     },
     "metadata": {},
     "output_type": "display_data"
    }
   ],
   "source": [
    "feature_names = list(train_drop.columns.values)\n",
    "create_feature_map(feature_names)\n",
    "\n",
    "importance = model.get_fscore(fmap='xgb.fmap')\n",
    "importance = sorted(importance.items(), key=operator.itemgetter(1))\n",
    "ft = pd.DataFrame(importance, columns=['feature', 'fscore'])\n",
    "\n",
    "ft.plot(kind='barh', x='feature', y='fscore', legend=False, figsize=(5, 5))\n",
    "#plt.gcf().savefig('features_importance_xgb_stack.png')\n",
    "# 5 fold"
   ]
  },
  {
   "cell_type": "code",
   "execution_count": 45,
   "metadata": {
    "collapsed": false
   },
   "outputs": [
    {
     "data": {
      "text/html": [
       "<div>\n",
       "<table border=\"1\" class=\"dataframe\">\n",
       "  <thead>\n",
       "    <tr style=\"text-align: right;\">\n",
       "      <th></th>\n",
       "      <th>lgb_stack</th>\n",
       "      <th>xgb_mubi</th>\n",
       "      <th>GP</th>\n",
       "      <th>xgb_tian</th>\n",
       "      <th>rbf</th>\n",
       "    </tr>\n",
       "  </thead>\n",
       "  <tbody>\n",
       "    <tr>\n",
       "      <th>0</th>\n",
       "      <td>0.040483</td>\n",
       "      <td>0.051245</td>\n",
       "      <td>0.577594</td>\n",
       "      <td>0.069212</td>\n",
       "      <td>0.040211</td>\n",
       "    </tr>\n",
       "    <tr>\n",
       "      <th>1</th>\n",
       "      <td>0.031868</td>\n",
       "      <td>0.030891</td>\n",
       "      <td>0.464457</td>\n",
       "      <td>0.047779</td>\n",
       "      <td>0.022514</td>\n",
       "    </tr>\n",
       "    <tr>\n",
       "      <th>2</th>\n",
       "      <td>0.026850</td>\n",
       "      <td>0.020946</td>\n",
       "      <td>0.306400</td>\n",
       "      <td>0.030663</td>\n",
       "      <td>0.021269</td>\n",
       "    </tr>\n",
       "    <tr>\n",
       "      <th>3</th>\n",
       "      <td>0.024135</td>\n",
       "      <td>0.015791</td>\n",
       "      <td>0.285240</td>\n",
       "      <td>0.022902</td>\n",
       "      <td>0.015595</td>\n",
       "    </tr>\n",
       "    <tr>\n",
       "      <th>4</th>\n",
       "      <td>0.031031</td>\n",
       "      <td>0.027638</td>\n",
       "      <td>0.467099</td>\n",
       "      <td>0.054779</td>\n",
       "      <td>0.039256</td>\n",
       "    </tr>\n",
       "  </tbody>\n",
       "</table>\n",
       "</div>"
      ],
      "text/plain": [
       "   lgb_stack  xgb_mubi        GP  xgb_tian       rbf\n",
       "0   0.040483  0.051245  0.577594  0.069212  0.040211\n",
       "1   0.031868  0.030891  0.464457  0.047779  0.022514\n",
       "2   0.026850  0.020946  0.306400  0.030663  0.021269\n",
       "3   0.024135  0.015791  0.285240  0.022902  0.015595\n",
       "4   0.031031  0.027638  0.467099  0.054779  0.039256"
      ]
     },
     "execution_count": 45,
     "metadata": {},
     "output_type": "execute_result"
    }
   ],
   "source": [
    "train_drop.head()"
   ]
  },
  {
   "cell_type": "code",
   "execution_count": 42,
   "metadata": {
    "collapsed": false
   },
   "outputs": [
    {
     "data": {
      "text/plain": [
       "<matplotlib.axes._subplots.AxesSubplot at 0x11018d128>"
      ]
     },
     "execution_count": 42,
     "metadata": {},
     "output_type": "execute_result"
    },
    {
     "data": {
      "image/png": "[encoded data removed]",
      "text/plain": [
       "<matplotlib.figure.Figure at 0x1115fe4a8>"
      ]
     },
     "metadata": {},
     "output_type": "display_data"
    }
   ],
   "source": [
    "feature_names = list(train_drop.columns.values)\n",
    "create_feature_map(feature_names)\n",
    "\n",
    "importance = model.get_fscore(fmap='xgb.fmap')\n",
    "importance = sorted(importance.items(), key=operator.itemgetter(1))\n",
    "ft = pd.DataFrame(importance, columns=['feature', 'fscore'])\n",
    "\n",
    "ft.plot(kind='barh', x='feature', y='fscore', legend=False, figsize=(5, 5))\n",
    "#plt.gcf().savefig('features_importance_xgb_stack.png')\n",
    "# 3 fold"
   ]
  },
  {
   "cell_type": "code",
   "execution_count": 77,
   "metadata": {
    "collapsed": false
   },
   "outputs": [
    {
     "data": {
      "text/plain": [
       "<matplotlib.axes._subplots.AxesSubplot at 0x110006a20>"
      ]
     },
     "execution_count": 77,
     "metadata": {},
     "output_type": "execute_result"
    },
    {
     "data": {
      "image/png": "[encoded data removed]",
      "text/plain": [
       "<matplotlib.figure.Figure at 0x11017d5c0>"
      ]
     },
     "metadata": {},
     "output_type": "display_data"
    }
   ],
   "source": [
    "feature_names = list(train_drop.columns.values)\n",
    "create_feature_map(feature_names)\n",
    "\n",
    "importance = model.get_fscore(fmap='xgb.fmap')\n",
    "importance = sorted(importance.items(), key=operator.itemgetter(1))\n",
    "ft = pd.DataFrame(importance, columns=['feature', 'fscore'])\n",
    "\n",
    "ft.plot(kind='barh', x='feature', y='fscore', legend=False, figsize=(5, 5))\n",
    "#plt.gcf().savefig('features_importance_xgb_stack.png')\n",
    "# 5 fold"
   ]
  },
  {
   "cell_type": "markdown",
   "metadata": {},
   "source": [
    "# Tune parameters of xgboost"
   ]
  },
  {
   "cell_type": "markdown",
   "metadata": {},
   "source": [
    "### 1. Parameters max_depth and min_child_weight\n",
    "#### Those parameters add constraints on the architecture of the trees.\n",
    "* max_depth is the maximum number of nodes allowed from the root to the farthest leaf of a tree. "
   ]
  },
  {
   "cell_type": "code",
   "execution_count": 78,
   "metadata": {
    "collapsed": true
   },
   "outputs": [],
   "source": [
    "gridsearch_params = [\n",
    "    (max_depth, min_child_weight)\n",
    "    for max_depth in range(4,12)\n",
    "    for min_child_weight in range(1,8)\n",
    "]"
   ]
  },
  {
   "cell_type": "code",
   "execution_count": 81,
   "metadata": {
    "collapsed": false
   },
   "outputs": [],
   "source": [
    "params = {'eta': 0.025, 'objective': 'binary:logistic',\n",
    "          'eval_metric': 'auc', 'silent': True}"
   ]
  },
  {
   "cell_type": "code",
   "execution_count": 82,
   "metadata": {
    "collapsed": true
   },
   "outputs": [],
   "source": [
    "dtrain = xgb.DMatrix(train_drop_np, label=y)"
   ]
  },
  {
   "cell_type": "code",
   "execution_count": 98,
   "metadata": {
    "collapsed": false
   },
   "outputs": [
    {
     "name": "stdout",
     "output_type": "stream",
     "text": [
      "CV with max_depth=4, min_child_weight=1\n",
      "[0]\ttrain-gini:0.297144+0.00345285\ttest-gini:0.293369+0.00683762\n",
      "[20]\ttrain-gini:0.303195+0.00488321\ttest-gini:0.297004+0.00622508\n",
      "[40]\ttrain-gini:0.305806+0.00390212\ttest-gini:0.298968+0.00647852\n",
      "[60]\ttrain-gini:0.306875+0.00391141\ttest-gini:0.299556+0.00663091\n",
      "[80]\ttrain-gini:0.307745+0.00373691\ttest-gini:0.300328+0.00699047\n",
      "[100]\ttrain-gini:0.309185+0.00310339\ttest-gini:0.300573+0.0071494\n",
      "[120]\ttrain-gini:0.310901+0.00294633\ttest-gini:0.300248+0.0067164\n",
      "[140]\ttrain-gini:0.311996+0.00310411\ttest-gini:0.300591+0.00704881\n",
      "[160]\ttrain-gini:0.313451+0.00308079\ttest-gini:0.300591+0.00721735\n",
      "\tgini 0.30086666666666667 for 102 rounds\n",
      "CV with max_depth=4, min_child_weight=2\n",
      "[0]\ttrain-gini:0.297145+0.00404916\ttest-gini:0.293403+0.00688283\n",
      "[20]\ttrain-gini:0.303341+0.0043293\ttest-gini:0.296386+0.00605393\n",
      "[40]\ttrain-gini:0.305675+0.00372348\ttest-gini:0.298669+0.00655441\n",
      "[60]\ttrain-gini:0.306575+0.00366438\ttest-gini:0.299497+0.00706015\n",
      "[80]\ttrain-gini:0.307591+0.00353861\ttest-gini:0.300225+0.00695345\n",
      "[100]\ttrain-gini:0.308918+0.00296116\ttest-gini:0.300503+0.00721016\n",
      "[120]\ttrain-gini:0.310562+0.00298053\ttest-gini:0.300453+0.00676263\n",
      "[140]\ttrain-gini:0.311873+0.00300274\ttest-gini:0.300599+0.00707896\n",
      "\tgini 0.30075366666666664 for 87 rounds\n",
      "CV with max_depth=4, min_child_weight=3\n",
      "[0]\ttrain-gini:0.297138+0.00406144\ttest-gini:0.293417+0.00691877\n",
      "[20]\ttrain-gini:0.303875+0.00407948\ttest-gini:0.29738+0.0063395\n",
      "[40]\ttrain-gini:0.305599+0.00350761\ttest-gini:0.298903+0.00660086\n",
      "[60]\ttrain-gini:0.306739+0.00376539\ttest-gini:0.299537+0.00689597\n",
      "[80]\ttrain-gini:0.307613+0.00329558\ttest-gini:0.300293+0.00677171\n",
      "[100]\ttrain-gini:0.308841+0.00291329\ttest-gini:0.300508+0.00697163\n",
      "[120]\ttrain-gini:0.310417+0.00292142\ttest-gini:0.300579+0.00672058\n",
      "[140]\ttrain-gini:0.311664+0.00295874\ttest-gini:0.30057+0.00702212\n",
      "[160]\ttrain-gini:0.312936+0.00294008\ttest-gini:0.300534+0.00715914\n",
      "[180]\ttrain-gini:0.314396+0.00305441\ttest-gini:0.300403+0.00744102\n",
      "[200]\ttrain-gini:0.31608+0.00330368\ttest-gini:0.300141+0.00754058\n",
      "\tgini 0.3007296666666667 for 137 rounds\n",
      "CV with max_depth=4, min_child_weight=4\n",
      "[0]\ttrain-gini:0.297039+0.00415012\ttest-gini:0.29345+0.00693475\n",
      "[20]\ttrain-gini:0.30361+0.00422063\ttest-gini:0.297151+0.00639825\n",
      "[40]\ttrain-gini:0.305595+0.00381479\ttest-gini:0.298763+0.00650743\n",
      "[60]\ttrain-gini:0.306777+0.00341254\ttest-gini:0.299454+0.00695239\n",
      "[80]\ttrain-gini:0.30782+0.0031696\ttest-gini:0.300101+0.00695137\n",
      "[100]\ttrain-gini:0.308816+0.00294212\ttest-gini:0.300696+0.00691965\n",
      "[120]\ttrain-gini:0.310345+0.00288143\ttest-gini:0.300556+0.00667393\n",
      "[140]\ttrain-gini:0.311466+0.00300861\ttest-gini:0.300608+0.00704292\n",
      "[160]\ttrain-gini:0.312814+0.00301811\ttest-gini:0.300711+0.00718219\n",
      "[180]\ttrain-gini:0.314256+0.00294642\ttest-gini:0.300515+0.00744939\n",
      "[200]\ttrain-gini:0.315891+0.00330623\ttest-gini:0.300264+0.00753966\n",
      "[220]\ttrain-gini:0.31767+0.00341373\ttest-gini:0.300125+0.00756804\n",
      "\tgini 0.300757 for 154 rounds\n",
      "CV with max_depth=4, min_child_weight=5\n",
      "[0]\ttrain-gini:0.29723+0.00398118\ttest-gini:0.293207+0.0067423\n",
      "[20]\ttrain-gini:0.303899+0.0041866\ttest-gini:0.29692+0.00625371\n",
      "[40]\ttrain-gini:0.305716+0.00363192\ttest-gini:0.29877+0.00671362\n",
      "[60]\ttrain-gini:0.306786+0.00352741\ttest-gini:0.299662+0.00635745\n",
      "[80]\ttrain-gini:0.307724+0.00322957\ttest-gini:0.300098+0.00669222\n",
      "[100]\ttrain-gini:0.308641+0.00283749\ttest-gini:0.300682+0.00668621\n",
      "[120]\ttrain-gini:0.310184+0.00296318\ttest-gini:0.30062+0.00655325\n",
      "[140]\ttrain-gini:0.311421+0.00308007\ttest-gini:0.300714+0.00698695\n",
      "[160]\ttrain-gini:0.312609+0.00304463\ttest-gini:0.300707+0.00706849\n",
      "\tgini 0.30079666666666666 for 105 rounds\n",
      "CV with max_depth=4, min_child_weight=6\n",
      "[0]\ttrain-gini:0.297197+0.00401005\ttest-gini:0.293282+0.00678045\n",
      "[20]\ttrain-gini:0.303748+0.00430391\ttest-gini:0.296995+0.00633194\n",
      "[40]\ttrain-gini:0.305754+0.00362299\ttest-gini:0.299024+0.006886\n",
      "[60]\ttrain-gini:0.306791+0.00372188\ttest-gini:0.299758+0.00694947\n",
      "[80]\ttrain-gini:0.307871+0.00329497\ttest-gini:0.300224+0.00685409\n",
      "[100]\ttrain-gini:0.308787+0.00289059\ttest-gini:0.300694+0.00668223\n",
      "[120]\ttrain-gini:0.310216+0.00291435\ttest-gini:0.300614+0.00667654\n",
      "[140]\ttrain-gini:0.311246+0.00315897\ttest-gini:0.300716+0.00683957\n",
      "[160]\ttrain-gini:0.312563+0.00300667\ttest-gini:0.300608+0.00712882\n",
      "\tgini 0.3008566666666667 for 101 rounds\n",
      "CV with max_depth=4, min_child_weight=7\n",
      "[0]\ttrain-gini:0.29706+0.00410843\ttest-gini:0.293504+0.00702409\n",
      "[20]\ttrain-gini:0.303801+0.00427119\ttest-gini:0.297098+0.00636908\n",
      "[40]\ttrain-gini:0.305674+0.0036452\ttest-gini:0.298522+0.00653188\n",
      "[60]\ttrain-gini:0.306759+0.00370017\ttest-gini:0.299425+0.00662487\n",
      "[80]\ttrain-gini:0.307845+0.00334204\ttest-gini:0.300445+0.00689001\n",
      "[100]\ttrain-gini:0.308587+0.00293945\ttest-gini:0.300685+0.0067998\n",
      "[120]\ttrain-gini:0.310107+0.00298516\ttest-gini:0.300655+0.00661208\n",
      "[140]\ttrain-gini:0.311164+0.00299136\ttest-gini:0.300924+0.00693596\n",
      "[160]\ttrain-gini:0.312543+0.00307511\ttest-gini:0.300704+0.00708999\n",
      "[180]\ttrain-gini:0.313932+0.00319665\ttest-gini:0.300622+0.00731489\n",
      "[200]\ttrain-gini:0.31548+0.00334971\ttest-gini:0.300328+0.00729031\n",
      "\tgini 0.30092366666666664 for 140 rounds\n",
      "CV with max_depth=5, min_child_weight=1\n",
      "[0]\ttrain-gini:0.297633+0.00367467\ttest-gini:0.29364+0.0067623\n",
      "[20]\ttrain-gini:0.305706+0.00494007\ttest-gini:0.297116+0.00623236\n",
      "[40]\ttrain-gini:0.309367+0.00358836\ttest-gini:0.29902+0.00700773\n",
      "[60]\ttrain-gini:0.312175+0.00406172\ttest-gini:0.299565+0.00720244\n",
      "[80]\ttrain-gini:0.313723+0.00429233\ttest-gini:0.300139+0.00689582\n",
      "[100]\ttrain-gini:0.315814+0.00360333\ttest-gini:0.299972+0.00700759\n",
      "[120]\ttrain-gini:0.318881+0.00357027\ttest-gini:0.299844+0.00659262\n",
      "[140]\ttrain-gini:0.321987+0.00358714\ttest-gini:0.299631+0.00692896\n",
      "[160]\ttrain-gini:0.324843+0.00348737\ttest-gini:0.299448+0.00709702\n",
      "\tgini 0.300184 for 96 rounds\n",
      "CV with max_depth=5, min_child_weight=2\n",
      "[0]\ttrain-gini:0.297565+0.00420758\ttest-gini:0.29352+0.00661685\n",
      "[20]\ttrain-gini:0.30578+0.00440113\ttest-gini:0.297076+0.00632267\n",
      "[40]\ttrain-gini:0.309761+0.00356161\ttest-gini:0.299541+0.00728215\n",
      "[60]\ttrain-gini:0.312421+0.00394884\ttest-gini:0.299474+0.00731659\n",
      "[80]\ttrain-gini:0.314135+0.00418942\ttest-gini:0.300094+0.00707198\n",
      "[100]\ttrain-gini:0.316307+0.00347155\ttest-gini:0.300038+0.00700272\n",
      "[120]\ttrain-gini:0.318978+0.00324163\ttest-gini:0.299568+0.00637958\n",
      "[140]\ttrain-gini:0.321707+0.00344526\ttest-gini:0.299708+0.00693395\n",
      "\tgini 0.30009433333333335 for 80 rounds\n",
      "CV with max_depth=5, min_child_weight=3\n",
      "[0]\ttrain-gini:0.297591+0.00441487\ttest-gini:0.293625+0.00655283\n",
      "[20]\ttrain-gini:0.306051+0.00430868\ttest-gini:0.297837+0.00641137\n",
      "[40]\ttrain-gini:0.309476+0.00362963\ttest-gini:0.298647+0.00646236\n",
      "[60]\ttrain-gini:0.312644+0.0037296\ttest-gini:0.299361+0.00707052\n",
      "[80]\ttrain-gini:0.314784+0.00386728\ttest-gini:0.299913+0.00694502\n",
      "[100]\ttrain-gini:0.316653+0.00323034\ttest-gini:0.300027+0.00681222\n",
      "[120]\ttrain-gini:0.319117+0.00326778\ttest-gini:0.299846+0.00653923\n",
      "[140]\ttrain-gini:0.32165+0.00339667\ttest-gini:0.299639+0.00685324\n",
      "[160]\ttrain-gini:0.324286+0.0031924\ttest-gini:0.299533+0.00693334\n",
      "\tgini 0.3001536666666667 for 104 rounds\n",
      "CV with max_depth=5, min_child_weight=4\n",
      "[0]\ttrain-gini:0.297514+0.00448422\ttest-gini:0.293617+0.00654951\n",
      "[20]\ttrain-gini:0.305653+0.00447687\ttest-gini:0.296994+0.00630151\n",
      "[40]\ttrain-gini:0.309419+0.00360405\ttest-gini:0.298803+0.00618604\n",
      "[60]\ttrain-gini:0.312524+0.00367685\ttest-gini:0.299499+0.00718374\n",
      "[80]\ttrain-gini:0.314313+0.00406448\ttest-gini:0.29986+0.0070621\n",
      "[100]\ttrain-gini:0.316748+0.00336252\ttest-gini:0.299972+0.00708465\n",
      "[120]\ttrain-gini:0.319095+0.00355971\ttest-gini:0.299823+0.00670487\n",
      "[140]\ttrain-gini:0.32156+0.00362849\ttest-gini:0.299617+0.0070622\n",
      "[160]\ttrain-gini:0.324133+0.0033586\ttest-gini:0.299586+0.00703337\n",
      "\tgini 0.3001223333333333 for 95 rounds\n",
      "CV with max_depth=5, min_child_weight=5\n",
      "[0]\ttrain-gini:0.297758+0.00428566\ttest-gini:0.293363+0.0063394\n",
      "[20]\ttrain-gini:0.305761+0.00447977\ttest-gini:0.296884+0.00621777\n",
      "[40]\ttrain-gini:0.309434+0.00377632\ttest-gini:0.298737+0.00634338\n",
      "[60]\ttrain-gini:0.312375+0.00373104\ttest-gini:0.299714+0.00710307\n",
      "[80]\ttrain-gini:0.314533+0.00401817\ttest-gini:0.300004+0.00707341\n",
      "[100]\ttrain-gini:0.316672+0.00334049\ttest-gini:0.300026+0.00704317\n",
      "[120]\ttrain-gini:0.319152+0.00353337\ttest-gini:0.299811+0.00669539\n",
      "[140]\ttrain-gini:0.321422+0.00366914\ttest-gini:0.299701+0.00711172\n",
      "[160]\ttrain-gini:0.323993+0.00340965\ttest-gini:0.299611+0.00705961\n",
      "\tgini 0.30019533333333337 for 92 rounds\n",
      "CV with max_depth=5, min_child_weight=6\n",
      "[0]\ttrain-gini:0.297665+0.00436583\ttest-gini:0.293391+0.00635229\n",
      "[20]\ttrain-gini:0.305877+0.0041374\ttest-gini:0.297344+0.00676923\n",
      "[40]\ttrain-gini:0.309341+0.00384321\ttest-gini:0.29889+0.00651871\n",
      "[60]\ttrain-gini:0.312184+0.00396495\ttest-gini:0.299554+0.00731346\n",
      "[80]\ttrain-gini:0.314474+0.00400855\ttest-gini:0.300029+0.00700206\n",
      "[100]\ttrain-gini:0.316679+0.00343939\ttest-gini:0.300007+0.00664273\n",
      "[120]\ttrain-gini:0.319034+0.00353131\ttest-gini:0.299754+0.00653792\n",
      "[140]\ttrain-gini:0.321333+0.00347659\ttest-gini:0.299882+0.00703412\n",
      "[160]\ttrain-gini:0.32349+0.00337453\ttest-gini:0.299556+0.00686558\n",
      "\tgini 0.300186 for 106 rounds\n",
      "CV with max_depth=5, min_child_weight=7\n",
      "[0]\ttrain-gini:0.297553+0.0044459\ttest-gini:0.293643+0.0066398\n",
      "[20]\ttrain-gini:0.305773+0.004387\ttest-gini:0.297901+0.00655086\n",
      "[40]\ttrain-gini:0.309515+0.00368862\ttest-gini:0.29883+0.00672314\n",
      "[60]\ttrain-gini:0.312282+0.00374564\ttest-gini:0.299797+0.00711317\n",
      "[80]\ttrain-gini:0.314605+0.00388349\ttest-gini:0.300058+0.0070204\n",
      "[100]\ttrain-gini:0.316774+0.00333767\ttest-gini:0.300072+0.00679642\n",
      "[120]\ttrain-gini:0.319117+0.003427\ttest-gini:0.299935+0.00662273\n",
      "[140]\ttrain-gini:0.321391+0.0033584\ttest-gini:0.299879+0.00705172\n",
      "[160]\ttrain-gini:0.323508+0.00336244\ttest-gini:0.299786+0.00708432\n",
      "\tgini 0.30016133333333334 for 103 rounds\n",
      "CV with max_depth=6, min_child_weight=1\n",
      "[0]\ttrain-gini:0.297901+0.00403363\ttest-gini:0.292823+0.00610098\n",
      "[20]\ttrain-gini:0.30715+0.00482547\ttest-gini:0.297147+0.00634227\n",
      "[40]\ttrain-gini:0.313215+0.00348756\ttest-gini:0.299112+0.00671065\n",
      "[60]\ttrain-gini:0.3178+0.00434524\ttest-gini:0.299697+0.00751683\n",
      "[80]\ttrain-gini:0.321474+0.00494795\ttest-gini:0.299868+0.00734006\n",
      "[100]\ttrain-gini:0.325844+0.00423322\ttest-gini:0.299816+0.00683642\n",
      "[120]\ttrain-gini:0.331349+0.00464086\ttest-gini:0.29948+0.0067846\n",
      "[140]\ttrain-gini:0.336453+0.00482247\ttest-gini:0.299106+0.00706893\n",
      "\tgini 0.29999766666666666 for 76 rounds\n",
      "CV with max_depth=6, min_child_weight=2\n",
      "[0]\ttrain-gini:0.29805+0.00446049\ttest-gini:0.294054+0.00628649\n",
      "[20]\ttrain-gini:0.307741+0.00467287\ttest-gini:0.297119+0.00634334\n",
      "[40]\ttrain-gini:0.314236+0.00392842\ttest-gini:0.299099+0.00699801\n",
      "[60]\ttrain-gini:0.318745+0.00399945\ttest-gini:0.299436+0.00719203\n",
      "[80]\ttrain-gini:0.32282+0.00482376\ttest-gini:0.299934+0.00723988\n",
      "[100]\ttrain-gini:0.326858+0.00441064\ttest-gini:0.29978+0.00704886\n",
      "[120]\ttrain-gini:0.331772+0.00452276\ttest-gini:0.299603+0.00664739\n",
      "[140]\ttrain-gini:0.336497+0.00479635\ttest-gini:0.2991+0.00688506\n",
      "\tgini 0.29993433333333336 for 80 rounds\n",
      "CV with max_depth=6, min_child_weight=3\n",
      "[0]\ttrain-gini:0.298048+0.00457479\ttest-gini:0.294043+0.00634699\n",
      "[20]\ttrain-gini:0.307902+0.00452537\ttest-gini:0.297848+0.0067839\n",
      "[40]\ttrain-gini:0.31459+0.00379243\ttest-gini:0.298652+0.00702296\n",
      "[60]\ttrain-gini:0.319214+0.00409567\ttest-gini:0.299314+0.00746912\n",
      "[80]\ttrain-gini:0.323334+0.00464035\ttest-gini:0.299877+0.00737134\n",
      "[100]\ttrain-gini:0.32687+0.00433399\ttest-gini:0.299977+0.00742249\n",
      "[120]\ttrain-gini:0.331862+0.00470165\ttest-gini:0.2996+0.00708103\n",
      "[140]\ttrain-gini:0.336099+0.00495818\ttest-gini:0.299227+0.00736942\n",
      "[160]\ttrain-gini:0.340504+0.00469099\ttest-gini:0.298873+0.00719565\n",
      "\tgini 0.3000946666666666 for 92 rounds\n",
      "CV with max_depth=6, min_child_weight=4\n",
      "[0]\ttrain-gini:0.297951+0.00471544\ttest-gini:0.293774+0.00678812\n",
      "[20]\ttrain-gini:0.307856+0.00437114\ttest-gini:0.296979+0.00601282\n",
      "[40]\ttrain-gini:0.314158+0.0035349\ttest-gini:0.299146+0.00691131\n",
      "[60]\ttrain-gini:0.319122+0.00406431\ttest-gini:0.299323+0.00776872\n",
      "[80]\ttrain-gini:0.3233+0.00490575\ttest-gini:0.299665+0.00768167\n",
      "[100]\ttrain-gini:0.327014+0.00462417\ttest-gini:0.299593+0.00728263\n",
      "[120]\ttrain-gini:0.331631+0.00452867\ttest-gini:0.299442+0.00702418\n",
      "[140]\ttrain-gini:0.335539+0.00483026\ttest-gini:0.299096+0.00729715\n",
      "\tgini 0.29987633333333336 for 86 rounds\n",
      "CV with max_depth=6, min_child_weight=5\n",
      "[0]\ttrain-gini:0.298239+0.00446015\ttest-gini:0.293463+0.00653749\n",
      "[20]\ttrain-gini:0.307946+0.00397769\ttest-gini:0.297204+0.00625609\n",
      "[40]\ttrain-gini:0.314276+0.00355956\ttest-gini:0.298881+0.00683666\n",
      "[60]\ttrain-gini:0.3192+0.00414131\ttest-gini:0.299229+0.00730916\n",
      "[80]\ttrain-gini:0.323594+0.00483571\ttest-gini:0.299672+0.00759184\n",
      "[100]\ttrain-gini:0.327264+0.00456011\ttest-gini:0.299645+0.00721651\n",
      "[120]\ttrain-gini:0.331524+0.00464548\ttest-gini:0.299242+0.00698116\n",
      "[140]\ttrain-gini:0.335493+0.00445607\ttest-gini:0.298687+0.00717773\n",
      "\tgini 0.299841 for 85 rounds\n",
      "CV with max_depth=6, min_child_weight=6\n",
      "[0]\ttrain-gini:0.298233+0.00446524\ttest-gini:0.293487+0.00654963\n",
      "[20]\ttrain-gini:0.307403+0.00438456\ttest-gini:0.297694+0.00648314\n",
      "[40]\ttrain-gini:0.314235+0.0035043\ttest-gini:0.29871+0.00687498\n",
      "[60]\ttrain-gini:0.319039+0.00399275\ttest-gini:0.299072+0.00743447\n",
      "[80]\ttrain-gini:0.323373+0.00457771\ttest-gini:0.299673+0.00760452\n",
      "[100]\ttrain-gini:0.327225+0.00445021\ttest-gini:0.299437+0.00720288\n",
      "[120]\ttrain-gini:0.331614+0.00428379\ttest-gini:0.299113+0.00680428\n",
      "[140]\ttrain-gini:0.335308+0.00427728\ttest-gini:0.298684+0.0069705\n",
      "\tgini 0.29973033333333327 for 86 rounds\n",
      "CV with max_depth=6, min_child_weight=7\n",
      "[0]\ttrain-gini:0.298008+0.00463395\ttest-gini:0.293783+0.00685018\n",
      "[20]\ttrain-gini:0.307927+0.00435736\ttest-gini:0.297573+0.00633597\n",
      "[40]\ttrain-gini:0.314007+0.00374025\ttest-gini:0.299002+0.00664883\n",
      "[60]\ttrain-gini:0.319069+0.00431833\ttest-gini:0.299166+0.0076931\n",
      "[80]\ttrain-gini:0.323472+0.00475401\ttest-gini:0.299448+0.00746133\n",
      "[100]\ttrain-gini:0.326916+0.00457041\ttest-gini:0.299438+0.00702957\n",
      "[120]\ttrain-gini:0.331226+0.00423305\ttest-gini:0.299036+0.00658953\n",
      "[140]\ttrain-gini:0.334929+0.00439607\ttest-gini:0.298529+0.00695987\n",
      "\tgini 0.29964 for 84 rounds\n",
      "CV with max_depth=7, min_child_weight=1\n",
      "[0]\ttrain-gini:0.298181+0.00408713\ttest-gini:0.29332+0.00597226\n",
      "[20]\ttrain-gini:0.309704+0.0046366\ttest-gini:0.297208+0.00676233\n",
      "[40]\ttrain-gini:0.317816+0.00360575\ttest-gini:0.298597+0.00687472\n",
      "[60]\ttrain-gini:0.324783+0.00471659\ttest-gini:0.299028+0.00797813\n",
      "[80]\ttrain-gini:0.332076+0.0057012\ttest-gini:0.298838+0.00755121\n",
      "[100]\ttrain-gini:0.33928+0.00525457\ttest-gini:0.298776+0.00706852\n",
      "[120]\ttrain-gini:0.348562+0.00605994\ttest-gini:0.298156+0.00644805\n",
      "\tgini 0.29914366666666664 for 59 rounds\n",
      "CV with max_depth=7, min_child_weight=2\n",
      "[0]\ttrain-gini:0.298304+0.00453143\ttest-gini:0.293689+0.00671941\n",
      "[20]\ttrain-gini:0.309149+0.00472132\ttest-gini:0.297355+0.00644466\n",
      "[40]\ttrain-gini:0.318172+0.00392165\ttest-gini:0.298447+0.00680585\n",
      "[60]\ttrain-gini:0.32596+0.00486563\ttest-gini:0.298666+0.0078716\n",
      "[80]\ttrain-gini:0.333641+0.006232\ttest-gini:0.298992+0.00750397\n",
      "[100]\ttrain-gini:0.340333+0.00602947\ttest-gini:0.29869+0.00714042\n",
      "[120]\ttrain-gini:0.348711+0.00623839\ttest-gini:0.298316+0.0068314\n",
      "[140]\ttrain-gini:0.356549+0.00653804\ttest-gini:0.297689+0.00682537\n",
      "\tgini 0.2993253333333333 for 74 rounds\n",
      "CV with max_depth=7, min_child_weight=3\n",
      "[0]\ttrain-gini:0.298322+0.00466737\ttest-gini:0.29408+0.00642226\n",
      "[20]\ttrain-gini:0.309597+0.00493486\ttest-gini:0.297495+0.00670892\n",
      "[40]\ttrain-gini:0.318916+0.00458956\ttest-gini:0.298281+0.00687277\n",
      "[60]\ttrain-gini:0.326929+0.00515249\ttest-gini:0.298709+0.00822761\n",
      "[80]\ttrain-gini:0.334297+0.00622528\ttest-gini:0.298914+0.00778663\n",
      "[100]\ttrain-gini:0.340596+0.00608132\ttest-gini:0.298776+0.00762306\n",
      "[120]\ttrain-gini:0.348941+0.00600885\ttest-gini:0.298055+0.00730502\n",
      "[140]\ttrain-gini:0.355891+0.00662363\ttest-gini:0.29768+0.00748398\n",
      "\tgini 0.299272 for 74 rounds\n",
      "CV with max_depth=7, min_child_weight=4\n",
      "[0]\ttrain-gini:0.298309+0.0048556\ttest-gini:0.293791+0.00680357\n",
      "[20]\ttrain-gini:0.309417+0.00489476\ttest-gini:0.29736+0.00616558\n",
      "[40]\ttrain-gini:0.319119+0.00418744\ttest-gini:0.298529+0.00706096\n",
      "[60]\ttrain-gini:0.327291+0.00517083\ttest-gini:0.298411+0.00819079\n",
      "[80]\ttrain-gini:0.334591+0.00640871\ttest-gini:0.298844+0.00810425\n",
      "[100]\ttrain-gini:0.340798+0.006408\ttest-gini:0.298566+0.00762323\n",
      "[120]\ttrain-gini:0.34838+0.00632702\ttest-gini:0.298112+0.00744253\n",
      "[140]\ttrain-gini:0.354853+0.00637485\ttest-gini:0.297447+0.00762529\n",
      "\tgini 0.2990486666666667 for 71 rounds\n",
      "CV with max_depth=7, min_child_weight=5\n",
      "[0]\ttrain-gini:0.298605+0.00460685\ttest-gini:0.293595+0.00652545\n",
      "[20]\ttrain-gini:0.309094+0.00445754\ttest-gini:0.296958+0.00648353\n",
      "[40]\ttrain-gini:0.318897+0.00412919\ttest-gini:0.29817+0.00669478\n",
      "[60]\ttrain-gini:0.327133+0.00516518\ttest-gini:0.298582+0.00813811\n",
      "[80]\ttrain-gini:0.334486+0.00627776\ttest-gini:0.298917+0.00820588\n",
      "[100]\ttrain-gini:0.341028+0.00621055\ttest-gini:0.298588+0.00766998\n",
      "[120]\ttrain-gini:0.348384+0.00574254\ttest-gini:0.297755+0.0075143\n",
      "[140]\ttrain-gini:0.354655+0.00589833\ttest-gini:0.297219+0.00760732\n",
      "\tgini 0.29903199999999996 for 75 rounds\n",
      "CV with max_depth=7, min_child_weight=6\n",
      "[0]\ttrain-gini:0.298478+0.00471457\ttest-gini:0.29366+0.0065569\n",
      "[20]\ttrain-gini:0.309127+0.00493704\ttest-gini:0.297139+0.00620802\n",
      "[40]\ttrain-gini:0.318739+0.00412407\ttest-gini:0.298253+0.00662062\n",
      "[60]\ttrain-gini:0.327165+0.00528893\ttest-gini:0.298604+0.00812111\n",
      "[80]\ttrain-gini:0.334232+0.00650465\ttest-gini:0.298859+0.00813897\n",
      "[100]\ttrain-gini:0.340972+0.00600095\ttest-gini:0.298394+0.00742266\n",
      "[120]\ttrain-gini:0.348195+0.00585531\ttest-gini:0.297726+0.00721688\n",
      "[140]\ttrain-gini:0.353738+0.00577556\ttest-gini:0.29736+0.00730946\n",
      "\tgini 0.2990276666666667 for 75 rounds\n",
      "CV with max_depth=7, min_child_weight=7\n",
      "[0]\ttrain-gini:0.298373+0.00477707\ttest-gini:0.293898+0.00683275\n",
      "[20]\ttrain-gini:0.309368+0.00465523\ttest-gini:0.297798+0.0067494\n",
      "[40]\ttrain-gini:0.31896+0.00417639\ttest-gini:0.298423+0.00686211\n",
      "[60]\ttrain-gini:0.3271+0.00509384\ttest-gini:0.298422+0.00802538\n",
      "[80]\ttrain-gini:0.334692+0.00646022\ttest-gini:0.298708+0.00783324\n",
      "[100]\ttrain-gini:0.341078+0.00593678\ttest-gini:0.298492+0.00717421\n",
      "[120]\ttrain-gini:0.348024+0.00530008\ttest-gini:0.297827+0.00704753\n",
      "[140]\ttrain-gini:0.353128+0.00518261\ttest-gini:0.297373+0.00732458\n",
      "\tgini 0.29904966666666666 for 71 rounds\n",
      "CV with max_depth=8, min_child_weight=1\n",
      "[0]\ttrain-gini:0.298443+0.00439073\ttest-gini:0.292775+0.00671547\n",
      "[20]\ttrain-gini:0.310748+0.00464569\ttest-gini:0.297142+0.00661945\n",
      "[40]\ttrain-gini:0.321038+0.00364214\ttest-gini:0.297967+0.00660377\n",
      "[60]\ttrain-gini:0.331966+0.00585063\ttest-gini:0.29804+0.00823028\n",
      "[80]\ttrain-gini:0.343868+0.0078898\ttest-gini:0.297889+0.00721621\n",
      "[100]\ttrain-gini:0.355865+0.00807829\ttest-gini:0.297559+0.00732919\n",
      "\tgini 0.29860633333333336 for 36 rounds\n",
      "CV with max_depth=8, min_child_weight=2\n",
      "[0]\ttrain-gini:0.298633+0.00465282\ttest-gini:0.293647+0.00691099\n",
      "[20]\ttrain-gini:0.310748+0.00512305\ttest-gini:0.297262+0.00616434\n",
      "[40]\ttrain-gini:0.322962+0.00445356\ttest-gini:0.297449+0.00677317\n",
      "[60]\ttrain-gini:0.334685+0.00589358\ttest-gini:0.297941+0.00824515\n",
      "[80]\ttrain-gini:0.346145+0.00884929\ttest-gini:0.297566+0.00752335\n",
      "[100]\ttrain-gini:0.356793+0.00916318\ttest-gini:0.297256+0.00708223\n",
      "\tgini 0.29834733333333335 for 49 rounds\n",
      "CV with max_depth=8, min_child_weight=3\n",
      "[0]\ttrain-gini:0.298717+0.00477065\ttest-gini:0.293859+0.0065955\n",
      "[20]\ttrain-gini:0.311043+0.00391143\ttest-gini:0.297175+0.00637697\n",
      "[40]\ttrain-gini:0.323257+0.00433403\ttest-gini:0.297779+0.0070907\n",
      "[60]\ttrain-gini:0.336185+0.00574789\ttest-gini:0.297691+0.00812524\n",
      "[80]\ttrain-gini:0.347376+0.00848345\ttest-gini:0.297722+0.00777823\n",
      "[100]\ttrain-gini:0.357822+0.00892259\ttest-gini:0.297239+0.00749173\n",
      "[120]\ttrain-gini:0.369875+0.00861611\ttest-gini:0.296576+0.00735349\n",
      "\tgini 0.2983196666666667 for 51 rounds\n",
      "CV with max_depth=8, min_child_weight=4\n",
      "[0]\ttrain-gini:0.29862+0.00487182\ttest-gini:0.293721+0.00670649\n",
      "[20]\ttrain-gini:0.310922+0.00459529\ttest-gini:0.296655+0.0055274\n",
      "[40]\ttrain-gini:0.323275+0.0043507\ttest-gini:0.297626+0.00661481\n",
      "[60]\ttrain-gini:0.33643+0.00590852\ttest-gini:0.297826+0.00835389\n",
      "[80]\ttrain-gini:0.348071+0.008489\ttest-gini:0.297398+0.00799291\n",
      "[100]\ttrain-gini:0.358602+0.00849613\ttest-gini:0.296987+0.00790464\n",
      "[120]\ttrain-gini:0.369771+0.00839523\ttest-gini:0.296419+0.00773628\n",
      "\tgini 0.298126 for 57 rounds\n",
      "CV with max_depth=8, min_child_weight=5\n",
      "[0]\ttrain-gini:0.298688+0.00472069\ttest-gini:0.29327+0.00654322\n",
      "[20]\ttrain-gini:0.310446+0.0039452\ttest-gini:0.296733+0.00613126\n",
      "[40]\ttrain-gini:0.32317+0.00400628\ttest-gini:0.297842+0.00726288\n",
      "[60]\ttrain-gini:0.336367+0.00549638\ttest-gini:0.297497+0.00845065\n",
      "[80]\ttrain-gini:0.347858+0.00781968\ttest-gini:0.297235+0.00798454\n",
      "[100]\ttrain-gini:0.358245+0.00761687\ttest-gini:0.296844+0.00747585\n",
      "\tgini 0.29807766666666663 for 36 rounds\n",
      "CV with max_depth=8, min_child_weight=6\n",
      "[0]\ttrain-gini:0.298747+0.00460991\ttest-gini:0.292937+0.00640433\n",
      "[20]\ttrain-gini:0.309787+0.00397639\ttest-gini:0.297017+0.00604248\n",
      "[40]\ttrain-gini:0.322927+0.00408733\ttest-gini:0.298052+0.00676964\n",
      "[60]\ttrain-gini:0.336365+0.00538505\ttest-gini:0.297505+0.00792738\n",
      "[80]\ttrain-gini:0.348067+0.00794646\ttest-gini:0.297259+0.00766656\n",
      "[100]\ttrain-gini:0.358889+0.00747293\ttest-gini:0.296943+0.00699058\n",
      "\tgini 0.29822533333333334 for 37 rounds\n",
      "CV with max_depth=8, min_child_weight=7\n",
      "[0]\ttrain-gini:0.298677+0.00467769\ttest-gini:0.293152+0.0066967\n",
      "[20]\ttrain-gini:0.309746+0.00415918\ttest-gini:0.29741+0.00598032\n",
      "[40]\ttrain-gini:0.322801+0.00379177\ttest-gini:0.297993+0.00643301\n",
      "[60]\ttrain-gini:0.336626+0.00555994\ttest-gini:0.298154+0.00803806\n",
      "[80]\ttrain-gini:0.348236+0.00815675\ttest-gini:0.297372+0.00767541\n",
      "[100]\ttrain-gini:0.358602+0.00765935\ttest-gini:0.297166+0.00669551\n",
      "\tgini 0.29859966666666665 for 38 rounds\n",
      "CV with max_depth=9, min_child_weight=1\n",
      "[0]\ttrain-gini:0.298769+0.00448112\ttest-gini:0.293128+0.00630271\n",
      "[20]\ttrain-gini:0.311475+0.00435741\ttest-gini:0.297083+0.00688203\n",
      "[40]\ttrain-gini:0.325031+0.00408282\ttest-gini:0.297519+0.00723984\n",
      "[60]\ttrain-gini:0.341322+0.00614739\ttest-gini:0.297244+0.0081513\n",
      "[80]\ttrain-gini:0.358195+0.00938544\ttest-gini:0.296667+0.00760133\n",
      "[100]\ttrain-gini:0.376282+0.0097224\ttest-gini:0.296065+0.0074173\n",
      "\tgini 0.29791133333333336 for 36 rounds\n",
      "CV with max_depth=9, min_child_weight=2\n",
      "[0]\ttrain-gini:0.299033+0.00435311\ttest-gini:0.293062+0.0067529\n",
      "[20]\ttrain-gini:0.311836+0.00427759\ttest-gini:0.296988+0.00650401\n",
      "[40]\ttrain-gini:0.326782+0.00487094\ttest-gini:0.297542+0.00719959\n",
      "[60]\ttrain-gini:0.344886+0.0066863\ttest-gini:0.296947+0.00855922\n",
      "[80]\ttrain-gini:0.3618+0.0103287\ttest-gini:0.296003+0.00801712\n",
      "[100]\ttrain-gini:0.378398+0.0108002\ttest-gini:0.295439+0.00779813\n",
      "\tgini 0.2979066666666667 for 38 rounds\n",
      "CV with max_depth=9, min_child_weight=3\n",
      "[0]\ttrain-gini:0.298728+0.00485382\ttest-gini:0.293182+0.00625402\n",
      "[20]\ttrain-gini:0.311891+0.00395019\ttest-gini:0.29691+0.00651897\n",
      "[40]\ttrain-gini:0.327599+0.00416925\ttest-gini:0.297255+0.00723261\n",
      "[60]\ttrain-gini:0.346836+0.00573401\ttest-gini:0.296832+0.00841906\n",
      "[80]\ttrain-gini:0.363053+0.00963078\ttest-gini:0.296272+0.00802315\n",
      "[100]\ttrain-gini:0.378958+0.010588\ttest-gini:0.295386+0.00808816\n",
      "\tgini 0.29768766666666663 for 50 rounds\n",
      "CV with max_depth=9, min_child_weight=4\n",
      "[0]\ttrain-gini:0.298673+0.00490157\ttest-gini:0.292936+0.00638611\n",
      "[20]\ttrain-gini:0.311412+0.00394286\ttest-gini:0.296723+0.00656122\n",
      "[40]\ttrain-gini:0.327794+0.00407291\ttest-gini:0.297352+0.00733156\n",
      "[60]\ttrain-gini:0.347353+0.00568421\ttest-gini:0.296868+0.00833924\n",
      "[80]\ttrain-gini:0.365026+0.0103787\ttest-gini:0.296395+0.00802935\n",
      "[100]\ttrain-gini:0.380611+0.0102009\ttest-gini:0.295702+0.00796102\n",
      "\tgini 0.2976216666666667 for 37 rounds\n",
      "CV with max_depth=9, min_child_weight=5\n",
      "[0]\ttrain-gini:0.29884+0.00473907\ttest-gini:0.293228+0.00659697\n",
      "[20]\ttrain-gini:0.311461+0.00372888\ttest-gini:0.296754+0.00663279\n",
      "[40]\ttrain-gini:0.327817+0.0040424\ttest-gini:0.297634+0.00750854\n",
      "[60]\ttrain-gini:0.347292+0.00453541\ttest-gini:0.297058+0.00863667\n",
      "[80]\ttrain-gini:0.364354+0.00967107\ttest-gini:0.296331+0.00833878\n",
      "[100]\ttrain-gini:0.379189+0.00978548\ttest-gini:0.295758+0.00761066\n",
      "\tgini 0.29798033333333335 for 39 rounds\n",
      "CV with max_depth=9, min_child_weight=6\n",
      "[0]\ttrain-gini:0.298855+0.00463008\ttest-gini:0.29294+0.00648775\n",
      "[20]\ttrain-gini:0.310503+0.00385377\ttest-gini:0.296577+0.00621087\n",
      "[40]\ttrain-gini:0.328027+0.0041195\ttest-gini:0.297456+0.007151\n",
      "[60]\ttrain-gini:0.347884+0.0056671\ttest-gini:0.297028+0.00838099\n",
      "[80]\ttrain-gini:0.364576+0.0102518\ttest-gini:0.296206+0.00774053\n",
      "\tgini 0.298125 for 28 rounds\n",
      "CV with max_depth=9, min_child_weight=7\n",
      "[0]\ttrain-gini:0.29873+0.00468778\ttest-gini:0.293084+0.00667468\n",
      "[20]\ttrain-gini:0.310807+0.0034965\ttest-gini:0.297343+0.00636691\n",
      "[40]\ttrain-gini:0.327442+0.00412839\ttest-gini:0.297758+0.00695795\n",
      "[60]\ttrain-gini:0.347874+0.00578488\ttest-gini:0.297135+0.00824476\n",
      "[80]\ttrain-gini:0.364672+0.00979052\ttest-gini:0.29608+0.00787491\n",
      "[100]\ttrain-gini:0.378932+0.00874042\ttest-gini:0.29594+0.00701272\n",
      "\tgini 0.2982046666666667 for 37 rounds\n",
      "CV with max_depth=10, min_child_weight=1\n",
      "[0]\ttrain-gini:0.299335+0.00413487\ttest-gini:0.292931+0.00623418\n",
      "[20]\ttrain-gini:0.313294+0.00381967\ttest-gini:0.296924+0.00644351\n",
      "[40]\ttrain-gini:0.329942+0.00459616\ttest-gini:0.297181+0.00709778\n",
      "[60]\ttrain-gini:0.352895+0.00796906\ttest-gini:0.296189+0.00811547\n",
      "[80]\ttrain-gini:0.376971+0.0118021\ttest-gini:0.295041+0.00819419\n",
      "[100]\ttrain-gini:0.40106+0.0134058\ttest-gini:0.293821+0.0079788\n",
      "\tgini 0.29763733333333336 for 37 rounds\n",
      "CV with max_depth=10, min_child_weight=2\n",
      "[0]\ttrain-gini:0.299168+0.00435952\ttest-gini:0.293008+0.00677254\n",
      "[20]\ttrain-gini:0.312586+0.00451795\ttest-gini:0.296407+0.00657884\n",
      "[40]\ttrain-gini:0.331513+0.00512206\ttest-gini:0.29736+0.00716857\n",
      "[60]\ttrain-gini:0.355842+0.00744885\ttest-gini:0.296156+0.00835718\n",
      "[80]\ttrain-gini:0.379914+0.0125611\ttest-gini:0.294256+0.00855417\n",
      "[100]\ttrain-gini:0.401855+0.0143054\ttest-gini:0.293372+0.00805944\n",
      "\tgini 0.2974873333333333 for 35 rounds\n",
      "CV with max_depth=10, min_child_weight=3\n",
      "[0]\ttrain-gini:0.298863+0.00487233\ttest-gini:0.293105+0.00632474\n",
      "[20]\ttrain-gini:0.313076+0.00359383\ttest-gini:0.296631+0.00656177\n",
      "[40]\ttrain-gini:0.332423+0.00440532\ttest-gini:0.297123+0.0067964\n",
      "[60]\ttrain-gini:0.358723+0.00640029\ttest-gini:0.296263+0.00824478\n",
      "[80]\ttrain-gini:0.381591+0.0124865\ttest-gini:0.294727+0.0084385\n",
      "[100]\ttrain-gini:0.402226+0.0127156\ttest-gini:0.294031+0.00822941\n",
      "\tgini 0.2974776666666667 for 36 rounds\n",
      "CV with max_depth=10, min_child_weight=4\n",
      "[0]\ttrain-gini:0.298848+0.00485729\ttest-gini:0.292841+0.00632519\n",
      "[20]\ttrain-gini:0.312278+0.00359206\ttest-gini:0.29628+0.005693\n",
      "[40]\ttrain-gini:0.332851+0.00381572\ttest-gini:0.2972+0.00681987\n",
      "[60]\ttrain-gini:0.359735+0.0062823\ttest-gini:0.296077+0.00873097\n",
      "[80]\ttrain-gini:0.382387+0.0134759\ttest-gini:0.294718+0.00874897\n",
      "[100]\ttrain-gini:0.40352+0.0130162\ttest-gini:0.294158+0.00717244\n",
      "\tgini 0.29762533333333335 for 33 rounds\n",
      "CV with max_depth=10, min_child_weight=5\n",
      "[0]\ttrain-gini:0.298948+0.00470322\ttest-gini:0.293136+0.00653492\n",
      "[20]\ttrain-gini:0.31238+0.00382194\ttest-gini:0.296687+0.00612884\n",
      "[40]\ttrain-gini:0.33293+0.00420243\ttest-gini:0.297303+0.00689525\n",
      "[60]\ttrain-gini:0.360031+0.00580732\ttest-gini:0.295687+0.00834429\n",
      "[80]\ttrain-gini:0.382922+0.0125264\ttest-gini:0.294621+0.00793771\n",
      "\tgini 0.2978483333333333 for 30 rounds\n",
      "CV with max_depth=10, min_child_weight=6\n",
      "[0]\ttrain-gini:0.299051+0.00451951\ttest-gini:0.292824+0.00642111\n",
      "[20]\ttrain-gini:0.311954+0.00348978\ttest-gini:0.296928+0.00616034\n",
      "[40]\ttrain-gini:0.332665+0.00435974\ttest-gini:0.297769+0.00678756\n",
      "[60]\ttrain-gini:0.35966+0.00604554\ttest-gini:0.296088+0.00839863\n",
      "[80]\ttrain-gini:0.382706+0.0114241\ttest-gini:0.294626+0.0075448\n",
      "[100]\ttrain-gini:0.403249+0.0116641\ttest-gini:0.294163+0.00684866\n",
      "\tgini 0.2981776666666667 for 37 rounds\n",
      "CV with max_depth=10, min_child_weight=7\n",
      "[0]\ttrain-gini:0.298808+0.0046792\ttest-gini:0.293088+0.00668296\n",
      "[20]\ttrain-gini:0.311928+0.00348383\ttest-gini:0.297257+0.00600184\n",
      "[40]\ttrain-gini:0.332657+0.00465668\ttest-gini:0.297737+0.00682163\n",
      "[60]\ttrain-gini:0.359612+0.00670531\ttest-gini:0.295844+0.00833532\n",
      "[80]\ttrain-gini:0.381896+0.012297\ttest-gini:0.294703+0.00759026\n",
      "\tgini 0.298501 for 27 rounds\n",
      "CV with max_depth=11, min_child_weight=1\n",
      "[0]\ttrain-gini:0.299492+0.00414255\ttest-gini:0.292523+0.00643269\n",
      "[20]\ttrain-gini:0.313596+0.00392426\ttest-gini:0.297224+0.00694779\n",
      "[40]\ttrain-gini:0.334545+0.00567782\ttest-gini:0.296852+0.00747903\n",
      "[60]\ttrain-gini:0.364861+0.00859661\ttest-gini:0.295312+0.00867784\n",
      "[80]\ttrain-gini:0.39694+0.0145122\ttest-gini:0.293133+0.00862843\n",
      "[100]\ttrain-gini:0.427684+0.0165466\ttest-gini:0.291642+0.00833458\n",
      "\tgini 0.29741700000000004 for 31 rounds\n",
      "CV with max_depth=11, min_child_weight=2\n",
      "[0]\ttrain-gini:0.299284+0.00432021\ttest-gini:0.292984+0.00677762\n",
      "[20]\ttrain-gini:0.313612+0.00391495\ttest-gini:0.296651+0.00676006\n",
      "[40]\ttrain-gini:0.336046+0.00484806\ttest-gini:0.296665+0.00716356\n",
      "[60]\ttrain-gini:0.368827+0.00784399\ttest-gini:0.294513+0.00838755\n",
      "[80]\ttrain-gini:0.400841+0.0149195\ttest-gini:0.292844+0.00873788\n",
      "\tgini 0.29750866666666664 for 29 rounds\n",
      "CV with max_depth=11, min_child_weight=3\n",
      "[0]\ttrain-gini:0.298956+0.00489298\ttest-gini:0.293055+0.00633849\n",
      "[20]\ttrain-gini:0.313626+0.00368129\ttest-gini:0.296588+0.00664129\n",
      "[40]\ttrain-gini:0.337665+0.00485929\ttest-gini:0.296609+0.00707274\n",
      "[60]\ttrain-gini:0.371778+0.00770845\ttest-gini:0.294138+0.00871979\n",
      "[80]\ttrain-gini:0.402547+0.0149423\ttest-gini:0.292538+0.00860196\n",
      "\tgini 0.2975393333333333 for 25 rounds\n",
      "CV with max_depth=11, min_child_weight=4\n",
      "[0]\ttrain-gini:0.298922+0.00489388\ttest-gini:0.292813+0.00632162\n",
      "[20]\ttrain-gini:0.313173+0.00376776\ttest-gini:0.296623+0.0060782\n",
      "[40]\ttrain-gini:0.338583+0.00462039\ttest-gini:0.296995+0.00697444\n",
      "[60]\ttrain-gini:0.372633+0.006845\ttest-gini:0.29441+0.00871115\n",
      "[80]\ttrain-gini:0.403111+0.0144472\ttest-gini:0.292736+0.00817554\n",
      "[100]\ttrain-gini:0.428988+0.015892\ttest-gini:0.291602+0.00698365\n",
      "\tgini 0.29735666666666666 for 37 rounds\n",
      "CV with max_depth=11, min_child_weight=5\n",
      "[0]\ttrain-gini:0.299014+0.00474341\ttest-gini:0.293279+0.00638171\n",
      "[20]\ttrain-gini:0.313363+0.00350345\ttest-gini:0.296568+0.00657762\n",
      "[40]\ttrain-gini:0.337464+0.00497728\ttest-gini:0.297192+0.00675354\n",
      "[60]\ttrain-gini:0.373399+0.00714313\ttest-gini:0.294284+0.00876263\n",
      "[80]\ttrain-gini:0.402583+0.0147273\ttest-gini:0.292605+0.00787628\n",
      "[100]\ttrain-gini:0.427945+0.0138398\ttest-gini:0.291859+0.00702352\n",
      "\tgini 0.2975756666666667 for 37 rounds\n",
      "CV with max_depth=11, min_child_weight=6\n",
      "[0]\ttrain-gini:0.299089+0.00453166\ttest-gini:0.292846+0.00647982\n",
      "[20]\ttrain-gini:0.312799+0.00367206\ttest-gini:0.296532+0.00584933\n",
      "[40]\ttrain-gini:0.337927+0.00360024\ttest-gini:0.297163+0.00645787\n",
      "[60]\ttrain-gini:0.371857+0.00746467\ttest-gini:0.294446+0.00914427\n",
      "[80]\ttrain-gini:0.402425+0.014428\ttest-gini:0.292919+0.00801214\n",
      "\tgini 0.2979723333333333 for 28 rounds\n",
      "CV with max_depth=11, min_child_weight=7\n",
      "[0]\ttrain-gini:0.298856+0.00470528\ttest-gini:0.293027+0.00671202\n",
      "[20]\ttrain-gini:0.312376+0.0039601\ttest-gini:0.296753+0.00640297\n",
      "[40]\ttrain-gini:0.337726+0.00499067\ttest-gini:0.297487+0.00678875\n",
      "[60]\ttrain-gini:0.371974+0.00767388\ttest-gini:0.294132+0.00871832\n",
      "[80]\ttrain-gini:0.401475+0.0137974\ttest-gini:0.292289+0.00784999\n",
      "[100]\ttrain-gini:0.425527+0.0122291\ttest-gini:0.291374+0.0065087\n",
      "\tgini 0.29804533333333333 for 35 rounds\n",
      "Best params: 11, 4, gini: 0.29735666666666666\n"
     ]
    }
   ],
   "source": [
    "num_boost_round=1200\n",
    "min_gini = float(\"Inf\")\n",
    "best_params = 0\n",
    "for max_depth, min_child_weight in gridsearch_params:\n",
    "    print(\"CV with max_depth={}, min_child_weight={}\".format(\n",
    "                             max_depth,\n",
    "                             min_child_weight))\n",
    "\n",
    "    # Update our parameters\n",
    "    params['max_depth'] = max_depth\n",
    "    params['min_child_weight'] = min_child_weight\n",
    "\n",
    "    # Run CV\n",
    "    cv_results = xgb.cv(\n",
    "        params,\n",
    "        dtrain,\n",
    "        num_boost_round=num_boost_round,\n",
    "        seed=42,\n",
    "        nfold=3,\n",
    "        stratified=True,\n",
    "        feval=gini_xgb,\n",
    "        maximize=True,\n",
    "        early_stopping_rounds=70,\n",
    "        verbose_eval=20\n",
    "    )\n",
    "    \n",
    "      # Update best gini\n",
    "    mean_gini = cv_results['test-gini-mean'].max()\n",
    "    boost_rounds = cv_results['test-gini-mean'].argmax()\n",
    "    print(\"\\tgini {} for {} rounds\".format(mean_gini, boost_rounds))\n",
    "    if mean_gini < min_gini:\n",
    "        min_gini = mean_gini\n",
    "        best_params = (max_depth,min_child_weight)\n",
    "\n",
    "print(\"Best params: {}, {}, gini: {}\".format(best_params[0], best_params[1], min_gini))"
   ]
  },
  {
   "cell_type": "code",
   "execution_count": 89,
   "metadata": {
    "collapsed": false
   },
   "outputs": [
    {
     "data": {
      "text/html": [
       "<div>\n",
       "<table border=\"1\" class=\"dataframe\">\n",
       "  <thead>\n",
       "    <tr style=\"text-align: right;\">\n",
       "      <th></th>\n",
       "      <th>test-gini-mean</th>\n",
       "      <th>test-gini-std</th>\n",
       "      <th>train-gini-mean</th>\n",
       "      <th>train-gini-std</th>\n",
       "    </tr>\n",
       "  </thead>\n",
       "  <tbody>\n",
       "    <tr>\n",
       "      <th>0</th>\n",
       "      <td>0.290482</td>\n",
       "      <td>0.009689</td>\n",
       "      <td>0.295346</td>\n",
       "      <td>0.002367</td>\n",
       "    </tr>\n",
       "  </tbody>\n",
       "</table>\n",
       "</div>"
      ],
      "text/plain": [
       "   test-gini-mean  test-gini-std  train-gini-mean  train-gini-std\n",
       "0        0.290482       0.009689         0.295346        0.002367"
      ]
     },
     "execution_count": 89,
     "metadata": {},
     "output_type": "execute_result"
    }
   ],
   "source": [
    "cv_results"
   ]
  },
  {
   "cell_type": "code",
   "execution_count": 99,
   "metadata": {
    "collapsed": false
   },
   "outputs": [
    {
     "ename": "NameError",
     "evalue": "name 'a' is not defined",
     "output_type": "error",
     "traceback": [
      "\u001b[0;31m---------------------------------------------------------------------------\u001b[0m",
      "\u001b[0;31mNameError\u001b[0m                                 Traceback (most recent call last)",
      "\u001b[0;32m<ipython-input-99-60b725f10c9c>\u001b[0m in \u001b[0;36m<module>\u001b[0;34m()\u001b[0m\n\u001b[0;32m----> 1\u001b[0;31m \u001b[0ma\u001b[0m\u001b[0;34m\u001b[0m\u001b[0m\n\u001b[0m",
      "\u001b[0;31mNameError\u001b[0m: name 'a' is not defined"
     ]
    }
   ],
   "source": [
    "a"
   ]
  },
  {
   "cell_type": "code",
   "execution_count": 100,
   "metadata": {
    "collapsed": true
   },
   "outputs": [],
   "source": [
    "gridsearch_params = [\n",
    "    (max_depth, min_child_weight)\n",
    "    for max_depth in range(4,5)\n",
    "    for min_child_weight in range(7,20)\n",
    "]"
   ]
  },
  {
   "cell_type": "code",
   "execution_count": null,
   "metadata": {
    "collapsed": false
   },
   "outputs": [
    {
     "name": "stdout",
     "output_type": "stream",
     "text": [
      "CV with max_depth=4, min_child_weight=7\n",
      "[0]\ttrain-gini:0.29706+0.00410843\ttest-gini:0.293504+0.00702409\n",
      "[50]\ttrain-gini:0.306478+0.00346336\ttest-gini:0.299234+0.00670893\n",
      "[100]\ttrain-gini:0.308587+0.00293945\ttest-gini:0.300685+0.0067998\n",
      "[150]\ttrain-gini:0.311784+0.00304384\ttest-gini:0.30076+0.00684188\n",
      "[200]\ttrain-gini:0.31548+0.00334971\ttest-gini:0.300328+0.00729031\n",
      "\tgini 0.30092366666666664 for 140 rounds\n",
      "CV with max_depth=4, min_child_weight=8\n",
      "[0]\ttrain-gini:0.297175+0.00401061\ttest-gini:0.293371+0.00696888\n",
      "[50]\ttrain-gini:0.306154+0.0036565\ttest-gini:0.299441+0.00690598\n",
      "[100]\ttrain-gini:0.308708+0.00296987\ttest-gini:0.300754+0.00705377\n",
      "[150]\ttrain-gini:0.311789+0.00311075\ttest-gini:0.300861+0.0068503\n",
      "\tgini 0.30094133333333334 for 103 rounds\n",
      "CV with max_depth=4, min_child_weight=9\n",
      "[0]\ttrain-gini:0.297175+0.00401061\ttest-gini:0.293371+0.00696888\n",
      "[50]\ttrain-gini:0.306272+0.00358394\ttest-gini:0.299621+0.00651332\n",
      "[100]\ttrain-gini:0.308534+0.00296471\ttest-gini:0.300703+0.0068951\n",
      "[150]\ttrain-gini:0.311692+0.00312612\ttest-gini:0.300821+0.00700466\n",
      "\tgini 0.300957 for 103 rounds\n",
      "CV with max_depth=4, min_child_weight=10\n",
      "[0]\ttrain-gini:0.297175+0.00401061\ttest-gini:0.293371+0.00696888\n",
      "[50]\ttrain-gini:0.306403+0.00348681\ttest-gini:0.299468+0.00661849\n",
      "[100]\ttrain-gini:0.30857+0.00300104\ttest-gini:0.300918+0.00691338\n",
      "[150]\ttrain-gini:0.311699+0.00303068\ttest-gini:0.300827+0.00693972\n",
      "\tgini 0.300918 for 100 rounds\n",
      "CV with max_depth=4, min_child_weight=11\n",
      "[0]\ttrain-gini:0.297175+0.00401108\ttest-gini:0.293371+0.00696888\n",
      "[50]\ttrain-gini:0.306595+0.00336047\ttest-gini:0.299571+0.00649986\n",
      "[100]\ttrain-gini:0.308452+0.00295025\ttest-gini:0.300572+0.00698624\n",
      "[150]\ttrain-gini:0.311694+0.00313191\ttest-gini:0.300813+0.00700263\n",
      "\tgini 0.3008943333333333 for 122 rounds\n",
      "CV with max_depth=4, min_child_weight=12\n",
      "[0]\ttrain-gini:0.297175+0.00401108\ttest-gini:0.29337+0.00696979\n",
      "[50]\ttrain-gini:0.306538+0.00341964\ttest-gini:0.299217+0.00660471\n",
      "[100]\ttrain-gini:0.30865+0.00307116\ttest-gini:0.300695+0.00697186\n",
      "[150]\ttrain-gini:0.311667+0.00315578\ttest-gini:0.300843+0.00702845\n",
      "[200]\ttrain-gini:0.31523+0.00336301\ttest-gini:0.300354+0.00730738\n",
      "\tgini 0.30084333333333335 for 150 rounds\n",
      "CV with max_depth=4, min_child_weight=13\n",
      "[0]\ttrain-gini:0.297213+0.00398939\ttest-gini:0.29337+0.00696979\n",
      "[50]\ttrain-gini:0.306489+0.00357188\ttest-gini:0.299095+0.00670973\n",
      "[100]\ttrain-gini:0.308503+0.00310515\ttest-gini:0.300548+0.00687969\n",
      "[150]\ttrain-gini:0.311649+0.00308277\ttest-gini:0.300699+0.00707017\n",
      "\tgini 0.3007846666666667 for 126 rounds\n",
      "CV with max_depth=4, min_child_weight=14\n",
      "[0]\ttrain-gini:0.297239+0.0039749\ttest-gini:0.293161+0.00676843\n",
      "[50]\ttrain-gini:0.306534+0.00341979\ttest-gini:0.299167+0.0067679\n",
      "[100]\ttrain-gini:0.308597+0.00297719\ttest-gini:0.300464+0.00653616\n",
      "[150]\ttrain-gini:0.311756+0.00320969\ttest-gini:0.300589+0.00697952\n",
      "\tgini 0.3007486666666667 for 125 rounds\n",
      "CV with max_depth=4, min_child_weight=15\n",
      "[0]\ttrain-gini:0.297239+0.0039749\ttest-gini:0.293161+0.00676843\n",
      "[50]\ttrain-gini:0.306434+0.00334904\ttest-gini:0.299085+0.00655057\n",
      "[100]\ttrain-gini:0.308665+0.00303\ttest-gini:0.300394+0.00668728\n",
      "[150]\ttrain-gini:0.311678+0.00319841\ttest-gini:0.300592+0.0070138\n",
      "\tgini 0.3007186666666667 for 124 rounds\n",
      "CV with max_depth=4, min_child_weight=16\n",
      "[0]\ttrain-gini:0.297239+0.0039749\ttest-gini:0.293161+0.00676843\n",
      "[50]\ttrain-gini:0.306541+0.00335978\ttest-gini:0.299085+0.00651727\n",
      "[100]\ttrain-gini:0.308515+0.0030537\ttest-gini:0.300411+0.00678762\n",
      "[150]\ttrain-gini:0.311576+0.00312262\ttest-gini:0.300575+0.00700484\n",
      "\tgini 0.30082233333333336 for 125 rounds\n",
      "CV with max_depth=4, min_child_weight=17\n",
      "[0]\ttrain-gini:0.297239+0.0039749\ttest-gini:0.293161+0.00676843\n",
      "[50]\ttrain-gini:0.306529+0.00345956\ttest-gini:0.299047+0.00648889\n",
      "[100]\ttrain-gini:0.30862+0.00295431\ttest-gini:0.300423+0.00674641\n",
      "[150]\ttrain-gini:0.31155+0.0032107\ttest-gini:0.300603+0.00705066\n",
      "\tgini 0.30074599999999996 for 122 rounds\n",
      "CV with max_depth=4, min_child_weight=18\n",
      "[0]\ttrain-gini:0.297239+0.0039749\ttest-gini:0.293161+0.00676843\n",
      "[50]\ttrain-gini:0.306523+0.00325956\ttest-gini:0.299069+0.00647956\n",
      "[100]\ttrain-gini:0.308636+0.00300024\ttest-gini:0.300492+0.00674171\n",
      "[150]\ttrain-gini:0.311576+0.00321664\ttest-gini:0.300475+0.00696714\n",
      "\tgini 0.3007356666666667 for 121 rounds\n",
      "CV with max_depth=4, min_child_weight=19\n",
      "[0]\ttrain-gini:0.297239+0.0039749\ttest-gini:0.293161+0.00676843\n",
      "[50]\ttrain-gini:0.306496+0.00328477\ttest-gini:0.299088+0.00660237\n",
      "[100]\ttrain-gini:0.308439+0.00286994\ttest-gini:0.300536+0.00674334\n",
      "[150]\ttrain-gini:0.31154+0.00320867\ttest-gini:0.30044+0.00696804\n",
      "\tgini 0.3007053333333333 for 118 rounds\n",
      "CV with max_depth=5, min_child_weight=7\n",
      "[0]\ttrain-gini:0.297553+0.0044459\ttest-gini:0.293643+0.0066398\n",
      "[50]\ttrain-gini:0.311275+0.00356009\ttest-gini:0.299515+0.00739217\n",
      "[100]\ttrain-gini:0.316774+0.00333767\ttest-gini:0.300072+0.00679642\n",
      "[150]\ttrain-gini:0.322506+0.00333895\ttest-gini:0.299864+0.00703049\n",
      "\tgini 0.30016133333333334 for 103 rounds\n",
      "CV with max_depth=5, min_child_weight=8\n",
      "[0]\ttrain-gini:0.297759+0.00427012\ttest-gini:0.293527+0.00659834\n",
      "[50]\ttrain-gini:0.311282+0.00323308\ttest-gini:0.299319+0.00719283\n",
      "[100]\ttrain-gini:0.316794+0.00333195\ttest-gini:0.299931+0.00675292\n",
      "\tgini 0.3003436666666666 for 72 rounds\n",
      "CV with max_depth=5, min_child_weight=9\n",
      "[0]\ttrain-gini:0.297759+0.00427012\ttest-gini:0.293527+0.00659834\n",
      "[50]\ttrain-gini:0.311002+0.00349956\ttest-gini:0.299501+0.00718805\n",
      "[100]\ttrain-gini:0.316624+0.00334306\ttest-gini:0.300106+0.00682017\n",
      "[150]\ttrain-gini:0.32207+0.0033691\ttest-gini:0.299956+0.00701235\n",
      "\tgini 0.30022699999999997 for 101 rounds\n",
      "CV with max_depth=5, min_child_weight=10\n",
      "[0]\ttrain-gini:0.297759+0.00427012\ttest-gini:0.293526+0.006598\n",
      "[50]\ttrain-gini:0.310881+0.00342808\ttest-gini:0.299557+0.00719669\n"
     ]
    }
   ],
   "source": [
    "num_boost_round=1200\n",
    "max_gini = None\n",
    "best_params = 0\n",
    "for max_depth, min_child_weight in gridsearch_params:\n",
    "    print(\"CV with max_depth={}, min_child_weight={}\".format(\n",
    "                             max_depth,\n",
    "                             min_child_weight))\n",
    "\n",
    "    # Update our parameters\n",
    "    params['max_depth'] = max_depth\n",
    "    params['min_child_weight'] = min_child_weight\n",
    "\n",
    "    # Run CV\n",
    "    cv_results = xgb.cv(\n",
    "        params,\n",
    "        dtrain,\n",
    "        num_boost_round=num_boost_round,\n",
    "        seed=42,\n",
    "        nfold=3,\n",
    "        stratified=True,\n",
    "        feval=gini_xgb,\n",
    "        maximize=True,\n",
    "        early_stopping_rounds=70,\n",
    "        verbose_eval=50\n",
    "    )\n",
    "    \n",
    "      # Update best gini\n",
    "    mean_gini = cv_results['test-gini-mean'].max()\n",
    "    boost_rounds = cv_results['test-gini-mean'].argmax()\n",
    "    print(\"\\tgini {} for {} rounds\".format(mean_gini, boost_rounds))\n",
    "    if max_gini==None or max_gini<mean_gini:\n",
    "        max_gini = mean_gini\n",
    "        best_params = (max_depth,min_child_weight)\n",
    "\n",
    "print(\"Best params: {}, {}, gini: {}\".format(best_params[0], best_params[1], max_gini))"
   ]
  },
  {
   "cell_type": "code",
   "execution_count": null,
   "metadata": {
    "collapsed": true
   },
   "outputs": [],
   "source": []
  }
 ],
 "metadata": {
  "kernelspec": {
   "display_name": "Python 3",
   "language": "python",
   "name": "python3"
  },
  "language_info": {
   "codemirror_mode": {
    "name": "ipython",
    "version": 3
   },
   "file_extension": ".py",
   "mimetype": "text/x-python",
   "name": "python",
   "nbconvert_exporter": "python",
   "pygments_lexer": "ipython3",
   "version": "3.6.0"
  }
 },
 "nbformat": 4,
 "nbformat_minor": 2
}
