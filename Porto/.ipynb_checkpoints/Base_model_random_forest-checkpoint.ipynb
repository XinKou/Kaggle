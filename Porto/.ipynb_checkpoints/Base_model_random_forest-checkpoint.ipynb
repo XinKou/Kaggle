{
 "cells": [
  {
   "cell_type": "code",
   "execution_count": 1,
   "metadata": {
    "collapsed": true
   },
   "outputs": [],
   "source": [
    "from sklearn.model_selection import KFold, GridSearch\n"
   ]
  },
  {
   "cell_type": "markdown",
   "metadata": {
    "collapsed": true
   },
   "source": [
    "# 1. Functions for metrics"
   ]
  },
  {
   "cell_type": "code",
   "execution_count": 21,
   "metadata": {
    "collapsed": true
   },
   "outputs": [],
   "source": [
    "def gini(actual, pred, cmpcol = 0, sortcol = 1):\n",
    "    assert( len(actual) == len(pred) )\n",
    "    all = np.asarray(np.c_[ actual, pred, np.arange(len(actual)) ], dtype=np.float)\n",
    "    all = all[ np.lexsort((all[:,2], -1*all[:,1])) ]\n",
    "    totalLosses = all[:,0].sum()\n",
    "    giniSum = all[:,0].cumsum().sum() / totalLosses\n",
    " \n",
    "    giniSum -= (len(actual) + 1) / 2.\n",
    "    return giniSum / len(actual)\n",
    " \n",
    "def gini_normalized(a, p):\n",
    "    return gini(a, p) / gini(a, a)\n",
    "# def gini_normalized(model,X,y):\n",
    "#     y_pred=model.predict(X)\n",
    "#     return gini(y,y_pred)/gini(y,y)\n",
    "def gini_coefficient(preds,dtrain):\n",
    "    y = dtrain.get_label()\n",
    "    return 'gini', -gini_normalized(y,preds)"
   ]
  },
  {
   "cell_type": "markdown",
   "metadata": {},
   "source": [
    "# 2. Custom class for Grid cv Search"
   ]
  },
  {
   "cell_type": "code",
   "execution_count": 35,
   "metadata": {
    "collapsed": false
   },
   "outputs": [],
   "source": [
    "\n",
    "\n",
    "class CustomGridCV(object):\n",
    "    def __init__(self, X, y, model, metric, griddata, cv=3):\n",
    "        self.X = X\n",
    "        self.y = y\n",
    "        self.model = model\n",
    "        self.metric = metric\n",
    "        self.params = self.gridpoints(griddata)\n",
    "        self.cv = cv\n",
    "        self.bestScore = None\n",
    "        self.bestParams = None\n",
    "        \n",
    "    def gridpoints(self, data):\n",
    "        newparams = [{}]\n",
    "        for k in data.keys():\n",
    "            params = newparams\n",
    "            newparams = []\n",
    "            for v in data[k]:\n",
    "                for param in params:\n",
    "                    item = param.copy()\n",
    "                    item[k]=v\n",
    "                    newparams.append(item)           \n",
    "        return newparams\n",
    "    \n",
    "    def GridSearch(self):\n",
    "        for param in self.params:\n",
    "            self.model.set_params(**param)\n",
    "            score = self.KFoldScore()\n",
    "            if self.bestScore==None or self.bestScore<score:\n",
    "                self.bestScore = score\n",
    "                self.bestParams = param\n",
    "            print(\"Score: {0:.5f}, Params: {1}\".format(score,param))\n",
    "    \n",
    "    def KFoldScore(self):\n",
    "        kf = KFold(n_splits=5, shuffle=True)\n",
    "        y_pred = np.zeros(len(self.y))\n",
    "\n",
    "        for train_index, test_index in kf.split(self.X):\n",
    "            train_X, test_X = self.X[train_index], self.X[test_index]\n",
    "            train_y, test_y = self.y[train_index], self.y[test_index]\n",
    "            self.model.fit(train_X,train_y)\n",
    "            y_pred[test_index] = self.model.predict_proba(test_X)[:,1]\n",
    "\n",
    "        return self.metric(self.y,y_pred)\n",
    "\n",
    "   \n",
    "    \n",
    "    def Best(self):\n",
    "        return self.bestScore, self.bestParams"
   ]
  },
  {
   "cell_type": "markdown",
   "metadata": {},
   "source": [
    "# 3. Data Preparation \n",
    "### Add your feature engineering work here"
   ]
  },
  {
   "cell_type": "code",
   "execution_count": 23,
   "metadata": {
    "collapsed": false
   },
   "outputs": [],
   "source": [
    "import pandas as pd\n",
    "import numpy as np\n",
    "\n",
    "def PrepareData(trainpath,nrows=None):\n",
    "    df = pd.read_csv(trainpath, index_col='id',nrows=nrows)\n",
    "\n",
    "    features = list(df.columns)\n",
    "    target = 'target'\n",
    "    features.remove(target)\n",
    "\n",
    "    X = np.array(df[features])\n",
    "    y = np.array(df[target])\n",
    "    return X, y"
   ]
  },
  {
   "cell_type": "code",
   "execution_count": 24,
   "metadata": {
    "collapsed": true
   },
   "outputs": [],
   "source": [
    "X,y=PrepareData('data/train.csv',nrows=10000);"
   ]
  },
  {
   "cell_type": "markdown",
   "metadata": {},
   "source": [
    "# 4. Search for the best hyperparameters\n",
    "## 4.1 The whole hyperparameter space is huge, we are not able to search the whole space\n",
    "## 4.2 We don't have to use all the data for hyperparameter searching. Tune nrows to determine the size of data considered. Have a look at learning curve."
   ]
  },
  {
   "cell_type": "code",
   "execution_count": 64,
   "metadata": {
    "collapsed": false
   },
   "outputs": [
    {
     "name": "stdout",
     "output_type": "stream",
     "text": [
      "Score: 0.17671, Params: {'n_estimators': 230}\n",
      "Score: 0.17996, Params: {'n_estimators': 240}\n",
      "Score: 0.17950, Params: {'n_estimators': 250}\n",
      "Score: 0.16216, Params: {'n_estimators': 260}\n",
      "Score: 0.17721, Params: {'n_estimators': 270}\n",
      "Score: 0.21351, Params: {'n_estimators': 280}\n",
      "Score: 0.16768, Params: {'n_estimators': 290}\n",
      "Score: 0.18782, Params: {'n_estimators': 300}\n",
      "Best Params:\n",
      "(0.21350914706972071, {'n_estimators': 280})\n"
     ]
    }
   ],
   "source": [
    "from sklearn.ensemble import RandomForestClassifier\n",
    "\n",
    "\n",
    "# Select a Model\n",
    "model = RandomForestClassifier(oob_score=True)\n",
    "\n",
    "# # Set the ranges for parameters\n",
    "griddata = {\"n_estimators\":range(230,301,10),\n",
    "            #\"min_samples_split\": range(24,25),\n",
    "            \n",
    "             }\n",
    "\n",
    "# Grid Search for the best parameters\n",
    "GCV = CustomGridCV(X, y, model, gini_normalized, griddata)\n",
    "\n",
    "GCV.GridSearch()\n",
    "\n",
    "print(\"Best Params:\")\n",
    "print(GCV.Best())"
   ]
  },
  {
   "cell_type": "code",
   "execution_count": 65,
   "metadata": {
    "collapsed": false
   },
   "outputs": [
    {
     "name": "stdout",
     "output_type": "stream",
     "text": [
      "Score: 0.20105, Params: {'n_estimators': 280}\n",
      "Score: 0.21523, Params: {'n_estimators': 281}\n",
      "Score: 0.20448, Params: {'n_estimators': 282}\n",
      "Score: 0.19620, Params: {'n_estimators': 283}\n",
      "Score: 0.18843, Params: {'n_estimators': 284}\n",
      "Score: 0.16862, Params: {'n_estimators': 285}\n",
      "Score: 0.21920, Params: {'n_estimators': 286}\n",
      "Score: 0.20852, Params: {'n_estimators': 287}\n",
      "Score: 0.20396, Params: {'n_estimators': 288}\n",
      "Score: 0.20606, Params: {'n_estimators': 289}\n",
      "Best Params:\n",
      "(0.21920414309178002, {'n_estimators': 286})\n"
     ]
    }
   ],
   "source": [
    "# # Set the ranges for parameters\n",
    "griddata = {\"n_estimators\":range(280,290,1),\n",
    "            #\"min_samples_split\": range(24,25),\n",
    "            \n",
    "             }\n",
    "\n",
    "# Grid Search for the best parameters\n",
    "GCV = CustomGridCV(X, y, model, gini_normalized, griddata)\n",
    "\n",
    "GCV.GridSearch()\n",
    "\n",
    "print(\"Best Params:\")\n",
    "print(GCV.Best())"
   ]
  },
  {
   "cell_type": "code",
   "execution_count": 66,
   "metadata": {
    "collapsed": false
   },
   "outputs": [
    {
     "data": {
      "text/plain": [
       "RandomForestClassifier(bootstrap=True, class_weight=None, criterion='gini',\n",
       "            max_depth=None, max_features='auto', max_leaf_nodes=None,\n",
       "            min_impurity_split=1e-07, min_samples_leaf=1,\n",
       "            min_samples_split=2, min_weight_fraction_leaf=0.0,\n",
       "            n_estimators=289, n_jobs=1, oob_score=True, random_state=None,\n",
       "            verbose=0, warm_start=False)"
      ]
     },
     "execution_count": 66,
     "metadata": {},
     "output_type": "execute_result"
    }
   ],
   "source": [
    "model"
   ]
  },
  {
   "cell_type": "markdown",
   "metadata": {},
   "source": [
    "# Choose the n_estimator to be 286, next let us tune mex_features"
   ]
  },
  {
   "cell_type": "code",
   "execution_count": 68,
   "metadata": {
    "collapsed": false
   },
   "outputs": [
    {
     "name": "stdout",
     "output_type": "stream",
     "text": [
      "Score: 0.21402, Params: {'n_estimators': 286, 'max_features': 5}\n",
      "Score: 0.18741, Params: {'n_estimators': 286, 'max_features': 10}\n",
      "Score: 0.20210, Params: {'n_estimators': 286, 'max_features': 15}\n",
      "Score: 0.19363, Params: {'n_estimators': 286, 'max_features': 20}\n",
      "Score: 0.18262, Params: {'n_estimators': 286, 'max_features': 25}\n",
      "Score: 0.19148, Params: {'n_estimators': 286, 'max_features': 30}\n",
      "Score: 0.18999, Params: {'n_estimators': 286, 'max_features': 35}\n",
      "Score: 0.17101, Params: {'n_estimators': 286, 'max_features': 40}\n",
      "Score: 0.17317, Params: {'n_estimators': 286, 'max_features': 45}\n",
      "Score: 0.17015, Params: {'n_estimators': 286, 'max_features': 50}\n",
      "Best Params:\n",
      "(0.21401814796623161, {'n_estimators': 286, 'max_features': 5})\n"
     ]
    }
   ],
   "source": [
    "# # Set the ranges for parameters\n",
    "griddata = {\"n_estimators\":range(286,287),\n",
    "            \"max_features\": range(5,51,5)\n",
    "            \n",
    "             }\n",
    "\n",
    "# Grid Search for the best parameters\n",
    "GCV = CustomGridCV(X, y, model, gini_normalized, griddata)\n",
    "\n",
    "GCV.GridSearch()\n",
    "\n",
    "print(\"Best Params:\")\n",
    "print(GCV.Best())"
   ]
  },
  {
   "cell_type": "code",
   "execution_count": null,
   "metadata": {
    "collapsed": true
   },
   "outputs": [],
   "source": [
    "# The result shows that 'max_features'=5 is the best parameter. Let us take a closer look of \n",
    "# interval [5,10] with stepsize=1"
   ]
  },
  {
   "cell_type": "code",
   "execution_count": 69,
   "metadata": {
    "collapsed": false
   },
   "outputs": [
    {
     "name": "stdout",
     "output_type": "stream",
     "text": [
      "Score: 0.17225, Params: {'n_estimators': 286, 'max_features': 5}\n",
      "Score: 0.18013, Params: {'n_estimators': 286, 'max_features': 6}\n",
      "Score: 0.19758, Params: {'n_estimators': 286, 'max_features': 7}\n",
      "Score: 0.19945, Params: {'n_estimators': 286, 'max_features': 8}\n",
      "Score: 0.20840, Params: {'n_estimators': 286, 'max_features': 9}\n",
      "Score: 0.23637, Params: {'n_estimators': 286, 'max_features': 10}\n",
      "Best Params:\n",
      "(0.23636592008631074, {'n_estimators': 286, 'max_features': 10})\n"
     ]
    }
   ],
   "source": [
    "# # Set the ranges for parameters\n",
    "griddata = {\"n_estimators\":range(286,287),\n",
    "            \"max_features\": range(5,11)\n",
    "                       }\n",
    "\n",
    "# Grid Search for the best parameters\n",
    "GCV = CustomGridCV(X, y, model, gini_normalized, griddata)\n",
    "\n",
    "GCV.GridSearch()\n",
    "\n",
    "print(\"Best Params:\")\n",
    "print(GCV.Best())"
   ]
  },
  {
   "cell_type": "code",
   "execution_count": null,
   "metadata": {
    "collapsed": true
   },
   "outputs": [],
   "source": [
    "# Now we determine the value for two paras, namely 'n_estimators'= 286, 'max_features'=10.\n",
    "# Next we will fix those two parameters and tune parameter 'max_depth'"
   ]
  },
  {
   "cell_type": "code",
   "execution_count": 71,
   "metadata": {
    "collapsed": false
   },
   "outputs": [
    {
     "name": "stdout",
     "output_type": "stream",
     "text": [
      "Score: 0.21628, Params: {'n_estimators': 286, 'max_features': 10, 'max_depth': 1}\n",
      "Score: 0.22421, Params: {'n_estimators': 286, 'max_features': 10, 'max_depth': 2}\n",
      "Score: 0.24416, Params: {'n_estimators': 286, 'max_features': 10, 'max_depth': 3}\n",
      "Score: 0.24511, Params: {'n_estimators': 286, 'max_features': 10, 'max_depth': 4}\n",
      "Score: 0.23439, Params: {'n_estimators': 286, 'max_features': 10, 'max_depth': 5}\n",
      "Score: 0.22787, Params: {'n_estimators': 286, 'max_features': 10, 'max_depth': 6}\n",
      "Score: 0.20954, Params: {'n_estimators': 286, 'max_features': 10, 'max_depth': 7}\n",
      "Score: 0.23330, Params: {'n_estimators': 286, 'max_features': 10, 'max_depth': 8}\n",
      "Score: 0.21716, Params: {'n_estimators': 286, 'max_features': 10, 'max_depth': 9}\n",
      "Best Params:\n",
      "(0.24510504862521765, {'n_estimators': 286, 'max_features': 10, 'max_depth': 4})\n"
     ]
    }
   ],
   "source": [
    "griddata = {\"n_estimators\":range(286,287),\n",
    "            \"max_features\": range(10,11),\n",
    "             \"max_depth\": range(1,10)          }\n",
    "\n",
    "# Grid Search for the best parameters\n",
    "GCV = CustomGridCV(X, y, model, gini_normalized, griddata)\n",
    "\n",
    "GCV.GridSearch()\n",
    "\n",
    "print(\"Best Params:\")\n",
    "print(GCV.Best())"
   ]
  },
  {
   "cell_type": "code",
   "execution_count": null,
   "metadata": {
    "collapsed": true
   },
   "outputs": [],
   "source": [
    "# Let us try a different strategy by combining the max_features and max_depth, see what is best \n",
    "# combination for those two paras"
   ]
  },
  {
   "cell_type": "code",
   "execution_count": 72,
   "metadata": {
    "collapsed": false
   },
   "outputs": [
    {
     "name": "stdout",
     "output_type": "stream",
     "text": [
      "Score: 0.19519, Params: {'n_estimators': 286, 'max_features': 5, 'max_depth': 1}\n",
      "Score: 0.21209, Params: {'n_estimators': 286, 'max_features': 6, 'max_depth': 1}\n",
      "Score: 0.23056, Params: {'n_estimators': 286, 'max_features': 7, 'max_depth': 1}\n",
      "Score: 0.16929, Params: {'n_estimators': 286, 'max_features': 8, 'max_depth': 1}\n",
      "Score: 0.21036, Params: {'n_estimators': 286, 'max_features': 9, 'max_depth': 1}\n",
      "Score: 0.21937, Params: {'n_estimators': 286, 'max_features': 10, 'max_depth': 1}\n",
      "Score: 0.23717, Params: {'n_estimators': 286, 'max_features': 5, 'max_depth': 2}\n",
      "Score: 0.24036, Params: {'n_estimators': 286, 'max_features': 6, 'max_depth': 2}\n",
      "Score: 0.21066, Params: {'n_estimators': 286, 'max_features': 7, 'max_depth': 2}\n",
      "Score: 0.21757, Params: {'n_estimators': 286, 'max_features': 8, 'max_depth': 2}\n",
      "Score: 0.23425, Params: {'n_estimators': 286, 'max_features': 9, 'max_depth': 2}\n",
      "Score: 0.22208, Params: {'n_estimators': 286, 'max_features': 10, 'max_depth': 2}\n",
      "Score: 0.22739, Params: {'n_estimators': 286, 'max_features': 5, 'max_depth': 3}\n",
      "Score: 0.22929, Params: {'n_estimators': 286, 'max_features': 6, 'max_depth': 3}\n",
      "Score: 0.22179, Params: {'n_estimators': 286, 'max_features': 7, 'max_depth': 3}\n",
      "Score: 0.25023, Params: {'n_estimators': 286, 'max_features': 8, 'max_depth': 3}\n",
      "Score: 0.24010, Params: {'n_estimators': 286, 'max_features': 9, 'max_depth': 3}\n",
      "Score: 0.24872, Params: {'n_estimators': 286, 'max_features': 10, 'max_depth': 3}\n",
      "Score: 0.24456, Params: {'n_estimators': 286, 'max_features': 5, 'max_depth': 4}\n",
      "Score: 0.23604, Params: {'n_estimators': 286, 'max_features': 6, 'max_depth': 4}\n",
      "Score: 0.24097, Params: {'n_estimators': 286, 'max_features': 7, 'max_depth': 4}\n",
      "Score: 0.23526, Params: {'n_estimators': 286, 'max_features': 8, 'max_depth': 4}\n",
      "Score: 0.23197, Params: {'n_estimators': 286, 'max_features': 9, 'max_depth': 4}\n",
      "Score: 0.22467, Params: {'n_estimators': 286, 'max_features': 10, 'max_depth': 4}\n",
      "Score: 0.25528, Params: {'n_estimators': 286, 'max_features': 5, 'max_depth': 5}\n",
      "Score: 0.22035, Params: {'n_estimators': 286, 'max_features': 6, 'max_depth': 5}\n",
      "Score: 0.23415, Params: {'n_estimators': 286, 'max_features': 7, 'max_depth': 5}\n",
      "Score: 0.25193, Params: {'n_estimators': 286, 'max_features': 8, 'max_depth': 5}\n",
      "Score: 0.22806, Params: {'n_estimators': 286, 'max_features': 9, 'max_depth': 5}\n",
      "Score: 0.22177, Params: {'n_estimators': 286, 'max_features': 10, 'max_depth': 5}\n",
      "Score: 0.22908, Params: {'n_estimators': 286, 'max_features': 5, 'max_depth': 6}\n",
      "Score: 0.24850, Params: {'n_estimators': 286, 'max_features': 6, 'max_depth': 6}\n",
      "Score: 0.24074, Params: {'n_estimators': 286, 'max_features': 7, 'max_depth': 6}\n",
      "Score: 0.24610, Params: {'n_estimators': 286, 'max_features': 8, 'max_depth': 6}\n",
      "Score: 0.23656, Params: {'n_estimators': 286, 'max_features': 9, 'max_depth': 6}\n",
      "Score: 0.23990, Params: {'n_estimators': 286, 'max_features': 10, 'max_depth': 6}\n",
      "Score: 0.23445, Params: {'n_estimators': 286, 'max_features': 5, 'max_depth': 7}\n",
      "Score: 0.22449, Params: {'n_estimators': 286, 'max_features': 6, 'max_depth': 7}\n",
      "Score: 0.24085, Params: {'n_estimators': 286, 'max_features': 7, 'max_depth': 7}\n",
      "Score: 0.23277, Params: {'n_estimators': 286, 'max_features': 8, 'max_depth': 7}\n",
      "Score: 0.21973, Params: {'n_estimators': 286, 'max_features': 9, 'max_depth': 7}\n",
      "Score: 0.20443, Params: {'n_estimators': 286, 'max_features': 10, 'max_depth': 7}\n",
      "Score: 0.22914, Params: {'n_estimators': 286, 'max_features': 5, 'max_depth': 8}\n",
      "Score: 0.21167, Params: {'n_estimators': 286, 'max_features': 6, 'max_depth': 8}\n",
      "Score: 0.23874, Params: {'n_estimators': 286, 'max_features': 7, 'max_depth': 8}\n",
      "Score: 0.23488, Params: {'n_estimators': 286, 'max_features': 8, 'max_depth': 8}\n",
      "Score: 0.22375, Params: {'n_estimators': 286, 'max_features': 9, 'max_depth': 8}\n",
      "Score: 0.22351, Params: {'n_estimators': 286, 'max_features': 10, 'max_depth': 8}\n",
      "Score: 0.22589, Params: {'n_estimators': 286, 'max_features': 5, 'max_depth': 9}\n",
      "Score: 0.23206, Params: {'n_estimators': 286, 'max_features': 6, 'max_depth': 9}\n",
      "Score: 0.23382, Params: {'n_estimators': 286, 'max_features': 7, 'max_depth': 9}\n",
      "Score: 0.20160, Params: {'n_estimators': 286, 'max_features': 8, 'max_depth': 9}\n",
      "Score: 0.21058, Params: {'n_estimators': 286, 'max_features': 9, 'max_depth': 9}\n",
      "Score: 0.24054, Params: {'n_estimators': 286, 'max_features': 10, 'max_depth': 9}\n",
      "Best Params:\n",
      "(0.25528232409370549, {'n_estimators': 286, 'max_features': 5, 'max_depth': 5})\n"
     ]
    }
   ],
   "source": [
    "griddata = {\"n_estimators\":range(286,287),\n",
    "            \"max_features\": range(5,11),\n",
    "             \"max_depth\": range(1,10)          }\n",
    "\n",
    "# Grid Search for the best parameters\n",
    "GCV = CustomGridCV(X, y, model, gini_normalized, griddata)\n",
    "\n",
    "GCV.GridSearch()\n",
    "\n",
    "print(\"Best Params:\")\n",
    "print(GCV.Best())"
   ]
  },
  {
   "cell_type": "code",
   "execution_count": 81,
   "metadata": {
    "collapsed": false
   },
   "outputs": [
    {
     "name": "stdout",
     "output_type": "stream",
     "text": [
      "Score: 0.23110, Params: {'n_estimators': 286, 'max_features': 5, 'max_depth': 5}\n",
      "Score: 0.24468, Params: {'n_estimators': 296, 'max_features': 5, 'max_depth': 5}\n",
      "Score: 0.23173, Params: {'n_estimators': 306, 'max_features': 5, 'max_depth': 5}\n",
      "Score: 0.22825, Params: {'n_estimators': 316, 'max_features': 5, 'max_depth': 5}\n",
      "Score: 0.23545, Params: {'n_estimators': 326, 'max_features': 5, 'max_depth': 5}\n",
      "Score: 0.24500, Params: {'n_estimators': 336, 'max_features': 5, 'max_depth': 5}\n",
      "Score: 0.23071, Params: {'n_estimators': 346, 'max_features': 5, 'max_depth': 5}\n",
      "Score: 0.23453, Params: {'n_estimators': 356, 'max_features': 5, 'max_depth': 5}\n",
      "Score: 0.22720, Params: {'n_estimators': 366, 'max_features': 5, 'max_depth': 5}\n",
      "Score: 0.22569, Params: {'n_estimators': 376, 'max_features': 5, 'max_depth': 5}\n",
      "Score: 0.22809, Params: {'n_estimators': 386, 'max_features': 5, 'max_depth': 5}\n",
      "Score: 0.24332, Params: {'n_estimators': 396, 'max_features': 5, 'max_depth': 5}\n",
      "Best Params:\n",
      "(0.24499699563317828, {'n_estimators': 336, 'max_features': 5, 'max_depth': 5})\n"
     ]
    }
   ],
   "source": [
    "griddata = {\"n_estimators\":range(286,400,10),\n",
    "            \"max_features\": range(5,6),\n",
    "             \"max_depth\": range(5,6)}\n",
    "\n",
    "# Grid Search for the best parameters\n",
    "GCV = CustomGridCV(X, y, model, gini_normalized, griddata)\n",
    "\n",
    "GCV.GridSearch()\n",
    "\n",
    "print(\"Best Params:\")\n",
    "print(GCV.Best())"
   ]
  },
  {
   "cell_type": "code",
   "execution_count": 82,
   "metadata": {
    "collapsed": false
   },
   "outputs": [
    {
     "name": "stdout",
     "output_type": "stream",
     "text": [
      "Score: 0.22999, Params: {'n_estimators': 296, 'max_features': 5, 'max_depth': 5}\n",
      "Score: 0.23417, Params: {'n_estimators': 298, 'max_features': 5, 'max_depth': 5}\n",
      "Score: 0.24705, Params: {'n_estimators': 300, 'max_features': 5, 'max_depth': 5}\n",
      "Score: 0.22964, Params: {'n_estimators': 302, 'max_features': 5, 'max_depth': 5}\n",
      "Score: 0.23070, Params: {'n_estimators': 304, 'max_features': 5, 'max_depth': 5}\n",
      "Score: 0.23742, Params: {'n_estimators': 306, 'max_features': 5, 'max_depth': 5}\n",
      "Score: 0.23281, Params: {'n_estimators': 308, 'max_features': 5, 'max_depth': 5}\n",
      "Score: 0.26397, Params: {'n_estimators': 310, 'max_features': 5, 'max_depth': 5}\n",
      "Score: 0.24213, Params: {'n_estimators': 312, 'max_features': 5, 'max_depth': 5}\n",
      "Score: 0.24508, Params: {'n_estimators': 314, 'max_features': 5, 'max_depth': 5}\n",
      "Score: 0.23657, Params: {'n_estimators': 316, 'max_features': 5, 'max_depth': 5}\n",
      "Score: 0.22714, Params: {'n_estimators': 318, 'max_features': 5, 'max_depth': 5}\n",
      "Score: 0.26344, Params: {'n_estimators': 320, 'max_features': 5, 'max_depth': 5}\n",
      "Score: 0.23739, Params: {'n_estimators': 322, 'max_features': 5, 'max_depth': 5}\n",
      "Score: 0.22561, Params: {'n_estimators': 324, 'max_features': 5, 'max_depth': 5}\n",
      "Score: 0.23117, Params: {'n_estimators': 326, 'max_features': 5, 'max_depth': 5}\n",
      "Score: 0.25202, Params: {'n_estimators': 328, 'max_features': 5, 'max_depth': 5}\n",
      "Best Params:\n",
      "(0.26396770038276535, {'n_estimators': 310, 'max_features': 5, 'max_depth': 5})\n"
     ]
    }
   ],
   "source": [
    "griddata = {\"n_estimators\":range(296,330,2),\n",
    "            \"max_features\": range(5,6),\n",
    "             \"max_depth\": range(5,6)}\n",
    "\n",
    "# Grid Search for the best parameters\n",
    "GCV = CustomGridCV(X, y, model, gini_normalized, griddata)\n",
    "\n",
    "GCV.GridSearch()\n",
    "\n",
    "print(\"Best Params:\")\n",
    "print(GCV.Best())"
   ]
  },
  {
   "cell_type": "markdown",
   "metadata": {},
   "source": [
    "# Best Params:(for first stacking)\n",
    "# (0.2728477914544345, {'n_estimators': 230, 'min_samples_split': 14, 'min_samples_leaf': 20})\n",
    "# valid error for all data: 0.257"
   ]
  },
  {
   "cell_type": "markdown",
   "metadata": {
    "collapsed": true
   },
   "source": [
    "# Use Bayesian Optimization to tune hyper parameter "
   ]
  },
  {
   "cell_type": "code",
   "execution_count": 52,
   "metadata": {
    "collapsed": false
   },
   "outputs": [],
   "source": [
    "from __future__ import print_function\n",
    "from __future__ import division\n",
    "from sklearn.cross_validation import cross_val_score\n",
    "from sklearn.ensemble import RandomForestClassifier as RFC\n",
    "from sklearn.svm import SVC\n",
    "\n",
    "from bayes_opt import BayesianOptimization"
   ]
  },
  {
   "cell_type": "code",
   "execution_count": 53,
   "metadata": {
    "collapsed": false
   },
   "outputs": [],
   "source": [
    "# # Read Data\n",
    "trainpath = \"data/train.csv\"\n",
    "X, y = PrepareData(trainpath,nrows=10000)"
   ]
  },
  {
   "cell_type": "code",
   "execution_count": 114,
   "metadata": {
    "collapsed": false
   },
   "outputs": [
    {
     "data": {
      "text/plain": [
       "(595212, 57)"
      ]
     },
     "execution_count": 114,
     "metadata": {},
     "output_type": "execute_result"
    }
   ],
   "source": [
    "# read all data\n",
    "trainpath = \"data/train.csv\"\n",
    "X_all, y_all = PrepareData(trainpath)\n",
    "X_all.shape"
   ]
  },
  {
   "cell_type": "code",
   "execution_count": 54,
   "metadata": {
    "collapsed": true
   },
   "outputs": [],
   "source": [
    "# The function used in most kernels \n",
    "def gini(actual, pred, cmpcol = 0, sortcol = 1):\n",
    "    assert( len(actual) == len(pred) )\n",
    "    all = np.asarray(np.c_[ actual, pred, np.arange(len(actual)) ], dtype=np.float)\n",
    "    all = all[ np.lexsort((all[:,2], -1*all[:,1])) ]\n",
    "    totalLosses = all[:,0].sum()\n",
    "    giniSum = all[:,0].cumsum().sum() / totalLosses\n",
    " \n",
    "    giniSum -= (len(actual) + 1) / 2.\n",
    "    return giniSum / len(actual)\n",
    " \n",
    "def gini_normalized(a, p):\n",
    "    if p.ndim == 2:#Required for sklearn wrapper\n",
    "        p = p[:,1] #If proba array contains proba for both 0 and 1 classes, just pick class 1\n",
    "    return gini(a, p) / gini(a, a)"
   ]
  },
  {
   "cell_type": "code",
   "execution_count": 55,
   "metadata": {
    "collapsed": true
   },
   "outputs": [],
   "source": [
    "def gini_sklearn(model,X,y):\n",
    "    y_pred=model.predict_proba(X)[:,1]\n",
    "    return gini(y,y_pred)/gini(y,y)    "
   ]
  },
  {
   "cell_type": "code",
   "execution_count": 56,
   "metadata": {
    "collapsed": true
   },
   "outputs": [],
   "source": [
    "# Faster Gini calculation https://www.kaggle.com/tezdhar/faster-gini-calculation\n",
    "from sklearn import metrics\n",
    "#Remove redundant calls\n",
    "def ginic(actual, pred):\n",
    "    actual = np.asarray(actual) #In case, someone passes Series or list\n",
    "    n = len(actual)\n",
    "    a_s = actual[np.argsort(pred)]\n",
    "    a_c = a_s.cumsum()\n",
    "    giniSum = a_c.sum() / a_s.sum() - (n + 1) / 2.0\n",
    "    return giniSum / n\n",
    " \n",
    "def gini_normalizedc(a, p):\n",
    "    if p.ndim == 2:#Required for sklearn wrapper\n",
    "        p = p[:,1] #If proba array contains proba for both 0 and 1 classes, just pick class 1\n",
    "    return ginic(a, p) / ginic(a, a)\n",
    "gini_sklearnf = metrics.make_scorer(gini_normalizedc, True, True)"
   ]
  },
  {
   "cell_type": "code",
   "execution_count": 115,
   "metadata": {
    "collapsed": true
   },
   "outputs": [],
   "source": [
    "def rfccv(n_estimators, max_features, max_depth):\n",
    "    val = cross_val_score(\n",
    "        RFC(n_estimators=int(n_estimators),\n",
    "            #min_samples_split=int(min_samples_split),\n",
    "            max_features=int(max_features),\n",
    "            max_depth=int(max_depth),\n",
    "            random_state=None),\n",
    "        X_all, y_all, scoring=gini_sklearnf, cv=3\n",
    "    ).mean()\n",
    "    return val"
   ]
  },
  {
   "cell_type": "code",
   "execution_count": 118,
   "metadata": {
    "collapsed": false
   },
   "outputs": [
    {
     "name": "stdout",
     "output_type": "stream",
     "text": [
      "\u001b[31mInitialization\u001b[0m\n",
      "\u001b[94m-----------------------------------------------------------------------------\u001b[0m\n",
      " Step |   Time |      Value |   max_depth |   max_features |   n_estimators | \n",
      "    1 | 14m25s | \u001b[35m   0.26116\u001b[0m | \u001b[32m     9.6396\u001b[0m | \u001b[32m        9.5403\u001b[0m | \u001b[32m      300.6631\u001b[0m | \n",
      "    2 | 09m42s |    0.26109 |      9.4689 |         6.6422 |       300.7091 | \n",
      "    3 | 03m36s |    0.24106 |      3.3649 |         6.3630 |       300.2959 | \n",
      "    4 | 13m48s |    0.26088 |      9.7031 |         9.7045 |       300.6985 | \n",
      "    5 | 07m50s |    0.24950 |      5.9687 |         8.3182 |       300.9603 | \n",
      "\u001b[31mBayesian Optimization\u001b[0m\n",
      "\u001b[94m-----------------------------------------------------------------------------\u001b[0m\n",
      " Step |   Time |      Value |   max_depth |   max_features |   n_estimators | \n",
      "    6 | 10m16s | \u001b[35m   0.26151\u001b[0m | \u001b[32m    10.0000\u001b[0m | \u001b[32m        5.0000\u001b[0m | \u001b[32m      300.0000\u001b[0m | \n",
      "    7 | 09m10s |    0.26093 |     10.0000 |         5.0461 |       301.0000 | \n",
      "    8 | 19m02s |    0.26078 |     10.0000 |        10.0000 |       300.0000 | \n",
      "    9 | 08m28s |    0.25986 |     10.0000 |         5.0000 |       301.0000 | \n",
      "   10 | 111m34s |    0.26053 |     10.0000 |         9.9055 |       300.0172 | \n",
      "   11 | 59m55s | \u001b[35m   0.26249\u001b[0m | \u001b[32m    10.0000\u001b[0m | \u001b[32m        9.8573\u001b[0m | \u001b[32m      301.0000\u001b[0m | \n",
      "   12 | 96m57s |    0.26124 |     10.0000 |         5.0000 |       300.0000 | \n",
      "   13 | 54m30s |    0.26068 |      9.9205 |         9.9993 |       300.9538 | \n",
      "   14 | 34m14s |    0.26038 |     10.0000 |         5.0000 |       300.0000 | \n",
      "   15 | 54m24s |    0.26150 |      9.9892 |         9.9767 |       300.0022 | \n",
      "-----------------------------------------------------\n",
      "Final Results\n",
      "RFC: 0.262491\n"
     ]
    }
   ],
   "source": [
    "if __name__ == \"__main__\":\n",
    "    gp_params = {\"alpha\": 1e-5}\n",
    "\n",
    "    rfcBO = BayesianOptimization(\n",
    "        rfccv,\n",
    "        {'n_estimators': (300,301),\n",
    "         'max_features': (5,10),\n",
    "         'max_depth': (1,10)\n",
    "        }\n",
    "    )\n",
    "\n",
    "    rfcBO.maximize(n_iter=10, **gp_params)\n",
    "    print('-' * 53)\n",
    "    print('Final Results')\n",
    "    #print('SVC: %f' % svcBO.res['max']['max_val'])\n",
    "    print('RFC: %f' % rfcBO.res['max']['max_val'])"
   ]
  },
  {
   "cell_type": "code",
   "execution_count": 229,
   "metadata": {
    "collapsed": true
   },
   "outputs": [],
   "source": [
    "def rfccv(n_estimators, max_features, max_depth):\n",
    "    val = cross_val_score(\n",
    "        RFC(n_estimators=int(n_estimators),\n",
    "            #min_samples_split=int(min_samples_split),\n",
    "            max_features=int(max_features),\n",
    "            max_depth=int(max_depth),\n",
    "            random_state=None),\n",
    "        X_all, y_all, scoring=gini_sklearnf, cv=3\n",
    "    ).mean()\n",
    "    return val"
   ]
  },
  {
   "cell_type": "code",
   "execution_count": 230,
   "metadata": {
    "collapsed": false
   },
   "outputs": [
    {
     "name": "stdout",
     "output_type": "stream",
     "text": [
      "\u001b[31mInitialization\u001b[0m\n",
      "\u001b[94m-----------------------------------------------------------------------------\u001b[0m\n",
      " Step |   Time |      Value |   max_depth |   max_features |   n_estimators | \n",
      "    1 | 07m56s | \u001b[35m   0.24957\u001b[0m | \u001b[32m     5.2201\u001b[0m | \u001b[32m        8.4368\u001b[0m | \u001b[32m      334.6676\u001b[0m | \n",
      "    2 | 04m34s |    0.24666 |      4.4439 |         5.1517 |       344.0834 | \n",
      "    3 | 02m36s |    0.21769 |      1.6995 |         9.7795 |       393.7968 | \n",
      "    4 | 01m56s |    0.22195 |      1.6142 |         8.3970 |       316.5555 | \n",
      "    5 | 12m58s | \u001b[35m   0.25910\u001b[0m | \u001b[32m     8.7915\u001b[0m | \u001b[32m        9.0440\u001b[0m | \u001b[32m      329.6296\u001b[0m | \n",
      "\u001b[31mBayesian Optimization\u001b[0m\n",
      "\u001b[94m-----------------------------------------------------------------------------\u001b[0m\n",
      " Step |   Time |      Value |   max_depth |   max_features |   n_estimators | \n",
      "    6 | 08m39s |    0.25906 |     10.0000 |         4.0000 |       366.3779 | \n",
      "    7 | 15m47s | \u001b[35m   0.26179\u001b[0m | \u001b[32m     9.8300\u001b[0m | \u001b[32m        9.9881\u001b[0m | \u001b[32m      357.6886\u001b[0m | \n",
      "    8 | 07m54s |    0.25887 |      9.9747 |         4.1558 |       333.3738 | \n",
      "    9 | 15m27s |    0.26100 |      9.9543 |         9.8087 |       349.8329 | \n",
      "   10 | 15m24s |    0.26145 |      9.9832 |         9.8969 |       348.8444 | \n",
      "   11 | 09m05s |    0.26107 |     10.0000 |         4.0000 |       351.7473 | \n",
      "   12 | 18m14s | \u001b[35m   0.26222\u001b[0m | \u001b[32m    10.0000\u001b[0m | \u001b[32m       10.0000\u001b[0m | \u001b[32m      345.9822\u001b[0m | \n",
      "   13 | 18m34s | \u001b[35m   0.26247\u001b[0m | \u001b[32m    10.0000\u001b[0m | \u001b[32m       10.0000\u001b[0m | \u001b[32m      351.3804\u001b[0m | \n"
     ]
    },
    {
     "name": "stderr",
     "output_type": "stream",
     "text": [
      "/Users/sue/anaconda/lib/python3.6/site-packages/sklearn/gaussian_process/gpr.py:427: UserWarning: fmin_l_bfgs_b terminated abnormally with the  state: {'grad': array([ -1.99866063e-05]), 'task': b'ABNORMAL_TERMINATION_IN_LNSRCH', 'funcalls': 48, 'nit': 5, 'warnflag': 2}\n",
      "  \" state: %s\" % convergence_dict)\n"
     ]
    },
    {
     "name": "stdout",
     "output_type": "stream",
     "text": [
      "   14 | 08m13s |    0.25903 |      9.9827 |         4.2912 |       345.2216 | \n",
      "   15 | 15m22s |    0.26089 |      9.9756 |         9.7922 |       346.6750 | \n",
      "-----------------------------------------------------\n",
      "Final Results\n",
      "RFC: 0.262472\n"
     ]
    }
   ],
   "source": [
    "if __name__ == \"__main__\":\n",
    "    gp_params = {\"alpha\": 1e-5}\n",
    "\n",
    "    rfcBO = BayesianOptimization(\n",
    "        rfccv,\n",
    "        {'n_estimators': (300,400),\n",
    "         'max_features': (4,10),\n",
    "         'max_depth': (1,10)\n",
    "        }\n",
    "    )\n",
    "\n",
    "    rfcBO.maximize(n_iter=10, **gp_params)\n",
    "    print('-' * 53)\n",
    "    print('Final Results')\n",
    "    #print('SVC: %f' % svcBO.res['max']['max_val'])\n",
    "    print('RFC: %f' % rfcBO.res['max']['max_val'])"
   ]
  },
  {
   "cell_type": "code",
   "execution_count": 231,
   "metadata": {
    "collapsed": false
   },
   "outputs": [
    {
     "name": "stdout",
     "output_type": "stream",
     "text": [
      "\u001b[31mInitialization\u001b[0m\n",
      "\u001b[94m-----------------------------------------------------------------------------\u001b[0m\n",
      " Step |   Time |      Value |   max_depth |   max_features |   n_estimators | \n",
      "    1 | 09m37s | \u001b[35m   0.26083\u001b[0m | \u001b[32m    13.3934\u001b[0m | \u001b[32m        4.9125\u001b[0m | \u001b[32m      303.7876\u001b[0m | \n",
      "    2 | 04m16s |    0.24919 |      5.0761 |         4.1720 |       308.8124 | \n",
      "    3 | 18m32s |    0.26075 |     14.9051 |         7.8996 |       361.6014 | \n",
      "    4 | 11m47s |    0.25642 |      7.6274 |         9.3953 |       335.0946 | \n",
      "    5 | 09m26s |    0.24912 |      5.5456 |         9.4059 |       364.8888 | \n",
      "\u001b[31mBayesian Optimization\u001b[0m\n",
      "\u001b[94m-----------------------------------------------------------------------------\u001b[0m\n",
      " Step |   Time |      Value |   max_depth |   max_features |   n_estimators | \n",
      "    6 | 19m11s |    0.25762 |     14.9994 |         9.6752 |       300.4294 | \n",
      "    7 | 13m33s |    0.26002 |     14.9494 |         4.2735 |       399.8826 | \n",
      "    8 | 25m30s |    0.26002 |     14.9868 |         9.8418 |       398.1426 | \n",
      "    9 | 13m29s |    0.25851 |     14.9514 |         4.0014 |       397.5916 | \n",
      "   10 | 10m17s |    0.25835 |     14.9921 |         4.0198 |       302.4394 | \n",
      "   11 | 25m18s |    0.25936 |     14.9985 |         9.9744 |       398.8512 | \n",
      "   12 | 19m08s |    0.25754 |     14.9051 |         9.9366 |       300.7246 | \n",
      "   13 | 13m28s |    0.25988 |     14.9250 |         4.0687 |       399.5518 | \n",
      "   14 | 13m28s |    0.25778 |     14.8913 |         4.2703 |       399.2786 | \n",
      "   15 | 25m17s |    0.26040 |     14.9598 |         9.9448 |       398.8428 | \n",
      "-----------------------------------------------------\n",
      "Final Results\n",
      "RFC: 0.260828\n"
     ]
    }
   ],
   "source": [
    "if __name__ == \"__main__\":\n",
    "    gp_params = {\"alpha\": 1e-5}\n",
    "\n",
    "    rfcBO = BayesianOptimization(\n",
    "        rfccv,\n",
    "        {'n_estimators': (300,400),\n",
    "         'max_features': (4,10),\n",
    "         'max_depth': (5,15)\n",
    "        }\n",
    "    )\n",
    "\n",
    "    rfcBO.maximize(n_iter=10, **gp_params)\n",
    "    print('-' * 53)\n",
    "    print('Final Results')\n",
    "    #print('SVC: %f' % svcBO.res['max']['max_val'])\n",
    "    print('RFC: %f' % rfcBO.res['max']['max_val'])"
   ]
  },
  {
   "cell_type": "code",
   "execution_count": 119,
   "metadata": {
    "collapsed": false
   },
   "outputs": [
    {
     "data": {
      "text/plain": [
       "0.26022228792209029"
      ]
     },
     "execution_count": 119,
     "metadata": {},
     "output_type": "execute_result"
    }
   ],
   "source": [
    "# use default min_samples_split and min_sample_leaf\n",
    "rfccv(300,9,9)"
   ]
  },
  {
   "cell_type": "code",
   "execution_count": null,
   "metadata": {
    "collapsed": true
   },
   "outputs": [],
   "source": []
  },
  {
   "cell_type": "code",
   "execution_count": 106,
   "metadata": {
    "collapsed": false
   },
   "outputs": [],
   "source": [
    "from sklearn.cross_validation import train_test_split, KFold\n",
    "X_train, X_valid, y_train, y_valid = train_test_split(X_all,\n",
    "                                                      y_all, test_size=0.2, random_state=2)"
   ]
  },
  {
   "cell_type": "code",
   "execution_count": 112,
   "metadata": {
    "collapsed": false
   },
   "outputs": [
    {
     "name": "stderr",
     "output_type": "stream",
     "text": [
      "[Parallel(n_jobs=4)]: Done  42 tasks      | elapsed:    5.6s\n",
      "[Parallel(n_jobs=4)]: Done 192 tasks      | elapsed:   28.1s\n",
      "[Parallel(n_jobs=4)]: Done 310 out of 310 | elapsed:   47.3s finished\n"
     ]
    },
    {
     "data": {
      "text/plain": [
       "RandomForestClassifier(bootstrap=True, class_weight=None, criterion='gini',\n",
       "            max_depth=5, max_features=5, max_leaf_nodes=None,\n",
       "            min_impurity_split=1e-07, min_samples_leaf=1,\n",
       "            min_samples_split=2, min_weight_fraction_leaf=0.0,\n",
       "            n_estimators=310, n_jobs=4, oob_score=False, random_state=2,\n",
       "            verbose=True, warm_start=False)"
      ]
     },
     "execution_count": 112,
     "metadata": {},
     "output_type": "execute_result"
    }
   ],
   "source": [
    "# random forest for all data\n",
    "RFC_all = RFC(n_estimators=300,max_features=9,max_depth=10,\n",
    "              random_state=2,verbose=True, n_jobs=4)\n",
    "RFC_all.fit(X_train,y_train)"
   ]
  },
  {
   "cell_type": "code",
   "execution_count": 113,
   "metadata": {
    "collapsed": false
   },
   "outputs": [
    {
     "name": "stderr",
     "output_type": "stream",
     "text": [
      "[Parallel(n_jobs=4)]: Done  42 tasks      | elapsed:    0.1s\n",
      "[Parallel(n_jobs=4)]: Done 192 tasks      | elapsed:    0.4s\n",
      "[Parallel(n_jobs=4)]: Done 310 out of 310 | elapsed:    0.7s finished\n"
     ]
    },
    {
     "data": {
      "text/plain": [
       "0.23881979017591776"
      ]
     },
     "execution_count": 113,
     "metadata": {},
     "output_type": "execute_result"
    }
   ],
   "source": [
    "y_pred = RFC_all.predict_proba(X_valid)\n",
    "gini_normalizedc(y_valid, y_pred)"
   ]
  },
  {
   "cell_type": "code",
   "execution_count": 122,
   "metadata": {
    "collapsed": false
   },
   "outputs": [
    {
     "name": "stderr",
     "output_type": "stream",
     "text": [
      "[Parallel(n_jobs=4)]: Done  42 tasks      | elapsed:   20.8s\n",
      "[Parallel(n_jobs=4)]: Done 192 tasks      | elapsed:  1.7min\n",
      "[Parallel(n_jobs=4)]: Done 300 out of 300 | elapsed:  2.6min finished\n"
     ]
    },
    {
     "data": {
      "text/plain": [
       "RandomForestClassifier(bootstrap=True, class_weight=None, criterion='gini',\n",
       "            max_depth=10, max_features=9, max_leaf_nodes=None,\n",
       "            min_impurity_split=1e-07, min_samples_leaf=1,\n",
       "            min_samples_split=2, min_weight_fraction_leaf=0.0,\n",
       "            n_estimators=300, n_jobs=4, oob_score=False, random_state=2,\n",
       "            verbose=True, warm_start=False)"
      ]
     },
     "execution_count": 122,
     "metadata": {},
     "output_type": "execute_result"
    }
   ],
   "source": [
    "RFC_all = RFC(n_estimators=300,max_features=9,max_depth=10,\n",
    "              random_state=2,verbose=True, n_jobs=4)\n",
    "RFC_all.fit(X_all,y_all)"
   ]
  },
  {
   "cell_type": "markdown",
   "metadata": {},
   "source": [
    "df_test=pd.read_csv(\"data/test.csv\")\n",
    "df_test.shape"
   ]
  },
  {
   "cell_type": "code",
   "execution_count": 124,
   "metadata": {
    "collapsed": false
   },
   "outputs": [],
   "source": [
    "features=list(df_test.columns.values)\n",
    "features.remove('id')"
   ]
  },
  {
   "cell_type": "code",
   "execution_count": 125,
   "metadata": {
    "collapsed": false
   },
   "outputs": [
    {
     "name": "stderr",
     "output_type": "stream",
     "text": [
      "[Parallel(n_jobs=4)]: Done  42 tasks      | elapsed:    1.6s\n",
      "[Parallel(n_jobs=4)]: Done 192 tasks      | elapsed:    7.7s\n",
      "[Parallel(n_jobs=4)]: Done 300 out of 300 | elapsed:   12.5s finished\n"
     ]
    }
   ],
   "source": [
    "y_test = RFC_all.predict_proba(df_test[features])"
   ]
  },
  {
   "cell_type": "code",
   "execution_count": null,
   "metadata": {
    "collapsed": true
   },
   "outputs": [],
   "source": []
  },
  {
   "cell_type": "code",
   "execution_count": null,
   "metadata": {
    "collapsed": true
   },
   "outputs": [],
   "source": []
  },
  {
   "cell_type": "code",
   "execution_count": null,
   "metadata": {
    "collapsed": true
   },
   "outputs": [],
   "source": []
  },
  {
   "cell_type": "markdown",
   "metadata": {},
   "source": [
    "# Feature Importance "
   ]
  },
  {
   "cell_type": "code",
   "execution_count": 139,
   "metadata": {
    "collapsed": false
   },
   "outputs": [
    {
     "name": "stdout",
     "output_type": "stream",
     "text": [
      "Feature ranking:\n",
      "1. ps_car_13 (0.096718)\n",
      "2. ps_reg_03 (0.062556)\n",
      "3. ps_ind_05_cat (0.045555)\n",
      "4. ps_car_14 (0.034721)\n",
      "5. ps_reg_02 (0.033745)\n",
      "6. ps_ind_03 (0.032391)\n",
      "7. ps_calc_10 (0.029963)\n",
      "8. ps_car_12 (0.029509)\n",
      "9. ps_ind_17_bin (0.029138)\n",
      "10. ps_ind_15 (0.028415)\n",
      "11. ps_calc_14 (0.027805)\n",
      "12. ps_calc_11 (0.026405)\n",
      "13. ps_car_01_cat (0.025301)\n",
      "14. ps_car_15 (0.022533)\n",
      "15. ps_calc_13 (0.021781)\n",
      "16. ps_car_11_cat (0.021280)\n",
      "17. ps_calc_07 (0.020769)\n",
      "18. ps_ind_01 (0.019790)\n",
      "19. ps_car_07_cat (0.019774)\n",
      "20. ps_calc_08 (0.019458)\n",
      "21. ps_car_06_cat (0.019148)\n",
      "22. ps_reg_01 (0.018980)\n",
      "23. ps_calc_03 (0.018416)\n",
      "24. ps_calc_02 (0.018066)\n",
      "25. ps_calc_09 (0.017871)\n",
      "26. ps_calc_12 (0.017617)\n",
      "27. ps_calc_01 (0.017335)\n",
      "28. ps_calc_05 (0.017255)\n",
      "29. ps_car_04_cat (0.017106)\n",
      "30. ps_calc_06 (0.016452)\n",
      "31. ps_car_09_cat (0.014454)\n",
      "32. ps_calc_04 (0.014169)\n",
      "33. ps_car_03_cat (0.013912)\n",
      "34. ps_ind_02_cat (0.012736)\n",
      "35. ps_ind_07_bin (0.012343)\n",
      "36. ps_ind_04_cat (0.011305)\n",
      "37. ps_ind_06_bin (0.010445)\n",
      "38. ps_car_11 (0.008632)\n",
      "39. ps_ind_16_bin (0.008309)\n",
      "40. ps_car_05_cat (0.007332)\n",
      "41. ps_car_02_cat (0.006985)\n",
      "42. ps_ind_14 (0.004425)\n",
      "43. ps_calc_18_bin (0.004322)\n",
      "44. ps_car_08_cat (0.004314)\n",
      "45. ps_calc_17_bin (0.004271)\n",
      "46. ps_ind_08_bin (0.004203)\n",
      "47. ps_calc_16_bin (0.004150)\n",
      "48. ps_car_10_cat (0.003978)\n",
      "49. ps_calc_19_bin (0.003930)\n",
      "50. ps_ind_09_bin (0.003636)\n",
      "51. ps_calc_15_bin (0.003580)\n",
      "52. ps_calc_20_bin (0.003196)\n",
      "53. ps_ind_18_bin (0.002965)\n",
      "54. ps_ind_12_bin (0.002185)\n",
      "55. ps_ind_13_bin (0.001602)\n",
      "56. ps_ind_11_bin (0.001440)\n",
      "57. ps_ind_10_bin (0.001329)\n"
     ]
    }
   ],
   "source": [
    "importances = RFC_all.feature_importances_\n",
    "\n",
    "indices = np.argsort(importances)[::-1]\n",
    "\n",
    "# Print the feature ranking\n",
    "print(\"Feature ranking:\")\n",
    "\n",
    "for f in range(len(features)):\n",
    "    print(\"%d. %s (%f)\" % (f + 1, features[indices[f]], importances[indices[f]]))\n",
    "\n"
   ]
  },
  {
   "cell_type": "code",
   "execution_count": 177,
   "metadata": {
    "collapsed": true
   },
   "outputs": [],
   "source": [
    "features_rank= [features[i] for i in indices]"
   ]
  },
  {
   "cell_type": "code",
   "execution_count": 179,
   "metadata": {
    "collapsed": false
   },
   "outputs": [
    {
     "data": {
      "image/png": "[encoded data removed]",
      "text/plain": [
       "<matplotlib.figure.Figure at 0x11e917be0>"
      ]
     },
     "metadata": {},
     "output_type": "display_data"
    }
   ],
   "source": [
    "# Plot the feature importances of the RFC_all\n",
    "import matplotlib.pyplot as plt\n",
    "plt.figure(figsize=(6.4,4.8*3))\n",
    "plt.title(\"Feature importances\")\n",
    "plt.barh(range(len(indices)), importances[indices],\n",
    "       color=\"b\",  align=\"center\")\n",
    "plt.yticks(range(len(indices)), features_rank\n",
    "          )\n",
    "plt.ylim([-1, len(indices)])\n",
    "plt.show()"
   ]
  },
  {
   "cell_type": "code",
   "execution_count": 204,
   "metadata": {
    "collapsed": false
   },
   "outputs": [
    {
     "name": "stdout",
     "output_type": "stream",
     "text": [
      "['ps_car_13', 'ps_reg_03', 'ps_ind_05_cat', 'ps_car_14', 'ps_reg_02', 'ps_ind_03', 'ps_calc_10', 'ps_car_12', 'ps_ind_17_bin', 'ps_ind_15', 'ps_calc_14', 'ps_calc_11', 'ps_car_01_cat', 'ps_car_15', 'ps_calc_13', 'ps_car_11_cat', 'ps_calc_07', 'ps_ind_01', 'ps_car_07_cat', 'ps_calc_08', 'ps_car_06_cat', 'ps_reg_01', 'ps_calc_03', 'ps_calc_02', 'ps_calc_09', 'ps_calc_12', 'ps_calc_01', 'ps_calc_05', 'ps_car_04_cat', 'ps_calc_06', 'ps_car_09_cat', 'ps_calc_04', 'ps_car_03_cat', 'ps_ind_02_cat', 'ps_ind_07_bin', 'ps_ind_04_cat', 'ps_ind_06_bin']\n"
     ]
    }
   ],
   "source": [
    "# Remove the last 3 feaures in the rank\n",
    "features_new = features_rank[:37]\n",
    "print(features_new)"
   ]
  },
  {
   "cell_type": "markdown",
   "metadata": {},
   "source": [
    "# Use new features to reconstruct the random forest"
   ]
  },
  {
   "cell_type": "code",
   "execution_count": 250,
   "metadata": {
    "collapsed": false
   },
   "outputs": [],
   "source": [
    "df_train = pd.read_csv(trainpath, index_col='id')\n"
   ]
  },
  {
   "cell_type": "markdown",
   "metadata": {},
   "source": [
    "# According to https://www.kaggle.com/pnagel/reconstruction-of-ps-reg-03, \n",
    "# ps_reg_03=sqrt{I}/40"
   ]
  },
  {
   "cell_type": "code",
   "execution_count": 271,
   "metadata": {
    "collapsed": false
   },
   "outputs": [
    {
     "data": {
      "text/plain": [
       "id\n",
       "7      825.0\n",
       "9      939.0\n",
       "13    1600.0\n",
       "16     540.0\n",
       "17    1131.0\n",
       "19    8706.0\n",
       "20     610.0\n",
       "22     590.0\n",
       "26    1300.0\n",
       "28    8587.0\n",
       "Name: ps_reg_03, dtype: float64"
      ]
     },
     "execution_count": 271,
     "metadata": {},
     "output_type": "execute_result"
    }
   ],
   "source": [
    "df_train[\"ps_reg_03\"].apply(lambda x:(40*x)**2).head(10)"
   ]
  },
  {
   "cell_type": "code",
   "execution_count": null,
   "metadata": {
    "collapsed": true
   },
   "outputs": [],
   "source": []
  },
  {
   "cell_type": "code",
   "execution_count": 251,
   "metadata": {
    "collapsed": true
   },
   "outputs": [],
   "source": [
    "\n",
    "target_train = df_train['target'].values # nparray"
   ]
  },
  {
   "cell_type": "code",
   "execution_count": 252,
   "metadata": {
    "collapsed": true
   },
   "outputs": [],
   "source": [
    "df_train = df_train.drop('target', axis = 1)"
   ]
  },
  {
   "cell_type": "code",
   "execution_count": 253,
   "metadata": {
    "collapsed": true
   },
   "outputs": [],
   "source": [
    "col_to_drop = df_train.columns[df_train.columns.str.startswith('ps_calc_')]\n",
    "df_train = df_train.drop(col_to_drop, axis=1)  "
   ]
  },
  {
   "cell_type": "code",
   "execution_count": 254,
   "metadata": {
    "collapsed": false
   },
   "outputs": [
    {
     "data": {
      "text/plain": [
       "37"
      ]
     },
     "execution_count": 254,
     "metadata": {},
     "output_type": "execute_result"
    }
   ],
   "source": [
    "len(df_train.columns.values)"
   ]
  },
  {
   "cell_type": "code",
   "execution_count": 255,
   "metadata": {
    "collapsed": true
   },
   "outputs": [],
   "source": [
    "def rfccv(n_estimators, max_features, max_depth):\n",
    "    val = cross_val_score(\n",
    "        RFC(n_estimators=int(n_estimators),\n",
    "            #min_samples_split=int(min_samples_split),\n",
    "            max_features=int(max_features),\n",
    "            max_depth=int(max_depth),\n",
    "            random_state=None),\n",
    "        df_train, target_train, scoring=gini_sklearnf, cv=3\n",
    "    ).mean()\n",
    "    return val"
   ]
  },
  {
   "cell_type": "code",
   "execution_count": 256,
   "metadata": {
    "collapsed": false
   },
   "outputs": [
    {
     "name": "stdout",
     "output_type": "stream",
     "text": [
      "\u001b[31mInitialization\u001b[0m\n",
      "\u001b[94m-----------------------------------------------------------------------------\u001b[0m\n",
      " Step |   Time |      Value |   max_depth |   max_features |   n_estimators | \n",
      "    1 | 06m39s | \u001b[35m   0.24759\u001b[0m | \u001b[32m     5.9008\u001b[0m | \u001b[32m        9.3600\u001b[0m | \u001b[32m      300.0000\u001b[0m | \n",
      "    2 | 10m10s | \u001b[35m   0.26293\u001b[0m | \u001b[32m     9.6546\u001b[0m | \u001b[32m        8.5728\u001b[0m | \u001b[32m      300.0000\u001b[0m | \n",
      "    3 | 03m14s |    0.23872 |      3.0748 |         6.8767 |       300.0000 | \n",
      "    4 | 07m21s |    0.26086 |      8.1039 |         6.1546 |       300.0000 | \n",
      "    5 | 04m16s |    0.24409 |      4.9800 |         7.7668 |       300.0000 | \n",
      "\u001b[31mBayesian Optimization\u001b[0m\n",
      "\u001b[94m-----------------------------------------------------------------------------\u001b[0m\n",
      " Step |   Time |      Value |   max_depth |   max_features |   n_estimators | \n",
      "    6 | 07m33s | \u001b[35m   0.26507\u001b[0m | \u001b[32m    10.0000\u001b[0m | \u001b[32m        5.0000\u001b[0m | \u001b[32m      300.0000\u001b[0m | \n",
      "    7 | 06m47s |    0.26377 |     10.0000 |         5.0000 |       300.0000 | \n",
      "    8 | 12m45s |    0.26358 |     10.0000 |        10.0000 |       300.0000 | \n",
      "    9 | 05m19s |    0.24896 |      5.5900 |         7.8671 |       300.0000 | \u001b[31mWarning: Test point chose at random due to repeated sample.\u001b[0m\n",
      "\n",
      "   10 | 05m31s |    0.25401 |      6.8378 |         6.1733 |       300.0000 | \u001b[31mWarning: Test point chose at random due to repeated sample.\u001b[0m\n",
      "\n"
     ]
    },
    {
     "name": "stderr",
     "output_type": "stream",
     "text": [
      "/Users/sue/anaconda/lib/python3.6/site-packages/sklearn/gaussian_process/gpr.py:427: UserWarning: fmin_l_bfgs_b terminated abnormally with the  state: {'grad': array([ -1.17096492e-05]), 'task': b'ABNORMAL_TERMINATION_IN_LNSRCH', 'funcalls': 48, 'nit': 6, 'warnflag': 2}\n",
      "  \" state: %s\" % convergence_dict)\n"
     ]
    },
    {
     "name": "stdout",
     "output_type": "stream",
     "text": [
      "   11 | 07m25s |    0.26490 |     10.0000 |         5.0000 |       300.0000 | \n",
      "   12 | 03m28s |    0.24591 |      4.6892 |         5.3947 |       300.0000 | \u001b[31mWarning: Test point chose at random due to repeated sample.\u001b[0m\n",
      "\n",
      "   13 | 09m50s |    0.26289 |      9.6269 |         8.9612 |       300.0000 | \u001b[31mWarning: Test point chose at random due to repeated sample.\u001b[0m\n",
      "\n",
      "   14 | 06m57s |    0.26312 |     10.0000 |         5.0000 |       300.0000 | \n",
      "   15 | 07m02s |    0.26345 |     10.0000 |         5.0000 |       300.0000 | \n",
      "-----------------------------------------------------\n",
      "Final Results\n",
      "RFC: 0.265074\n"
     ]
    }
   ],
   "source": [
    "if __name__ == \"__main__\":\n",
    "    gp_params = {\"alpha\": 1e-5}\n",
    "\n",
    "    rfcBO = BayesianOptimization(\n",
    "        rfccv,\n",
    "        {'n_estimators': (300,300),\n",
    "         'max_features': (5,10),\n",
    "         'max_depth': (1,10)\n",
    "        }\n",
    "    )\n",
    "\n",
    "    rfcBO.maximize(n_iter=10, **gp_params)\n",
    "    print('-' * 53)\n",
    "    print('Final Results')\n",
    "    #print('SVC: %f' % svcBO.res['max']['max_val'])\n",
    "    print('RFC: %f' % rfcBO.res['max']['max_val'])"
   ]
  },
  {
   "cell_type": "code",
   "execution_count": 258,
   "metadata": {
    "collapsed": false
   },
   "outputs": [
    {
     "name": "stdout",
     "output_type": "stream",
     "text": [
      "\u001b[31mInitialization\u001b[0m\n",
      "\u001b[94m-----------------------------------------------------------------------------\u001b[0m\n",
      " Step |   Time |      Value |   max_depth |   max_features |   n_estimators | \n",
      "    1 | 07m05s | \u001b[35m   0.26114\u001b[0m | \u001b[32m     8.9479\u001b[0m | \u001b[32m        6.8449\u001b[0m | \u001b[32m      300.0000\u001b[0m | \n",
      "    2 | 06m29s |    0.24840 |      5.0448 |         9.4024 |       300.0000 | \n",
      "    3 | 04m42s |    0.24955 |      5.6957 |         6.0729 |       300.0000 | \n",
      "    4 | 07m02s |    0.25759 |      7.1245 |         7.0481 |       300.0000 | \n",
      "    5 | 05m14s |    0.24923 |      5.9049 |         7.3145 |       300.0000 | \n",
      "\u001b[31mBayesian Optimization\u001b[0m\n",
      "\u001b[94m-----------------------------------------------------------------------------\u001b[0m\n",
      " Step |   Time |      Value |   max_depth |   max_features |   n_estimators | \n",
      "    6 | 11m48s | \u001b[35m   0.26445\u001b[0m | \u001b[32m    10.0000\u001b[0m | \u001b[32m       10.0000\u001b[0m | \u001b[32m      300.0000\u001b[0m | \n",
      "    7 | 06m48s |    0.26356 |     10.0000 |         5.0000 |       300.0000 | \n",
      "    8 | 11m45s |    0.26439 |     10.0000 |        10.0000 |       300.0000 | \n",
      "    9 | 06m48s |    0.26286 |     10.0000 |         5.0000 |       300.0000 | \n",
      "   10 | 12m47s |    0.26409 |     10.0000 |        10.0000 |       300.0000 | \n",
      "   11 | 06m56s |    0.25314 |      6.4691 |         8.3202 |       300.0000 | \u001b[31mWarning: Test point chose at random due to repeated sample.\u001b[0m\n",
      "\n",
      "   12 | 10m43s |    0.26319 |     10.0000 |        10.0000 |       300.0000 | \n",
      "   13 | 06m50s |    0.26323 |     10.0000 |         5.0000 |       300.0000 | \n",
      "   14 | 10m44s |    0.26306 |      9.9993 |         9.9708 |       300.0000 | \n",
      "   15 | 06m49s |    0.26285 |     10.0000 |         5.0000 |       300.0000 | \n",
      "-----------------------------------------------------\n",
      "Final Results\n",
      "RFC: 0.264455\n"
     ]
    }
   ],
   "source": [
    "if __name__ == \"__main__\":\n",
    "    gp_params = {\"alpha\": 1e-5}\n",
    "\n",
    "    rfcBO = BayesianOptimization(\n",
    "        rfccv,\n",
    "        {'n_estimators': (300,300),\n",
    "         'max_features': (5,10),\n",
    "         'max_depth': (5,10)\n",
    "        }\n",
    "    )\n",
    "\n",
    "    rfcBO.maximize(n_iter=10, **gp_params)\n",
    "    print('-' * 53)\n",
    "    print('Final Results')\n",
    "    #print('SVC: %f' % svcBO.res['max']['max_val'])\n",
    "    print('RFC: %f' % rfcBO.res['max']['max_val'])"
   ]
  },
  {
   "cell_type": "code",
   "execution_count": 259,
   "metadata": {
    "collapsed": false
   },
   "outputs": [
    {
     "data": {
      "text/plain": [
       "37"
      ]
     },
     "execution_count": 259,
     "metadata": {},
     "output_type": "execute_result"
    }
   ],
   "source": [
    "len(df_train.columns.values)"
   ]
  },
  {
   "cell_type": "code",
   "execution_count": null,
   "metadata": {
    "collapsed": true
   },
   "outputs": [],
   "source": []
  },
  {
   "cell_type": "code",
   "execution_count": null,
   "metadata": {
    "collapsed": true
   },
   "outputs": [],
   "source": []
  },
  {
   "cell_type": "code",
   "execution_count": 212,
   "metadata": {
    "collapsed": true
   },
   "outputs": [],
   "source": [
    "def rfccv(n_estimators, max_features, max_depth):\n",
    "    val = cross_val_score(\n",
    "        RFC(n_estimators=int(n_estimators),\n",
    "            #min_samples_split=int(min_samples_split),\n",
    "            max_features=int(max_features),\n",
    "            max_depth=int(max_depth),\n",
    "            random_state=None),\n",
    "        X_new, y_new, scoring=gini_sklearnf, cv=3\n",
    "    ).mean()\n",
    "    return val"
   ]
  },
  {
   "cell_type": "code",
   "execution_count": 213,
   "metadata": {
    "collapsed": false
   },
   "outputs": [
    {
     "name": "stdout",
     "output_type": "stream",
     "text": [
      "\u001b[31mInitialization\u001b[0m\n",
      "\u001b[94m-----------------------------------------------------------------------------\u001b[0m\n",
      " Step |   Time |      Value |   max_depth |   max_features |   n_estimators | \n",
      "    1 | 10m13s | \u001b[35m   0.25472\u001b[0m | \u001b[32m     7.7667\u001b[0m | \u001b[32m        8.0283\u001b[0m | \u001b[32m      300.2082\u001b[0m | \n",
      "    2 | 09m55s |    0.25098 |      6.4311 |         9.1895 |       300.6649 | \n",
      "    3 | 37m15s | \u001b[35m   0.26055\u001b[0m | \u001b[32m     9.9548\u001b[0m | \u001b[32m        5.1825\u001b[0m | \u001b[32m      300.1435\u001b[0m | \n",
      "    4 | 05m10s |    0.24857 |      5.0321 |         5.0399 |       300.8072 | \n",
      "    5 | 12m24s |    0.25722 |      8.2831 |         9.4554 |       300.6211 | \n",
      "\u001b[31mBayesian Optimization\u001b[0m\n",
      "\u001b[94m-----------------------------------------------------------------------------\u001b[0m\n",
      " Step |   Time |      Value |   max_depth |   max_features |   n_estimators | \n",
      "    6 | 09m30s |    0.26019 |     10.0000 |         5.0000 |       301.0000 | \n",
      "    7 | 15m05s |    0.25915 |     10.0000 |        10.0000 |       301.0000 | \n",
      "    8 | 08m35s |    0.25892 |      9.9943 |         5.0011 |       300.0380 | \n",
      "    9 | 13m46s |    0.25912 |      9.9688 |         9.9836 |       300.0838 | \n",
      "   10 | 08m38s |    0.25883 |      9.9766 |         5.0085 |       300.8419 | \n",
      "   11 | 13m51s |    0.25900 |      9.9947 |         9.9813 |       300.0016 | \n",
      "   12 | 13m49s |    0.25941 |      9.9890 |         9.9484 |       300.9888 | \n",
      "   13 | 08m36s |    0.25950 |      9.9800 |         5.0007 |       300.0097 | \n",
      "   14 | 08m34s |    0.25944 |      9.9632 |         5.1212 |       300.9545 | \n",
      "   15 | 13m47s |    0.25904 |      9.9956 |         9.9921 |       300.9273 | \n",
      "-----------------------------------------------------\n",
      "Final Results\n",
      "RFC: 0.260551\n"
     ]
    }
   ],
   "source": [
    "if __name__ == \"__main__\":\n",
    "    gp_params = {\"alpha\": 1e-5}\n",
    "\n",
    "    rfcBO = BayesianOptimization(\n",
    "        rfccv,\n",
    "        {'n_estimators': (300,301),\n",
    "         'max_features': (5,10),\n",
    "         'max_depth': (1,10)\n",
    "        }\n",
    "    )\n",
    "\n",
    "    rfcBO.maximize(n_iter=10, **gp_params)\n",
    "    print('-' * 53)\n",
    "    print('Final Results')\n",
    "    #print('SVC: %f' % svcBO.res['max']['max_val'])\n",
    "    print('RFC: %f' % rfcBO.res['max']['max_val'])"
   ]
  },
  {
   "cell_type": "code",
   "execution_count": 215,
   "metadata": {
    "collapsed": true
   },
   "outputs": [],
   "source": [
    "import time"
   ]
  },
  {
   "cell_type": "code",
   "execution_count": 218,
   "metadata": {
    "collapsed": false
   },
   "outputs": [
    {
     "name": "stdout",
     "output_type": "stream",
     "text": [
      "\u001b[31mInitialization\u001b[0m\n",
      "\u001b[94m-----------------------------------------------------------------------------\u001b[0m\n",
      " Step |   Time |      Value |   max_depth |   max_features |   n_estimators | \n",
      "    1 | 02m14s | \u001b[35m   0.23186\u001b[0m | \u001b[32m     2.4382\u001b[0m | \u001b[32m        4.1232\u001b[0m | \u001b[32m      317.3301\u001b[0m | \n",
      "    2 | 05m16s | \u001b[35m   0.23563\u001b[0m | \u001b[32m     3.8048\u001b[0m | \u001b[32m        9.4540\u001b[0m | \u001b[32m      301.9298\u001b[0m | \n",
      "    3 | 06m47s | \u001b[35m   0.25715\u001b[0m | \u001b[32m     8.1660\u001b[0m | \u001b[32m        4.3365\u001b[0m | \u001b[32m      303.5637\u001b[0m | \n",
      "    4 | 08m20s | \u001b[35m   0.25802\u001b[0m | \u001b[32m     8.6578\u001b[0m | \u001b[32m        5.8150\u001b[0m | \u001b[32m      314.2499\u001b[0m | \n",
      "    5 | 02m29s |    0.23436 |      2.6984 |         4.9551 |       342.1482 | \n",
      "\u001b[31mBayesian Optimization\u001b[0m\n",
      "\u001b[94m-----------------------------------------------------------------------------\u001b[0m\n",
      " Step |   Time |      Value |   max_depth |   max_features |   n_estimators | \n",
      "    6 | 17m11s | \u001b[35m   0.25951\u001b[0m | \u001b[32m     9.9216\u001b[0m | \u001b[32m        9.8722\u001b[0m | \u001b[32m      349.7595\u001b[0m | \n",
      "    7 | 08m48s |    0.25902 |     10.0000 |         4.0000 |       348.8200 | \n",
      "    8 | 07m39s |    0.25899 |      9.9345 |         4.0683 |       301.2087 | \n",
      "    9 | 18m28s |    0.25946 |     10.0000 |        10.0000 |       322.1962 | \n",
      "   10 | 08m00s |    0.25786 |     10.0000 |         4.0000 |       327.8549 | \n",
      "   11 | 14m53s |    0.25896 |      9.9455 |         9.8921 |       300.9111 | \n",
      "   12 | 07m36s |    0.25910 |      9.9815 |         4.0831 |       300.7970 | \n",
      "   13 | 08m33s | \u001b[35m   0.25979\u001b[0m | \u001b[32m     9.9940\u001b[0m | \u001b[32m        4.0288\u001b[0m | \u001b[32m      349.2658\u001b[0m | \n",
      "   14 | 16m06s |    0.25856 |      9.9871 |         9.6339 |       349.5751 | \n",
      "   15 | 07m43s |    0.25879 |      9.9913 |         4.0334 |       319.1460 | \n",
      "-----------------------------------------------------\n",
      "Final Results\n",
      "RFC: 0.259787\n",
      "RunningTime=8411.347\n",
      "-----------------------------------------------\n"
     ]
    }
   ],
   "source": [
    "start = time.time()\n",
    "if __name__ == \"__main__\":\n",
    "    gp_params = {\"alpha\": 1e-5}\n",
    "\n",
    "    rfcBO = BayesianOptimization(\n",
    "        rfccv,\n",
    "        {'n_estimators': (300,350),\n",
    "         'max_features': (4,10),\n",
    "         'max_depth': (1,10)\n",
    "        }\n",
    "    )\n",
    "\n",
    "    rfcBO.maximize(n_iter=10, **gp_params)\n",
    "    print('-' * 53)\n",
    "    print('Final Results')\n",
    "    #print('SVC: %f' % svcBO.res['max']['max_val'])\n",
    "    print('RFC: %f' % rfcBO.res['max']['max_val'])\n",
    "end = time.time()\n",
    "runningtime = end - start\n",
    "print('RunningTime={:.3f}'.format(runningtime))\n",
    "print(\"-----------------------------------------------\")"
   ]
  },
  {
   "cell_type": "code",
   "execution_count": null,
   "metadata": {
    "collapsed": true
   },
   "outputs": [],
   "source": []
  },
  {
   "cell_type": "markdown",
   "metadata": {},
   "source": [
    "# Submission"
   ]
  },
  {
   "cell_type": "code",
   "execution_count": 126,
   "metadata": {
    "collapsed": false
   },
   "outputs": [],
   "source": [
    "subm = pd.DataFrame()\n",
    "subm['id'] = df_test['id']\n",
    "subm['target'] = y_test[:,1]"
   ]
  },
  {
   "cell_type": "code",
   "execution_count": 127,
   "metadata": {
    "collapsed": false
   },
   "outputs": [
    {
     "data": {
      "text/html": [
       "<div>\n",
       "<table border=\"1\" class=\"dataframe\">\n",
       "  <thead>\n",
       "    <tr style=\"text-align: right;\">\n",
       "      <th></th>\n",
       "      <th>id</th>\n",
       "      <th>target</th>\n",
       "    </tr>\n",
       "  </thead>\n",
       "  <tbody>\n",
       "    <tr>\n",
       "      <th>0</th>\n",
       "      <td>0</td>\n",
       "      <td>0.026525</td>\n",
       "    </tr>\n",
       "    <tr>\n",
       "      <th>1</th>\n",
       "      <td>1</td>\n",
       "      <td>0.027268</td>\n",
       "    </tr>\n",
       "    <tr>\n",
       "      <th>2</th>\n",
       "      <td>2</td>\n",
       "      <td>0.033937</td>\n",
       "    </tr>\n",
       "    <tr>\n",
       "      <th>3</th>\n",
       "      <td>3</td>\n",
       "      <td>0.019153</td>\n",
       "    </tr>\n",
       "    <tr>\n",
       "      <th>4</th>\n",
       "      <td>4</td>\n",
       "      <td>0.035111</td>\n",
       "    </tr>\n",
       "  </tbody>\n",
       "</table>\n",
       "</div>"
      ],
      "text/plain": [
       "   id    target\n",
       "0   0  0.026525\n",
       "1   1  0.027268\n",
       "2   2  0.033937\n",
       "3   3  0.019153\n",
       "4   4  0.035111"
      ]
     },
     "execution_count": 127,
     "metadata": {},
     "output_type": "execute_result"
    }
   ],
   "source": [
    "subm.head()"
   ]
  },
  {
   "cell_type": "code",
   "execution_count": 128,
   "metadata": {
    "collapsed": false
   },
   "outputs": [],
   "source": [
    "subm.to_csv('rfc_2.csv', index=False)"
   ]
  },
  {
   "cell_type": "code",
   "execution_count": 219,
   "metadata": {
    "collapsed": false
   },
   "outputs": [
    {
     "data": {
      "text/plain": [
       "RandomForestClassifier(bootstrap=True, class_weight=None, criterion='gini',\n",
       "            max_depth=10, max_features=9, max_leaf_nodes=None,\n",
       "            min_impurity_split=1e-07, min_samples_leaf=1,\n",
       "            min_samples_split=2, min_weight_fraction_leaf=0.0,\n",
       "            n_estimators=300, n_jobs=4, oob_score=False, random_state=2,\n",
       "            verbose=True, warm_start=False)"
      ]
     },
     "execution_count": 219,
     "metadata": {},
     "output_type": "execute_result"
    }
   ],
   "source": [
    "RFC_all"
   ]
  },
  {
   "cell_type": "markdown",
   "metadata": {},
   "source": [
    "# For stack"
   ]
  },
  {
   "cell_type": "code",
   "execution_count": 225,
   "metadata": {
    "collapsed": true
   },
   "outputs": [],
   "source": [
    "from sklearn.model_selection import StratifiedKFold, train_test_split\n",
    "class Clf4Stack(object):\n",
    "    def __init__(self, model, n_splits=5):\n",
    "        self.n_splits = n_splits\n",
    "        self.model = model\n",
    "\n",
    "    def fit_predict(self, trainX, trainy, testX):\n",
    "\n",
    "        self.train4stack = np.zeros(len(trainX))\n",
    "        self.test4stack = np.zeros(len(testX))\n",
    "\n",
    "        skf = StratifiedKFold(n_splits=self.n_splits, shuffle=True, random_state=44)\n",
    "\n",
    "        for train_index, test_index in skf.split(trainX, trainy):\n",
    "            X_train, X_test = trainX[train_index], trainX[test_index]\n",
    "            y_train, y_test = trainy[train_index], trainy[test_index]\n",
    "\n",
    "            self.model.fit(X_train, y_train)\n",
    "            y_pred = self.model.predict_proba(X_test)[:,1]\n",
    "            self.train4stack[test_index] = y_pred\n",
    "            self.test4stack += self.model.predict_proba(testX)[:,1]\n",
    "        \n",
    "        self.test4stack /= self.n_splits\n",
    "            \n",
    "    def output(self,train_file_name='train4stack.csv',\n",
    "                    test_file_name='test4stack.csv',\n",
    "                    col_name='F4stack'):\n",
    "\n",
    "        pd.DataFrame({col_name:self.train4stack}).to_csv(train_file_name,index=False) \n",
    "        pd.DataFrame({col_name:self.test4stack}).to_csv(test_file_name,index=False)"
   ]
  },
  {
   "cell_type": "code",
   "execution_count": 223,
   "metadata": {
    "collapsed": false
   },
   "outputs": [
    {
     "data": {
      "text/plain": [
       "RandomForestClassifier(bootstrap=True, class_weight=None, criterion='gini',\n",
       "            max_depth=10, max_features=9, max_leaf_nodes=None,\n",
       "            min_impurity_split=1e-07, min_samples_leaf=1,\n",
       "            min_samples_split=2, min_weight_fraction_leaf=0.0,\n",
       "            n_estimators=300, n_jobs=4, oob_score=False, random_state=2,\n",
       "            verbose=True, warm_start=False)"
      ]
     },
     "execution_count": 223,
     "metadata": {},
     "output_type": "execute_result"
    }
   ],
   "source": [
    "RFC_all"
   ]
  },
  {
   "cell_type": "code",
   "execution_count": 222,
   "metadata": {
    "collapsed": false
   },
   "outputs": [
    {
     "data": {
      "text/plain": [
       "(595212, 57)"
      ]
     },
     "execution_count": 222,
     "metadata": {},
     "output_type": "execute_result"
    }
   ],
   "source": [
    "X_all.shape"
   ]
  },
  {
   "cell_type": "code",
   "execution_count": 226,
   "metadata": {
    "collapsed": false
   },
   "outputs": [
    {
     "name": "stderr",
     "output_type": "stream",
     "text": [
      "[Parallel(n_jobs=4)]: Done  42 tasks      | elapsed:   21.2s\n",
      "[Parallel(n_jobs=4)]: Done 192 tasks      | elapsed:  1.6min\n",
      "[Parallel(n_jobs=4)]: Done 300 out of 300 | elapsed:  2.5min finished\n",
      "[Parallel(n_jobs=4)]: Done  42 tasks      | elapsed:    0.2s\n",
      "[Parallel(n_jobs=4)]: Done 192 tasks      | elapsed:    0.8s\n",
      "[Parallel(n_jobs=4)]: Done 300 out of 300 | elapsed:    1.2s finished\n",
      "[Parallel(n_jobs=4)]: Done  42 tasks      | elapsed:    1.6s\n",
      "[Parallel(n_jobs=4)]: Done 192 tasks      | elapsed:    8.1s\n",
      "[Parallel(n_jobs=4)]: Done 300 out of 300 | elapsed:   12.8s finished\n",
      "[Parallel(n_jobs=4)]: Done  42 tasks      | elapsed:   21.7s\n",
      "[Parallel(n_jobs=4)]: Done 192 tasks      | elapsed:  1.6min\n",
      "[Parallel(n_jobs=4)]: Done 300 out of 300 | elapsed:  2.4min finished\n",
      "[Parallel(n_jobs=4)]: Done  42 tasks      | elapsed:    0.1s\n",
      "[Parallel(n_jobs=4)]: Done 192 tasks      | elapsed:    0.7s\n",
      "[Parallel(n_jobs=4)]: Done 300 out of 300 | elapsed:    1.0s finished\n",
      "[Parallel(n_jobs=4)]: Done  42 tasks      | elapsed:    1.3s\n",
      "[Parallel(n_jobs=4)]: Done 192 tasks      | elapsed:    6.0s\n",
      "[Parallel(n_jobs=4)]: Done 300 out of 300 | elapsed:    9.8s finished\n",
      "[Parallel(n_jobs=4)]: Done  42 tasks      | elapsed:   18.6s\n",
      "[Parallel(n_jobs=4)]: Done 192 tasks      | elapsed:  1.4min\n",
      "[Parallel(n_jobs=4)]: Done 300 out of 300 | elapsed:  2.2min finished\n",
      "[Parallel(n_jobs=4)]: Done  42 tasks      | elapsed:    0.1s\n",
      "[Parallel(n_jobs=4)]: Done 192 tasks      | elapsed:    0.6s\n",
      "[Parallel(n_jobs=4)]: Done 300 out of 300 | elapsed:    1.0s finished\n",
      "[Parallel(n_jobs=4)]: Done  42 tasks      | elapsed:    1.3s\n",
      "[Parallel(n_jobs=4)]: Done 192 tasks      | elapsed:    5.9s\n",
      "[Parallel(n_jobs=4)]: Done 300 out of 300 | elapsed:    9.5s finished\n",
      "[Parallel(n_jobs=4)]: Done  42 tasks      | elapsed:   19.1s\n",
      "[Parallel(n_jobs=4)]: Done 192 tasks      | elapsed:  1.4min\n",
      "[Parallel(n_jobs=4)]: Done 300 out of 300 | elapsed:  2.1min finished\n",
      "[Parallel(n_jobs=4)]: Done  42 tasks      | elapsed:    0.1s\n",
      "[Parallel(n_jobs=4)]: Done 192 tasks      | elapsed:    0.6s\n",
      "[Parallel(n_jobs=4)]: Done 300 out of 300 | elapsed:    1.0s finished\n",
      "[Parallel(n_jobs=4)]: Done  42 tasks      | elapsed:    1.3s\n",
      "[Parallel(n_jobs=4)]: Done 192 tasks      | elapsed:    5.9s\n",
      "[Parallel(n_jobs=4)]: Done 300 out of 300 | elapsed:    9.6s finished\n",
      "[Parallel(n_jobs=4)]: Done  42 tasks      | elapsed:   19.1s\n",
      "[Parallel(n_jobs=4)]: Done 192 tasks      | elapsed:  1.4min\n",
      "[Parallel(n_jobs=4)]: Done 300 out of 300 | elapsed:  2.2min finished\n",
      "[Parallel(n_jobs=4)]: Done  42 tasks      | elapsed:    0.1s\n",
      "[Parallel(n_jobs=4)]: Done 192 tasks      | elapsed:    0.6s\n",
      "[Parallel(n_jobs=4)]: Done 300 out of 300 | elapsed:    1.0s finished\n",
      "[Parallel(n_jobs=4)]: Done  42 tasks      | elapsed:    1.4s\n",
      "[Parallel(n_jobs=4)]: Done 192 tasks      | elapsed:    5.9s\n",
      "[Parallel(n_jobs=4)]: Done 300 out of 300 | elapsed:    9.4s finished\n"
     ]
    }
   ],
   "source": [
    "C4S=Clf4Stack(RFC_all)\n",
    "C4S.fit_predict(X_all, y_all,df_test[features])"
   ]
  },
  {
   "cell_type": "code",
   "execution_count": 227,
   "metadata": {
    "collapsed": true
   },
   "outputs": [],
   "source": [
    "C4S.output()"
   ]
  },
  {
   "cell_type": "code",
   "execution_count": 228,
   "metadata": {
    "collapsed": false
   },
   "outputs": [
    {
     "name": "stdout",
     "output_type": "stream",
     "text": [
      "Base model.ipynb\r\n",
      "Base_model_SVM.ipynb\r\n",
      "Base_model_random_forest.ipynb\r\n",
      "Untitled.ipynb\r\n",
      "bayesian_optimization_sklearn_example.py\r\n",
      "\u001b[34mdata\u001b[m\u001b[m/\r\n",
      "dummies_log.py\r\n",
      "\u001b[34mmubi_20171109\u001b[m\u001b[m/\r\n",
      "\u001b[34mmubi_20171112\u001b[m\u001b[m/\r\n",
      "rfc.csv\r\n",
      "rfc_1.csv\r\n",
      "rfc_2.csv\r\n",
      "test4stack.csv\r\n",
      "train4stack.csv\r\n"
     ]
    }
   ],
   "source": [
    "ls"
   ]
  },
  {
   "cell_type": "code",
   "execution_count": null,
   "metadata": {
    "collapsed": true
   },
   "outputs": [],
   "source": []
  }
 ],
 "metadata": {
  "kernelspec": {
   "display_name": "Python 3",
   "language": "python",
   "name": "python3"
  },
  "language_info": {
   "codemirror_mode": {
    "name": "ipython",
    "version": 3
   },
   "file_extension": ".py",
   "mimetype": "text/x-python",
   "name": "python",
   "nbconvert_exporter": "python",
   "pygments_lexer": "ipython3",
   "version": "3.6.0"
  }
 },
 "nbformat": 4,
 "nbformat_minor": 2
}
