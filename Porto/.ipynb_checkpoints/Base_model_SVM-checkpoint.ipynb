{
 "cells": [
  {
   "cell_type": "code",
   "execution_count": 55,
   "metadata": {
    "collapsed": false
   },
   "outputs": [],
   "source": [
    "import pandas as pd\n",
    "import numpy as np\n",
    "from __future__ import print_function\n",
    "from __future__ import division\n",
    "from sklearn.cross_validation import cross_val_score\n",
    "from sklearn.ensemble import RandomForestClassifier as RFC\n",
    "from sklearn.svm import SVC\n",
    "from bayes_opt import BayesianOptimization\n",
    "from sklearn.preprocessing import OneHotEncoder\n",
    "import scipy"
   ]
  },
  {
   "cell_type": "markdown",
   "metadata": {},
   "source": [
    "# 1.Read data"
   ]
  },
  {
   "cell_type": "code",
   "execution_count": 82,
   "metadata": {
    "collapsed": true
   },
   "outputs": [],
   "source": [
    "def PrepareData(trainpath,nrows=None):\n",
    "    df = pd.read_csv(trainpath, index_col='id',nrows=nrows)\n",
    "\n",
    "    features = list(df.columns)\n",
    "    target = 'target'\n",
    "    features.remove(target)\n",
    "\n",
    "    X = df[features]\n",
    "    y = df[target]\n",
    "    return X, y"
   ]
  },
  {
   "cell_type": "code",
   "execution_count": 83,
   "metadata": {
    "collapsed": false
   },
   "outputs": [],
   "source": [
    "trainpath = \"data/train.csv\"\n",
    "# read all data\n",
    "X_all, y_all = PrepareData(trainpath)"
   ]
  },
  {
   "cell_type": "code",
   "execution_count": 61,
   "metadata": {
    "collapsed": true
   },
   "outputs": [],
   "source": [
    "X,y=PrepareData(c,nrows=10000)"
   ]
  },
  {
   "cell_type": "code",
   "execution_count": 62,
   "metadata": {
    "collapsed": false
   },
   "outputs": [],
   "source": [
    "testpath = \"data/test.csv\"\n",
    "df_test=pd.read_csv(testpath)\n",
    "features=list(df_test.columns.values)\n",
    "features.remove('id')\n",
    "X_test = df_test[features]"
   ]
  },
  {
   "cell_type": "markdown",
   "metadata": {},
   "source": [
    "# 2. Metric"
   ]
  },
  {
   "cell_type": "code",
   "execution_count": 2,
   "metadata": {
    "collapsed": true
   },
   "outputs": [],
   "source": [
    "# Faster Gini calculation https://www.kaggle.com/tezdhar/faster-gini-calculation\n",
    "from sklearn import metrics\n",
    "#Remove redundant calls\n",
    "def ginic(actual, pred):\n",
    "    actual = np.asarray(actual) #In case, someone passes Series or list\n",
    "    n = len(actual)\n",
    "    a_s = actual[np.argsort(pred)]\n",
    "    a_c = a_s.cumsum()\n",
    "    giniSum = a_c.sum() / a_s.sum() - (n + 1) / 2.0\n",
    "    return giniSum / n\n",
    " \n",
    "def gini_normalizedc(a, p):\n",
    "    if p.ndim == 2:#Required for sklearn wrapper\n",
    "        p = p[:,1] #If proba array contains proba for both 0 and 1 classes, just pick class 1\n",
    "    return ginic(a, p) / ginic(a, a)\n",
    "gini_sklearnf = metrics.make_scorer(gini_normalizedc, True, True)"
   ]
  },
  {
   "cell_type": "code",
   "execution_count": 7,
   "metadata": {
    "collapsed": false
   },
   "outputs": [],
   "source": [
    "svc=SVC(probability=True,random_state=0)"
   ]
  },
  {
   "cell_type": "code",
   "execution_count": 9,
   "metadata": {
    "collapsed": false
   },
   "outputs": [],
   "source": [
    "SVC?"
   ]
  },
  {
   "cell_type": "code",
   "execution_count": 19,
   "metadata": {
    "collapsed": true
   },
   "outputs": [],
   "source": [
    "def svccv(C, gamma):\n",
    "    val = cross_val_score(\n",
    "        SVC(probability=True, C=C, gamma=gamma, random_state=0),\n",
    "        X, y, scoring=gini_sklearnf, cv=2\n",
    "    ).mean()\n",
    "\n",
    "    return val"
   ]
  },
  {
   "cell_type": "code",
   "execution_count": 20,
   "metadata": {
    "collapsed": false
   },
   "outputs": [
    {
     "name": "stdout",
     "output_type": "stream",
     "text": [
      "\u001b[31mInitialization\u001b[0m\n",
      "\u001b[94m-----------------------------------------------------\u001b[0m\n",
      " Step |   Time |      Value |         C |     gamma | \n",
      "    1 | 00m27s | \u001b[35m  -0.13436\u001b[0m | \u001b[32m   1.0000\u001b[0m | \u001b[32m   0.1482\u001b[0m | \n",
      "    2 | 00m26s |   -0.13915 |    1.0000 |    0.6830 | \n",
      "    3 | 00m28s |   -0.13778 |    1.0000 |    0.2644 | \n",
      "    4 | 00m27s | \u001b[35m  -0.13071\u001b[0m | \u001b[32m   1.0000\u001b[0m | \u001b[32m   0.6552\u001b[0m | \n",
      "    5 | 00m28s | \u001b[35m  -0.12248\u001b[0m | \u001b[32m   1.0000\u001b[0m | \u001b[32m   0.0990\u001b[0m | \n",
      "\u001b[31mBayesian Optimization\u001b[0m\n",
      "\u001b[94m-----------------------------------------------------\u001b[0m\n",
      " Step |   Time |      Value |         C |     gamma | \n",
      "    6 | 00m17s | \u001b[35m   0.07359\u001b[0m | \u001b[32m   1.0000\u001b[0m | \u001b[32m   0.0175\u001b[0m | \n",
      "    7 | 00m26s |   -0.06145 |    1.0000 |    1.0000 | \n",
      "    8 | 00m28s |   -0.13473 |    1.0000 |    0.4606 | \n",
      "    9 | 00m27s |   -0.06778 |    1.0000 |    0.8883 | \n",
      "   10 | 00m27s |    0.00414 |    1.0000 |    0.0515 | \u001b[31mWarning: Test point chose at random due to repeated sample.\u001b[0m\n",
      "\n",
      "   11 | 00m30s |   -0.13593 |    1.0000 |    0.2141 | \u001b[31mWarning: Test point chose at random due to repeated sample.\u001b[0m\n",
      "\n",
      "   12 | 00m29s |   -0.13687 |    1.0000 |    0.1586 | \u001b[31mWarning: Test point chose at random due to repeated sample.\u001b[0m\n",
      "\n",
      "   13 | 00m15s |    0.07359 |    1.0000 |    0.0175 | \n",
      "   14 | 00m28s |   -0.05608 |    1.0000 |    0.9354 | \u001b[31mWarning: Test point chose at random due to repeated sample.\u001b[0m\n",
      "\n",
      "   15 | 00m30s |   -0.13897 |    1.0000 |    0.2989 | \u001b[31mWarning: Test point chose at random due to repeated sample.\u001b[0m\n",
      "\n",
      "-----------------------------------------------------\n",
      "-----------------------------------------------------\n",
      "Final Results\n",
      "SVC: 0.073594\n"
     ]
    }
   ],
   "source": [
    "if __name__ == \"__main__\":\n",
    "    gp_params = {\"alpha\": 1e-5}\n",
    "\n",
    "    svcBO = BayesianOptimization(svccv,\n",
    "        {'C': (1, 100), 'gamma': (1/57, 1)})\n",
    "   \n",
    "    svcBO.maximize(n_iter=10, **gp_params)\n",
    "    print('-' * 53)\n",
    "    print('-' * 53)\n",
    "    print('Final Results')\n",
    "    print('SVC: %f' % svcBO.res['max']['max_val'])"
   ]
  },
  {
   "cell_type": "code",
   "execution_count": 26,
   "metadata": {
    "collapsed": false
   },
   "outputs": [
    {
     "name": "stdout",
     "output_type": "stream",
     "text": [
      "\u001b[31mInitialization\u001b[0m\n",
      "\u001b[94m-----------------------------------------------------\u001b[0m\n",
      " Step |   Time |      Value |         C |     gamma | \n",
      "    1 | 00m11s | \u001b[35m  -0.00784\u001b[0m | \u001b[32m  35.2188\u001b[0m | \u001b[32m   0.0175\u001b[0m | \n",
      "    2 | 00m11s |   -0.00784 |   11.7196 |    0.0175 | \n",
      "    3 | 00m11s |   -0.00817 |    7.7096 |    0.0175 | \n",
      "    4 | 00m11s |   -0.00784 |   32.0756 |    0.0175 | \n",
      "    5 | 00m11s |   -0.00784 |   81.4219 |    0.0175 | \n",
      "\u001b[31mBayesian Optimization\u001b[0m\n",
      "\u001b[94m-----------------------------------------------------\u001b[0m\n",
      " Step |   Time |      Value |         C |     gamma | \n",
      "    6 | 00m16s |   -0.00784 |   99.9999 |    0.0175 | \n",
      "    7 | 00m13s |   -0.00784 |   99.9993 |    0.0175 | \n",
      "    8 | 00m15s | \u001b[35m   0.07359\u001b[0m | \u001b[32m   1.0014\u001b[0m | \u001b[32m   0.0175\u001b[0m | \n",
      "    9 | 00m14s |   -0.00784 |   60.6520 |    0.0175 | \n",
      "   10 | 00m15s |    0.07359 |    1.0000 |    0.0175 | \n",
      "   11 | 00m15s |    0.07359 |    1.0000 |    0.0175 | \n",
      "   12 | 00m14s |   -0.00784 |   81.4496 |    0.0175 | \u001b[31mWarning: Test point chose at random due to repeated sample.\u001b[0m\n",
      "\n",
      "   13 | 00m15s |   -0.00784 |   45.4881 |    0.0175 | \u001b[31mWarning: Test point chose at random due to repeated sample.\u001b[0m\n",
      "\n",
      "   14 | 00m20s |   -0.00784 |   33.0179 |    0.0175 | \u001b[31mWarning: Test point chose at random due to repeated sample.\u001b[0m\n",
      "\n"
     ]
    },
    {
     "name": "stderr",
     "output_type": "stream",
     "text": [
      "/Users/sue/anaconda/lib/python3.6/site-packages/sklearn/gaussian_process/gpr.py:427: UserWarning: fmin_l_bfgs_b terminated abnormally with the  state: {'grad': array([ -1.01101855e-05]), 'task': b'ABNORMAL_TERMINATION_IN_LNSRCH', 'funcalls': 69, 'nit': 11, 'warnflag': 2}\n",
      "  \" state: %s\" % convergence_dict)\n"
     ]
    },
    {
     "name": "stdout",
     "output_type": "stream",
     "text": [
      "   15 | 00m15s |   -0.00784 |   46.3246 |    0.0175 | \u001b[31mWarning: Test point chose at random due to repeated sample.\u001b[0m\n",
      "\n",
      "-----------------------------------------------------\n",
      "-----------------------------------------------------\n",
      "Final Results\n",
      "SVC: 0.073594\n"
     ]
    }
   ],
   "source": [
    "if __name__ == \"__main__\":\n",
    "    gp_params = {\"alpha\": 1e-5}\n",
    "\n",
    "    svcBO = BayesianOptimization(svccv,\n",
    "        {'C': (1, 100), 'gamma': (1/57, 1/57)})\n",
    "   \n",
    "    svcBO.maximize(n_iter=10, **gp_params)\n",
    "    print('-' * 53)\n",
    "    print('-' * 53)\n",
    "    print('Final Results')\n",
    "    print('SVC: %f' % svcBO.res['max']['max_val'])"
   ]
  },
  {
   "cell_type": "code",
   "execution_count": 48,
   "metadata": {
    "collapsed": false
   },
   "outputs": [
    {
     "name": "stdout",
     "output_type": "stream",
     "text": [
      "Data with target 1: 3.79%\n"
     ]
    }
   ],
   "source": [
    "print(\"Data with target 1: \"+\"{:.2%}\".format(sum(y)/len(y)))"
   ]
  },
  {
   "cell_type": "code",
   "execution_count": 49,
   "metadata": {
    "collapsed": false
   },
   "outputs": [
    {
     "name": "stdout",
     "output_type": "stream",
     "text": [
      "\u001b[31mInitialization\u001b[0m\n",
      "\u001b[94m-----------------------------------------------------\u001b[0m\n",
      " Step |   Time |      Value |         C |     gamma | \n",
      "    1 | 00m13s | \u001b[35m   0.07369\u001b[0m | \u001b[32m   0.5513\u001b[0m | \u001b[32m   0.0175\u001b[0m | \n",
      "    2 | 00m14s |    0.07363 |    0.6632 |    0.0175 | \n",
      "    3 | 00m14s |    0.07352 |    0.4946 |    0.0175 | \n",
      "    4 | 00m15s |    0.07353 |    0.6602 |    0.0175 | \n",
      "    5 | 00m15s |    0.07351 |    0.4183 |    0.0175 | \n",
      "\u001b[31mBayesian Optimization\u001b[0m\n",
      "\u001b[94m-----------------------------------------------------\u001b[0m\n",
      " Step |   Time |      Value |         C |     gamma | \n",
      "    6 | 00m09s |    0.07259 |    0.0108 |    0.0175 | \n",
      "    7 | 00m14s |    0.07347 |    0.9780 |    0.0175 | \n",
      "    8 | 00m12s | \u001b[35m   0.07404\u001b[0m | \u001b[32m   0.0653\u001b[0m | \u001b[32m   0.0175\u001b[0m | \n",
      "    9 | 00m14s |    0.07356 |    0.9928 |    0.0175 | \n",
      "   10 | 00m13s |    0.07358 |    0.9390 |    0.0175 | \n",
      "   11 | 00m07s |    0.06775 |    0.0092 |    0.0175 | \n",
      "   12 | 00m14s |    0.07358 |    0.9875 |    0.0175 | \n",
      "   13 | 00m14s |    0.07356 |    0.9937 |    0.0175 | \n",
      "   14 | 00m16s |    0.07352 |    0.8209 |    0.0175 | \n",
      "   15 | 00m15s |    0.07349 |    0.9745 |    0.0175 | \n",
      "-----------------------------------------------------\n",
      "-----------------------------------------------------\n",
      "Final Results\n",
      "SVC: 0.074042\n"
     ]
    }
   ],
   "source": [
    "if __name__ == \"__main__\":\n",
    "    gp_params = {\"alpha\": 1e-5}\n",
    "\n",
    "    svcBO = BayesianOptimization(svccv,\n",
    "        {'C': (0.001, 1), 'gamma': (1/57, 1/57)})\n",
    "   \n",
    "    svcBO.maximize(n_iter=10, **gp_params)\n",
    "    print('-' * 53)\n",
    "    print('-' * 53)\n",
    "    print('Final Results')\n",
    "    print('SVC: %f' % svcBO.res['max']['max_val'])"
   ]
  },
  {
   "cell_type": "markdown",
   "metadata": {},
   "source": [
    "# Try linear kernel "
   ]
  },
  {
   "cell_type": "code",
   "execution_count": 53,
   "metadata": {
    "collapsed": true
   },
   "outputs": [],
   "source": [
    "def svccv(C, gamma):\n",
    "    val = cross_val_score(\n",
    "        SVC(probability=True, kernel='linear', C=C, gamma=gamma, random_state=0),\n",
    "        X, y, scoring=gini_sklearnf, cv=2\n",
    "    ).mean()\n",
    "\n",
    "    return val"
   ]
  },
  {
   "cell_type": "code",
   "execution_count": null,
   "metadata": {
    "collapsed": true
   },
   "outputs": [],
   "source": [
    "import time"
   ]
  },
  {
   "cell_type": "code",
   "execution_count": null,
   "metadata": {
    "collapsed": false
   },
   "outputs": [
    {
     "name": "stdout",
     "output_type": "stream",
     "text": [
      "\u001b[31mInitialization\u001b[0m\n",
      "\u001b[94m-----------------------------------------------------\u001b[0m\n",
      " Step |   Time |      Value |         C |     gamma | \n",
      "    1 | 13m27s | \u001b[35m   0.07418\u001b[0m | \u001b[32m   0.9149\u001b[0m | \u001b[32m   0.0175\u001b[0m | \n",
      "    2 | 06m59s | \u001b[35m   0.07778\u001b[0m | \u001b[32m   0.2211\u001b[0m | \u001b[32m   0.0175\u001b[0m | \n",
      "    3 | 12m31s |    0.07305 |    0.6579 |    0.0175 | \n",
      "    4 | 07m38s | \u001b[35m   0.07837\u001b[0m | \u001b[32m   0.2361\u001b[0m | \u001b[32m   0.0175\u001b[0m | \n",
      "    5 | 07m17s |    0.06874 |    0.2254 |    0.0175 | \n",
      "\u001b[31mBayesian Optimization\u001b[0m\n",
      "\u001b[94m-----------------------------------------------------\u001b[0m\n",
      " Step |   Time |      Value |         C |     gamma | \n",
      "    6 | 00m09s |   -0.05187 |    0.0122 |    0.0175 | \n"
     ]
    }
   ],
   "source": [
    "start = time.time()\n",
    "if __name__ == \"__main__\":\n",
    "    gp_params = {\"alpha\": 1e-5}\n",
    "\n",
    "    svcBO = BayesianOptimization(svccv,\n",
    "        {'C': (0.001, 1), 'gamma': (1/57, 1/57)})\n",
    "   \n",
    "    svcBO.maximize(n_iter=10, **gp_params)\n",
    "    print('-' * 53)\n",
    "    print('-' * 53)\n",
    "    print('Final Results')\n",
    "    print('SVC: %f' % svcBO.res['max']['max_val'])\n",
    "end = time.time()\n",
    "runningtime = end - start\n",
    "print('RunningTime={:.3f}'.format(runningtime))\n",
    "print(\"-----------------------------------------------\")"
   ]
  },
  {
   "cell_type": "code",
   "execution_count": 104,
   "metadata": {
    "collapsed": false
   },
   "outputs": [
    {
     "data": {
      "text/plain": [
       "pandas.core.frame.DataFrame"
      ]
     },
     "execution_count": 104,
     "metadata": {},
     "output_type": "execute_result"
    }
   ],
   "source": [
    "type(X_all)"
   ]
  },
  {
   "cell_type": "markdown",
   "metadata": {},
   "source": [
    "# Use dummies for categorical attributes and log transformation for all attributes, from Tian"
   ]
  },
  {
   "cell_type": "code",
   "execution_count": 106,
   "metadata": {
    "collapsed": false
   },
   "outputs": [
    {
     "data": {
      "text/html": [
       "<div>\n",
       "<table border=\"1\" class=\"dataframe\">\n",
       "  <thead>\n",
       "    <tr style=\"text-align: right;\">\n",
       "      <th></th>\n",
       "      <th>ps_ind_01</th>\n",
       "      <th>ps_ind_02_cat</th>\n",
       "      <th>ps_ind_03</th>\n",
       "      <th>ps_ind_04_cat</th>\n",
       "      <th>ps_ind_05_cat</th>\n",
       "      <th>ps_ind_06_bin</th>\n",
       "      <th>ps_ind_07_bin</th>\n",
       "      <th>ps_ind_08_bin</th>\n",
       "      <th>ps_ind_09_bin</th>\n",
       "      <th>ps_ind_10_bin</th>\n",
       "      <th>...</th>\n",
       "      <th>ps_calc_11</th>\n",
       "      <th>ps_calc_12</th>\n",
       "      <th>ps_calc_13</th>\n",
       "      <th>ps_calc_14</th>\n",
       "      <th>ps_calc_15_bin</th>\n",
       "      <th>ps_calc_16_bin</th>\n",
       "      <th>ps_calc_17_bin</th>\n",
       "      <th>ps_calc_18_bin</th>\n",
       "      <th>ps_calc_19_bin</th>\n",
       "      <th>ps_calc_20_bin</th>\n",
       "    </tr>\n",
       "    <tr>\n",
       "      <th>id</th>\n",
       "      <th></th>\n",
       "      <th></th>\n",
       "      <th></th>\n",
       "      <th></th>\n",
       "      <th></th>\n",
       "      <th></th>\n",
       "      <th></th>\n",
       "      <th></th>\n",
       "      <th></th>\n",
       "      <th></th>\n",
       "      <th></th>\n",
       "      <th></th>\n",
       "      <th></th>\n",
       "      <th></th>\n",
       "      <th></th>\n",
       "      <th></th>\n",
       "      <th></th>\n",
       "      <th></th>\n",
       "      <th></th>\n",
       "      <th></th>\n",
       "      <th></th>\n",
       "    </tr>\n",
       "  </thead>\n",
       "  <tbody>\n",
       "    <tr>\n",
       "      <th>7</th>\n",
       "      <td>2</td>\n",
       "      <td>2</td>\n",
       "      <td>5</td>\n",
       "      <td>1</td>\n",
       "      <td>0</td>\n",
       "      <td>0</td>\n",
       "      <td>1</td>\n",
       "      <td>0</td>\n",
       "      <td>0</td>\n",
       "      <td>0</td>\n",
       "      <td>...</td>\n",
       "      <td>9</td>\n",
       "      <td>1</td>\n",
       "      <td>5</td>\n",
       "      <td>8</td>\n",
       "      <td>0</td>\n",
       "      <td>1</td>\n",
       "      <td>1</td>\n",
       "      <td>0</td>\n",
       "      <td>0</td>\n",
       "      <td>1</td>\n",
       "    </tr>\n",
       "    <tr>\n",
       "      <th>9</th>\n",
       "      <td>1</td>\n",
       "      <td>1</td>\n",
       "      <td>7</td>\n",
       "      <td>0</td>\n",
       "      <td>0</td>\n",
       "      <td>0</td>\n",
       "      <td>0</td>\n",
       "      <td>1</td>\n",
       "      <td>0</td>\n",
       "      <td>0</td>\n",
       "      <td>...</td>\n",
       "      <td>3</td>\n",
       "      <td>1</td>\n",
       "      <td>1</td>\n",
       "      <td>9</td>\n",
       "      <td>0</td>\n",
       "      <td>1</td>\n",
       "      <td>1</td>\n",
       "      <td>0</td>\n",
       "      <td>1</td>\n",
       "      <td>0</td>\n",
       "    </tr>\n",
       "    <tr>\n",
       "      <th>13</th>\n",
       "      <td>5</td>\n",
       "      <td>4</td>\n",
       "      <td>9</td>\n",
       "      <td>1</td>\n",
       "      <td>0</td>\n",
       "      <td>0</td>\n",
       "      <td>0</td>\n",
       "      <td>1</td>\n",
       "      <td>0</td>\n",
       "      <td>0</td>\n",
       "      <td>...</td>\n",
       "      <td>4</td>\n",
       "      <td>2</td>\n",
       "      <td>7</td>\n",
       "      <td>7</td>\n",
       "      <td>0</td>\n",
       "      <td>1</td>\n",
       "      <td>1</td>\n",
       "      <td>0</td>\n",
       "      <td>1</td>\n",
       "      <td>0</td>\n",
       "    </tr>\n",
       "    <tr>\n",
       "      <th>16</th>\n",
       "      <td>0</td>\n",
       "      <td>1</td>\n",
       "      <td>2</td>\n",
       "      <td>0</td>\n",
       "      <td>0</td>\n",
       "      <td>1</td>\n",
       "      <td>0</td>\n",
       "      <td>0</td>\n",
       "      <td>0</td>\n",
       "      <td>0</td>\n",
       "      <td>...</td>\n",
       "      <td>2</td>\n",
       "      <td>2</td>\n",
       "      <td>4</td>\n",
       "      <td>9</td>\n",
       "      <td>0</td>\n",
       "      <td>0</td>\n",
       "      <td>0</td>\n",
       "      <td>0</td>\n",
       "      <td>0</td>\n",
       "      <td>0</td>\n",
       "    </tr>\n",
       "    <tr>\n",
       "      <th>17</th>\n",
       "      <td>0</td>\n",
       "      <td>2</td>\n",
       "      <td>0</td>\n",
       "      <td>1</td>\n",
       "      <td>0</td>\n",
       "      <td>1</td>\n",
       "      <td>0</td>\n",
       "      <td>0</td>\n",
       "      <td>0</td>\n",
       "      <td>0</td>\n",
       "      <td>...</td>\n",
       "      <td>3</td>\n",
       "      <td>1</td>\n",
       "      <td>1</td>\n",
       "      <td>3</td>\n",
       "      <td>0</td>\n",
       "      <td>0</td>\n",
       "      <td>0</td>\n",
       "      <td>1</td>\n",
       "      <td>1</td>\n",
       "      <td>0</td>\n",
       "    </tr>\n",
       "  </tbody>\n",
       "</table>\n",
       "<p>5 rows × 57 columns</p>\n",
       "</div>"
      ],
      "text/plain": [
       "    ps_ind_01  ps_ind_02_cat  ps_ind_03  ps_ind_04_cat  ps_ind_05_cat  \\\n",
       "id                                                                      \n",
       "7           2              2          5              1              0   \n",
       "9           1              1          7              0              0   \n",
       "13          5              4          9              1              0   \n",
       "16          0              1          2              0              0   \n",
       "17          0              2          0              1              0   \n",
       "\n",
       "    ps_ind_06_bin  ps_ind_07_bin  ps_ind_08_bin  ps_ind_09_bin  ps_ind_10_bin  \\\n",
       "id                                                                              \n",
       "7               0              1              0              0              0   \n",
       "9               0              0              1              0              0   \n",
       "13              0              0              1              0              0   \n",
       "16              1              0              0              0              0   \n",
       "17              1              0              0              0              0   \n",
       "\n",
       "         ...        ps_calc_11  ps_calc_12  ps_calc_13  ps_calc_14  \\\n",
       "id       ...                                                         \n",
       "7        ...                 9           1           5           8   \n",
       "9        ...                 3           1           1           9   \n",
       "13       ...                 4           2           7           7   \n",
       "16       ...                 2           2           4           9   \n",
       "17       ...                 3           1           1           3   \n",
       "\n",
       "    ps_calc_15_bin  ps_calc_16_bin  ps_calc_17_bin  ps_calc_18_bin  \\\n",
       "id                                                                   \n",
       "7                0               1               1               0   \n",
       "9                0               1               1               0   \n",
       "13               0               1               1               0   \n",
       "16               0               0               0               0   \n",
       "17               0               0               0               1   \n",
       "\n",
       "    ps_calc_19_bin  ps_calc_20_bin  \n",
       "id                                  \n",
       "7                0               1  \n",
       "9                1               0  \n",
       "13               1               0  \n",
       "16               0               0  \n",
       "17               1               0  \n",
       "\n",
       "[5 rows x 57 columns]"
      ]
     },
     "execution_count": 106,
     "metadata": {},
     "output_type": "execute_result"
    }
   ],
   "source": [
    "X_all.head()"
   ]
  },
  {
   "cell_type": "code",
   "execution_count": 63,
   "metadata": {
    "collapsed": false
   },
   "outputs": [],
   "source": [
    "replace_dict = {-1:0}\n",
    "X_all_copy=X_all.copy()\n",
    "X_train = X_all_copy.replace(replace_dict)\n",
    "columns = list(X_train.columns)\n",
    "#find categorical attributes and numerical attributes\n",
    "cat_attribs = []\n",
    "num_attribs = []\n",
    "for attribs in columns:\n",
    "    if 'cat' in attribs:\n",
    "        cat_attribs.append(attribs)\n",
    "    else: num_attribs.append(attribs)\n",
    "#onehotencoder for categorical attributes\n",
    "train_cat = OneHotEncoder().fit_transform(X_train[cat_attribs])\n",
    "train_num = np.array(X_train[num_attribs])\n",
    "X_train_concat = scipy.sparse.hstack((train_cat,train_num)).A\n",
    "\n",
    "#np.log1p for all attributes\n",
    "X_train_log = np.log1p(X_train_concat)\n",
    "\n",
    "\n",
    "#feature engineering for X_test, return X_test_log\n",
    "\n",
    "X_test = X_test.replace(replace_dict)\n",
    "\n",
    "test_cat = OneHotEncoder().fit(X_train[cat_attribs]).transform(X_test[cat_attribs])\n",
    "test_num = np.array(X_test[num_attribs])\n",
    "X_test_concat = scipy.sparse.hstack((test_cat,test_num)).A\n",
    "X_test_log = np.log1p(X_test_concat)"
   ]
  },
  {
   "cell_type": "code",
   "execution_count": 153,
   "metadata": {
    "collapsed": true
   },
   "outputs": [],
   "source": [
    "# scale the data first\n",
    "from sklearn.preprocessing import StandardScaler\n",
    "scaler = StandardScaler()\n",
    "X_train_log = scaler.fit_transform(X_train_log)\n",
    "X_test_log = scaler.transform(X_test_log)"
   ]
  },
  {
   "cell_type": "code",
   "execution_count": 154,
   "metadata": {
    "collapsed": true
   },
   "outputs": [],
   "source": [
    "def svccv(C, gamma):\n",
    "    val = cross_val_score(\n",
    "        SVC(probability=True, C=C, gamma=gamma, random_state=0),\n",
    "        X_train_log[:10000], y_all[:10000], scoring=gini_sklearnf, cv=2\n",
    "    ).mean()\n",
    "\n",
    "    return val"
   ]
  },
  {
   "cell_type": "code",
   "execution_count": 70,
   "metadata": {
    "collapsed": false
   },
   "outputs": [
    {
     "name": "stdout",
     "output_type": "stream",
     "text": [
      "\u001b[31mInitialization\u001b[0m\n",
      "\u001b[94m-----------------------------------------------------\u001b[0m\n",
      " Step |   Time |      Value |         C |     gamma | \n",
      "    1 | 00m19s | \u001b[35m   0.10431\u001b[0m | \u001b[32m   0.7283\u001b[0m | \u001b[32m   0.0175\u001b[0m | \n",
      "    2 | 00m17s |    0.09316 |    0.1713 |    0.0175 | \n",
      "    3 | 00m19s | \u001b[35m   0.10665\u001b[0m | \u001b[32m   0.5510\u001b[0m | \u001b[32m   0.0175\u001b[0m | \n",
      "    4 | 00m18s |    0.10229 |    0.5158 |    0.0175 | \n",
      "    5 | 00m18s |    0.10345 |    0.4510 |    0.0175 | \n",
      "\u001b[31mBayesian Optimization\u001b[0m\n",
      "\u001b[94m-----------------------------------------------------\u001b[0m\n",
      " Step |   Time |      Value |         C |     gamma | \n",
      "    6 | 00m25s |    0.10511 |    1.0000 |    0.0175 | \n",
      "    7 | 00m21s | \u001b[35m   0.10763\u001b[0m | \u001b[32m   0.6333\u001b[0m | \u001b[32m   0.0175\u001b[0m | \u001b[31mWarning: Test point chose at random due to repeated sample.\u001b[0m\n",
      "\n",
      "    8 | 00m23s |    0.10543 |    0.9838 |    0.0175 | \u001b[31mWarning: Test point chose at random due to repeated sample.\u001b[0m\n",
      "\n"
     ]
    },
    {
     "name": "stderr",
     "output_type": "stream",
     "text": [
      "/Users/sue/anaconda/lib/python3.6/site-packages/sklearn/gaussian_process/gpr.py:427: UserWarning: fmin_l_bfgs_b terminated abnormally with the  state: {'grad': array([ -1.17197786e-05]), 'task': b'ABNORMAL_TERMINATION_IN_LNSRCH', 'funcalls': 45, 'nit': 4, 'warnflag': 2}\n",
      "  \" state: %s\" % convergence_dict)\n"
     ]
    },
    {
     "name": "stdout",
     "output_type": "stream",
     "text": [
      "    9 | 00m22s |    0.10511 |    1.0000 |    0.0175 | \n",
      "   10 | 00m22s |    0.10185 |    0.6702 |    0.0175 | \u001b[31mWarning: Test point chose at random due to repeated sample.\u001b[0m\n",
      "\n",
      "   11 | 00m22s |    0.10619 |    0.3811 |    0.0175 | \u001b[31mWarning: Test point chose at random due to repeated sample.\u001b[0m\n",
      "\n",
      "   12 | 00m25s |    0.09034 |    0.2537 |    0.0175 | \u001b[31mWarning: Test point chose at random due to repeated sample.\u001b[0m\n",
      "\n",
      "   13 | 00m24s |    0.10511 |    1.0000 |    0.0175 | \n",
      "   14 | 00m26s |    0.10492 |    0.7887 |    0.0175 | \n"
     ]
    },
    {
     "name": "stderr",
     "output_type": "stream",
     "text": [
      "/Users/sue/anaconda/lib/python3.6/site-packages/sklearn/gaussian_process/gpr.py:427: UserWarning: fmin_l_bfgs_b terminated abnormally with the  state: {'grad': array([  2.17069663e-05]), 'task': b'ABNORMAL_TERMINATION_IN_LNSRCH', 'funcalls': 52, 'nit': 4, 'warnflag': 2}\n",
      "  \" state: %s\" % convergence_dict)\n"
     ]
    },
    {
     "name": "stdout",
     "output_type": "stream",
     "text": [
      "   15 | 00m25s |    0.10511 |    1.0000 |    0.0175 | \n",
      "-----------------------------------------------------\n",
      "-----------------------------------------------------\n",
      "Final Results\n",
      "SVC: 0.107627\n"
     ]
    }
   ],
   "source": [
    "if __name__ == \"__main__\":\n",
    "    gp_params = {\"alpha\": 1e-5}\n",
    "\n",
    "    svcBO = BayesianOptimization(svccv,\n",
    "        {'C': (0.001, 1), 'gamma': (1/57, 1/57)})\n",
    "   \n",
    "    svcBO.maximize(n_iter=10, **gp_params)\n",
    "    print('-' * 53)\n",
    "    print('-' * 53)\n",
    "    print('Final Results')\n",
    "    print('SVC: %f' % svcBO.res['max']['max_val'])"
   ]
  },
  {
   "cell_type": "code",
   "execution_count": 155,
   "metadata": {
    "collapsed": false
   },
   "outputs": [
    {
     "name": "stdout",
     "output_type": "stream",
     "text": [
      "\u001b[31mInitialization\u001b[0m\n",
      "\u001b[94m-----------------------------------------------------\u001b[0m\n",
      " Step |   Time |      Value |         C |     gamma | \n",
      "    1 | 00m52s | \u001b[35m   0.10853\u001b[0m | \u001b[32m   0.2725\u001b[0m | \u001b[32m   0.0175\u001b[0m | \n",
      "    2 | 00m52s | \u001b[35m   0.10874\u001b[0m | \u001b[32m   0.3675\u001b[0m | \u001b[32m   0.0175\u001b[0m | \n",
      "    3 | 00m54s |    0.10858 |    0.9885 |    0.0175 | \n",
      "    4 | 00m47s | \u001b[35m   0.10884\u001b[0m | \u001b[32m   0.0857\u001b[0m | \u001b[32m   0.0175\u001b[0m | \n",
      "    5 | 00m52s |    0.10863 |    0.6585 |    0.0175 | \n",
      "\u001b[31mBayesian Optimization\u001b[0m\n",
      "\u001b[94m-----------------------------------------------------\u001b[0m\n",
      " Step |   Time |      Value |         C |     gamma | \n",
      "    6 | 00m56s |    0.10862 |    0.9519 |    0.0175 | \n",
      "    7 | 00m37s |    0.10113 |    0.0200 |    0.0175 | \n",
      "    8 | 00m58s |    0.10862 |    1.0000 |    0.0175 | \n",
      "    9 | 00m59s |    0.10862 |    1.0000 |    0.0175 | \n",
      "   10 | 00m58s |    0.10862 |    1.0000 |    0.0175 | \n",
      "   11 | 00m59s |    0.10862 |    1.0000 |    0.0175 | \n",
      "   12 | 00m58s |    0.10862 |    1.0000 |    0.0175 | \n",
      "   13 | 00m59s |    0.10862 |    1.0000 |    0.0175 | \n",
      "   14 | 00m59s |    0.10869 |    1.0000 |    0.0175 | \n",
      "   15 | 00m09s |    0.09929 |    0.0010 |    0.0175 | \n",
      "-----------------------------------------------------\n",
      "-----------------------------------------------------\n",
      "Final Results\n",
      "SVC: 0.108841\n"
     ]
    }
   ],
   "source": [
    "# After scale the data\n",
    "if __name__ == \"__main__\":\n",
    "    gp_params = {\"alpha\": 1e-5}\n",
    "\n",
    "    svcBO = BayesianOptimization(svccv,\n",
    "        {'C': (0.001, 1), 'gamma': (1/57, 1/57)})\n",
    "   \n",
    "    svcBO.maximize(n_iter=10, **gp_params)\n",
    "    print('-' * 53)\n",
    "    print('-' * 53)\n",
    "    print('Final Results')\n",
    "    print('SVC: %f' % svcBO.res['max']['max_val'])"
   ]
  },
  {
   "cell_type": "code",
   "execution_count": 156,
   "metadata": {
    "collapsed": false
   },
   "outputs": [
    {
     "name": "stdout",
     "output_type": "stream",
     "text": [
      "\u001b[31mInitialization\u001b[0m\n",
      "\u001b[94m-----------------------------------------------------\u001b[0m\n",
      " Step |   Time |      Value |         C |     gamma | \n",
      "    1 | 00m51s | \u001b[35m   0.10864\u001b[0m | \u001b[32m   0.7112\u001b[0m | \u001b[32m   0.0175\u001b[0m | \n",
      "    2 | 00m53s |    0.10858 |    0.8899 |    0.0175 | \n",
      "    3 | 00m51s |    0.10842 |    0.6439 |    0.0175 | \n",
      "    4 | 00m53s |    0.10854 |    0.9124 |    0.0175 | \n",
      "    5 | 00m53s |    0.10864 |    0.5880 |    0.0175 | \n",
      "\u001b[31mBayesian Optimization\u001b[0m\n",
      "\u001b[94m-----------------------------------------------------\u001b[0m\n",
      " Step |   Time |      Value |         C |     gamma | \n",
      "    6 | 00m57s |    0.10847 |    0.5036 |    0.0175 | \n",
      "    7 | 00m55s |    0.10858 |    0.9964 |    0.0175 | \n",
      "    8 | 00m54s |    0.10859 |    0.9840 |    0.0175 | \n",
      "    9 | 00m54s |    0.10864 |    0.9710 |    0.0175 | \n",
      "   10 | 00m53s |    0.10864 |    0.8426 |    0.0175 | \n",
      "   11 | 00m54s | \u001b[35m   0.10866\u001b[0m | \u001b[32m   0.5542\u001b[0m | \u001b[32m   0.0175\u001b[0m | \n",
      "   12 | 00m55s |    0.10863 |    0.9602 |    0.0175 | \n",
      "   13 | 00m55s |    0.10859 |    0.9914 |    0.0175 | \n",
      "   14 | 00m54s |    0.10859 |    0.9917 |    0.0175 | \n",
      "   15 | 00m54s | \u001b[35m   0.10868\u001b[0m | \u001b[32m   0.9731\u001b[0m | \u001b[32m   0.0175\u001b[0m | \n",
      "-----------------------------------------------------\n",
      "-----------------------------------------------------\n",
      "Final Results\n",
      "SVC: 0.108684\n"
     ]
    }
   ],
   "source": [
    "# After scale the data\n",
    "if __name__ == \"__main__\":\n",
    "    gp_params = {\"alpha\": 1e-5}\n",
    "\n",
    "    svcBO = BayesianOptimization(svccv,\n",
    "        {'C': (0.5, 1), 'gamma': (1/57, 1/57)})\n",
    "   \n",
    "    svcBO.maximize(n_iter=10, **gp_params)\n",
    "    print('-' * 53)\n",
    "    print('-' * 53)\n",
    "    print('Final Results')\n",
    "    print('SVC: %f' % svcBO.res['max']['max_val'])"
   ]
  },
  {
   "cell_type": "code",
   "execution_count": 160,
   "metadata": {
    "collapsed": false
   },
   "outputs": [
    {
     "name": "stdout",
     "output_type": "stream",
     "text": [
      "\u001b[31mInitialization\u001b[0m\n",
      "\u001b[94m-----------------------------------------------------\u001b[0m\n",
      " Step |   Time |      Value |         C |     gamma | \n",
      "    1 | 00m31s | \u001b[35m   0.11689\u001b[0m | \u001b[32m   0.0914\u001b[0m | \u001b[32m   0.0098\u001b[0m | \n",
      "    2 | 00m31s | \u001b[35m   0.11919\u001b[0m | \u001b[32m   0.0808\u001b[0m | \u001b[32m   0.0095\u001b[0m | \n",
      "    3 | 00m31s |    0.11591 |    0.0856 |    0.0106 | \n",
      "    4 | 00m46s |    0.10909 |    0.0859 |    0.0165 | \n",
      "    5 | 00m42s |    0.11309 |    0.0988 |    0.0124 | \n",
      "\u001b[31mBayesian Optimization\u001b[0m\n",
      "\u001b[94m-----------------------------------------------------\u001b[0m\n",
      " Step |   Time |      Value |         C |     gamma | \n",
      "    6 | 00m27s | \u001b[35m   0.14315\u001b[0m | \u001b[32m   0.0800\u001b[0m | \u001b[32m   0.0018\u001b[0m | \n",
      "    7 | 00m20s | \u001b[35m   0.14608\u001b[0m | \u001b[32m   0.1000\u001b[0m | \u001b[32m   0.0018\u001b[0m | \n",
      "    8 | 00m18s |    0.14608 |    0.1000 |    0.0018 | \n",
      "    9 | 00m19s |    0.14608 |    0.1000 |    0.0018 | \n",
      "   10 | 00m22s |    0.12833 |    0.0922 |    0.0048 | \u001b[31mWarning: Test point chose at random due to repeated sample.\u001b[0m\n",
      "\n",
      "   11 | 00m27s |    0.12560 |    0.0819 |    0.0061 | \u001b[31mWarning: Test point chose at random due to repeated sample.\u001b[0m\n",
      "\n",
      "   12 | 00m18s |    0.14608 |    0.1000 |    0.0018 | \n",
      "   13 | 00m44s |    0.11327 |    0.0909 |    0.0123 | \u001b[31mWarning: Test point chose at random due to repeated sample.\u001b[0m\n",
      "\n",
      "   14 | 00m18s | \u001b[35m   0.14777\u001b[0m | \u001b[32m   0.1000\u001b[0m | \u001b[32m   0.0018\u001b[0m | \n",
      "   15 | 00m43s |    0.11377 |    0.0953 |    0.0121 | \u001b[31mWarning: Test point chose at random due to repeated sample.\u001b[0m\n",
      "\n",
      "-----------------------------------------------------\n",
      "-----------------------------------------------------\n",
      "Final Results\n",
      "SVC: 0.147771\n"
     ]
    }
   ],
   "source": [
    "# After scale the data\n",
    "if __name__ == \"__main__\":\n",
    "    gp_params = {\"alpha\": 1e-5}\n",
    "\n",
    "    svcBO = BayesianOptimization(svccv,\n",
    "        {'C': (0.08,0.1), 'gamma': (0.1*1/57, 1/57)})\n",
    "   \n",
    "    svcBO.maximize(n_iter=10, **gp_params)\n",
    "    print('-' * 53)\n",
    "    print('-' * 53)\n",
    "    print('Final Results')\n",
    "    print('SVC: %f' % svcBO.res['max']['max_val'])"
   ]
  },
  {
   "cell_type": "code",
   "execution_count": 162,
   "metadata": {
    "collapsed": false
   },
   "outputs": [
    {
     "name": "stdout",
     "output_type": "stream",
     "text": [
      "\u001b[31mInitialization\u001b[0m\n",
      "\u001b[94m-----------------------------------------------------\u001b[0m\n",
      " Step |   Time |      Value |         C |     gamma | \n",
      "    1 | 00m17s | \u001b[35m   0.14273\u001b[0m | \u001b[32m   0.1000\u001b[0m | \u001b[32m   0.0017\u001b[0m | \n",
      "    2 | 00m14s | \u001b[35m   0.14509\u001b[0m | \u001b[32m   0.1000\u001b[0m | \u001b[32m   0.0007\u001b[0m | \n",
      "    3 | 00m11s |    0.10074 |    0.1000 |    0.0004 | \n",
      "    4 | 00m07s |    0.11972 |    0.1000 |    0.0002 | \n",
      "    5 | 00m17s |    0.14002 |    0.1000 |    0.0015 | \n",
      "\u001b[31mBayesian Optimization\u001b[0m\n",
      "\u001b[94m-----------------------------------------------------\u001b[0m\n",
      " Step |   Time |      Value |         C |     gamma | \n",
      "    6 | 00m18s |    0.12265 |    0.1000 |    0.0011 | \n",
      "    7 | 00m16s |    0.12223 |    0.1000 |    0.0009 | \n",
      "    8 | 00m17s |    0.14496 |    0.1000 |    0.0013 | \n",
      "    9 | 00m16s |    0.13206 |    0.1000 |    0.0006 | \n"
     ]
    },
    {
     "name": "stderr",
     "output_type": "stream",
     "text": [
      "/Users/sue/anaconda/lib/python3.6/site-packages/sklearn/gaussian_process/gpr.py:427: UserWarning: fmin_l_bfgs_b terminated abnormally with the  state: {'grad': array([  1.15698025e-05]), 'task': b'ABNORMAL_TERMINATION_IN_LNSRCH', 'funcalls': 21, 'nit': 0, 'warnflag': 2}\n",
      "  \" state: %s\" % convergence_dict)\n"
     ]
    },
    {
     "name": "stdout",
     "output_type": "stream",
     "text": [
      "   10 | 00m18s |    0.13991 |    0.1000 |    0.0014 | \n",
      "   11 | 00m20s | \u001b[35m   0.14608\u001b[0m | \u001b[32m   0.1000\u001b[0m | \u001b[32m   0.0018\u001b[0m | \n",
      "   12 | 00m19s | \u001b[35m   0.14914\u001b[0m | \u001b[32m   0.1000\u001b[0m | \u001b[32m   0.0017\u001b[0m | \n",
      "   13 | 00m19s |    0.13794 |    0.1000 |    0.0017 | \n",
      "   14 | 00m18s |    0.14646 |    0.1000 |    0.0013 | \n",
      "   15 | 00m12s |    0.12937 |    0.1000 |    0.0003 | \u001b[31mWarning: Test point chose at random due to repeated sample.\u001b[0m\n",
      "\n",
      "-----------------------------------------------------\n",
      "-----------------------------------------------------\n",
      "Final Results\n",
      "SVC: 0.149142\n"
     ]
    }
   ],
   "source": [
    "# After scale the data\n",
    "if __name__ == \"__main__\":\n",
    "    gp_params = {\"alpha\": 1e-5}\n",
    "\n",
    "    svcBO = BayesianOptimization(svccv,\n",
    "        {'C': (0.1,0.1), 'gamma': (0.01*1/57, 0.1*1/57)})\n",
    "   \n",
    "    svcBO.maximize(n_iter=10, **gp_params)\n",
    "    print('-' * 53)\n",
    "    print('-' * 53)\n",
    "    print('Final Results')\n",
    "    print('SVC: %f' % svcBO.res['max']['max_val'])"
   ]
  },
  {
   "cell_type": "code",
   "execution_count": 165,
   "metadata": {
    "collapsed": true
   },
   "outputs": [],
   "source": [
    "def svccv(C, gamma):\n",
    "    val = cross_val_score(\n",
    "        SVC(probability=True, C=C, gamma=gamma, random_state=0),\n",
    "        X_train_log[:10000], y_all[:10000], scoring=gini_sklearnf, cv=3\n",
    "    ).mean()\n",
    "\n",
    "    return val"
   ]
  },
  {
   "cell_type": "code",
   "execution_count": 164,
   "metadata": {
    "collapsed": false
   },
   "outputs": [
    {
     "name": "stdout",
     "output_type": "stream",
     "text": [
      "\u001b[31mInitialization\u001b[0m\n",
      "\u001b[94m-----------------------------------------------------\u001b[0m\n",
      " Step |   Time |      Value |         C |     gamma | \n",
      "    1 | 00m43s | \u001b[35m   0.09582\u001b[0m | \u001b[32m   0.1000\u001b[0m | \u001b[32m   0.0018\u001b[0m | \n",
      "    2 | 00m44s | \u001b[35m   0.10080\u001b[0m | \u001b[32m   0.1000\u001b[0m | \u001b[32m   0.0018\u001b[0m | \n",
      "    3 | 00m42s |    0.09974 |    0.1000 |    0.0017 | \n",
      "    4 | 00m43s | \u001b[35m   0.10233\u001b[0m | \u001b[32m   0.1000\u001b[0m | \u001b[32m   0.0018\u001b[0m | \n",
      "    5 | 00m42s | \u001b[35m   0.10485\u001b[0m | \u001b[32m   0.1000\u001b[0m | \u001b[32m   0.0018\u001b[0m | \n",
      "\u001b[31mBayesian Optimization\u001b[0m\n",
      "\u001b[94m-----------------------------------------------------\u001b[0m\n",
      " Step |   Time |      Value |         C |     gamma | \n",
      "    6 | 00m45s |    0.09852 |    0.1000 |    0.0018 | \n",
      "    7 | 00m45s |    0.10344 |    0.1000 |    0.0017 | \n",
      "    8 | 00m43s | \u001b[35m   0.10649\u001b[0m | \u001b[32m   0.1000\u001b[0m | \u001b[32m   0.0017\u001b[0m | \n",
      "    9 | 00m43s |    0.10107 |    0.1000 |    0.0017 | \n",
      "   10 | 00m43s |    0.09773 |    0.1000 |    0.0018 | \u001b[31mWarning: Test point chose at random due to repeated sample.\u001b[0m\n",
      "\n",
      "   11 | 00m42s | \u001b[35m   0.10686\u001b[0m | \u001b[32m   0.1000\u001b[0m | \u001b[32m   0.0017\u001b[0m | \u001b[31mWarning: Test point chose at random due to repeated sample.\u001b[0m\n",
      "\n",
      "   12 | 00m43s |    0.10161 |    0.1000 |    0.0017 | \u001b[31mWarning: Test point chose at random due to repeated sample.\u001b[0m\n",
      "\n",
      "   13 | 00m43s |    0.09611 |    0.1000 |    0.0017 | \n",
      "   14 | 00m46s |    0.09801 |    0.1000 |    0.0017 | \n",
      "   15 | 00m48s |    0.10374 |    0.1000 |    0.0018 | \n",
      "-----------------------------------------------------\n",
      "-----------------------------------------------------\n",
      "Final Results\n",
      "SVC: 0.106863\n"
     ]
    }
   ],
   "source": [
    "# After scale the data\n",
    "if __name__ == \"__main__\":\n",
    "    gp_params = {\"alpha\": 1e-5}\n",
    "\n",
    "    svcBO = BayesianOptimization(svccv,\n",
    "        {'C': (0.1,0.1), 'gamma': (0.0017, 0.0018)})\n",
    "   \n",
    "    svcBO.maximize(n_iter=10, **gp_params)\n",
    "    print('-' * 53)\n",
    "    print('-' * 53)\n",
    "    print('Final Results')\n",
    "    print('SVC: %f' % svcBO.res['max']['max_val'])"
   ]
  },
  {
   "cell_type": "code",
   "execution_count": 167,
   "metadata": {
    "collapsed": false
   },
   "outputs": [
    {
     "name": "stdout",
     "output_type": "stream",
     "text": [
      "\u001b[31mInitialization\u001b[0m\n",
      "\u001b[94m-----------------------------------------------------\u001b[0m\n",
      " Step |   Time |      Value |         C |     gamma | \n",
      "    1 | 02m17s | \u001b[35m   0.10633\u001b[0m | \u001b[32m   0.7057\u001b[0m | \u001b[32m   0.0175\u001b[0m | \n",
      "    2 | 02m11s |    0.10626 |    0.8004 |    0.0175 | \n",
      "    3 | 02m10s |    0.10625 |    0.6122 |    0.0175 | \n",
      "    4 | 02m10s |    0.10615 |    0.6239 |    0.0175 | \n",
      "    5 | 02m10s |    0.10624 |    0.9840 |    0.0175 | \n",
      "\u001b[31mBayesian Optimization\u001b[0m\n",
      "\u001b[94m-----------------------------------------------------\u001b[0m\n",
      " Step |   Time |      Value |         C |     gamma | \n",
      "    6 | 02m15s |    0.10624 |    0.9980 |    0.0175 | \n",
      "    7 | 02m10s |    0.10629 |    0.6864 |    0.0175 | \n",
      "    8 | 02m11s |    0.10629 |    0.5274 |    0.0175 | \n",
      "    9 | 02m11s |    0.10615 |    0.5007 |    0.0175 | \n",
      "   10 | 02m12s |    0.10626 |    0.8019 |    0.0175 | \n",
      "   11 | 02m12s |    0.10621 |    0.9547 |    0.0175 | \n",
      "   12 | 02m12s |    0.10626 |    0.9942 |    0.0175 | \n",
      "   13 | 02m12s |    0.10625 |    0.9155 |    0.0175 | \n",
      "   14 | 02m11s |    0.10624 |    0.8118 |    0.0175 | \n",
      "   15 | 02m11s |    0.10626 |    0.5462 |    0.0175 | \n",
      "-----------------------------------------------------\n",
      "-----------------------------------------------------\n",
      "Final Results\n",
      "SVC: 0.106334\n"
     ]
    }
   ],
   "source": [
    "# After scale the data\n",
    "if __name__ == \"__main__\":\n",
    "    gp_params = {\"alpha\": 1e-5}\n",
    "\n",
    "    svcBO = BayesianOptimization(svccv,\n",
    "        {'C': (0.5,1), 'gamma': (1/57, 1/57)})\n",
    "   \n",
    "    svcBO.maximize(n_iter=10, **gp_params)\n",
    "    print('-' * 53)\n",
    "    print('-' * 53)\n",
    "    print('Final Results')\n",
    "    print('SVC: %f' % svcBO.res['max']['max_val'])"
   ]
  },
  {
   "cell_type": "code",
   "execution_count": 169,
   "metadata": {
    "collapsed": false
   },
   "outputs": [
    {
     "name": "stdout",
     "output_type": "stream",
     "text": [
      "\u001b[31mInitialization\u001b[0m\n",
      "\u001b[94m-----------------------------------------------------\u001b[0m\n",
      " Step |   Time |      Value |         C |     gamma | \n",
      "    1 | 02m10s | \u001b[35m   0.10697\u001b[0m | \u001b[32m   0.1201\u001b[0m | \u001b[32m   0.0175\u001b[0m | \n",
      "    2 | 02m14s |    0.10610 |    0.4858 |    0.0175 | \n",
      "    3 | 02m08s |    0.10645 |    0.1661 |    0.0175 | \n",
      "    4 | 02m19s |    0.10629 |    0.3721 |    0.0175 | \n",
      "    5 | 02m31s |    0.10618 |    0.4230 |    0.0175 | \n",
      "\u001b[31mBayesian Optimization\u001b[0m\n",
      "\u001b[94m-----------------------------------------------------\u001b[0m\n",
      " Step |   Time |      Value |         C |     gamma | \n",
      "    6 | 02m24s |    0.10695 |    0.1325 |    0.0175 | \n",
      "    7 | 02m21s |    0.10689 |    0.1321 |    0.0175 | \n",
      "    8 | 02m30s |    0.10621 |    0.3627 |    0.0175 | \n",
      "    9 | 02m19s |    0.10561 |    0.1060 |    0.0175 | \n",
      "   10 | 02m31s |    0.10618 |    0.4707 |    0.0175 | \n",
      "   11 | 02m34s |    0.10617 |    0.4374 |    0.0175 | \n",
      "   12 | 02m32s |    0.10630 |    0.4209 |    0.0175 | \n",
      "   13 | 02m22s |    0.10694 |    0.1264 |    0.0175 | \n",
      "   14 | 02m21s |    0.10602 |    0.1101 |    0.0175 | \n",
      "   15 | 02m31s |    0.10614 |    0.3368 |    0.0175 | \n",
      "-----------------------------------------------------\n",
      "-----------------------------------------------------\n",
      "Final Results\n",
      "SVC: 0.106974\n"
     ]
    }
   ],
   "source": [
    "# After scale the data\n",
    "if __name__ == \"__main__\":\n",
    "    gp_params = {\"alpha\": 1e-5}\n",
    "\n",
    "    svcBO = BayesianOptimization(svccv,\n",
    "        {'C': (0.1,0.5), 'gamma': (1/57, 1/57)})\n",
    "   \n",
    "    svcBO.maximize(n_iter=10, **gp_params)\n",
    "    print('-' * 53)\n",
    "    print('-' * 53)\n",
    "    print('Final Results')\n",
    "    print('SVC: %f' % svcBO.res['max']['max_val'])"
   ]
  },
  {
   "cell_type": "code",
   "execution_count": null,
   "metadata": {
    "collapsed": true
   },
   "outputs": [],
   "source": [
    "def svccv(C, gamma):\n",
    "    val = cross_val_score(\n",
    "        SVC(probability=True, kernel='linear',C=C, gamma=gamma, random_state=0),\n",
    "        X_train_log[:10000], y_all[:10000], scoring=gini_sklearnf, cv=2\n",
    "    ).mean()\n",
    "\n",
    "    return val"
   ]
  },
  {
   "cell_type": "code",
   "execution_count": 71,
   "metadata": {
    "collapsed": true
   },
   "outputs": [],
   "source": [
    "import time"
   ]
  },
  {
   "cell_type": "code",
   "execution_count": 77,
   "metadata": {
    "collapsed": false
   },
   "outputs": [
    {
     "name": "stdout",
     "output_type": "stream",
     "text": [
      "\u001b[31mInitialization\u001b[0m\n",
      "\u001b[94m-----------------------------------------------------\u001b[0m\n",
      " Step |   Time |      Value |         C |     gamma | \n",
      "    1 | 00m18s | \u001b[35m   0.10397\u001b[0m | \u001b[32m   0.5742\u001b[0m | \u001b[32m   0.0175\u001b[0m | \n",
      "    2 | 00m18s |    0.10229 |    0.5165 |    0.0175 | \n",
      "    3 | 00m19s |    0.10257 |    0.5082 |    0.0175 | \n",
      "    4 | 00m18s |    0.10155 |    0.6452 |    0.0175 | \n",
      "    5 | 00m19s | \u001b[35m   0.10573\u001b[0m | \u001b[32m   0.7796\u001b[0m | \u001b[32m   0.0175\u001b[0m | \n",
      "\u001b[31mBayesian Optimization\u001b[0m\n",
      "\u001b[94m-----------------------------------------------------\u001b[0m\n",
      " Step |   Time |      Value |         C |     gamma | \n",
      "    6 | 00m20s |    0.09955 |    0.2249 |    0.0175 | \n",
      "    7 | 00m21s |    0.10511 |    1.0000 |    0.0175 | \n",
      "    8 | 00m20s |    0.10085 |    0.5629 |    0.0175 | \u001b[31mWarning: Test point chose at random due to repeated sample.\u001b[0m\n",
      "\n",
      "    9 | 00m24s |    0.10511 |    1.0000 |    0.0175 | \n",
      "   10 | 00m22s |    0.10511 |    1.0000 |    0.0175 | \n",
      "   11 | 00m22s |    0.10378 |    0.5151 |    0.0175 | \u001b[31mWarning: Test point chose at random due to repeated sample.\u001b[0m\n",
      "\n",
      "   12 | 00m22s |    0.10161 |    0.1573 |    0.0175 | \u001b[31mWarning: Test point chose at random due to repeated sample.\u001b[0m\n",
      "\n",
      "   13 | 00m23s |    0.10511 |    1.0000 |    0.0175 | \n",
      "   14 | 00m25s |    0.09808 |    0.2946 |    0.0175 | \u001b[31mWarning: Test point chose at random due to repeated sample.\u001b[0m\n",
      "\n",
      "   15 | 00m25s |    0.10511 |    1.0000 |    0.0175 | \n",
      "-----------------------------------------------------\n",
      "-----------------------------------------------------\n",
      "Final Results\n",
      "SVC: 0.105732\n",
      "RunningTime=324.186 seconds\n",
      "-----------------------------------------------\n"
     ]
    }
   ],
   "source": [
    "start = time.time()\n",
    "\n",
    "gp_params = {\"alpha\": 1e-5}\n",
    "\n",
    "svcBO = BayesianOptimization(svccv,\n",
    "        {'C': (0.1, 1), 'gamma': (1/57, 1/57)})\n",
    "   \n",
    "svcBO.maximize(n_iter=10, **gp_params)\n",
    "print('-' * 53)\n",
    "print('-' * 53)\n",
    "print('Final Results')\n",
    "print('SVC: %f' % svcBO.res['max']['max_val'])\n",
    "\n",
    "end = time.time()\n",
    "runningtime = end - start\n",
    "print('RunningTime={:.3f} seconds'.format(runningtime))\n",
    "print(\"-----------------------------------------------\")\n",
    "    "
   ]
  },
  {
   "cell_type": "markdown",
   "metadata": {},
   "source": [
    "#  Unbalanced problems"
   ]
  },
  {
   "cell_type": "code",
   "execution_count": 88,
   "metadata": {
    "collapsed": true
   },
   "outputs": [],
   "source": [
    "def svccv(C, gamma):\n",
    "    val = cross_val_score(\n",
    "        SVC(probability=True, kernel = 'linear', C=C, gamma=gamma, random_state=0),\n",
    "        X_train_log[:10000], y_all[:10000], scoring=gini_sklearnf, cv=3\n",
    "    ).mean()\n",
    "\n",
    "    return val"
   ]
  },
  {
   "cell_type": "code",
   "execution_count": 89,
   "metadata": {
    "collapsed": false
   },
   "outputs": [
    {
     "name": "stdout",
     "output_type": "stream",
     "text": [
      "\u001b[31mInitialization\u001b[0m\n",
      "\u001b[94m-----------------------------------------------------\u001b[0m\n",
      " Step |   Time |      Value |         C |     gamma | \n",
      "    1 | 00m43s | \u001b[35m  -0.01112\u001b[0m | \u001b[32m   0.7578\u001b[0m | \u001b[32m   0.0175\u001b[0m | \n",
      "    2 | 00m39s | \u001b[35m   0.01954\u001b[0m | \u001b[32m   0.6185\u001b[0m | \u001b[32m   0.0175\u001b[0m | \n",
      "    3 | 00m42s | \u001b[35m   0.08756\u001b[0m | \u001b[32m   0.8435\u001b[0m | \u001b[32m   0.0175\u001b[0m | \n",
      "    4 | 00m38s |    0.08624 |    0.5759 |    0.0175 | \n",
      "    5 | 00m40s |   -0.03170 |    0.6285 |    0.0175 | \n",
      "\u001b[31mBayesian Optimization\u001b[0m\n",
      "\u001b[94m-----------------------------------------------------\u001b[0m\n",
      " Step |   Time |      Value |         C |     gamma | \n",
      "    6 | 00m46s | \u001b[35m   0.10175\u001b[0m | \u001b[32m   1.0000\u001b[0m | \u001b[32m   0.0175\u001b[0m | \n",
      "    7 | 00m40s |   -0.03419 |    0.5000 |    0.0175 | \n",
      "    8 | 00m44s |   -0.00957 |    0.9297 |    0.0175 | \n",
      "    9 | 00m46s |    0.04691 |    0.8052 |    0.0175 | \n",
      "   10 | 00m45s |    0.03112 |    0.8780 |    0.0175 | \n",
      "   11 | 00m50s |    0.01494 |    0.9797 |    0.0175 | \n",
      "   12 | 00m57s |    0.07539 |    0.5435 |    0.0175 | \n"
     ]
    },
    {
     "name": "stderr",
     "output_type": "stream",
     "text": [
      "/Users/sue/anaconda/lib/python3.6/site-packages/sklearn/gaussian_process/gpr.py:427: UserWarning: fmin_l_bfgs_b terminated abnormally with the  state: {'grad': array([ -1.06051275e-05]), 'task': b'ABNORMAL_TERMINATION_IN_LNSRCH', 'funcalls': 50, 'nit': 2, 'warnflag': 2}\n",
      "  \" state: %s\" % convergence_dict)\n"
     ]
    },
    {
     "name": "stdout",
     "output_type": "stream",
     "text": [
      "   13 | 01m07s |    0.00971 |    0.8641 |    0.0175 | \u001b[31mWarning: Test point chose at random due to repeated sample.\u001b[0m\n",
      "\n",
      "   14 | 01m02s |    0.02970 |    0.7057 |    0.0175 | \n",
      "   15 | 01m07s |    0.09442 |    0.8263 |    0.0175 | \n",
      "-----------------------------------------------------\n",
      "-----------------------------------------------------\n",
      "Final Results\n",
      "SVC: 0.101745\n",
      "RunningTime=734.521 seconds\n",
      "-----------------------------------------------\n"
     ]
    }
   ],
   "source": [
    "start = time.time()\n",
    "\n",
    "gp_params = {\"alpha\": 1e-5}\n",
    "\n",
    "svcBO = BayesianOptimization(svccv,\n",
    "        {'C': (0.5, 1), 'gamma': (1/57, 1/57)})\n",
    "   \n",
    "svcBO.maximize(n_iter=10, **gp_params)\n",
    "print('-' * 53)\n",
    "print('-' * 53)\n",
    "print('Final Results')\n",
    "print('SVC: %f' % svcBO.res['max']['max_val'])\n",
    "\n",
    "end = time.time()\n",
    "runningtime = end - start\n",
    "print('RunningTime={:.3f} seconds'.format(runningtime))\n",
    "print(\"-----------------------------------------------\")"
   ]
  },
  {
   "cell_type": "code",
   "execution_count": 90,
   "metadata": {
    "collapsed": true
   },
   "outputs": [],
   "source": [
    "from sklearn.svm import LinearSVC"
   ]
  },
  {
   "cell_type": "code",
   "execution_count": 96,
   "metadata": {
    "collapsed": true
   },
   "outputs": [],
   "source": [
    "def linearsvccv(C):\n",
    "    val = cross_val_score(\n",
    "        LinearSVC( C=C, random_state=0),\n",
    "        X_train_log[:10000], y_all[:10000], scoring=gini_sklearnf, cv=3\n",
    "    ).mean()\n",
    "\n",
    "    return val"
   ]
  },
  {
   "cell_type": "code",
   "execution_count": 97,
   "metadata": {
    "collapsed": false
   },
   "outputs": [
    {
     "name": "stdout",
     "output_type": "stream",
     "text": [
      "\u001b[31mInitialization\u001b[0m\n",
      "\u001b[94m-----------------------------------------\u001b[0m\n",
      " Step |   Time |      Value |         C | \n"
     ]
    },
    {
     "ename": "AttributeError",
     "evalue": "'LinearSVC' object has no attribute 'predict_proba'",
     "output_type": "error",
     "traceback": [
      "\u001b[0;31m---------------------------------------------------------------------------\u001b[0m",
      "\u001b[0;31mAttributeError\u001b[0m                            Traceback (most recent call last)",
      "\u001b[0;32m<ipython-input-97-62b0f8476376>\u001b[0m in \u001b[0;36m<module>\u001b[0;34m()\u001b[0m\n\u001b[1;32m      6\u001b[0m         {'C': (0.01, 1)})\n\u001b[1;32m      7\u001b[0m \u001b[0;34m\u001b[0m\u001b[0m\n\u001b[0;32m----> 8\u001b[0;31m \u001b[0msvcBO\u001b[0m\u001b[0;34m.\u001b[0m\u001b[0mmaximize\u001b[0m\u001b[0;34m(\u001b[0m\u001b[0mn_iter\u001b[0m\u001b[0;34m=\u001b[0m\u001b[0;36m10\u001b[0m\u001b[0;34m,\u001b[0m \u001b[0;34m**\u001b[0m\u001b[0mgp_params\u001b[0m\u001b[0;34m)\u001b[0m\u001b[0;34m\u001b[0m\u001b[0m\n\u001b[0m\u001b[1;32m      9\u001b[0m \u001b[0mprint\u001b[0m\u001b[0;34m(\u001b[0m\u001b[0;34m'-'\u001b[0m \u001b[0;34m*\u001b[0m \u001b[0;36m53\u001b[0m\u001b[0;34m)\u001b[0m\u001b[0;34m\u001b[0m\u001b[0m\n\u001b[1;32m     10\u001b[0m \u001b[0mprint\u001b[0m\u001b[0;34m(\u001b[0m\u001b[0;34m'-'\u001b[0m \u001b[0;34m*\u001b[0m \u001b[0;36m53\u001b[0m\u001b[0;34m)\u001b[0m\u001b[0;34m\u001b[0m\u001b[0m\n",
      "\u001b[0;32m/Users/sue/anaconda/lib/python3.6/site-packages/bayes_opt/bayesian_optimization.py\u001b[0m in \u001b[0;36mmaximize\u001b[0;34m(self, init_points, n_iter, acq, kappa, xi, **gp_params)\u001b[0m\n\u001b[1;32m    268\u001b[0m             \u001b[0;32mif\u001b[0m \u001b[0mself\u001b[0m\u001b[0;34m.\u001b[0m\u001b[0mverbose\u001b[0m\u001b[0;34m:\u001b[0m\u001b[0;34m\u001b[0m\u001b[0m\n\u001b[1;32m    269\u001b[0m                 \u001b[0mself\u001b[0m\u001b[0;34m.\u001b[0m\u001b[0mplog\u001b[0m\u001b[0;34m.\u001b[0m\u001b[0mprint_header\u001b[0m\u001b[0;34m(\u001b[0m\u001b[0;34m)\u001b[0m\u001b[0;34m\u001b[0m\u001b[0m\n\u001b[0;32m--> 270\u001b[0;31m             \u001b[0mself\u001b[0m\u001b[0;34m.\u001b[0m\u001b[0minit\u001b[0m\u001b[0;34m(\u001b[0m\u001b[0minit_points\u001b[0m\u001b[0;34m)\u001b[0m\u001b[0;34m\u001b[0m\u001b[0m\n\u001b[0m\u001b[1;32m    271\u001b[0m \u001b[0;34m\u001b[0m\u001b[0m\n\u001b[1;32m    272\u001b[0m         \u001b[0my_max\u001b[0m \u001b[0;34m=\u001b[0m \u001b[0mself\u001b[0m\u001b[0;34m.\u001b[0m\u001b[0mY\u001b[0m\u001b[0;34m.\u001b[0m\u001b[0mmax\u001b[0m\u001b[0;34m(\u001b[0m\u001b[0;34m)\u001b[0m\u001b[0;34m\u001b[0m\u001b[0m\n",
      "\u001b[0;32m/Users/sue/anaconda/lib/python3.6/site-packages/bayes_opt/bayesian_optimization.py\u001b[0m in \u001b[0;36minit\u001b[0;34m(self, init_points)\u001b[0m\n\u001b[1;32m    111\u001b[0m         \u001b[0;32mfor\u001b[0m \u001b[0mx\u001b[0m \u001b[0;32min\u001b[0m \u001b[0mself\u001b[0m\u001b[0;34m.\u001b[0m\u001b[0minit_points\u001b[0m\u001b[0;34m:\u001b[0m\u001b[0;34m\u001b[0m\u001b[0m\n\u001b[1;32m    112\u001b[0m             \u001b[0mself\u001b[0m\u001b[0;34m.\u001b[0m\u001b[0mX\u001b[0m \u001b[0;34m=\u001b[0m \u001b[0mnp\u001b[0m\u001b[0;34m.\u001b[0m\u001b[0mvstack\u001b[0m\u001b[0;34m(\u001b[0m\u001b[0;34m(\u001b[0m\u001b[0mself\u001b[0m\u001b[0;34m.\u001b[0m\u001b[0mX\u001b[0m\u001b[0;34m,\u001b[0m \u001b[0mnp\u001b[0m\u001b[0;34m.\u001b[0m\u001b[0masarray\u001b[0m\u001b[0;34m(\u001b[0m\u001b[0mx\u001b[0m\u001b[0;34m)\u001b[0m\u001b[0;34m.\u001b[0m\u001b[0mreshape\u001b[0m\u001b[0;34m(\u001b[0m\u001b[0;34m(\u001b[0m\u001b[0;36m1\u001b[0m\u001b[0;34m,\u001b[0m \u001b[0;34m-\u001b[0m\u001b[0;36m1\u001b[0m\u001b[0;34m)\u001b[0m\u001b[0;34m)\u001b[0m\u001b[0;34m)\u001b[0m\u001b[0;34m)\u001b[0m\u001b[0;34m\u001b[0m\u001b[0m\n\u001b[0;32m--> 113\u001b[0;31m             \u001b[0mself\u001b[0m\u001b[0;34m.\u001b[0m\u001b[0mY\u001b[0m \u001b[0;34m=\u001b[0m \u001b[0mnp\u001b[0m\u001b[0;34m.\u001b[0m\u001b[0mappend\u001b[0m\u001b[0;34m(\u001b[0m\u001b[0mself\u001b[0m\u001b[0;34m.\u001b[0m\u001b[0mY\u001b[0m\u001b[0;34m,\u001b[0m \u001b[0mself\u001b[0m\u001b[0;34m.\u001b[0m\u001b[0mf\u001b[0m\u001b[0;34m(\u001b[0m\u001b[0;34m**\u001b[0m\u001b[0mdict\u001b[0m\u001b[0;34m(\u001b[0m\u001b[0mzip\u001b[0m\u001b[0;34m(\u001b[0m\u001b[0mself\u001b[0m\u001b[0;34m.\u001b[0m\u001b[0mkeys\u001b[0m\u001b[0;34m,\u001b[0m \u001b[0mx\u001b[0m\u001b[0;34m)\u001b[0m\u001b[0;34m)\u001b[0m\u001b[0;34m)\u001b[0m\u001b[0;34m)\u001b[0m\u001b[0;34m\u001b[0m\u001b[0m\n\u001b[0m\u001b[1;32m    114\u001b[0m \u001b[0;34m\u001b[0m\u001b[0m\n\u001b[1;32m    115\u001b[0m             \u001b[0;32mif\u001b[0m \u001b[0mself\u001b[0m\u001b[0;34m.\u001b[0m\u001b[0mverbose\u001b[0m\u001b[0;34m:\u001b[0m\u001b[0;34m\u001b[0m\u001b[0m\n",
      "\u001b[0;32m<ipython-input-96-dbab09c01386>\u001b[0m in \u001b[0;36mlinearsvccv\u001b[0;34m(C)\u001b[0m\n\u001b[1;32m      2\u001b[0m     val = cross_val_score(\n\u001b[1;32m      3\u001b[0m         \u001b[0mLinearSVC\u001b[0m\u001b[0;34m(\u001b[0m \u001b[0mC\u001b[0m\u001b[0;34m=\u001b[0m\u001b[0mC\u001b[0m\u001b[0;34m,\u001b[0m \u001b[0mrandom_state\u001b[0m\u001b[0;34m=\u001b[0m\u001b[0;36m0\u001b[0m\u001b[0;34m)\u001b[0m\u001b[0;34m,\u001b[0m\u001b[0;34m\u001b[0m\u001b[0m\n\u001b[0;32m----> 4\u001b[0;31m         \u001b[0mX_train_log\u001b[0m\u001b[0;34m[\u001b[0m\u001b[0;34m:\u001b[0m\u001b[0;36m10000\u001b[0m\u001b[0;34m]\u001b[0m\u001b[0;34m,\u001b[0m \u001b[0my_all\u001b[0m\u001b[0;34m[\u001b[0m\u001b[0;34m:\u001b[0m\u001b[0;36m10000\u001b[0m\u001b[0;34m]\u001b[0m\u001b[0;34m,\u001b[0m \u001b[0mscoring\u001b[0m\u001b[0;34m=\u001b[0m\u001b[0mgini_sklearnf\u001b[0m\u001b[0;34m,\u001b[0m \u001b[0mcv\u001b[0m\u001b[0;34m=\u001b[0m\u001b[0;36m3\u001b[0m\u001b[0;34m\u001b[0m\u001b[0m\n\u001b[0m\u001b[1;32m      5\u001b[0m     ).mean()\n\u001b[1;32m      6\u001b[0m \u001b[0;34m\u001b[0m\u001b[0m\n",
      "\u001b[0;32m/Users/sue/anaconda/lib/python3.6/site-packages/sklearn/cross_validation.py\u001b[0m in \u001b[0;36mcross_val_score\u001b[0;34m(estimator, X, y, scoring, cv, n_jobs, verbose, fit_params, pre_dispatch)\u001b[0m\n\u001b[1;32m   1569\u001b[0m                                               \u001b[0mtrain\u001b[0m\u001b[0;34m,\u001b[0m \u001b[0mtest\u001b[0m\u001b[0;34m,\u001b[0m \u001b[0mverbose\u001b[0m\u001b[0;34m,\u001b[0m \u001b[0;32mNone\u001b[0m\u001b[0;34m,\u001b[0m\u001b[0;34m\u001b[0m\u001b[0m\n\u001b[1;32m   1570\u001b[0m                                               fit_params)\n\u001b[0;32m-> 1571\u001b[0;31m                       for train, test in cv)\n\u001b[0m\u001b[1;32m   1572\u001b[0m     \u001b[0;32mreturn\u001b[0m \u001b[0mnp\u001b[0m\u001b[0;34m.\u001b[0m\u001b[0marray\u001b[0m\u001b[0;34m(\u001b[0m\u001b[0mscores\u001b[0m\u001b[0;34m)\u001b[0m\u001b[0;34m[\u001b[0m\u001b[0;34m:\u001b[0m\u001b[0;34m,\u001b[0m \u001b[0;36m0\u001b[0m\u001b[0;34m]\u001b[0m\u001b[0;34m\u001b[0m\u001b[0m\n\u001b[1;32m   1573\u001b[0m \u001b[0;34m\u001b[0m\u001b[0m\n",
      "\u001b[0;32m/Users/sue/anaconda/lib/python3.6/site-packages/sklearn/externals/joblib/parallel.py\u001b[0m in \u001b[0;36m__call__\u001b[0;34m(self, iterable)\u001b[0m\n\u001b[1;32m    756\u001b[0m             \u001b[0;31m# was dispatched. In particular this covers the edge\u001b[0m\u001b[0;34m\u001b[0m\u001b[0;34m\u001b[0m\u001b[0m\n\u001b[1;32m    757\u001b[0m             \u001b[0;31m# case of Parallel used with an exhausted iterator.\u001b[0m\u001b[0;34m\u001b[0m\u001b[0;34m\u001b[0m\u001b[0m\n\u001b[0;32m--> 758\u001b[0;31m             \u001b[0;32mwhile\u001b[0m \u001b[0mself\u001b[0m\u001b[0;34m.\u001b[0m\u001b[0mdispatch_one_batch\u001b[0m\u001b[0;34m(\u001b[0m\u001b[0miterator\u001b[0m\u001b[0;34m)\u001b[0m\u001b[0;34m:\u001b[0m\u001b[0;34m\u001b[0m\u001b[0m\n\u001b[0m\u001b[1;32m    759\u001b[0m                 \u001b[0mself\u001b[0m\u001b[0;34m.\u001b[0m\u001b[0m_iterating\u001b[0m \u001b[0;34m=\u001b[0m \u001b[0;32mTrue\u001b[0m\u001b[0;34m\u001b[0m\u001b[0m\n\u001b[1;32m    760\u001b[0m             \u001b[0;32melse\u001b[0m\u001b[0;34m:\u001b[0m\u001b[0;34m\u001b[0m\u001b[0m\n",
      "\u001b[0;32m/Users/sue/anaconda/lib/python3.6/site-packages/sklearn/externals/joblib/parallel.py\u001b[0m in \u001b[0;36mdispatch_one_batch\u001b[0;34m(self, iterator)\u001b[0m\n\u001b[1;32m    606\u001b[0m                 \u001b[0;32mreturn\u001b[0m \u001b[0;32mFalse\u001b[0m\u001b[0;34m\u001b[0m\u001b[0m\n\u001b[1;32m    607\u001b[0m             \u001b[0;32melse\u001b[0m\u001b[0;34m:\u001b[0m\u001b[0;34m\u001b[0m\u001b[0m\n\u001b[0;32m--> 608\u001b[0;31m                 \u001b[0mself\u001b[0m\u001b[0;34m.\u001b[0m\u001b[0m_dispatch\u001b[0m\u001b[0;34m(\u001b[0m\u001b[0mtasks\u001b[0m\u001b[0;34m)\u001b[0m\u001b[0;34m\u001b[0m\u001b[0m\n\u001b[0m\u001b[1;32m    609\u001b[0m                 \u001b[0;32mreturn\u001b[0m \u001b[0;32mTrue\u001b[0m\u001b[0;34m\u001b[0m\u001b[0m\n\u001b[1;32m    610\u001b[0m \u001b[0;34m\u001b[0m\u001b[0m\n",
      "\u001b[0;32m/Users/sue/anaconda/lib/python3.6/site-packages/sklearn/externals/joblib/parallel.py\u001b[0m in \u001b[0;36m_dispatch\u001b[0;34m(self, batch)\u001b[0m\n\u001b[1;32m    569\u001b[0m         \u001b[0mdispatch_timestamp\u001b[0m \u001b[0;34m=\u001b[0m \u001b[0mtime\u001b[0m\u001b[0;34m.\u001b[0m\u001b[0mtime\u001b[0m\u001b[0;34m(\u001b[0m\u001b[0;34m)\u001b[0m\u001b[0;34m\u001b[0m\u001b[0m\n\u001b[1;32m    570\u001b[0m         \u001b[0mcb\u001b[0m \u001b[0;34m=\u001b[0m \u001b[0mBatchCompletionCallBack\u001b[0m\u001b[0;34m(\u001b[0m\u001b[0mdispatch_timestamp\u001b[0m\u001b[0;34m,\u001b[0m \u001b[0mlen\u001b[0m\u001b[0;34m(\u001b[0m\u001b[0mbatch\u001b[0m\u001b[0;34m)\u001b[0m\u001b[0;34m,\u001b[0m \u001b[0mself\u001b[0m\u001b[0;34m)\u001b[0m\u001b[0;34m\u001b[0m\u001b[0m\n\u001b[0;32m--> 571\u001b[0;31m         \u001b[0mjob\u001b[0m \u001b[0;34m=\u001b[0m \u001b[0mself\u001b[0m\u001b[0;34m.\u001b[0m\u001b[0m_backend\u001b[0m\u001b[0;34m.\u001b[0m\u001b[0mapply_async\u001b[0m\u001b[0;34m(\u001b[0m\u001b[0mbatch\u001b[0m\u001b[0;34m,\u001b[0m \u001b[0mcallback\u001b[0m\u001b[0;34m=\u001b[0m\u001b[0mcb\u001b[0m\u001b[0;34m)\u001b[0m\u001b[0;34m\u001b[0m\u001b[0m\n\u001b[0m\u001b[1;32m    572\u001b[0m         \u001b[0mself\u001b[0m\u001b[0;34m.\u001b[0m\u001b[0m_jobs\u001b[0m\u001b[0;34m.\u001b[0m\u001b[0mappend\u001b[0m\u001b[0;34m(\u001b[0m\u001b[0mjob\u001b[0m\u001b[0;34m)\u001b[0m\u001b[0;34m\u001b[0m\u001b[0m\n\u001b[1;32m    573\u001b[0m \u001b[0;34m\u001b[0m\u001b[0m\n",
      "\u001b[0;32m/Users/sue/anaconda/lib/python3.6/site-packages/sklearn/externals/joblib/_parallel_backends.py\u001b[0m in \u001b[0;36mapply_async\u001b[0;34m(self, func, callback)\u001b[0m\n\u001b[1;32m    107\u001b[0m     \u001b[0;32mdef\u001b[0m \u001b[0mapply_async\u001b[0m\u001b[0;34m(\u001b[0m\u001b[0mself\u001b[0m\u001b[0;34m,\u001b[0m \u001b[0mfunc\u001b[0m\u001b[0;34m,\u001b[0m \u001b[0mcallback\u001b[0m\u001b[0;34m=\u001b[0m\u001b[0;32mNone\u001b[0m\u001b[0;34m)\u001b[0m\u001b[0;34m:\u001b[0m\u001b[0;34m\u001b[0m\u001b[0m\n\u001b[1;32m    108\u001b[0m         \u001b[0;34m\"\"\"Schedule a func to be run\"\"\"\u001b[0m\u001b[0;34m\u001b[0m\u001b[0m\n\u001b[0;32m--> 109\u001b[0;31m         \u001b[0mresult\u001b[0m \u001b[0;34m=\u001b[0m \u001b[0mImmediateResult\u001b[0m\u001b[0;34m(\u001b[0m\u001b[0mfunc\u001b[0m\u001b[0;34m)\u001b[0m\u001b[0;34m\u001b[0m\u001b[0m\n\u001b[0m\u001b[1;32m    110\u001b[0m         \u001b[0;32mif\u001b[0m \u001b[0mcallback\u001b[0m\u001b[0;34m:\u001b[0m\u001b[0;34m\u001b[0m\u001b[0m\n\u001b[1;32m    111\u001b[0m             \u001b[0mcallback\u001b[0m\u001b[0;34m(\u001b[0m\u001b[0mresult\u001b[0m\u001b[0;34m)\u001b[0m\u001b[0;34m\u001b[0m\u001b[0m\n",
      "\u001b[0;32m/Users/sue/anaconda/lib/python3.6/site-packages/sklearn/externals/joblib/_parallel_backends.py\u001b[0m in \u001b[0;36m__init__\u001b[0;34m(self, batch)\u001b[0m\n\u001b[1;32m    324\u001b[0m         \u001b[0;31m# Don't delay the application, to avoid keeping the input\u001b[0m\u001b[0;34m\u001b[0m\u001b[0;34m\u001b[0m\u001b[0m\n\u001b[1;32m    325\u001b[0m         \u001b[0;31m# arguments in memory\u001b[0m\u001b[0;34m\u001b[0m\u001b[0;34m\u001b[0m\u001b[0m\n\u001b[0;32m--> 326\u001b[0;31m         \u001b[0mself\u001b[0m\u001b[0;34m.\u001b[0m\u001b[0mresults\u001b[0m \u001b[0;34m=\u001b[0m \u001b[0mbatch\u001b[0m\u001b[0;34m(\u001b[0m\u001b[0;34m)\u001b[0m\u001b[0;34m\u001b[0m\u001b[0m\n\u001b[0m\u001b[1;32m    327\u001b[0m \u001b[0;34m\u001b[0m\u001b[0m\n\u001b[1;32m    328\u001b[0m     \u001b[0;32mdef\u001b[0m \u001b[0mget\u001b[0m\u001b[0;34m(\u001b[0m\u001b[0mself\u001b[0m\u001b[0;34m)\u001b[0m\u001b[0;34m:\u001b[0m\u001b[0;34m\u001b[0m\u001b[0m\n",
      "\u001b[0;32m/Users/sue/anaconda/lib/python3.6/site-packages/sklearn/externals/joblib/parallel.py\u001b[0m in \u001b[0;36m__call__\u001b[0;34m(self)\u001b[0m\n\u001b[1;32m    129\u001b[0m \u001b[0;34m\u001b[0m\u001b[0m\n\u001b[1;32m    130\u001b[0m     \u001b[0;32mdef\u001b[0m \u001b[0m__call__\u001b[0m\u001b[0;34m(\u001b[0m\u001b[0mself\u001b[0m\u001b[0;34m)\u001b[0m\u001b[0;34m:\u001b[0m\u001b[0;34m\u001b[0m\u001b[0m\n\u001b[0;32m--> 131\u001b[0;31m         \u001b[0;32mreturn\u001b[0m \u001b[0;34m[\u001b[0m\u001b[0mfunc\u001b[0m\u001b[0;34m(\u001b[0m\u001b[0;34m*\u001b[0m\u001b[0margs\u001b[0m\u001b[0;34m,\u001b[0m \u001b[0;34m**\u001b[0m\u001b[0mkwargs\u001b[0m\u001b[0;34m)\u001b[0m \u001b[0;32mfor\u001b[0m \u001b[0mfunc\u001b[0m\u001b[0;34m,\u001b[0m \u001b[0margs\u001b[0m\u001b[0;34m,\u001b[0m \u001b[0mkwargs\u001b[0m \u001b[0;32min\u001b[0m \u001b[0mself\u001b[0m\u001b[0;34m.\u001b[0m\u001b[0mitems\u001b[0m\u001b[0;34m]\u001b[0m\u001b[0;34m\u001b[0m\u001b[0m\n\u001b[0m\u001b[1;32m    132\u001b[0m \u001b[0;34m\u001b[0m\u001b[0m\n\u001b[1;32m    133\u001b[0m     \u001b[0;32mdef\u001b[0m \u001b[0m__len__\u001b[0m\u001b[0;34m(\u001b[0m\u001b[0mself\u001b[0m\u001b[0;34m)\u001b[0m\u001b[0;34m:\u001b[0m\u001b[0;34m\u001b[0m\u001b[0m\n",
      "\u001b[0;32m/Users/sue/anaconda/lib/python3.6/site-packages/sklearn/externals/joblib/parallel.py\u001b[0m in \u001b[0;36m<listcomp>\u001b[0;34m(.0)\u001b[0m\n\u001b[1;32m    129\u001b[0m \u001b[0;34m\u001b[0m\u001b[0m\n\u001b[1;32m    130\u001b[0m     \u001b[0;32mdef\u001b[0m \u001b[0m__call__\u001b[0m\u001b[0;34m(\u001b[0m\u001b[0mself\u001b[0m\u001b[0;34m)\u001b[0m\u001b[0;34m:\u001b[0m\u001b[0;34m\u001b[0m\u001b[0m\n\u001b[0;32m--> 131\u001b[0;31m         \u001b[0;32mreturn\u001b[0m \u001b[0;34m[\u001b[0m\u001b[0mfunc\u001b[0m\u001b[0;34m(\u001b[0m\u001b[0;34m*\u001b[0m\u001b[0margs\u001b[0m\u001b[0;34m,\u001b[0m \u001b[0;34m**\u001b[0m\u001b[0mkwargs\u001b[0m\u001b[0;34m)\u001b[0m \u001b[0;32mfor\u001b[0m \u001b[0mfunc\u001b[0m\u001b[0;34m,\u001b[0m \u001b[0margs\u001b[0m\u001b[0;34m,\u001b[0m \u001b[0mkwargs\u001b[0m \u001b[0;32min\u001b[0m \u001b[0mself\u001b[0m\u001b[0;34m.\u001b[0m\u001b[0mitems\u001b[0m\u001b[0;34m]\u001b[0m\u001b[0;34m\u001b[0m\u001b[0m\n\u001b[0m\u001b[1;32m    132\u001b[0m \u001b[0;34m\u001b[0m\u001b[0m\n\u001b[1;32m    133\u001b[0m     \u001b[0;32mdef\u001b[0m \u001b[0m__len__\u001b[0m\u001b[0;34m(\u001b[0m\u001b[0mself\u001b[0m\u001b[0;34m)\u001b[0m\u001b[0;34m:\u001b[0m\u001b[0;34m\u001b[0m\u001b[0m\n",
      "\u001b[0;32m/Users/sue/anaconda/lib/python3.6/site-packages/sklearn/cross_validation.py\u001b[0m in \u001b[0;36m_fit_and_score\u001b[0;34m(estimator, X, y, scorer, train, test, verbose, parameters, fit_params, return_train_score, return_parameters, error_score)\u001b[0m\n\u001b[1;32m   1682\u001b[0m \u001b[0;34m\u001b[0m\u001b[0m\n\u001b[1;32m   1683\u001b[0m     \u001b[0;32melse\u001b[0m\u001b[0;34m:\u001b[0m\u001b[0;34m\u001b[0m\u001b[0m\n\u001b[0;32m-> 1684\u001b[0;31m         \u001b[0mtest_score\u001b[0m \u001b[0;34m=\u001b[0m \u001b[0m_score\u001b[0m\u001b[0;34m(\u001b[0m\u001b[0mestimator\u001b[0m\u001b[0;34m,\u001b[0m \u001b[0mX_test\u001b[0m\u001b[0;34m,\u001b[0m \u001b[0my_test\u001b[0m\u001b[0;34m,\u001b[0m \u001b[0mscorer\u001b[0m\u001b[0;34m)\u001b[0m\u001b[0;34m\u001b[0m\u001b[0m\n\u001b[0m\u001b[1;32m   1685\u001b[0m         \u001b[0;32mif\u001b[0m \u001b[0mreturn_train_score\u001b[0m\u001b[0;34m:\u001b[0m\u001b[0;34m\u001b[0m\u001b[0m\n\u001b[1;32m   1686\u001b[0m             \u001b[0mtrain_score\u001b[0m \u001b[0;34m=\u001b[0m \u001b[0m_score\u001b[0m\u001b[0;34m(\u001b[0m\u001b[0mestimator\u001b[0m\u001b[0;34m,\u001b[0m \u001b[0mX_train\u001b[0m\u001b[0;34m,\u001b[0m \u001b[0my_train\u001b[0m\u001b[0;34m,\u001b[0m \u001b[0mscorer\u001b[0m\u001b[0;34m)\u001b[0m\u001b[0;34m\u001b[0m\u001b[0m\n",
      "\u001b[0;32m/Users/sue/anaconda/lib/python3.6/site-packages/sklearn/cross_validation.py\u001b[0m in \u001b[0;36m_score\u001b[0;34m(estimator, X_test, y_test, scorer)\u001b[0m\n\u001b[1;32m   1739\u001b[0m         \u001b[0mscore\u001b[0m \u001b[0;34m=\u001b[0m \u001b[0mscorer\u001b[0m\u001b[0;34m(\u001b[0m\u001b[0mestimator\u001b[0m\u001b[0;34m,\u001b[0m \u001b[0mX_test\u001b[0m\u001b[0;34m)\u001b[0m\u001b[0;34m\u001b[0m\u001b[0m\n\u001b[1;32m   1740\u001b[0m     \u001b[0;32melse\u001b[0m\u001b[0;34m:\u001b[0m\u001b[0;34m\u001b[0m\u001b[0m\n\u001b[0;32m-> 1741\u001b[0;31m         \u001b[0mscore\u001b[0m \u001b[0;34m=\u001b[0m \u001b[0mscorer\u001b[0m\u001b[0;34m(\u001b[0m\u001b[0mestimator\u001b[0m\u001b[0;34m,\u001b[0m \u001b[0mX_test\u001b[0m\u001b[0;34m,\u001b[0m \u001b[0my_test\u001b[0m\u001b[0;34m)\u001b[0m\u001b[0;34m\u001b[0m\u001b[0m\n\u001b[0m\u001b[1;32m   1742\u001b[0m     \u001b[0;32mif\u001b[0m \u001b[0mhasattr\u001b[0m\u001b[0;34m(\u001b[0m\u001b[0mscore\u001b[0m\u001b[0;34m,\u001b[0m \u001b[0;34m'item'\u001b[0m\u001b[0;34m)\u001b[0m\u001b[0;34m:\u001b[0m\u001b[0;34m\u001b[0m\u001b[0m\n\u001b[1;32m   1743\u001b[0m         \u001b[0;32mtry\u001b[0m\u001b[0;34m:\u001b[0m\u001b[0;34m\u001b[0m\u001b[0m\n",
      "\u001b[0;32m/Users/sue/anaconda/lib/python3.6/site-packages/sklearn/metrics/scorer.py\u001b[0m in \u001b[0;36m__call__\u001b[0;34m(self, clf, X, y, sample_weight)\u001b[0m\n\u001b[1;32m    126\u001b[0m         super(_ProbaScorer, self).__call__(clf, X, y,\n\u001b[1;32m    127\u001b[0m                                            sample_weight=sample_weight)\n\u001b[0;32m--> 128\u001b[0;31m         \u001b[0my_pred\u001b[0m \u001b[0;34m=\u001b[0m \u001b[0mclf\u001b[0m\u001b[0;34m.\u001b[0m\u001b[0mpredict_proba\u001b[0m\u001b[0;34m(\u001b[0m\u001b[0mX\u001b[0m\u001b[0;34m)\u001b[0m\u001b[0;34m\u001b[0m\u001b[0m\n\u001b[0m\u001b[1;32m    129\u001b[0m         \u001b[0;32mif\u001b[0m \u001b[0msample_weight\u001b[0m \u001b[0;32mis\u001b[0m \u001b[0;32mnot\u001b[0m \u001b[0;32mNone\u001b[0m\u001b[0;34m:\u001b[0m\u001b[0;34m\u001b[0m\u001b[0m\n\u001b[1;32m    130\u001b[0m             return self._sign * self._score_func(y, y_pred,\n",
      "\u001b[0;31mAttributeError\u001b[0m: 'LinearSVC' object has no attribute 'predict_proba'"
     ]
    }
   ],
   "source": [
    "start = time.time()\n",
    "\n",
    "gp_params = {\"alpha\": 1e-5}\n",
    "\n",
    "svcBO = BayesianOptimization(linearsvccv,\n",
    "        {'C': (0.01, 1)})\n",
    "   \n",
    "svcBO.maximize(n_iter=10, **gp_params)\n",
    "print('-' * 53)\n",
    "print('-' * 53)\n",
    "print('Final Results')\n",
    "print('SVC: %f' % svcBO.res['max']['max_val'])\n",
    "\n",
    "end = time.time()\n",
    "runningtime = end - start\n",
    "print('RunningTime={:.3f} seconds'.format(runningtime))\n",
    "print(\"-----------------------------------------------\")"
   ]
  },
  {
   "cell_type": "code",
   "execution_count": null,
   "metadata": {
    "collapsed": true
   },
   "outputs": [],
   "source": []
  },
  {
   "cell_type": "code",
   "execution_count": null,
   "metadata": {
    "collapsed": true
   },
   "outputs": [],
   "source": []
  },
  {
   "cell_type": "code",
   "execution_count": null,
   "metadata": {
    "collapsed": true
   },
   "outputs": [],
   "source": []
  },
  {
   "cell_type": "code",
   "execution_count": null,
   "metadata": {
    "collapsed": true
   },
   "outputs": [],
   "source": []
  },
  {
   "cell_type": "code",
   "execution_count": null,
   "metadata": {
    "collapsed": true
   },
   "outputs": [],
   "source": [
    "# Select a Model\n",
    "model = SVC(probability=True)\n",
    "\n",
    "# Set the ranges for parameters\n",
    "griddata = {'C': (0.1, 100), 'gamma': (0.001, 0.1)}\n",
    "\n",
    "# Grid Search for the best parameters\n",
    "GCV = CustomGridCV(X, y, model, gini_normalized, griddata)\n",
    "\n",
    "GCV.GridSearch()\n",
    "\n",
    "print(\"Best Params:\")\n",
    "print(GCV.Best())"
   ]
  },
  {
   "cell_type": "code",
   "execution_count": null,
   "metadata": {
    "collapsed": true
   },
   "outputs": [],
   "source": []
  },
  {
   "cell_type": "code",
   "execution_count": 99,
   "metadata": {
    "collapsed": false
   },
   "outputs": [
    {
     "data": {
      "text/plain": [
       "0.0"
      ]
     },
     "execution_count": 99,
     "metadata": {},
     "output_type": "execute_result"
    }
   ],
   "source": [
    "X_train_log.min()"
   ]
  },
  {
   "cell_type": "code",
   "execution_count": 100,
   "metadata": {
    "collapsed": false
   },
   "outputs": [
    {
     "data": {
      "text/plain": [
       "3.2580965380214821"
      ]
     },
     "execution_count": 100,
     "metadata": {},
     "output_type": "execute_result"
    }
   ],
   "source": [
    "X_train_log.max()"
   ]
  },
  {
   "cell_type": "code",
   "execution_count": 102,
   "metadata": {
    "collapsed": false
   },
   "outputs": [
    {
     "name": "stdout",
     "output_type": "stream",
     "text": [
      "0.0 0.69314718056\n",
      "0.0 0.69314718056\n",
      "0.0 0.69314718056\n",
      "0.0 0.69314718056\n",
      "0.0 0.69314718056\n",
      "0.0 0.69314718056\n",
      "0.0 0.69314718056\n",
      "0.0 0.69314718056\n",
      "0.0 0.69314718056\n",
      "0.0 0.69314718056\n",
      "0.0 0.69314718056\n",
      "0.0 0.69314718056\n",
      "0.0 0.69314718056\n",
      "0.0 0.69314718056\n",
      "0.0 0.69314718056\n",
      "0.0 0.69314718056\n",
      "0.0 0.69314718056\n",
      "0.0 0.69314718056\n",
      "0.0 0.69314718056\n",
      "0.0 0.69314718056\n",
      "0.0 0.69314718056\n",
      "0.0 0.69314718056\n",
      "0.0 0.69314718056\n",
      "0.0 0.69314718056\n",
      "0.0 0.69314718056\n",
      "0.0 0.69314718056\n",
      "0.0 0.69314718056\n",
      "0.0 0.69314718056\n",
      "0.0 0.69314718056\n",
      "0.0 0.69314718056\n",
      "0.0 0.69314718056\n",
      "0.0 0.69314718056\n",
      "0.0 0.69314718056\n",
      "0.0 0.69314718056\n",
      "0.0 0.69314718056\n",
      "0.0 0.69314718056\n",
      "0.0 0.69314718056\n",
      "0.0 0.69314718056\n",
      "0.0 0.69314718056\n",
      "0.0 0.69314718056\n",
      "0.0 0.69314718056\n",
      "0.0 0.69314718056\n",
      "0.0 0.69314718056\n",
      "0.0 0.69314718056\n",
      "0.0 0.69314718056\n",
      "0.0 0.69314718056\n",
      "0.0 0.69314718056\n",
      "0.0 0.69314718056\n",
      "0.0 0.69314718056\n",
      "0.0 0.69314718056\n",
      "0.0 0.69314718056\n",
      "0.0 0.69314718056\n",
      "0.0 0.69314718056\n",
      "0.0 0.69314718056\n",
      "0.0 0.69314718056\n",
      "0.0 0.69314718056\n",
      "0.0 0.69314718056\n",
      "0.0 0.69314718056\n",
      "0.0 0.69314718056\n",
      "0.0 0.69314718056\n",
      "0.0 0.69314718056\n",
      "0.0 0.69314718056\n",
      "0.0 0.69314718056\n",
      "0.0 0.69314718056\n",
      "0.0 0.69314718056\n",
      "0.0 0.69314718056\n",
      "0.0 0.69314718056\n",
      "0.0 0.69314718056\n",
      "0.0 0.69314718056\n",
      "0.0 0.69314718056\n",
      "0.0 0.69314718056\n",
      "0.0 0.69314718056\n",
      "0.0 0.69314718056\n",
      "0.0 0.69314718056\n",
      "0.0 0.69314718056\n",
      "0.0 0.69314718056\n",
      "0.0 0.69314718056\n",
      "0.0 0.69314718056\n",
      "0.0 0.69314718056\n",
      "0.0 0.69314718056\n",
      "0.0 0.69314718056\n",
      "0.0 0.69314718056\n",
      "0.0 0.69314718056\n",
      "0.0 0.69314718056\n",
      "0.0 0.69314718056\n",
      "0.0 0.69314718056\n",
      "0.0 0.69314718056\n",
      "0.0 0.69314718056\n",
      "0.0 0.69314718056\n",
      "0.0 0.69314718056\n",
      "0.0 0.69314718056\n",
      "0.0 0.69314718056\n",
      "0.0 0.69314718056\n",
      "0.0 0.69314718056\n",
      "0.0 0.69314718056\n",
      "0.0 0.69314718056\n",
      "0.0 0.69314718056\n",
      "0.0 0.69314718056\n",
      "0.0 0.69314718056\n",
      "0.0 0.69314718056\n",
      "0.0 0.69314718056\n",
      "0.0 0.69314718056\n",
      "0.0 0.69314718056\n",
      "0.0 0.69314718056\n",
      "0.0 0.69314718056\n",
      "0.0 0.69314718056\n",
      "0.0 0.69314718056\n",
      "0.0 0.69314718056\n",
      "0.0 0.69314718056\n",
      "0.0 0.69314718056\n",
      "0.0 0.69314718056\n",
      "0.0 0.69314718056\n",
      "0.0 0.69314718056\n",
      "0.0 0.69314718056\n",
      "0.0 0.69314718056\n",
      "0.0 0.69314718056\n",
      "0.0 0.69314718056\n",
      "0.0 0.69314718056\n",
      "0.0 0.69314718056\n",
      "0.0 0.69314718056\n",
      "0.0 0.69314718056\n",
      "0.0 0.69314718056\n",
      "0.0 0.69314718056\n",
      "0.0 0.69314718056\n",
      "0.0 0.69314718056\n",
      "0.0 0.69314718056\n",
      "0.0 0.69314718056\n",
      "0.0 0.69314718056\n",
      "0.0 0.69314718056\n",
      "0.0 0.69314718056\n",
      "0.0 0.69314718056\n",
      "0.0 0.69314718056\n",
      "0.0 0.69314718056\n",
      "0.0 0.69314718056\n",
      "0.0 0.69314718056\n",
      "0.0 0.69314718056\n",
      "0.0 0.69314718056\n",
      "0.0 0.69314718056\n",
      "0.0 0.69314718056\n",
      "0.0 0.69314718056\n",
      "0.0 0.69314718056\n",
      "0.0 0.69314718056\n",
      "0.0 0.69314718056\n",
      "0.0 0.69314718056\n",
      "0.0 0.69314718056\n",
      "0.0 0.69314718056\n",
      "0.0 0.69314718056\n",
      "0.0 0.69314718056\n",
      "0.0 0.69314718056\n",
      "0.0 0.69314718056\n",
      "0.0 0.69314718056\n",
      "0.0 0.69314718056\n",
      "0.0 0.69314718056\n",
      "0.0 0.69314718056\n",
      "0.0 0.69314718056\n",
      "0.0 0.69314718056\n",
      "0.0 0.69314718056\n",
      "0.0 0.69314718056\n",
      "0.0 0.69314718056\n",
      "0.0 0.69314718056\n",
      "0.0 0.69314718056\n",
      "0.0 0.69314718056\n",
      "0.0 0.69314718056\n",
      "0.0 0.69314718056\n",
      "0.0 0.69314718056\n",
      "0.0 0.69314718056\n",
      "0.0 0.69314718056\n",
      "0.0 0.69314718056\n",
      "0.0 0.69314718056\n",
      "0.0 0.69314718056\n",
      "0.0 0.69314718056\n",
      "0.0 0.69314718056\n",
      "0.0 0.69314718056\n",
      "0.0 0.69314718056\n",
      "0.0 0.69314718056\n",
      "0.0 0.69314718056\n",
      "0.0 2.07944154168\n",
      "0.0 2.48490664979\n",
      "0.0 0.69314718056\n",
      "0.0 0.69314718056\n",
      "0.0 0.69314718056\n",
      "0.0 0.69314718056\n",
      "0.0 0.69314718056\n",
      "0.0 0.69314718056\n",
      "0.0 0.69314718056\n",
      "0.0 0.69314718056\n",
      "0.0 1.60943791243\n",
      "0.0 2.63905732962\n",
      "0.0 0.69314718056\n",
      "0.0 0.69314718056\n",
      "0.0 0.69314718056\n",
      "0.0 0.641853886172\n",
      "0.0 1.02961941718\n",
      "0.0 1.61699826519\n",
      "0.0 1.38629436112\n",
      "0.0 0.817535492866\n",
      "0.223638683276 1.55194141847\n",
      "0.0 0.492496325684\n",
      "0.0 1.55638673425\n",
      "0.0 0.641853886172\n",
      "0.0 0.641853886172\n",
      "0.0 0.641853886172\n",
      "0.0 1.79175946923\n",
      "0.0 1.94591014906\n",
      "0.0 2.3978952728\n",
      "0.0 2.30258509299\n",
      "1.09861228867 2.56494935746\n",
      "0.0 2.07944154168\n",
      "0.0 3.25809653802\n",
      "0.0 2.99573227355\n",
      "0.0 2.3978952728\n",
      "0.0 2.63905732962\n",
      "0.0 3.17805383035\n",
      "0.0 0.69314718056\n",
      "0.0 0.69314718056\n",
      "0.0 0.69314718056\n",
      "0.0 0.69314718056\n",
      "0.0 0.69314718056\n",
      "0.0 0.69314718056\n"
     ]
    }
   ],
   "source": [
    "for i in range(0,X_train_log.shape[1]):\n",
    "    print(min(X_train_log[:,i]),max(X_train_log[:,i]))\n",
    "    \n"
   ]
  },
  {
   "cell_type": "code",
   "execution_count": 101,
   "metadata": {
    "collapsed": false
   },
   "outputs": [
    {
     "data": {
      "text/plain": [
       "57"
      ]
     },
     "execution_count": 101,
     "metadata": {},
     "output_type": "execute_result"
    }
   ],
   "source": []
  },
  {
   "cell_type": "code",
   "execution_count": 174,
   "metadata": {
    "collapsed": true
   },
   "outputs": [],
   "source": [
    "import seaborn as sns\n",
    "import matplotlib.pyplot as plt\n",
    "% matplotlib inline"
   ]
  },
  {
   "cell_type": "code",
   "execution_count": 186,
   "metadata": {
    "collapsed": false
   },
   "outputs": [
    {
     "data": {
      "text/plain": [
       "(595212, 58)"
      ]
     },
     "execution_count": 186,
     "metadata": {},
     "output_type": "execute_result"
    }
   ],
   "source": [
    "df_train = pd.read_csv(trainpath,index_col=\"id\")\n",
    "df_train.shape"
   ]
  },
  {
   "cell_type": "code",
   "execution_count": 187,
   "metadata": {
    "collapsed": false
   },
   "outputs": [
    {
     "data": {
      "text/plain": [
       "<matplotlib.axes._subplots.AxesSubplot at 0x11e004da0>"
      ]
     },
     "execution_count": 187,
     "metadata": {},
     "output_type": "execute_result"
    },
    {
     "data": {
      "image/png": "[encoded data removed]",
      "text/plain": [
       "<matplotlib.figure.Figure at 0x11d4ddba8>"
      ]
     },
     "metadata": {},
     "output_type": "display_data"
    }
   ],
   "source": [
    "cor = df_train.corr()\n",
    "plt.figure(figsize=(16,10))\n",
    "sns.heatmap(cor)"
   ]
  },
  {
   "cell_type": "code",
   "execution_count": 192,
   "metadata": {
    "collapsed": false
   },
   "outputs": [
    {
     "data": {
      "text/plain": [
       "0.08248274087107454"
      ]
     },
     "execution_count": 192,
     "metadata": {},
     "output_type": "execute_result"
    }
   ],
   "source": [
    "df_train['ps_calc_01'].var()"
   ]
  },
  {
   "cell_type": "code",
   "execution_count": 196,
   "metadata": {
    "collapsed": false
   },
   "outputs": [
    {
     "data": {
      "text/plain": [
       "0.4498487933710897"
      ]
     },
     "execution_count": 196,
     "metadata": {},
     "output_type": "execute_result"
    }
   ],
   "source": [
    "df_train['ps_calc_03'].mean()"
   ]
  },
  {
   "cell_type": "code",
   "execution_count": 197,
   "metadata": {
    "collapsed": false
   },
   "outputs": [
    {
     "data": {
      "text/plain": [
       "0.0"
      ]
     },
     "execution_count": 197,
     "metadata": {},
     "output_type": "execute_result"
    }
   ],
   "source": [
    "df_train['ps_calc_03'].min()"
   ]
  },
  {
   "cell_type": "code",
   "execution_count": 198,
   "metadata": {
    "collapsed": false
   },
   "outputs": [
    {
     "data": {
      "text/plain": [
       "0.90000000000000002"
      ]
     },
     "execution_count": 198,
     "metadata": {},
     "output_type": "execute_result"
    }
   ],
   "source": [
    "df_train['ps_calc_03'].max()"
   ]
  },
  {
   "cell_type": "code",
   "execution_count": 199,
   "metadata": {
    "collapsed": true
   },
   "outputs": [],
   "source": [
    "cor = df_train.corr?\n"
   ]
  },
  {
   "cell_type": "code",
   "execution_count": 200,
   "metadata": {
    "collapsed": true
   },
   "outputs": [],
   "source": [
    "cor_spearman = df_train.corr(method='spearman')"
   ]
  },
  {
   "cell_type": "code",
   "execution_count": 201,
   "metadata": {
    "collapsed": false
   },
   "outputs": [
    {
     "data": {
      "text/plain": [
       "<matplotlib.axes._subplots.AxesSubplot at 0x11d46b208>"
      ]
     },
     "execution_count": 201,
     "metadata": {},
     "output_type": "execute_result"
    },
    {
     "data": {
      "image/png": "[encoded data removed]",
      "text/plain": [
       "<matplotlib.figure.Figure at 0x11bafa358>"
      ]
     },
     "metadata": {},
     "output_type": "display_data"
    }
   ],
   "source": [
    "plt.figure(figsize=(16,10))\n",
    "sns.heatmap(cor)"
   ]
  },
  {
   "cell_type": "code",
   "execution_count": 203,
   "metadata": {
    "collapsed": false
   },
   "outputs": [
    {
     "data": {
      "text/plain": [
       "<matplotlib.axes._subplots.AxesSubplot at 0x11ceb6048>"
      ]
     },
     "execution_count": 203,
     "metadata": {},
     "output_type": "execute_result"
    },
    {
     "data": {
      "image/png": "[encoded data removed]",
      "text/plain": [
       "<matplotlib.figure.Figure at 0x11cf93710>"
      ]
     },
     "metadata": {},
     "output_type": "display_data"
    }
   ],
   "source": [
    "cor_kendall = df_train.corr(method='kendall')\n",
    "plt.figure(figsize=(16,10))\n",
    "sns.heatmap(cor_kendall)"
   ]
  },
  {
   "cell_type": "code",
   "execution_count": null,
   "metadata": {
    "collapsed": true
   },
   "outputs": [],
   "source": []
  },
  {
   "cell_type": "code",
   "execution_count": null,
   "metadata": {
    "collapsed": true
   },
   "outputs": [],
   "source": []
  },
  {
   "cell_type": "code",
   "execution_count": null,
   "metadata": {
    "collapsed": true
   },
   "outputs": [],
   "source": []
  },
  {
   "cell_type": "code",
   "execution_count": null,
   "metadata": {
    "collapsed": true
   },
   "outputs": [],
   "source": []
  },
  {
   "cell_type": "code",
   "execution_count": null,
   "metadata": {
    "collapsed": true
   },
   "outputs": [],
   "source": []
  },
  {
   "cell_type": "code",
   "execution_count": null,
   "metadata": {
    "collapsed": true
   },
   "outputs": [],
   "source": []
  },
  {
   "cell_type": "code",
   "execution_count": null,
   "metadata": {
    "collapsed": true
   },
   "outputs": [],
   "source": []
  },
  {
   "cell_type": "code",
   "execution_count": null,
   "metadata": {
    "collapsed": true
   },
   "outputs": [],
   "source": []
  },
  {
   "cell_type": "code",
   "execution_count": null,
   "metadata": {
    "collapsed": true
   },
   "outputs": [],
   "source": []
  },
  {
   "cell_type": "code",
   "execution_count": null,
   "metadata": {
    "collapsed": true
   },
   "outputs": [],
   "source": []
  },
  {
   "cell_type": "code",
   "execution_count": null,
   "metadata": {
    "collapsed": true
   },
   "outputs": [],
   "source": []
  },
  {
   "cell_type": "code",
   "execution_count": null,
   "metadata": {
    "collapsed": true
   },
   "outputs": [],
   "source": []
  },
  {
   "cell_type": "code",
   "execution_count": null,
   "metadata": {
    "collapsed": true
   },
   "outputs": [],
   "source": []
  },
  {
   "cell_type": "markdown",
   "metadata": {},
   "source": [
    "# Submission"
   ]
  },
  {
   "cell_type": "code",
   "execution_count": null,
   "metadata": {
    "collapsed": true
   },
   "outputs": [],
   "source": [
    "df_test=pd.read_csv(\"data/test.csv\")\n",
    "features=list(df_test.columns.values)\n",
    "features.remove('id')\n",
    "y_test = RFC_all.predict_proba(df_test[features])\n",
    "subm = pd.DataFrame()\n",
    "subm['id'] = df_test['id']\n",
    "subm['target'] = y_test[:,1]\n",
    "subm.to_csv('.csv', index=False)"
   ]
  },
  {
   "cell_type": "code",
   "execution_count": 204,
   "metadata": {
    "collapsed": true
   },
   "outputs": [],
   "source": [
    "s='coicdfubby'"
   ]
  },
  {
   "cell_type": "code",
   "execution_count": 213,
   "metadata": {
    "collapsed": false
   },
   "outputs": [
    {
     "name": "stdout",
     "output_type": "stream",
     "text": [
      "cdfu\n"
     ]
    }
   ],
   "source": [
    "def isInAlphabeticalOrder(word):\n",
    "    for i in range(len(word) - 1):\n",
    "        if word[i] > word[i + 1]:\n",
    "            return False\n",
    "    return True\n",
    "s = 'coicdfubbj'\n",
    "t = s[0]\n",
    "for j in range(len(s)+1):\n",
    "    #m = s.index(letter)-1\n",
    "        for i in range(len(s)+1):       \n",
    "            if j < i and isInAlphabeticalOrder(s[j:i]) == True:\n",
    "                l = s[j:i]\n",
    "                if len(l) > len(t):\n",
    "                    t = l \n",
    "            else:\n",
    "                t = t\n",
    "\n",
    "print(t)"
   ]
  },
  {
   "cell_type": "code",
   "execution_count": 215,
   "metadata": {
    "collapsed": false
   },
   "outputs": [
    {
     "data": {
      "text/plain": [
       "True"
      ]
     },
     "execution_count": 215,
     "metadata": {},
     "output_type": "execute_result"
    }
   ],
   "source": [
    "isInAlphabeticalOrder(s[2:1])"
   ]
  },
  {
   "cell_type": "markdown",
   "metadata": {},
   "source": [
    "# For Stack"
   ]
  },
  {
   "cell_type": "code",
   "execution_count": null,
   "metadata": {
    "collapsed": true
   },
   "outputs": [],
   "source": [
    "from sklearn.model_selection import StratifiedKFold, train_test_split\n",
    "class Clf4Stack(object):\n",
    "    def __init__(self, model, n_splits=5):\n",
    "        self.n_splits = n_splits\n",
    "        self.model = model\n",
    "\n",
    "    def fit_predict(self, trainX, trainy, testX):\n",
    "\n",
    "        self.train4stack = np.zeros(len(trainX))\n",
    "        self.test4stack = np.zeros(len(testX))\n",
    "\n",
    "        skf = StratifiedKFold(n_splits=self.n_splits, shuffle=True, random_state=44)\n",
    "\n",
    "        for train_index, test_index in skf.split(trainX, trainy):\n",
    "            X_train, X_test = trainX[train_index], trainX[test_index]\n",
    "            y_train, y_test = trainy[train_index], trainy[test_index]\n",
    "\n",
    "            self.model.fit(X_train, y_train)\n",
    "            y_pred = self.model.predict_proba(X_test)[:,1]\n",
    "            self.train4stack[test_index] = y_pred\n",
    "            self.test4stack += self.model.predict_proba(testX)[:,1]\n",
    "        \n",
    "        self.test4stack /= self.n_splits\n",
    "            \n",
    "    def output(self,train_file_name='train4stack.csv',\n",
    "                    test_file_name='test4stack.csv',\n",
    "                    col_name='F4stack'):\n",
    "\n",
    "        pd.DataFrame({col_name:self.train4stack}).to_csv(train_file_name,index=False) \n",
    "        pd.DataFrame({col_name:self.test4stack}).to_csv(test_file_name,index=False)"
   ]
  }
 ],
 "metadata": {
  "kernelspec": {
   "display_name": "Python 3",
   "language": "python",
   "name": "python3"
  },
  "language_info": {
   "codemirror_mode": {
    "name": "ipython",
    "version": 3
   },
   "file_extension": ".py",
   "mimetype": "text/x-python",
   "name": "python",
   "nbconvert_exporter": "python",
   "pygments_lexer": "ipython3",
   "version": "3.6.0"
  }
 },
 "nbformat": 4,
 "nbformat_minor": 2
}
