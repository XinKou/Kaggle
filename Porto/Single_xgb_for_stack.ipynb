{
 "cells": [
  {
   "cell_type": "markdown",
   "metadata": {},
   "source": [
    "# Generate data from Single_xgb kernel for stacking\n",
    "Single_xgb kernel:  https://www.kaggle.com/kueipo/base-on-froza-pascal-single-xgb-lb-0-284/code"
   ]
  },
  {
   "cell_type": "code",
   "execution_count": 3,
   "metadata": {
    "collapsed": false
   },
   "outputs": [],
   "source": [
    "import pandas as pd\n",
    "import numpy as np\n",
    "from sklearn.model_selection import train_test_split\n",
    "from multiprocessing import *\n",
    "import gc\n",
    "import warnings\n",
    "warnings.filterwarnings(\"ignore\")\n",
    "import xgboost as xgb\n",
    "#### Load Data\n",
    "train = pd.read_csv('data/train.csv')\n",
    "test = pd.read_csv('data/test.csv')\n",
    "\n",
    "### \n",
    "y = train['target'].values\n",
    "testid= test['id'].values\n",
    "\n",
    "train.drop(['id','target'],axis=1,inplace=True)\n",
    "test.drop(['id'],axis=1,inplace=True)\n",
    "\n",
    "\n",
    "######################################## Feature engineering ##########################################\n",
    "\n",
    "### Drop calc\n",
    "unwanted = train.columns[train.columns.str.startswith('ps_calc_')]\n",
    "train = train.drop(unwanted, axis=1)  \n",
    "test = test.drop(unwanted, axis=1)\n",
    "\n",
    "### Reconstruct the feature 'ps_reg_03', discovered by Pascal https://www.kaggle.com/pnagel/reconstruction-of-ps-reg-03\n",
    "def recon(reg):\n",
    "    integer = int(np.round((40*reg)**2)) \n",
    "    for a in range(32):\n",
    "        if (integer - a) % 31 == 0:\n",
    "            A = a\n",
    "    M = (integer - A)//31\n",
    "    return A, M\n",
    "train['ps_reg_A'] = train['ps_reg_03'].apply(lambda x: recon(x)[0])\n",
    "train['ps_reg_M'] = train['ps_reg_03'].apply(lambda x: recon(x)[1])\n",
    "train['ps_reg_A'].replace(19,-1, inplace=True)\n",
    "train['ps_reg_M'].replace(51,-1, inplace=True)\n",
    "test['ps_reg_A'] = test['ps_reg_03'].apply(lambda x: recon(x)[0])\n",
    "test['ps_reg_M'] = test['ps_reg_03'].apply(lambda x: recon(x)[1])\n",
    "test['ps_reg_A'].replace(19,-1, inplace=True)\n",
    "test['ps_reg_M'].replace(51,-1, inplace=True)"
   ]
  },
  {
   "cell_type": "code",
   "execution_count": 6,
   "metadata": {
    "collapsed": false
   },
   "outputs": [
    {
     "data": {
      "text/plain": [
       "array(['ps_ind_01', 'ps_ind_02_cat', 'ps_ind_03', 'ps_ind_04_cat',\n",
       "       'ps_ind_05_cat', 'ps_ind_06_bin', 'ps_ind_07_bin', 'ps_ind_08_bin',\n",
       "       'ps_ind_09_bin', 'ps_ind_10_bin', 'ps_ind_11_bin', 'ps_ind_12_bin',\n",
       "       'ps_ind_13_bin', 'ps_ind_14', 'ps_ind_15', 'ps_ind_16_bin',\n",
       "       'ps_ind_17_bin', 'ps_ind_18_bin', 'ps_reg_01', 'ps_reg_02',\n",
       "       'ps_reg_03', 'ps_car_01_cat', 'ps_car_02_cat', 'ps_car_03_cat',\n",
       "       'ps_car_04_cat', 'ps_car_05_cat', 'ps_car_06_cat', 'ps_car_07_cat',\n",
       "       'ps_car_08_cat', 'ps_car_09_cat', 'ps_car_10_cat', 'ps_car_11_cat',\n",
       "       'ps_car_11', 'ps_car_12', 'ps_car_13', 'ps_car_14', 'ps_car_15',\n",
       "       'ps_reg_A', 'ps_reg_M'], dtype=object)"
      ]
     },
     "execution_count": 6,
     "metadata": {},
     "output_type": "execute_result"
    }
   ],
   "source": [
    "train.columns.values"
   ]
  },
  {
   "cell_type": "code",
   "execution_count": 7,
   "metadata": {
    "collapsed": false
   },
   "outputs": [
    {
     "name": "stdout",
     "output_type": "stream",
     "text": [
      "Init Shape:  (595212, 39)\n",
      "After Shape:  (595212, 136)\n",
      "Init Shape:  (892816, 39)\n",
      "After Shape:  (892816, 136)\n"
     ]
    }
   ],
   "source": [
    "### Froza's baseline\n",
    "### Froza's baseline\n",
    "\n",
    "d_median = train.median(axis=0)\n",
    "d_mean = train.mean(axis=0)\n",
    "d_skew = train.skew(axis=0)\n",
    "one_hot = {c: list(train[c].unique()) for c in train.columns if c not in ['id','target']}\n",
    "\n",
    "def transform_df(df):\n",
    "    df = pd.DataFrame(df)\n",
    "    dcol = [c for c in df.columns if c not in ['id','target']]\n",
    "    df['ps_car_13_x_ps_reg_03'] = df['ps_car_13'] * df['ps_reg_03']\n",
    "    df['negative_one_vals'] = np.sum((df[dcol]==-1).values, axis=1)\n",
    "    for c in dcol:\n",
    "        if '_bin' not in c: #standard arithmetic\n",
    "            df[c+str('_median_range')] = (df[c].values > d_median[c]).astype(np.int)\n",
    "            df[c+str('_mean_range')] = (df[c].values > d_mean[c]).astype(np.int)\n",
    "\n",
    "    for c in one_hot:\n",
    "        if len(one_hot[c])>2 and len(one_hot[c]) < 7:\n",
    "            for val in one_hot[c]:\n",
    "                df[c+'_oh_' + str(val)] = (df[c].values == val).astype(np.int)\n",
    "    return df\n",
    "\n",
    "def multi_transform(df):\n",
    "    print('Init Shape: ', df.shape)\n",
    "    p = Pool(cpu_count())\n",
    "    df = p.map(transform_df, np.array_split(df, cpu_count()))\n",
    "    df = pd.concat(df, axis=0, ignore_index=True).reset_index(drop=True)\n",
    "    p.close(); p.join()\n",
    "    print('After Shape: ', df.shape)\n",
    "    return df\n",
    "\n",
    "train = multi_transform(train)\n",
    "test = multi_transform(test)"
   ]
  },
  {
   "cell_type": "code",
   "execution_count": 83,
   "metadata": {
    "collapsed": false
   },
   "outputs": [],
   "source": [
    "from sklearn import metrics\n",
    "def ginic(actual, pred):\n",
    "    actual = np.asarray(actual) \n",
    "    n = len(actual)\n",
    "    a_s = actual[np.argsort(pred)]\n",
    "    a_c = a_s.cumsum()\n",
    "    giniSum = a_c.sum() / a_s.sum() - (n + 1) / 2.0\n",
    "    return giniSum / n\n",
    " \n",
    "def gini_normalized(a, p):\n",
    "    if p.ndim == 2:\n",
    "        p = p[:,1] \n",
    "    return ginic(a, p) / ginic(a, a)\n",
    "    \n",
    "\n",
    "def gini_xgb(preds, dtrain):\n",
    "    labels = dtrain.get_label()\n",
    "    gini_score = gini_normalized(labels, preds)\n",
    "    return 'gini', gini_score\n",
    "gini_sklearnf = metrics.make_scorer(gini_normalized, True, True)"
   ]
  },
  {
   "cell_type": "code",
   "execution_count": 64,
   "metadata": {
    "collapsed": false
   },
   "outputs": [
    {
     "name": "stdout",
     "output_type": "stream",
     "text": [
      "<class 'numpy.ndarray'> <class 'pandas.core.frame.DataFrame'>\n"
     ]
    }
   ],
   "source": [
    "print(type(train),type(test))"
   ]
  },
  {
   "cell_type": "markdown",
   "metadata": {},
   "source": [
    "# Use xgboost to stack"
   ]
  },
  {
   "cell_type": "code",
   "execution_count": 139,
   "metadata": {
    "collapsed": false
   },
   "outputs": [],
   "source": [
    "class Clf4Stack_xgb_2(object):\n",
    "    def __init__(self, params, feval, verbose_eval, early_stopping_rounds=70, n_splits=5):\n",
    "        self.params = params\n",
    "        self.feval = feval\n",
    "        self.verbose_eval = verbose_eval\n",
    "        self.early_stopping_rounds = early_stopping_rounds\n",
    "        self.n_splits = n_splits\n",
    "\n",
    "    def fit_predict(self, trainX, trainy, testX):\n",
    "\n",
    "        self.train4stack = np.zeros(len(trainX))\n",
    "        self.test4stack = np.zeros(len(testX))\n",
    "\n",
    "        skf = StratifiedKFold(n_splits=self.n_splits, shuffle=True, random_state=99)\n",
    "\n",
    "        for i, (train_index,test_index) in enumerate(skf.split(trainX, trainy)):\n",
    "            print(\"=====Round {0}/{1}=====\".format(i+1,self.n_splits))\n",
    "            x_train, x_valid = trainX[train_index], trainX[test_index]\n",
    "            y_train, y_valid = trainy[train_index], trainy[test_index]\n",
    "\n",
    "            watchlist = [(xgb.DMatrix(x_train,y_train), 'train'), (xgb.DMatrix(x_valid, y_valid), 'valid')]\n",
    "            model = xgb.train(self.params, xgb.DMatrix(x_train,y_train), 1100, watchlist, feval=self.feval,\n",
    "                             verbose_eval=self.verbose_eval,maximize=True,\n",
    "                             early_stopping_rounds=self.early_stopping_rounds)\n",
    "            \n",
    "            y_pred = model.predict(xgb.DMatrix(x_valid),ntree_limit=model.best_ntree_limit)\n",
    "            self.train4stack[test_index] = y_pred\n",
    "            self.test4stack += model.predict(xgb.DMatrix(testX),ntree_limit=model.best_ntree_limit)\n",
    "        \n",
    "        self.test4stack /= self.n_splits\n",
    "            \n",
    "    def output(self,train_file_name='train4stack.csv',\n",
    "                    test_file_name='test4stack.csv',\n",
    "                    col_name='F4stack'):\n",
    "\n",
    "        pd.DataFrame({col_name:self.train4stack}).to_csv(train_file_name,index=False) \n",
    "        pd.DataFrame({col_name:self.test4stack}).to_csv(test_file_name,index=False)"
   ]
  },
  {
   "cell_type": "code",
   "execution_count": 135,
   "metadata": {
    "collapsed": true
   },
   "outputs": [],
   "source": [
    "params = {'eta': 0.025, 'max_depth': 4, \n",
    "          'subsample': 0.9, 'colsample_bytree': 0.7, \n",
    "          'colsample_bylevel':0.7,\n",
    "            'min_child_weight':100,\n",
    "            'alpha':4,\n",
    "            'objective': 'binary:logistic', 'eval_metric': 'auc', 'seed': 99, 'silent': True}"
   ]
  },
  {
   "cell_type": "code",
   "execution_count": 141,
   "metadata": {
    "collapsed": false
   },
   "outputs": [
    {
     "name": "stdout",
     "output_type": "stream",
     "text": [
      "=====Round 1/5=====\n",
      "[0]\ttrain-gini:0.172903\tvalid-gini:0.163643\n",
      "Multiple eval metrics have been passed: 'valid-gini' will be used for early stopping.\n",
      "\n",
      "Will train until valid-gini hasn't improved in 70 rounds.\n",
      "[50]\ttrain-gini:0.245237\tvalid-gini:0.235502\n",
      "[100]\ttrain-gini:0.254422\tvalid-gini:0.24268\n",
      "[150]\ttrain-gini:0.268719\tvalid-gini:0.256267\n",
      "[200]\ttrain-gini:0.280859\tvalid-gini:0.267175\n",
      "[250]\ttrain-gini:0.289594\tvalid-gini:0.273548\n",
      "[300]\ttrain-gini:0.296573\tvalid-gini:0.277897\n",
      "[350]\ttrain-gini:0.302025\tvalid-gini:0.280804\n",
      "[400]\ttrain-gini:0.306832\tvalid-gini:0.282987\n",
      "[450]\ttrain-gini:0.311262\tvalid-gini:0.28421\n",
      "[500]\ttrain-gini:0.315629\tvalid-gini:0.28546\n",
      "[550]\ttrain-gini:0.319885\tvalid-gini:0.286366\n",
      "[600]\ttrain-gini:0.323709\tvalid-gini:0.287508\n",
      "[650]\ttrain-gini:0.327197\tvalid-gini:0.288452\n",
      "[700]\ttrain-gini:0.330292\tvalid-gini:0.288608\n",
      "[750]\ttrain-gini:0.333387\tvalid-gini:0.288954\n",
      "[800]\ttrain-gini:0.336368\tvalid-gini:0.289356\n",
      "[850]\ttrain-gini:0.339448\tvalid-gini:0.289535\n",
      "[900]\ttrain-gini:0.342202\tvalid-gini:0.289829\n",
      "[950]\ttrain-gini:0.345003\tvalid-gini:0.290035\n",
      "[1000]\ttrain-gini:0.347499\tvalid-gini:0.289982\n",
      "Stopping. Best iteration:\n",
      "[936]\ttrain-gini:0.34425\tvalid-gini:0.290111\n",
      "\n",
      "=====Round 2/5=====\n",
      "[0]\ttrain-gini:0.168288\tvalid-gini:0.169473\n",
      "Multiple eval metrics have been passed: 'valid-gini' will be used for early stopping.\n",
      "\n",
      "Will train until valid-gini hasn't improved in 70 rounds.\n",
      "[50]\ttrain-gini:0.241688\tvalid-gini:0.244401\n",
      "[100]\ttrain-gini:0.254341\tvalid-gini:0.250913\n",
      "[150]\ttrain-gini:0.268931\tvalid-gini:0.261187\n",
      "[200]\ttrain-gini:0.280744\tvalid-gini:0.268769\n",
      "[250]\ttrain-gini:0.290281\tvalid-gini:0.274294\n",
      "[300]\ttrain-gini:0.297393\tvalid-gini:0.277477\n",
      "[350]\ttrain-gini:0.303097\tvalid-gini:0.279887\n",
      "[400]\ttrain-gini:0.308235\tvalid-gini:0.281378\n",
      "[450]\ttrain-gini:0.312266\tvalid-gini:0.282881\n",
      "[500]\ttrain-gini:0.316226\tvalid-gini:0.283897\n",
      "[550]\ttrain-gini:0.320006\tvalid-gini:0.284859\n",
      "[600]\ttrain-gini:0.323314\tvalid-gini:0.285553\n",
      "[650]\ttrain-gini:0.326757\tvalid-gini:0.285934\n",
      "[700]\ttrain-gini:0.329838\tvalid-gini:0.286204\n",
      "[750]\ttrain-gini:0.332993\tvalid-gini:0.286352\n",
      "Stopping. Best iteration:\n",
      "[691]\ttrain-gini:0.329319\tvalid-gini:0.286369\n",
      "\n",
      "=====Round 3/5=====\n",
      "[0]\ttrain-gini:0.16813\tvalid-gini:0.154027\n",
      "Multiple eval metrics have been passed: 'valid-gini' will be used for early stopping.\n",
      "\n",
      "Will train until valid-gini hasn't improved in 70 rounds.\n",
      "[50]\ttrain-gini:0.244977\tvalid-gini:0.226356\n",
      "[100]\ttrain-gini:0.257507\tvalid-gini:0.236513\n",
      "[150]\ttrain-gini:0.27141\tvalid-gini:0.24865\n",
      "[200]\ttrain-gini:0.283586\tvalid-gini:0.256562\n",
      "[250]\ttrain-gini:0.29352\tvalid-gini:0.262311\n",
      "[300]\ttrain-gini:0.300386\tvalid-gini:0.265667\n",
      "[350]\ttrain-gini:0.306442\tvalid-gini:0.267776\n",
      "[400]\ttrain-gini:0.31189\tvalid-gini:0.269221\n",
      "[450]\ttrain-gini:0.316247\tvalid-gini:0.269687\n",
      "[500]\ttrain-gini:0.320524\tvalid-gini:0.270449\n",
      "[550]\ttrain-gini:0.324659\tvalid-gini:0.27131\n",
      "[600]\ttrain-gini:0.32818\tvalid-gini:0.271423\n",
      "[650]\ttrain-gini:0.33185\tvalid-gini:0.272221\n",
      "[700]\ttrain-gini:0.334838\tvalid-gini:0.272556\n",
      "[750]\ttrain-gini:0.338171\tvalid-gini:0.272279\n",
      "Stopping. Best iteration:\n",
      "[700]\ttrain-gini:0.334838\tvalid-gini:0.272556\n",
      "\n",
      "=====Round 4/5=====\n",
      "[0]\ttrain-gini:0.181153\tvalid-gini:0.177837\n",
      "Multiple eval metrics have been passed: 'valid-gini' will be used for early stopping.\n",
      "\n",
      "Will train until valid-gini hasn't improved in 70 rounds.\n",
      "[50]\ttrain-gini:0.246526\tvalid-gini:0.229766\n",
      "[100]\ttrain-gini:0.256256\tvalid-gini:0.236584\n",
      "[150]\ttrain-gini:0.270654\tvalid-gini:0.248818\n",
      "[200]\ttrain-gini:0.283616\tvalid-gini:0.257496\n",
      "[250]\ttrain-gini:0.292569\tvalid-gini:0.263512\n",
      "[300]\ttrain-gini:0.299047\tvalid-gini:0.268211\n",
      "[350]\ttrain-gini:0.304246\tvalid-gini:0.271818\n",
      "[400]\ttrain-gini:0.309426\tvalid-gini:0.274485\n",
      "[450]\ttrain-gini:0.313836\tvalid-gini:0.276863\n",
      "[500]\ttrain-gini:0.317675\tvalid-gini:0.278188\n",
      "[550]\ttrain-gini:0.32171\tvalid-gini:0.279295\n",
      "[600]\ttrain-gini:0.325454\tvalid-gini:0.280063\n",
      "[650]\ttrain-gini:0.328486\tvalid-gini:0.280724\n",
      "[700]\ttrain-gini:0.331569\tvalid-gini:0.281414\n",
      "[750]\ttrain-gini:0.334469\tvalid-gini:0.281594\n",
      "[800]\ttrain-gini:0.337254\tvalid-gini:0.282071\n",
      "[850]\ttrain-gini:0.339919\tvalid-gini:0.282044\n",
      "[900]\ttrain-gini:0.342508\tvalid-gini:0.282125\n",
      "Stopping. Best iteration:\n",
      "[835]\ttrain-gini:0.339069\tvalid-gini:0.282138\n",
      "\n",
      "=====Round 5/5=====\n",
      "[0]\ttrain-gini:0.167586\tvalid-gini:0.162054\n",
      "Multiple eval metrics have been passed: 'valid-gini' will be used for early stopping.\n",
      "\n",
      "Will train until valid-gini hasn't improved in 70 rounds.\n",
      "[50]\ttrain-gini:0.241447\tvalid-gini:0.242567\n",
      "[100]\ttrain-gini:0.253497\tvalid-gini:0.253643\n",
      "[150]\ttrain-gini:0.267205\tvalid-gini:0.263842\n",
      "[200]\ttrain-gini:0.279392\tvalid-gini:0.272904\n",
      "[250]\ttrain-gini:0.288496\tvalid-gini:0.278469\n",
      "[300]\ttrain-gini:0.295567\tvalid-gini:0.282746\n",
      "[350]\ttrain-gini:0.301709\tvalid-gini:0.285253\n",
      "[400]\ttrain-gini:0.306964\tvalid-gini:0.287556\n",
      "[450]\ttrain-gini:0.311559\tvalid-gini:0.289688\n",
      "[500]\ttrain-gini:0.315252\tvalid-gini:0.290822\n",
      "[550]\ttrain-gini:0.319332\tvalid-gini:0.291995\n",
      "[600]\ttrain-gini:0.322703\tvalid-gini:0.292497\n",
      "[650]\ttrain-gini:0.326187\tvalid-gini:0.292393\n",
      "[700]\ttrain-gini:0.329246\tvalid-gini:0.293137\n",
      "[750]\ttrain-gini:0.332329\tvalid-gini:0.293339\n",
      "[800]\ttrain-gini:0.335446\tvalid-gini:0.293473\n",
      "[850]\ttrain-gini:0.338445\tvalid-gini:0.293583\n",
      "[900]\ttrain-gini:0.341338\tvalid-gini:0.293629\n",
      "[950]\ttrain-gini:0.343955\tvalid-gini:0.293848\n",
      "[1000]\ttrain-gini:0.346575\tvalid-gini:0.29424\n",
      "[1050]\ttrain-gini:0.349269\tvalid-gini:0.294184\n",
      "Stopping. Best iteration:\n",
      "[1025]\ttrain-gini:0.347854\tvalid-gini:0.29441\n",
      "\n"
     ]
    }
   ],
   "source": [
    "C4S_2 = Clf4Stack_xgb_2(params,\n",
    "                     gini_xgb, \n",
    "                     verbose_eval=50,\n",
    "                    early_stopping_rounds=70,\n",
    "                    n_splits=5)\n",
    "C4S_2.fit_predict(train, y, test)\n",
    "\n"
   ]
  },
  {
   "cell_type": "code",
   "execution_count": 168,
   "metadata": {
    "collapsed": true
   },
   "outputs": [],
   "source": [
    "C4S_2.output()"
   ]
  },
  {
   "cell_type": "code",
   "execution_count": 169,
   "metadata": {
    "collapsed": true
   },
   "outputs": [],
   "source": [
    "df_test4stack = pd.read_csv('test4stack.csv')"
   ]
  },
  {
   "cell_type": "code",
   "execution_count": 170,
   "metadata": {
    "collapsed": false
   },
   "outputs": [
    {
     "data": {
      "text/html": [
       "<div>\n",
       "<table border=\"1\" class=\"dataframe\">\n",
       "  <thead>\n",
       "    <tr style=\"text-align: right;\">\n",
       "      <th></th>\n",
       "      <th>F4stack</th>\n",
       "    </tr>\n",
       "  </thead>\n",
       "  <tbody>\n",
       "    <tr>\n",
       "      <th>0</th>\n",
       "      <td>0.025915</td>\n",
       "    </tr>\n",
       "    <tr>\n",
       "      <th>1</th>\n",
       "      <td>0.023498</td>\n",
       "    </tr>\n",
       "    <tr>\n",
       "      <th>2</th>\n",
       "      <td>0.025396</td>\n",
       "    </tr>\n",
       "    <tr>\n",
       "      <th>3</th>\n",
       "      <td>0.014122</td>\n",
       "    </tr>\n",
       "    <tr>\n",
       "      <th>4</th>\n",
       "      <td>0.033667</td>\n",
       "    </tr>\n",
       "  </tbody>\n",
       "</table>\n",
       "</div>"
      ],
      "text/plain": [
       "    F4stack\n",
       "0  0.025915\n",
       "1  0.023498\n",
       "2  0.025396\n",
       "3  0.014122\n",
       "4  0.033667"
      ]
     },
     "execution_count": 170,
     "metadata": {},
     "output_type": "execute_result"
    }
   ],
   "source": [
    "df_test4stack.head()"
   ]
  },
  {
   "cell_type": "code",
   "execution_count": 171,
   "metadata": {
    "collapsed": false
   },
   "outputs": [
    {
     "data": {
      "text/html": [
       "<div>\n",
       "<table border=\"1\" class=\"dataframe\">\n",
       "  <thead>\n",
       "    <tr style=\"text-align: right;\">\n",
       "      <th></th>\n",
       "      <th>id</th>\n",
       "      <th>target</th>\n",
       "    </tr>\n",
       "  </thead>\n",
       "  <tbody>\n",
       "    <tr>\n",
       "      <th>0</th>\n",
       "      <td>0</td>\n",
       "      <td>0.025915</td>\n",
       "    </tr>\n",
       "    <tr>\n",
       "      <th>1</th>\n",
       "      <td>1</td>\n",
       "      <td>0.023498</td>\n",
       "    </tr>\n",
       "    <tr>\n",
       "      <th>2</th>\n",
       "      <td>2</td>\n",
       "      <td>0.025396</td>\n",
       "    </tr>\n",
       "    <tr>\n",
       "      <th>3</th>\n",
       "      <td>3</td>\n",
       "      <td>0.014122</td>\n",
       "    </tr>\n",
       "    <tr>\n",
       "      <th>4</th>\n",
       "      <td>4</td>\n",
       "      <td>0.033667</td>\n",
       "    </tr>\n",
       "  </tbody>\n",
       "</table>\n",
       "</div>"
      ],
      "text/plain": [
       "   id    target\n",
       "0   0  0.025915\n",
       "1   1  0.023498\n",
       "2   2  0.025396\n",
       "3   3  0.014122\n",
       "4   4  0.033667"
      ]
     },
     "execution_count": 171,
     "metadata": {},
     "output_type": "execute_result"
    }
   ],
   "source": [
    "sub = pd.DataFrame()\n",
    "sub['id'] = testid\n",
    "sub['target'] =df_test4stack['F4stack']\n",
    "sub.head()"
   ]
  },
  {
   "cell_type": "code",
   "execution_count": 172,
   "metadata": {
    "collapsed": true
   },
   "outputs": [],
   "source": [
    "sub.to_csv('xgb4stack.csv',index=False)"
   ]
  },
  {
   "cell_type": "code",
   "execution_count": 153,
   "metadata": {
    "collapsed": true
   },
   "outputs": [],
   "source": [
    "df_train4stack = pd.read_csv('train4stack.csv')\n",
    "df_train4stack = np.array(df_train4stack)"
   ]
  },
  {
   "cell_type": "code",
   "execution_count": 78,
   "metadata": {
    "collapsed": false
   },
   "outputs": [
    {
     "name": "stdout",
     "output_type": "stream",
     "text": [
      "[0]\ttrain-gini:0.184662\tvalid-gini:0.177318\n",
      "Multiple eval metrics have been passed: 'valid-gini' will be used for early stopping.\n",
      "\n",
      "Will train until valid-gini hasn't improved in 70 rounds.\n",
      "[100]\ttrain-gini:0.256703\tvalid-gini:0.247427\n",
      "[200]\ttrain-gini:0.283564\tvalid-gini:0.262223\n",
      "[300]\ttrain-gini:0.299508\tvalid-gini:0.272256\n",
      "[400]\ttrain-gini:0.311043\tvalid-gini:0.27657\n",
      "[500]\ttrain-gini:0.319699\tvalid-gini:0.279318\n",
      "[600]\ttrain-gini:0.327429\tvalid-gini:0.280662\n",
      "[700]\ttrain-gini:0.334044\tvalid-gini:0.281427\n",
      "[800]\ttrain-gini:0.339485\tvalid-gini:0.281925\n",
      "[900]\ttrain-gini:0.344713\tvalid-gini:0.282627\n",
      "[1000]\ttrain-gini:0.350165\tvalid-gini:0.282678\n",
      "Stopping. Best iteration:\n",
      "[1007]\ttrain-gini:0.350472\tvalid-gini:0.282758\n",
      "\n"
     ]
    }
   ],
   "source": [
    "sub = pd.DataFrame()\n",
    "sub['id'] = testid\n",
    "params = {'eta': 0.025, 'max_depth': 4, \n",
    "          'subsample': 0.9, 'colsample_bytree': 0.7, \n",
    "          'colsample_bylevel':0.7,\n",
    "            'min_child_weight':100,\n",
    "            'alpha':4,\n",
    "            'objective': 'binary:logistic', 'eval_metric': 'auc', 'seed': 99, 'silent': True}\n",
    "x1, x2, y1, y2 = train_test_split(train, y, test_size=0.25, random_state=99)\n",
    "\n",
    "\n",
    "\n",
    "watchlist = [(xgb.DMatrix(x1, y1), 'train'), (xgb.DMatrix(x2, y2), 'valid')]\n",
    "model = xgb.train(params, xgb.DMatrix(x1, y1), 5000,  watchlist, feval=gini_xgb, maximize=True, \n",
    "                  verbose_eval=100, early_stopping_rounds=70)\n",
    "\n",
    "\n",
    "sub['target'] = model.predict(xgb.DMatrix(test), ntree_limit=model.best_ntree_limit)\n"
   ]
  },
  {
   "cell_type": "markdown",
   "metadata": {},
   "source": [
    "# Use xgbclassifier to stack"
   ]
  },
  {
   "cell_type": "code",
   "execution_count": 166,
   "metadata": {
    "collapsed": true
   },
   "outputs": [],
   "source": [
    "class Clf4Stack_xgb(object):\n",
    "    def __init__(self, model, metric, early_stopping_rounds=10, test_size=0.25, verbose=False, n_splits=5):\n",
    "        self.n_splits = n_splits\n",
    "        self.model = model\n",
    "        self.metric = metric\n",
    "        self.early_stopping_rounds = early_stopping_rounds\n",
    "        self.test_size = test_size\n",
    "        self.verbose = verbose\n",
    "\n",
    "    def fit_predict(self, trainX, trainy, testX):\n",
    "\n",
    "        self.train4stack = np.zeros(len(trainX))\n",
    "        self.test4stack = np.zeros(len(testX))\n",
    "\n",
    "        skf = StratifiedKFold(n_splits=self.n_splits, shuffle=True, random_state=44)\n",
    "\n",
    "        for i, (train_index,test_index) in enumerate(skf.split(trainX, trainy)):\n",
    "            print(\"=====Round {0}/{1}=====\".format(i+1,self.n_splits))\n",
    "            X_train, X_test = trainX[train_index], trainX[test_index]\n",
    "            y_train, y_test = trainy[train_index], trainy[test_index]\n",
    "\n",
    "            x1, x2, y1, y2 = train_test_split(X_train, y_train, test_size=self.test_size, random_state=99)\n",
    "            \n",
    "            self.model.fit(x1, y1, \n",
    "                           eval_set=[(x1,y1),(x2,y2)], \n",
    "                           eval_metric=self.metric,\n",
    "                           early_stopping_rounds=self.early_stopping_rounds,\n",
    "                           verbose=self.verbose)\n",
    "            \n",
    "            y_pred = self.model.predict_proba(X_test,ntree_limit=self.model.best_ntree_limit)[:,1]\n",
    "            self.train4stack[test_index] = y_pred\n",
    "            self.test4stack += self.model.predict_proba(testX,ntree_limit=self.model.best_ntree_limit)[:,1]\n",
    "        \n",
    "        self.test4stack /= self.n_splits\n",
    "            \n",
    "    def output(self,train_file_name='train4stack.csv',\n",
    "                    test_file_name='test4stack.csv',\n",
    "                    col_name='F4stack'):\n",
    "\n",
    "        pd.DataFrame({col_name:self.train4stack}).to_csv(train_file_name,index=False) \n",
    "        pd.DataFrame({col_name:self.test4stack}).to_csv(test_file_name,index=False)"
   ]
  },
  {
   "cell_type": "code",
   "execution_count": 167,
   "metadata": {
    "collapsed": false
   },
   "outputs": [
    {
     "data": {
      "text/plain": [
       "XGBClassifier(base_score=0.5, colsample_bylevel=0.7, colsample_bytree=0.7,\n",
       "       gamma=0, learning_rate=0.025, max_delta_step=0, max_depth=4,\n",
       "       min_child_weight=100, missing=None, n_estimators=100, nthread=-1,\n",
       "       objective='binary:logistic', reg_alpha=0, reg_lambda=1,\n",
       "       scale_pos_weight=1, seed=99, silent=True, subsample=0.9)"
      ]
     },
     "execution_count": 167,
     "metadata": {},
     "output_type": "execute_result"
    }
   ],
   "source": [
    "\n",
    "from xgboost import XGBClassifier\n",
    "\n",
    "params = {'learning_rate': 0.025, \n",
    "          'max_depth': 4, \n",
    "          'subsample': 0.9, \n",
    "          'colsample_bytree': 0.7, \n",
    "          'colsample_bylevel':0.7,\n",
    "          'min_child_weight':100,\n",
    "          'objective': 'binary:logistic', \n",
    "          'seed': 99, \n",
    "          'silent': True}\n",
    "\n",
    "xgb = XGBClassifier()\n",
    "xgb.set_params(**params)"
   ]
  },
  {
   "cell_type": "code",
   "execution_count": 175,
   "metadata": {
    "collapsed": true
   },
   "outputs": [],
   "source": [
    "C4S = Clf4Stack_xgb(xgb, \n",
    "                    gini_xgb, \n",
    "                    early_stopping_rounds=10, \n",
    "                    test_size=0.25, \n",
    "                    verbose=50, \n",
    "                    n_splits=5)"
   ]
  },
  {
   "cell_type": "code",
   "execution_count": 180,
   "metadata": {
    "collapsed": false
   },
   "outputs": [
    {
     "name": "stdout",
     "output_type": "stream",
     "text": [
      "=====Round 1/5=====\n",
      "[0]\tvalidation_0-gini:0.195231\tvalidation_1-gini:0.174655\n",
      "Multiple eval metrics have been passed: 'validation_1-gini' will be used for early stopping.\n",
      "\n",
      "Will train until validation_1-gini hasn't improved in 10 rounds.\n",
      "Stopping. Best iteration:\n",
      "[0]\tvalidation_0-gini:0.195231\tvalidation_1-gini:0.174655\n",
      "\n",
      "=====Round 2/5=====\n",
      "[0]\tvalidation_0-gini:0.190588\tvalidation_1-gini:0.199714\n",
      "Multiple eval metrics have been passed: 'validation_1-gini' will be used for early stopping.\n",
      "\n",
      "Will train until validation_1-gini hasn't improved in 10 rounds.\n",
      "Stopping. Best iteration:\n",
      "[0]\tvalidation_0-gini:0.190588\tvalidation_1-gini:0.199714\n",
      "\n",
      "=====Round 3/5=====\n",
      "[0]\tvalidation_0-gini:0.18936\tvalidation_1-gini:0.165823\n",
      "Multiple eval metrics have been passed: 'validation_1-gini' will be used for early stopping.\n",
      "\n",
      "Will train until validation_1-gini hasn't improved in 10 rounds.\n",
      "Stopping. Best iteration:\n",
      "[0]\tvalidation_0-gini:0.18936\tvalidation_1-gini:0.165823\n",
      "\n",
      "=====Round 4/5=====\n",
      "[0]\tvalidation_0-gini:0.204881\tvalidation_1-gini:0.182313\n",
      "Multiple eval metrics have been passed: 'validation_1-gini' will be used for early stopping.\n",
      "\n",
      "Will train until validation_1-gini hasn't improved in 10 rounds.\n",
      "Stopping. Best iteration:\n",
      "[0]\tvalidation_0-gini:0.204881\tvalidation_1-gini:0.182313\n",
      "\n",
      "=====Round 5/5=====\n",
      "[0]\tvalidation_0-gini:0.187174\tvalidation_1-gini:0.188519\n",
      "Multiple eval metrics have been passed: 'validation_1-gini' will be used for early stopping.\n",
      "\n",
      "Will train until validation_1-gini hasn't improved in 10 rounds.\n",
      "Stopping. Best iteration:\n",
      "[0]\tvalidation_0-gini:0.187174\tvalidation_1-gini:0.188519\n",
      "\n"
     ]
    }
   ],
   "source": [
    "C4S.fit_predict(train, y, test)"
   ]
  },
  {
   "cell_type": "code",
   "execution_count": null,
   "metadata": {
    "collapsed": true
   },
   "outputs": [],
   "source": []
  }
 ],
 "metadata": {
  "kernelspec": {
   "display_name": "Python 3",
   "language": "python",
   "name": "python3"
  },
  "language_info": {
   "codemirror_mode": {
    "name": "ipython",
    "version": 3
   },
   "file_extension": ".py",
   "mimetype": "text/x-python",
   "name": "python",
   "nbconvert_exporter": "python",
   "pygments_lexer": "ipython3",
   "version": "3.6.0"
  }
 },
 "nbformat": 4,
 "nbformat_minor": 2
}
