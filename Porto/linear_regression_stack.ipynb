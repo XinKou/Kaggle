{
 "cells": [
  {
   "cell_type": "code",
   "execution_count": 76,
   "metadata": {
    "collapsed": false
   },
   "outputs": [
    {
     "name": "stdout",
     "output_type": "stream",
     "text": [
      "\u001b[34mlgb_stack\u001b[m\u001b[m/       \u001b[34mmubi_20171125_2\u001b[m\u001b[m/ \u001b[34mmubi_20171125_4\u001b[m\u001b[m/ \u001b[34mtian_20171126\u001b[m\u001b[m/\r\n",
      "\u001b[34mmubi_20171125\u001b[m\u001b[m/   \u001b[34mmubi_20171125_3\u001b[m\u001b[m/ \u001b[34mmubi_20171125_5\u001b[m\u001b[m/ \u001b[34mtian_20171126_1\u001b[m\u001b[m/\r\n"
     ]
    }
   ],
   "source": [
    "ls data4stack/"
   ]
  },
  {
   "cell_type": "code",
   "execution_count": 33,
   "metadata": {
    "collapsed": true
   },
   "outputs": [],
   "source": [
    "import os\n",
    "import pandas as pd\n",
    "import matplotlib.pylab as plt\n",
    "from sklearn.model_selection import StratifiedKFold, train_test_split"
   ]
  },
  {
   "cell_type": "code",
   "execution_count": 77,
   "metadata": {
    "collapsed": true
   },
   "outputs": [],
   "source": [
    "train = pd.read_csv('data/train.csv',usecols=['target'])\n",
    "test = pd.DataFrame()"
   ]
  },
  {
   "cell_type": "code",
   "execution_count": 78,
   "metadata": {
    "collapsed": true
   },
   "outputs": [],
   "source": [
    "foldernames = os.popen('ls data4stack').readlines()"
   ]
  },
  {
   "cell_type": "code",
   "execution_count": 79,
   "metadata": {
    "collapsed": false
   },
   "outputs": [
    {
     "data": {
      "text/plain": [
       "['lgb_stack\\n',\n",
       " 'mubi_20171125\\n',\n",
       " 'mubi_20171125_2\\n',\n",
       " 'mubi_20171125_3\\n',\n",
       " 'mubi_20171125_4\\n',\n",
       " 'mubi_20171125_5\\n',\n",
       " 'tian_20171126\\n',\n",
       " 'tian_20171126_1\\n']"
      ]
     },
     "execution_count": 79,
     "metadata": {},
     "output_type": "execute_result"
    }
   ],
   "source": [
    "foldernames"
   ]
  },
  {
   "cell_type": "code",
   "execution_count": 80,
   "metadata": {
    "collapsed": true
   },
   "outputs": [],
   "source": [
    "for foldername in foldernames:\n",
    "    foldername = foldername[:-1]\n",
    "    train[foldername] = pd.read_csv('data4stack/{0}/train4stack.csv'.format(foldername))\n",
    "    test[foldername] = pd.read_csv('data4stack/{0}/test4stack.csv'.format(foldername))\n"
   ]
  },
  {
   "cell_type": "code",
   "execution_count": 81,
   "metadata": {
    "collapsed": false
   },
   "outputs": [
    {
     "data": {
      "text/html": [
       "<div>\n",
       "<table border=\"1\" class=\"dataframe\">\n",
       "  <thead>\n",
       "    <tr style=\"text-align: right;\">\n",
       "      <th></th>\n",
       "      <th>target</th>\n",
       "      <th>lgb_stack</th>\n",
       "      <th>mubi_20171125</th>\n",
       "      <th>mubi_20171125_2</th>\n",
       "      <th>mubi_20171125_3</th>\n",
       "      <th>mubi_20171125_4</th>\n",
       "      <th>mubi_20171125_5</th>\n",
       "      <th>tian_20171126</th>\n",
       "      <th>tian_20171126_1</th>\n",
       "    </tr>\n",
       "  </thead>\n",
       "  <tbody>\n",
       "    <tr>\n",
       "      <th>0</th>\n",
       "      <td>0</td>\n",
       "      <td>0.040483</td>\n",
       "      <td>0.051245</td>\n",
       "      <td>0.048280</td>\n",
       "      <td>0.048640</td>\n",
       "      <td>0.049065</td>\n",
       "      <td>0.577594</td>\n",
       "      <td>0.069212</td>\n",
       "      <td>0.040211</td>\n",
       "    </tr>\n",
       "    <tr>\n",
       "      <th>1</th>\n",
       "      <td>0</td>\n",
       "      <td>0.031868</td>\n",
       "      <td>0.030891</td>\n",
       "      <td>0.033551</td>\n",
       "      <td>0.031431</td>\n",
       "      <td>0.033893</td>\n",
       "      <td>0.464457</td>\n",
       "      <td>0.047779</td>\n",
       "      <td>0.022514</td>\n",
       "    </tr>\n",
       "    <tr>\n",
       "      <th>2</th>\n",
       "      <td>0</td>\n",
       "      <td>0.026850</td>\n",
       "      <td>0.020946</td>\n",
       "      <td>0.020689</td>\n",
       "      <td>0.022028</td>\n",
       "      <td>0.023877</td>\n",
       "      <td>0.306400</td>\n",
       "      <td>0.030663</td>\n",
       "      <td>0.021269</td>\n",
       "    </tr>\n",
       "    <tr>\n",
       "      <th>3</th>\n",
       "      <td>0</td>\n",
       "      <td>0.024135</td>\n",
       "      <td>0.015791</td>\n",
       "      <td>0.016253</td>\n",
       "      <td>0.014553</td>\n",
       "      <td>0.014347</td>\n",
       "      <td>0.285240</td>\n",
       "      <td>0.022902</td>\n",
       "      <td>0.015595</td>\n",
       "    </tr>\n",
       "    <tr>\n",
       "      <th>4</th>\n",
       "      <td>0</td>\n",
       "      <td>0.031031</td>\n",
       "      <td>0.027638</td>\n",
       "      <td>0.041812</td>\n",
       "      <td>0.036286</td>\n",
       "      <td>0.036420</td>\n",
       "      <td>0.467099</td>\n",
       "      <td>0.054779</td>\n",
       "      <td>0.039256</td>\n",
       "    </tr>\n",
       "  </tbody>\n",
       "</table>\n",
       "</div>"
      ],
      "text/plain": [
       "   target  lgb_stack  mubi_20171125  mubi_20171125_2  mubi_20171125_3  \\\n",
       "0       0   0.040483       0.051245         0.048280         0.048640   \n",
       "1       0   0.031868       0.030891         0.033551         0.031431   \n",
       "2       0   0.026850       0.020946         0.020689         0.022028   \n",
       "3       0   0.024135       0.015791         0.016253         0.014553   \n",
       "4       0   0.031031       0.027638         0.041812         0.036286   \n",
       "\n",
       "   mubi_20171125_4  mubi_20171125_5  tian_20171126  tian_20171126_1  \n",
       "0         0.049065         0.577594       0.069212         0.040211  \n",
       "1         0.033893         0.464457       0.047779         0.022514  \n",
       "2         0.023877         0.306400       0.030663         0.021269  \n",
       "3         0.014347         0.285240       0.022902         0.015595  \n",
       "4         0.036420         0.467099       0.054779         0.039256  "
      ]
     },
     "execution_count": 81,
     "metadata": {},
     "output_type": "execute_result"
    }
   ],
   "source": [
    "train.head()"
   ]
  },
  {
   "cell_type": "code",
   "execution_count": 82,
   "metadata": {
    "collapsed": false
   },
   "outputs": [
    {
     "data": {
      "text/html": [
       "<div>\n",
       "<table border=\"1\" class=\"dataframe\">\n",
       "  <thead>\n",
       "    <tr style=\"text-align: right;\">\n",
       "      <th></th>\n",
       "      <th>lgb_stack</th>\n",
       "      <th>mubi_20171125</th>\n",
       "      <th>mubi_20171125_2</th>\n",
       "      <th>mubi_20171125_3</th>\n",
       "      <th>mubi_20171125_4</th>\n",
       "      <th>mubi_20171125_5</th>\n",
       "      <th>tian_20171126</th>\n",
       "      <th>tian_20171126_1</th>\n",
       "    </tr>\n",
       "  </thead>\n",
       "  <tbody>\n",
       "    <tr>\n",
       "      <th>0</th>\n",
       "      <td>0.029462</td>\n",
       "      <td>0.025915</td>\n",
       "      <td>0.027955</td>\n",
       "      <td>0.027292</td>\n",
       "      <td>0.030848</td>\n",
       "      <td>0.397098</td>\n",
       "      <td>0.039368</td>\n",
       "      <td>0.023685</td>\n",
       "    </tr>\n",
       "    <tr>\n",
       "      <th>1</th>\n",
       "      <td>0.028333</td>\n",
       "      <td>0.023498</td>\n",
       "      <td>0.025048</td>\n",
       "      <td>0.025674</td>\n",
       "      <td>0.027742</td>\n",
       "      <td>0.391438</td>\n",
       "      <td>0.039615</td>\n",
       "      <td>0.024046</td>\n",
       "    </tr>\n",
       "    <tr>\n",
       "      <th>2</th>\n",
       "      <td>0.027723</td>\n",
       "      <td>0.025396</td>\n",
       "      <td>0.023973</td>\n",
       "      <td>0.026053</td>\n",
       "      <td>0.025537</td>\n",
       "      <td>0.378132</td>\n",
       "      <td>0.037616</td>\n",
       "      <td>0.017658</td>\n",
       "    </tr>\n",
       "    <tr>\n",
       "      <th>3</th>\n",
       "      <td>0.023434</td>\n",
       "      <td>0.014122</td>\n",
       "      <td>0.013695</td>\n",
       "      <td>0.013879</td>\n",
       "      <td>0.013469</td>\n",
       "      <td>0.256923</td>\n",
       "      <td>0.022206</td>\n",
       "      <td>0.014766</td>\n",
       "    </tr>\n",
       "    <tr>\n",
       "      <th>4</th>\n",
       "      <td>0.033673</td>\n",
       "      <td>0.033667</td>\n",
       "      <td>0.035829</td>\n",
       "      <td>0.035695</td>\n",
       "      <td>0.035463</td>\n",
       "      <td>0.483296</td>\n",
       "      <td>0.054306</td>\n",
       "      <td>0.034534</td>\n",
       "    </tr>\n",
       "  </tbody>\n",
       "</table>\n",
       "</div>"
      ],
      "text/plain": [
       "   lgb_stack  mubi_20171125  mubi_20171125_2  mubi_20171125_3  \\\n",
       "0   0.029462       0.025915         0.027955         0.027292   \n",
       "1   0.028333       0.023498         0.025048         0.025674   \n",
       "2   0.027723       0.025396         0.023973         0.026053   \n",
       "3   0.023434       0.014122         0.013695         0.013879   \n",
       "4   0.033673       0.033667         0.035829         0.035695   \n",
       "\n",
       "   mubi_20171125_4  mubi_20171125_5  tian_20171126  tian_20171126_1  \n",
       "0         0.030848         0.397098       0.039368         0.023685  \n",
       "1         0.027742         0.391438       0.039615         0.024046  \n",
       "2         0.025537         0.378132       0.037616         0.017658  \n",
       "3         0.013469         0.256923       0.022206         0.014766  \n",
       "4         0.035463         0.483296       0.054306         0.034534  "
      ]
     },
     "execution_count": 82,
     "metadata": {},
     "output_type": "execute_result"
    }
   ],
   "source": [
    "test.head()"
   ]
  },
  {
   "cell_type": "code",
   "execution_count": 14,
   "metadata": {
    "collapsed": true
   },
   "outputs": [],
   "source": [
    "def ginic(actual, pred):\n",
    "    actual = np.asarray(actual) \n",
    "    n = len(actual)\n",
    "    a_s = actual[np.argsort(pred)]\n",
    "    a_c = a_s.cumsum()\n",
    "    giniSum = a_c.sum() / a_s.sum() - (n + 1) / 2.0\n",
    "    return giniSum / n\n",
    " \n",
    "def gini_normalized(a, p):\n",
    "    if p.ndim == 2:\n",
    "        p = p[:,1] \n",
    "    return ginic(a, p) / ginic(a, a)\n",
    "    \n",
    "def gini_xgb(preds, dtrain):\n",
    "    labels = dtrain.get_label()\n",
    "    gini_score = gini_normalized(labels, preds)\n",
    "    return 'gini', gini_score\n",
    "\n",
    "\n",
    "def gini_lgb(pred, dtrain):\n",
    "    y = list(dtrain.get_label())\n",
    "    score = ginic(y, pred) / ginic(y, y)\n",
    "    return [('gini', score, True)]\n"
   ]
  },
  {
   "cell_type": "code",
   "execution_count": null,
   "metadata": {
    "collapsed": true
   },
   "outputs": [],
   "source": []
  },
  {
   "cell_type": "code",
   "execution_count": 40,
   "metadata": {
    "collapsed": false
   },
   "outputs": [],
   "source": [
    "from sklearn.model_selection import KFold\n",
    "\n",
    "class CustomGridCV(object):\n",
    "    def __init__(self, X, y, model, metric, griddata, cv=5):\n",
    "        self.X = X\n",
    "        self.y = y\n",
    "        self.model = model\n",
    "        self.metric = metric\n",
    "        self.params = self.gridpoints(griddata)\n",
    "        self.cv = cv\n",
    "        self.bestScore = None\n",
    "        self.bestParams = None\n",
    "        \n",
    "    def gridpoints(self, data):\n",
    "        newparams = [{}]\n",
    "        for k in data.keys():\n",
    "            params = newparams\n",
    "            newparams = []\n",
    "            for v in data[k]:\n",
    "                for param in params:\n",
    "                    item = param.copy()\n",
    "                    item[k]=v\n",
    "                    newparams.append(item)           \n",
    "        return newparams\n",
    "    \n",
    "    def GridSearch(self):\n",
    "        for param in self.params:\n",
    "            self.model.set_params(**param)\n",
    "            score = self.KFoldScore()\n",
    "            if self.bestScore==None or self.bestScore<score:\n",
    "                self.bestScore = score\n",
    "                self.bestParams = param\n",
    "            print(\"Score: {0:.5f}, Params: {1}\".format(score,param))\n",
    "    \n",
    "    def KFoldScore(self):\n",
    "        kf = StratifiedKFold(n_splits=5, shuffle=True, random_state=2)\n",
    "        y_pred = np.zeros(len(self.y))\n",
    "\n",
    "        for train_index, test_index in kf.split(self.X,self.y):\n",
    "            train_X, test_X = self.X[train_index], self.X[test_index]\n",
    "            train_y, test_y = self.y[train_index], self.y[test_index]\n",
    "            self.model.fit(train_X,train_y)\n",
    "            #y_pred[test_index] = self.model.predict_proba(test_X)[:,1]\n",
    "            y_pred[test_index] = self.model.predict(test_X)\n",
    "            #print y_pred[test_index]\n",
    "\n",
    "        return self.metric(self.y,y_pred)\n",
    "    \n",
    "    def Best(self):\n",
    "        return self.bestScore, self.bestParams"
   ]
  },
  {
   "cell_type": "code",
   "execution_count": 11,
   "metadata": {
    "collapsed": true
   },
   "outputs": [],
   "source": [
    "\n",
    "import pandas as pd\n",
    "import numpy as np\n",
    "\n",
    "def PrepareData(df):\n",
    "    #df = pd.read_csv(trainpath,nrows=nrows)\n",
    "\n",
    "    features = list(df.columns)\n",
    "    target = 'target'\n",
    "    features.remove(target)\n",
    "\n",
    "    X = np.array(df[features])\n",
    "    y = np.array(df[target])\n",
    "    return X, y"
   ]
  },
  {
   "cell_type": "code",
   "execution_count": 12,
   "metadata": {
    "collapsed": true
   },
   "outputs": [],
   "source": [
    "\n",
    "from sklearn.linear_model import Lasso, LinearRegression, Ridge"
   ]
  },
  {
   "cell_type": "code",
   "execution_count": 41,
   "metadata": {
    "collapsed": false
   },
   "outputs": [
    {
     "name": "stdout",
     "output_type": "stream",
     "text": [
      "Score: 0.29631, Params: {'alpha': 0.0001}\n",
      "Score: 0.29197, Params: {'alpha': 1e-05}\n",
      "Score: 0.29128, Params: {'alpha': 1e-06}\n",
      "Score: 0.29121, Params: {'alpha': 1e-07}\n"
     ]
    },
    {
     "name": "stderr",
     "output_type": "stream",
     "text": [
      "/Users/sue/anaconda/lib/python3.6/site-packages/sklearn/linear_model/coordinate_descent.py:484: ConvergenceWarning: Objective did not converge. You might want to increase the number of iterations. Fitting data with very small alpha may cause precision problems.\n",
      "  ConvergenceWarning)\n"
     ]
    },
    {
     "name": "stdout",
     "output_type": "stream",
     "text": [
      "Score: 0.29121, Params: {'alpha': 1e-08}\n"
     ]
    }
   ],
   "source": [
    "X, y = PrepareData(train)\n",
    "model = Lasso(positive=True,fit_intercept=False)\n",
    "griddata = {'alpha':[1e-4,1e-5,1e-6,1e-7,1e-8]}\n",
    "GCV = CustomGridCV(X, y, model, gini_normalized, griddata)\n",
    "GCV.GridSearch()"
   ]
  },
  {
   "cell_type": "code",
   "execution_count": 42,
   "metadata": {
    "collapsed": false
   },
   "outputs": [
    {
     "name": "stdout",
     "output_type": "stream",
     "text": [
      "Score: 0.30082, Params: {'alpha': 0.001}\n",
      "Score: 0.30082, Params: {'alpha': 0.005}\n",
      "Score: 0.30082, Params: {'alpha': 0.008}\n"
     ]
    }
   ],
   "source": [
    "model = Lasso(positive=True,fit_intercept=False)\n",
    "griddata = {'alpha':[0.001,0.005,0.008]}\n",
    "GCV = CustomGridCV(X, y, model, gini_normalized, griddata)\n",
    "GCV.GridSearch()"
   ]
  },
  {
   "cell_type": "code",
   "execution_count": 87,
   "metadata": {
    "collapsed": true
   },
   "outputs": [],
   "source": [
    "LinearRegression?"
   ]
  },
  {
   "cell_type": "code",
   "execution_count": 89,
   "metadata": {
    "collapsed": false
   },
   "outputs": [],
   "source": [
    "model = LinearRegression(fit_intercept=False)\n",
    "#griddata = {'alpha':[0.001,0.005,0.008]}\n",
    "# GCV = CustomGridCV(X, y, model, gini_normalized, griddata)\n",
    "# GCV.GridSearch()"
   ]
  },
  {
   "cell_type": "code",
   "execution_count": 90,
   "metadata": {
    "collapsed": false
   },
   "outputs": [
    {
     "name": "stdout",
     "output_type": "stream",
     "text": [
      "[ 0.09015871  0.15098122  0.29302108 -0.23690296  0.18304832  0.01120628\n",
      "  0.23688016  0.03202152]\n",
      "0.291909480408\n"
     ]
    }
   ],
   "source": [
    "model.fit(X,y)\n",
    "\n",
    "print(model.coef_)\n",
    "\n",
    "print(gini_normalized(y,model.predict(X)))"
   ]
  },
  {
   "cell_type": "code",
   "execution_count": 62,
   "metadata": {
    "collapsed": false
   },
   "outputs": [
    {
     "name": "stdout",
     "output_type": "stream",
     "text": [
      "[ 0.          0.          0.          0.          0.          0.07842167\n",
      "  0.          0.        ]\n",
      "0.300824656429\n"
     ]
    }
   ],
   "source": [
    "model = Lasso(positive=True,fit_intercept=False,alpha=0.001)\n",
    "\n",
    "model.fit(X,y)\n",
    "\n",
    "print(model.coef_)\n",
    "\n",
    "print(gini_normalized(y,model.predict(X)))"
   ]
  },
  {
   "cell_type": "code",
   "execution_count": 91,
   "metadata": {
    "collapsed": false
   },
   "outputs": [
    {
     "data": {
      "text/plain": [
       "[('lgb2', -0.23690295693949742),\n",
       " ('GP', 0.011206282596007765),\n",
       " ('rbf', 0.032021515774305273),\n",
       " ('lgb_stack', 0.090158705274364995),\n",
       " ('xgb_mubi', 0.15098122070507955),\n",
       " ('lgb3', 0.18304831672617847),\n",
       " ('xgb_tian', 0.23688015729343129),\n",
       " ('lgb', 0.29302107565069058)]"
      ]
     },
     "execution_count": 91,
     "metadata": {},
     "output_type": "execute_result"
    }
   ],
   "source": [
    "sorted(zip(list(test.columns),model.coef_),key=lambda x: x[-1])"
   ]
  },
  {
   "cell_type": "code",
   "execution_count": 16,
   "metadata": {
    "collapsed": false
   },
   "outputs": [
    {
     "data": {
      "text/html": [
       "<div>\n",
       "<table border=\"1\" class=\"dataframe\">\n",
       "  <thead>\n",
       "    <tr style=\"text-align: right;\">\n",
       "      <th></th>\n",
       "      <th>mubi_20171125</th>\n",
       "      <th>mubi_20171125_2</th>\n",
       "      <th>mubi_20171125_3</th>\n",
       "      <th>mubi_20171125_4</th>\n",
       "      <th>mubi_20171125_5</th>\n",
       "    </tr>\n",
       "  </thead>\n",
       "  <tbody>\n",
       "    <tr>\n",
       "      <th>0</th>\n",
       "      <td>0.025915</td>\n",
       "      <td>0.027955</td>\n",
       "      <td>0.027292</td>\n",
       "      <td>0.030848</td>\n",
       "      <td>0.397098</td>\n",
       "    </tr>\n",
       "    <tr>\n",
       "      <th>1</th>\n",
       "      <td>0.023498</td>\n",
       "      <td>0.025048</td>\n",
       "      <td>0.025674</td>\n",
       "      <td>0.027742</td>\n",
       "      <td>0.391438</td>\n",
       "    </tr>\n",
       "    <tr>\n",
       "      <th>2</th>\n",
       "      <td>0.025396</td>\n",
       "      <td>0.023973</td>\n",
       "      <td>0.026053</td>\n",
       "      <td>0.025537</td>\n",
       "      <td>0.378132</td>\n",
       "    </tr>\n",
       "    <tr>\n",
       "      <th>3</th>\n",
       "      <td>0.014122</td>\n",
       "      <td>0.013695</td>\n",
       "      <td>0.013879</td>\n",
       "      <td>0.013469</td>\n",
       "      <td>0.256923</td>\n",
       "    </tr>\n",
       "    <tr>\n",
       "      <th>4</th>\n",
       "      <td>0.033667</td>\n",
       "      <td>0.035829</td>\n",
       "      <td>0.035695</td>\n",
       "      <td>0.035463</td>\n",
       "      <td>0.483296</td>\n",
       "    </tr>\n",
       "  </tbody>\n",
       "</table>\n",
       "</div>"
      ],
      "text/plain": [
       "   mubi_20171125  mubi_20171125_2  mubi_20171125_3  mubi_20171125_4  \\\n",
       "0       0.025915         0.027955         0.027292         0.030848   \n",
       "1       0.023498         0.025048         0.025674         0.027742   \n",
       "2       0.025396         0.023973         0.026053         0.025537   \n",
       "3       0.014122         0.013695         0.013879         0.013469   \n",
       "4       0.033667         0.035829         0.035695         0.035463   \n",
       "\n",
       "   mubi_20171125_5  \n",
       "0         0.397098  \n",
       "1         0.391438  \n",
       "2         0.378132  \n",
       "3         0.256923  \n",
       "4         0.483296  "
      ]
     },
     "execution_count": 16,
     "metadata": {},
     "output_type": "execute_result"
    }
   ],
   "source": [
    "test.head()"
   ]
  },
  {
   "cell_type": "code",
   "execution_count": 17,
   "metadata": {
    "collapsed": true
   },
   "outputs": [],
   "source": [
    "sub = pd.read_csv('data/test.csv',usecols=['id'])\n",
    "sub['target'] = model.predict(np.array(test))"
   ]
  },
  {
   "cell_type": "code",
   "execution_count": 18,
   "metadata": {
    "collapsed": false
   },
   "outputs": [
    {
     "data": {
      "text/html": [
       "<div>\n",
       "<table border=\"1\" class=\"dataframe\">\n",
       "  <thead>\n",
       "    <tr style=\"text-align: right;\">\n",
       "      <th></th>\n",
       "      <th>id</th>\n",
       "      <th>target</th>\n",
       "    </tr>\n",
       "  </thead>\n",
       "  <tbody>\n",
       "    <tr>\n",
       "      <th>0</th>\n",
       "      <td>0</td>\n",
       "      <td>0.032007</td>\n",
       "    </tr>\n",
       "    <tr>\n",
       "      <th>1</th>\n",
       "      <td>1</td>\n",
       "      <td>0.031350</td>\n",
       "    </tr>\n",
       "    <tr>\n",
       "      <th>2</th>\n",
       "      <td>2</td>\n",
       "      <td>0.030548</td>\n",
       "    </tr>\n",
       "    <tr>\n",
       "      <th>3</th>\n",
       "      <td>3</td>\n",
       "      <td>0.020450</td>\n",
       "    </tr>\n",
       "    <tr>\n",
       "      <th>4</th>\n",
       "      <td>4</td>\n",
       "      <td>0.039162</td>\n",
       "    </tr>\n",
       "  </tbody>\n",
       "</table>\n",
       "</div>"
      ],
      "text/plain": [
       "   id    target\n",
       "0   0  0.032007\n",
       "1   1  0.031350\n",
       "2   2  0.030548\n",
       "3   3  0.020450\n",
       "4   4  0.039162"
      ]
     },
     "execution_count": 18,
     "metadata": {},
     "output_type": "execute_result"
    }
   ],
   "source": [
    "sub.head()"
   ]
  },
  {
   "cell_type": "code",
   "execution_count": 19,
   "metadata": {
    "collapsed": true
   },
   "outputs": [],
   "source": [
    "sub.to_csv('xgb_lgb_gp_stack.csv',index = False)"
   ]
  },
  {
   "cell_type": "code",
   "execution_count": 59,
   "metadata": {
    "collapsed": false
   },
   "outputs": [
    {
     "ename": "TypeError",
     "evalue": "only integer scalar arrays can be converted to a scalar index",
     "output_type": "error",
     "traceback": [
      "\u001b[0;31m---------------------------------------------------------------------------\u001b[0m",
      "\u001b[0;31mTypeError\u001b[0m                                 Traceback (most recent call last)",
      "\u001b[0;32m<ipython-input-59-9d1bfe002e93>\u001b[0m in \u001b[0;36m<module>\u001b[0;34m()\u001b[0m\n\u001b[1;32m      1\u001b[0m \u001b[0;31m#example\u001b[0m\u001b[0;34m\u001b[0m\u001b[0;34m\u001b[0m\u001b[0m\n\u001b[1;32m      2\u001b[0m \u001b[0meg\u001b[0m\u001b[0;34m=\u001b[0m\u001b[0mpd\u001b[0m\u001b[0;34m.\u001b[0m\u001b[0mDataFrame\u001b[0m\u001b[0;34m(\u001b[0m\u001b[0;34m)\u001b[0m\u001b[0;34m\u001b[0m\u001b[0m\n\u001b[0;32m----> 3\u001b[0;31m \u001b[0mnp\u001b[0m\u001b[0;34m.\u001b[0m\u001b[0mmean\u001b[0m\u001b[0;34m(\u001b[0m\u001b[0mnp\u001b[0m\u001b[0;34m.\u001b[0m\u001b[0marray\u001b[0m\u001b[0;34m(\u001b[0m\u001b[0;34m[\u001b[0m\u001b[0;36m1\u001b[0m\u001b[0;34m,\u001b[0m\u001b[0;36m0\u001b[0m\u001b[0;34m,\u001b[0m\u001b[0;36m0\u001b[0m\u001b[0;34m]\u001b[0m\u001b[0;34m)\u001b[0m\u001b[0;34m,\u001b[0m\u001b[0mnp\u001b[0m\u001b[0;34m.\u001b[0m\u001b[0marray\u001b[0m\u001b[0;34m(\u001b[0m\u001b[0;34m[\u001b[0m\u001b[0;36m2\u001b[0m\u001b[0;34m,\u001b[0m\u001b[0;36m0\u001b[0m\u001b[0;34m,\u001b[0m\u001b[0;36m0\u001b[0m\u001b[0;34m]\u001b[0m\u001b[0;34m)\u001b[0m\u001b[0;34m)\u001b[0m\u001b[0;34m\u001b[0m\u001b[0m\n\u001b[0m",
      "\u001b[0;32m/Users/sue/anaconda/lib/python3.6/site-packages/numpy/core/fromnumeric.py\u001b[0m in \u001b[0;36mmean\u001b[0;34m(a, axis, dtype, out, keepdims)\u001b[0m\n\u001b[1;32m   2887\u001b[0m \u001b[0;34m\u001b[0m\u001b[0m\n\u001b[1;32m   2888\u001b[0m     return _methods._mean(a, axis=axis, dtype=dtype,\n\u001b[0;32m-> 2889\u001b[0;31m                           out=out, **kwargs)\n\u001b[0m\u001b[1;32m   2890\u001b[0m \u001b[0;34m\u001b[0m\u001b[0m\n\u001b[1;32m   2891\u001b[0m \u001b[0;34m\u001b[0m\u001b[0m\n",
      "\u001b[0;32m/Users/sue/anaconda/lib/python3.6/site-packages/numpy/core/_methods.py\u001b[0m in \u001b[0;36m_mean\u001b[0;34m(a, axis, dtype, out, keepdims)\u001b[0m\n\u001b[1;32m     55\u001b[0m \u001b[0;34m\u001b[0m\u001b[0m\n\u001b[1;32m     56\u001b[0m     \u001b[0mis_float16_result\u001b[0m \u001b[0;34m=\u001b[0m \u001b[0;32mFalse\u001b[0m\u001b[0;34m\u001b[0m\u001b[0m\n\u001b[0;32m---> 57\u001b[0;31m     \u001b[0mrcount\u001b[0m \u001b[0;34m=\u001b[0m \u001b[0m_count_reduce_items\u001b[0m\u001b[0;34m(\u001b[0m\u001b[0marr\u001b[0m\u001b[0;34m,\u001b[0m \u001b[0maxis\u001b[0m\u001b[0;34m)\u001b[0m\u001b[0;34m\u001b[0m\u001b[0m\n\u001b[0m\u001b[1;32m     58\u001b[0m     \u001b[0;31m# Make this warning show up first\u001b[0m\u001b[0;34m\u001b[0m\u001b[0;34m\u001b[0m\u001b[0m\n\u001b[1;32m     59\u001b[0m     \u001b[0;32mif\u001b[0m \u001b[0mrcount\u001b[0m \u001b[0;34m==\u001b[0m \u001b[0;36m0\u001b[0m\u001b[0;34m:\u001b[0m\u001b[0;34m\u001b[0m\u001b[0m\n",
      "\u001b[0;32m/Users/sue/anaconda/lib/python3.6/site-packages/numpy/core/_methods.py\u001b[0m in \u001b[0;36m_count_reduce_items\u001b[0;34m(arr, axis)\u001b[0m\n\u001b[1;32m     48\u001b[0m     \u001b[0mitems\u001b[0m \u001b[0;34m=\u001b[0m \u001b[0;36m1\u001b[0m\u001b[0;34m\u001b[0m\u001b[0m\n\u001b[1;32m     49\u001b[0m     \u001b[0;32mfor\u001b[0m \u001b[0max\u001b[0m \u001b[0;32min\u001b[0m \u001b[0maxis\u001b[0m\u001b[0;34m:\u001b[0m\u001b[0;34m\u001b[0m\u001b[0m\n\u001b[0;32m---> 50\u001b[0;31m         \u001b[0mitems\u001b[0m \u001b[0;34m*=\u001b[0m \u001b[0marr\u001b[0m\u001b[0;34m.\u001b[0m\u001b[0mshape\u001b[0m\u001b[0;34m[\u001b[0m\u001b[0max\u001b[0m\u001b[0;34m]\u001b[0m\u001b[0;34m\u001b[0m\u001b[0m\n\u001b[0m\u001b[1;32m     51\u001b[0m     \u001b[0;32mreturn\u001b[0m \u001b[0mitems\u001b[0m\u001b[0;34m\u001b[0m\u001b[0m\n\u001b[1;32m     52\u001b[0m \u001b[0;34m\u001b[0m\u001b[0m\n",
      "\u001b[0;31mTypeError\u001b[0m: only integer scalar arrays can be converted to a scalar index"
     ]
    }
   ],
   "source": [
    "#example\n",
    "eg=pd.DataFrame()\n",
    "a=np.array([1,0,0])\n",
    "b=np.array([2,0,0])"
   ]
  },
  {
   "cell_type": "code",
   "execution_count": 83,
   "metadata": {
    "collapsed": false
   },
   "outputs": [
    {
     "data": {
      "text/plain": [
       "array(['lgb_stack', 'xgb_mubi', 'lgb', 'lgb2', 'lgb3', 'GP', 'xgb_tian',\n",
       "       'rbf'], dtype=object)"
      ]
     },
     "execution_count": 83,
     "metadata": {},
     "output_type": "execute_result"
    }
   ],
   "source": [
    "new_cols = ['lgb_stack','xgb_mubi','lgb','lgb2','lgb3','GP','xgb_tian','rbf']\n",
    "test.columns = new_cols\n",
    "test.columns.values"
   ]
  },
  {
   "cell_type": "code",
   "execution_count": 84,
   "metadata": {
    "collapsed": false
   },
   "outputs": [
    {
     "data": {
      "text/plain": [
       "array(['target', 'lgb_stack', 'mubi_20171125', 'mubi_20171125_2',\n",
       "       'mubi_20171125_3', 'mubi_20171125_4', 'mubi_20171125_5',\n",
       "       'tian_20171126', 'tian_20171126_1'], dtype=object)"
      ]
     },
     "execution_count": 84,
     "metadata": {},
     "output_type": "execute_result"
    }
   ],
   "source": [
    "train.columns.values"
   ]
  },
  {
   "cell_type": "code",
   "execution_count": 68,
   "metadata": {
    "collapsed": false
   },
   "outputs": [
    {
     "data": {
      "text/plain": [
       "array(['lgb_stack', 'mubi_20171125', 'mubi_20171125_2', 'mubi_20171125_3',\n",
       "       'mubi_20171125_4', 'mubi_20171125_5', 'tian_20171126',\n",
       "       'tian_20171126_1'], dtype=object)"
      ]
     },
     "execution_count": 68,
     "metadata": {},
     "output_type": "execute_result"
    }
   ],
   "source": [
    "y=train['target'].values\n",
    "train.drop(['target'],axis=1,inplace=True)\n",
    "train.columns.values"
   ]
  },
  {
   "cell_type": "code",
   "execution_count": 85,
   "metadata": {
    "collapsed": false
   },
   "outputs": [
    {
     "data": {
      "text/plain": [
       "array(['target', 'lgb_stack', 'xgb_mubi', 'lgb', 'lgb2', 'lgb3', 'GP',\n",
       "       'xgb_tian', 'rbf'], dtype=object)"
      ]
     },
     "execution_count": 85,
     "metadata": {},
     "output_type": "execute_result"
    }
   ],
   "source": [
    "train.columns =  ['target','lgb_stack','xgb_mubi','lgb','lgb2','lgb3','GP','xgb_tian','rbf']\n",
    "test.columns = new_cols\n",
    "train.columns.values"
   ]
  },
  {
   "cell_type": "code",
   "execution_count": 69,
   "metadata": {
    "collapsed": true
   },
   "outputs": [],
   "source": [
    "import seaborn as sns\n",
    "import matplotlib.pyplot as plt\n",
    "% matplotlib inline"
   ]
  },
  {
   "cell_type": "code",
   "execution_count": 86,
   "metadata": {
    "collapsed": false
   },
   "outputs": [
    {
     "data": {
      "text/plain": [
       "<matplotlib.axes._subplots.AxesSubplot at 0x11abfc518>"
      ]
     },
     "execution_count": 86,
     "metadata": {},
     "output_type": "execute_result"
    },
    {
     "data": {
      "image/png": "[encoded data removed]",
      "text/plain": [
       "<matplotlib.figure.Figure at 0x11abd1710>"
      ]
     },
     "metadata": {},
     "output_type": "display_data"
    }
   ],
   "source": [
    "cor = train.corr()\n",
    "plt.figure(figsize=(16,10))\n",
    "sns.heatmap(cor)"
   ]
  },
  {
   "cell_type": "code",
   "execution_count": null,
   "metadata": {
    "collapsed": true
   },
   "outputs": [],
   "source": [
    "# All these datasets are from different kaggle kernels\n",
    "stacked_1 = pd.read_csv('../input/input-datasets/stacked_1.csv')\n",
    "xgb_submit = pd.read_csv('../input/input-datasets/xgb_submit_1.csv')\n",
    "Froza_and_Pascal = pd.read_csv('../input/input-datasets/Froza_and_Pascal.csv')\n",
    "rgf_submit = pd.read_csv('../input/input-datasets/rgf_submit.csv')\n",
    "gpari = pd.read_csv('../input/input-datasets/gpari.csv')\n",
    "\n",
    "# Ensemble and create submission \n",
    "\n",
    "sub = pd.DataFrame()\n",
    "sub['id'] = stacked_1['id']\n",
    "sub['target'] = np.exp(np.mean(\n",
    "\t[\t\n",
    "    sub_1['target'].apply(lambda x: np.log(x)),\n",
    "    Froza_and_Pascal['target'].apply(lambda x: np.log(x)),\n",
    "    rgf_submit['target'].apply(lambda x: np.log(x)),\n",
    "    gpari['target'].apply(lambda x: np.log(x)),\n",
    "\tstacked_1['target'].apply(lambda x: np.log(x)),\n",
    "\txgb_submit['target'].apply(lambda x: np.log(x))\n",
    "\t], axis =0))\n",
    "\n",
    "sub.to_csv('sub.csv.gz', index = False, compression = 'gzip')"
   ]
  }
 ],
 "metadata": {
  "kernelspec": {
   "display_name": "Python 3",
   "language": "python",
   "name": "python3"
  },
  "language_info": {
   "codemirror_mode": {
    "name": "ipython",
    "version": 3
   },
   "file_extension": ".py",
   "mimetype": "text/x-python",
   "name": "python",
   "nbconvert_exporter": "python",
   "pygments_lexer": "ipython3",
   "version": "3.6.0"
  }
 },
 "nbformat": 4,
 "nbformat_minor": 2
}
